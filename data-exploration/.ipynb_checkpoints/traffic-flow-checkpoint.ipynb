{
 "cells": [
  {
   "cell_type": "markdown",
   "metadata": {},
   "source": [
    "# Experminenting with plotly and traffic flow data\n",
    "\n",
    "#### Some of the data attributes:\n",
    "* AMPK: Peak traffic count in the AM hours (12am-12pm)\n",
    "* PMPK: Peak traffic count in the PM hours (12pm-12am)\n",
    "* AWDT: Average weekday traffic: derived by averaging 24-hour daily traffic volumnes for both directions accross Monday thru Friday, excluding holidays and weekends, then adjusting for seasonal variations by applying an annual adjustment factor. This number is given in thousands of vehicles.\n",
    "* ADT: Average daily traffic: derived by averaging 24-hour daily traffic volumes for both directions, then adjusting for seasonal variations by applying an annual adjustment factor. This number is given in thousands of vehicles.\n",
    "* AWDT_ROUND: Average weekday traffic count rounded to the nearest '00\n",
    "* SHAPE: Specifies the shape of the data\n",
    "\n",
    "#### Some resources:\n",
    "* https://www.plotly.express/plotly_express/#plotly_express.line_mapbox\n",
    "* https://shapely.readthedocs.io/en/stable/manual.html\n",
    "* http://geopandas.org/gallery/plotting_with_geoplot.html\n",
    "* https://plot.ly/python/reference/#scattermapbox\n",
    "* https://plot.ly/python/lines-on-maps/\n",
    "* https://plot.ly/python/scattermapbox/\n",
    "* https://plot.ly/python/lines-on-mapbox/\n",
    "* https://data-seattlecitygis.opendata.arcgis.com/datasets/2018-traffic-flow-counts\n",
    "* https://drive.google.com/open?id=1H-ooaihoawm8zXjZz_-AhBmwyRiT1FWQ"
   ]
  },
  {
   "cell_type": "code",
   "execution_count": 1,
   "metadata": {},
   "outputs": [],
   "source": [
    "import geopandas as gpd\n",
    "import numpy as np\n",
    "import matplotlib.cm as cm\n",
    "from matplotlib.colors import Normalize\n",
    "import pandas as pd\n",
    "import plotly.graph_objects as go"
   ]
  },
  {
   "cell_type": "code",
   "execution_count": 2,
   "metadata": {},
   "outputs": [
    {
     "data": {
      "text/html": [
       "<div>\n",
       "<style scoped>\n",
       "    .dataframe tbody tr th:only-of-type {\n",
       "        vertical-align: middle;\n",
       "    }\n",
       "\n",
       "    .dataframe tbody tr th {\n",
       "        vertical-align: top;\n",
       "    }\n",
       "\n",
       "    .dataframe thead th {\n",
       "        text-align: right;\n",
       "    }\n",
       "</style>\n",
       "<table border=\"1\" class=\"dataframe\">\n",
       "  <thead>\n",
       "    <tr style=\"text-align: right;\">\n",
       "      <th></th>\n",
       "      <th>OBJECTID</th>\n",
       "      <th>COMPKEY</th>\n",
       "      <th>STNAME_ORD</th>\n",
       "      <th>FLOWSEGID</th>\n",
       "      <th>DOWNTOWN</th>\n",
       "      <th>START_DATE</th>\n",
       "      <th>AMPK</th>\n",
       "      <th>PMPK</th>\n",
       "      <th>AWDT</th>\n",
       "      <th>ADT</th>\n",
       "      <th>AWDT_ROUND</th>\n",
       "      <th>DATAQUALIT</th>\n",
       "      <th>FLAGS</th>\n",
       "      <th>SHAPE_Leng</th>\n",
       "      <th>geometry</th>\n",
       "    </tr>\n",
       "  </thead>\n",
       "  <tbody>\n",
       "    <tr>\n",
       "      <th>0</th>\n",
       "      <td>1</td>\n",
       "      <td>12221</td>\n",
       "      <td>PINE ST</td>\n",
       "      <td>894</td>\n",
       "      <td>Y</td>\n",
       "      <td>None</td>\n",
       "      <td>None</td>\n",
       "      <td>None</td>\n",
       "      <td>8000.0</td>\n",
       "      <td>None</td>\n",
       "      <td>8000</td>\n",
       "      <td>Estimate</td>\n",
       "      <td>None</td>\n",
       "      <td>322.037238</td>\n",
       "      <td>LINESTRING (-122.3331526416823 47.613063934517...</td>\n",
       "    </tr>\n",
       "    <tr>\n",
       "      <th>1</th>\n",
       "      <td>2</td>\n",
       "      <td>2203</td>\n",
       "      <td>15TH AVE W ON RP</td>\n",
       "      <td>1345</td>\n",
       "      <td>N</td>\n",
       "      <td>2015-03-13T00:00:00.000Z</td>\n",
       "      <td>None</td>\n",
       "      <td>None</td>\n",
       "      <td>11129.0</td>\n",
       "      <td>10139</td>\n",
       "      <td>11100</td>\n",
       "      <td>Study - 13-15</td>\n",
       "      <td>None</td>\n",
       "      <td>173.612269</td>\n",
       "      <td>LINESTRING (-122.3752302977992 47.653582642478...</td>\n",
       "    </tr>\n",
       "    <tr>\n",
       "      <th>2</th>\n",
       "      <td>3</td>\n",
       "      <td>17275,17277,17276,17272,17273,17274,17271</td>\n",
       "      <td>NE 65TH ST</td>\n",
       "      <td>1622</td>\n",
       "      <td>N</td>\n",
       "      <td>2015-02-27T00:00:00.000Z</td>\n",
       "      <td>None</td>\n",
       "      <td>None</td>\n",
       "      <td>20487.0</td>\n",
       "      <td>19740</td>\n",
       "      <td>20500</td>\n",
       "      <td>Study - 13-15</td>\n",
       "      <td>None</td>\n",
       "      <td>1445.416389</td>\n",
       "      <td>(LINESTRING (-122.3038131723706 47.67577608572...</td>\n",
       "    </tr>\n",
       "    <tr>\n",
       "      <th>3</th>\n",
       "      <td>4</td>\n",
       "      <td>23302,23303,23304</td>\n",
       "      <td>W EMERSON ST</td>\n",
       "      <td>1371</td>\n",
       "      <td>N</td>\n",
       "      <td>2018-03-22T00:00:00.000Z</td>\n",
       "      <td>82</td>\n",
       "      <td>99</td>\n",
       "      <td>1007.0</td>\n",
       "      <td>1090</td>\n",
       "      <td>1000</td>\n",
       "      <td>Study(Normalized)</td>\n",
       "      <td>None</td>\n",
       "      <td>999.190937</td>\n",
       "      <td>(LINESTRING (-122.4121165761638 47.65409671312...</td>\n",
       "    </tr>\n",
       "    <tr>\n",
       "      <th>4</th>\n",
       "      <td>5</td>\n",
       "      <td>19659,19656,19658,19655,19657,19654</td>\n",
       "      <td>S CLOVERDALE ST</td>\n",
       "      <td>126</td>\n",
       "      <td>N</td>\n",
       "      <td>2014-03-25T00:00:00.000Z</td>\n",
       "      <td>None</td>\n",
       "      <td>None</td>\n",
       "      <td>4868.0</td>\n",
       "      <td>4615</td>\n",
       "      <td>4900</td>\n",
       "      <td>Study - 13-15</td>\n",
       "      <td>None</td>\n",
       "      <td>2077.434844</td>\n",
       "      <td>(LINESTRING (-122.2808036171828 47.52610379775...</td>\n",
       "    </tr>\n",
       "  </tbody>\n",
       "</table>\n",
       "</div>"
      ],
      "text/plain": [
       "   OBJECTID                                    COMPKEY        STNAME_ORD  \\\n",
       "0         1                                      12221           PINE ST   \n",
       "1         2                                       2203  15TH AVE W ON RP   \n",
       "2         3  17275,17277,17276,17272,17273,17274,17271        NE 65TH ST   \n",
       "3         4                          23302,23303,23304      W EMERSON ST   \n",
       "4         5        19659,19656,19658,19655,19657,19654   S CLOVERDALE ST   \n",
       "\n",
       "   FLOWSEGID DOWNTOWN                START_DATE  AMPK  PMPK     AWDT    ADT  \\\n",
       "0        894        Y                      None  None  None   8000.0   None   \n",
       "1       1345        N  2015-03-13T00:00:00.000Z  None  None  11129.0  10139   \n",
       "2       1622        N  2015-02-27T00:00:00.000Z  None  None  20487.0  19740   \n",
       "3       1371        N  2018-03-22T00:00:00.000Z    82    99   1007.0   1090   \n",
       "4        126        N  2014-03-25T00:00:00.000Z  None  None   4868.0   4615   \n",
       "\n",
       "   AWDT_ROUND         DATAQUALIT FLAGS   SHAPE_Leng  \\\n",
       "0        8000           Estimate  None   322.037238   \n",
       "1       11100      Study - 13-15  None   173.612269   \n",
       "2       20500      Study - 13-15  None  1445.416389   \n",
       "3        1000  Study(Normalized)  None   999.190937   \n",
       "4        4900      Study - 13-15  None  2077.434844   \n",
       "\n",
       "                                            geometry  \n",
       "0  LINESTRING (-122.3331526416823 47.613063934517...  \n",
       "1  LINESTRING (-122.3752302977992 47.653582642478...  \n",
       "2  (LINESTRING (-122.3038131723706 47.67577608572...  \n",
       "3  (LINESTRING (-122.4121165761638 47.65409671312...  \n",
       "4  (LINESTRING (-122.2808036171828 47.52610379775...  "
      ]
     },
     "execution_count": 2,
     "metadata": {},
     "output_type": "execute_result"
    }
   ],
   "source": [
    "# Import data\n",
    "\n",
    "df1 = gpd.read_file('2018_Traffic_Flow_Counts/2018_Traffic_Flow_Counts.shp')\n",
    "df1.head()"
   ]
  },
  {
   "cell_type": "code",
   "execution_count": 11,
   "metadata": {},
   "outputs": [
    {
     "data": {
      "text/plain": [
       "<matplotlib.axes._subplots.AxesSubplot at 0x12603a5c0>"
      ]
     },
     "execution_count": 11,
     "metadata": {},
     "output_type": "execute_result"
    },
    {
     "data": {
      "image/png": "[encoded data removed]",
      "text/plain": [
       "<Figure size 432x288 with 1 Axes>"
      ]
     },
     "metadata": {
      "needs_background": "light"
     },
     "output_type": "display_data"
    }
   ],
   "source": [
    "df1.plot()"
   ]
  },
  {
   "cell_type": "code",
   "execution_count": 3,
   "metadata": {},
   "outputs": [
    {
     "data": {
      "text/html": [
       "<div>\n",
       "<style scoped>\n",
       "    .dataframe tbody tr th:only-of-type {\n",
       "        vertical-align: middle;\n",
       "    }\n",
       "\n",
       "    .dataframe tbody tr th {\n",
       "        vertical-align: top;\n",
       "    }\n",
       "\n",
       "    .dataframe thead th {\n",
       "        text-align: right;\n",
       "    }\n",
       "</style>\n",
       "<table border=\"1\" class=\"dataframe\">\n",
       "  <thead>\n",
       "    <tr style=\"text-align: right;\">\n",
       "      <th></th>\n",
       "      <th>name</th>\n",
       "      <th>flow</th>\n",
       "      <th>lon</th>\n",
       "      <th>lat</th>\n",
       "    </tr>\n",
       "  </thead>\n",
       "  <tbody>\n",
       "    <tr>\n",
       "      <th>0</th>\n",
       "      <td>PINE ST</td>\n",
       "      <td>8000.0</td>\n",
       "      <td>[-122.33315264168226, -122.33204186734616]</td>\n",
       "      <td>[47.613063934517605, 47.61352793051799]</td>\n",
       "    </tr>\n",
       "    <tr>\n",
       "      <th>1</th>\n",
       "      <td>15TH AVE W ON RP</td>\n",
       "      <td>11129.0</td>\n",
       "      <td>[-122.37523029779923, -122.37538819083188, -12...</td>\n",
       "      <td>[47.65358264247851, 47.653731006827115, 47.653...</td>\n",
       "    </tr>\n",
       "    <tr>\n",
       "      <th>2</th>\n",
       "      <td>NE 65TH ST</td>\n",
       "      <td>20487.0</td>\n",
       "      <td>[-122.30381317237058, -122.3027420259575]</td>\n",
       "      <td>[47.675776085725175, 47.67577532946047]</td>\n",
       "    </tr>\n",
       "    <tr>\n",
       "      <th>3</th>\n",
       "      <td>NE 65TH ST</td>\n",
       "      <td>20487.0</td>\n",
       "      <td>[-122.30167424734096, -122.3016709199339, -122...</td>\n",
       "      <td>[47.6757739682688, 47.67577396437299, 47.67577...</td>\n",
       "    </tr>\n",
       "    <tr>\n",
       "      <th>4</th>\n",
       "      <td>NE 65TH ST</td>\n",
       "      <td>20487.0</td>\n",
       "      <td>[-122.3027420259575, -122.30167424734096]</td>\n",
       "      <td>[47.67577532946047, 47.6757739682688]</td>\n",
       "    </tr>\n",
       "  </tbody>\n",
       "</table>\n",
       "</div>"
      ],
      "text/plain": [
       "               name     flow  \\\n",
       "0           PINE ST   8000.0   \n",
       "1  15TH AVE W ON RP  11129.0   \n",
       "2        NE 65TH ST  20487.0   \n",
       "3        NE 65TH ST  20487.0   \n",
       "4        NE 65TH ST  20487.0   \n",
       "\n",
       "                                                 lon  \\\n",
       "0         [-122.33315264168226, -122.33204186734616]   \n",
       "1  [-122.37523029779923, -122.37538819083188, -12...   \n",
       "2          [-122.30381317237058, -122.3027420259575]   \n",
       "3  [-122.30167424734096, -122.3016709199339, -122...   \n",
       "4          [-122.3027420259575, -122.30167424734096]   \n",
       "\n",
       "                                                 lat  \n",
       "0            [47.613063934517605, 47.61352793051799]  \n",
       "1  [47.65358264247851, 47.653731006827115, 47.653...  \n",
       "2            [47.675776085725175, 47.67577532946047]  \n",
       "3  [47.6757739682688, 47.67577396437299, 47.67577...  \n",
       "4              [47.67577532946047, 47.6757739682688]  "
      ]
     },
     "execution_count": 3,
     "metadata": {},
     "output_type": "execute_result"
    }
   ],
   "source": [
    "# Extract street name, average weekday traffic, and lat/lon coordinate lists\n",
    "\n",
    "name_list = []\n",
    "flow_list = []\n",
    "lon_list = []\n",
    "lat_list = []\n",
    "for _, row in df1.iterrows():\n",
    "    name = row['STNAME_ORD']\n",
    "    flow = row['AWDT']\n",
    "    \n",
    "    geo = row['geometry']\n",
    "    try:\n",
    "        lon_list.append([x for x,y in geo.coords])\n",
    "        lat_list.append([y for x,y in geo.coords])\n",
    "        name_list.append(name)\n",
    "        flow_list.append(flow)\n",
    "    except:\n",
    "        for geom in geo.geoms:\n",
    "            lon_list.append([x for x,y in geom.coords])\n",
    "            lat_list.append([y for x,y in geom.coords])\n",
    "            name_list.append(name)\n",
    "            flow_list.append(flow)\n",
    "            \n",
    "df2 = pd.DataFrame({'name': name_list, 'flow': flow_list, 'lon': lon_list, 'lat': lat_list})\n",
    "df2.head()"
   ]
  },
  {
   "cell_type": "code",
   "execution_count": 5,
   "metadata": {},
   "outputs": [],
   "source": [
    "# Create colormap for flow counts\n",
    "\n",
    "cmap = cm.get_cmap('viridis')\n",
    "norm = Normalize(vmin=df2['flow'].min(), vmax=df2['flow'].max())\n",
    "\n",
    "def flow_color(flow):\n",
    "    rgba = cmap(norm(flow))\n",
    "    return 'rgb(%f,%f,%f)' % rgba[:-1]"
   ]
  },
  {
   "cell_type": "code",
   "execution_count": 9,
   "metadata": {},
   "outputs": [
    {
     "data": {
      "application/vnd.plotly.v1+json": {
       "config": {
        "plotlyServerURL": "https://plot.ly"
       },
       "data": [
        {
         "hoverinfo": "text",
         "hovertext": "W SEA BR EB 4 AV OFF RP Flow: 8000.0",
         "lat": [
          47.613063934517605,
          47.61352793051799
         ],
         "line": {
          "color": "rgb(0.282910,0.105393,0.426902)",
          "width": 2
         },
         "lon": [
          -122.33315264168226,
          -122.33204186734616
         ],
         "mode": "lines",
         "showlegend": false,
         "type": "scattermapbox"
        },
        {
         "hoverinfo": "text",
         "hovertext": "W SEA BR EB 4 AV OFF RP Flow: 11129.0",
         "lat": [
          47.65358264247851,
          47.653731006827115,
          47.653820316476214,
          47.65393223501055
         ],
         "line": {
          "color": "rgb(0.282623,0.140926,0.457517)",
          "width": 2
         },
         "lon": [
          -122.37523029779923,
          -122.37538819083188,
          -122.37550616307898,
          -122.37570239667313
         ],
         "mode": "lines",
         "showlegend": false,
         "type": "scattermapbox"
        },
        {
         "hoverinfo": "text",
         "hovertext": "W SEA BR EB 4 AV OFF RP Flow: 20487.0",
         "lat": [
          47.675776085725175,
          47.67577532946047
         ],
         "line": {
          "color": "rgb(0.260571,0.246922,0.522828)",
          "width": 2
         },
         "lon": [
          -122.30381317237058,
          -122.3027420259575
         ],
         "mode": "lines",
         "showlegend": false,
         "type": "scattermapbox"
        },
        {
         "hoverinfo": "text",
         "hovertext": "W SEA BR EB 4 AV OFF RP Flow: 20487.0",
         "lat": [
          47.6757739682688,
          47.67577396437299,
          47.67577380718984,
          47.675774220527806
         ],
         "line": {
          "color": "rgb(0.260571,0.246922,0.522828)",
          "width": 2
         },
         "lon": [
          -122.30167424734096,
          -122.3016709199339,
          -122.30110756206635,
          -122.30065154766508
         ],
         "mode": "lines",
         "showlegend": false,
         "type": "scattermapbox"
        },
        {
         "hoverinfo": "text",
         "hovertext": "W SEA BR EB 4 AV OFF RP Flow: 20487.0",
         "lat": [
          47.67577532946047,
          47.6757739682688
         ],
         "line": {
          "color": "rgb(0.260571,0.246922,0.522828)",
          "width": 2
         },
         "lon": [
          -122.3027420259575,
          -122.30167424734096
         ],
         "mode": "lines",
         "showlegend": false,
         "type": "scattermapbox"
        },
        {
         "hoverinfo": "text",
         "hovertext": "W SEA BR EB 4 AV OFF RP Flow: 20487.0",
         "lat": [
          47.675777588508566,
          47.67577727696799
         ],
         "line": {
          "color": "rgb(0.260571,0.246922,0.522828)",
          "width": 2
         },
         "lon": [
          -122.30546890743835,
          -122.30516611296365
         ],
         "mode": "lines",
         "showlegend": false,
         "type": "scattermapbox"
        },
        {
         "hoverinfo": "text",
         "hovertext": "W SEA BR EB 4 AV OFF RP Flow: 20487.0",
         "lat": [
          47.67577727696799,
          47.675776719109244
         ],
         "line": {
          "color": "rgb(0.260571,0.246922,0.522828)",
          "width": 2
         },
         "lon": [
          -122.30516611296365,
          -122.30441887595502
         ],
         "mode": "lines",
         "showlegend": false,
         "type": "scattermapbox"
        },
        {
         "hoverinfo": "text",
         "hovertext": "W SEA BR EB 4 AV OFF RP Flow: 20487.0",
         "lat": [
          47.675776719109244,
          47.675776085725175
         ],
         "line": {
          "color": "rgb(0.260571,0.246922,0.522828)",
          "width": 2
         },
         "lon": [
          -122.30441887595502,
          -122.30381317237058
         ],
         "mode": "lines",
         "showlegend": false,
         "type": "scattermapbox"
        },
        {
         "hoverinfo": "text",
         "hovertext": "W SEA BR EB 4 AV OFF RP Flow: 20487.0",
         "lat": [
          47.67577850060114,
          47.675777588508566
         ],
         "line": {
          "color": "rgb(0.260571,0.246922,0.522828)",
          "width": 2
         },
         "lon": [
          -122.3065187153355,
          -122.30546890743835
         ],
         "mode": "lines",
         "showlegend": false,
         "type": "scattermapbox"
        },
        {
         "hoverinfo": "text",
         "hovertext": "W SEA BR EB 4 AV OFF RP Flow: 1007.0",
         "lat": [
          47.65409671312739,
          47.65410006532881
         ],
         "line": {
          "color": "rgb(0.268510,0.009605,0.335427)",
          "width": 2
         },
         "lon": [
          -122.41211657616375,
          -122.41313718231213
         ],
         "mode": "lines",
         "showlegend": false,
         "type": "scattermapbox"
        },
        {
         "hoverinfo": "text",
         "hovertext": "W SEA BR EB 4 AV OFF RP Flow: 1007.0",
         "lat": [
          47.65410006532881,
          47.65410311098524,
          47.65410435206149
         ],
         "line": {
          "color": "rgb(0.268510,0.009605,0.335427)",
          "width": 2
         },
         "lon": [
          -122.41313718231213,
          -122.41432631940992,
          -122.4147118064739
         ],
         "mode": "lines",
         "showlegend": false,
         "type": "scattermapbox"
        },
        {
         "hoverinfo": "text",
         "hovertext": "W SEA BR EB 4 AV OFF RP Flow: 1007.0",
         "lat": [
          47.65410435206149,
          47.65410903607206
         ],
         "line": {
          "color": "rgb(0.268510,0.009605,0.335427)",
          "width": 2
         },
         "lon": [
          -122.4147118064739,
          -122.41617071772109
         ],
         "mode": "lines",
         "showlegend": false,
         "type": "scattermapbox"
        },
        {
         "hoverinfo": "text",
         "hovertext": "W SEA BR EB 4 AV OFF RP Flow: 4868.0",
         "lat": [
          47.52610379775938,
          47.5261046632721,
          47.526109035826146,
          47.52611404363346
         ],
         "line": {
          "color": "rgb(0.278791,0.062145,0.386592)",
          "width": 2
         },
         "lon": [
          -122.28080361718278,
          -122.28064459889211,
          -122.27984274441908,
          -122.27926535476276
         ],
         "mode": "lines",
         "showlegend": false,
         "type": "scattermapbox"
        },
        {
         "hoverinfo": "text",
         "hovertext": "W SEA BR EB 4 AV OFF RP Flow: 4868.0",
         "lat": [
          47.52611630743941,
          47.52611203850897
         ],
         "line": {
          "color": "rgb(0.278791,0.062145,0.386592)",
          "width": 2
         },
         "lon": [
          -122.28595819192675,
          -122.28476888712825
         ],
         "mode": "lines",
         "showlegend": false,
         "type": "scattermapbox"
        },
        {
         "hoverinfo": "text",
         "hovertext": "W SEA BR EB 4 AV OFF RP Flow: 4868.0",
         "lat": [
          47.52610926148675,
          47.52610914229615,
          47.52610403851953,
          47.52610379775938
         ],
         "line": {
          "color": "rgb(0.278791,0.062145,0.386592)",
          "width": 2
         },
         "lon": [
          -122.28367060824512,
          -122.28360820958231,
          -122.28092917283988,
          -122.28080361718278
         ],
         "mode": "lines",
         "showlegend": false,
         "type": "scattermapbox"
        },
        {
         "hoverinfo": "text",
         "hovertext": "W SEA BR EB 4 AV OFF RP Flow: 4868.0",
         "lat": [
          47.52611918139483,
          47.52611630743941
         ],
         "line": {
          "color": "rgb(0.278791,0.062145,0.386592)",
          "width": 2
         },
         "lon": [
          -122.28712274005551,
          -122.28595819192675
         ],
         "mode": "lines",
         "showlegend": false,
         "type": "scattermapbox"
        },
        {
         "hoverinfo": "text",
         "hovertext": "W SEA BR EB 4 AV OFF RP Flow: 4868.0",
         "lat": [
          47.52611203850897,
          47.52610945017123,
          47.52610926148675
         ],
         "line": {
          "color": "rgb(0.278791,0.062145,0.386592)",
          "width": 2
         },
         "lon": [
          -122.28476888712825,
          -122.28373129552446,
          -122.28367060824512
         ],
         "mode": "lines",
         "showlegend": false,
         "type": "scattermapbox"
        },
        {
         "hoverinfo": "text",
         "hovertext": "W SEA BR EB 4 AV OFF RP Flow: 4868.0",
         "lat": [
          47.52612063936362,
          47.52611932168687,
          47.52611931491034,
          47.52611918139483
         ],
         "line": {
          "color": "rgb(0.278791,0.062145,0.386592)",
          "width": 2
         },
         "lon": [
          -122.28767365181243,
          -122.28717996488741,
          -122.28717648758753,
          -122.28712274005551
         ],
         "mode": "lines",
         "showlegend": false,
         "type": "scattermapbox"
        },
        {
         "hoverinfo": "text",
         "hovertext": "W SEA BR EB 4 AV OFF RP Flow: 31969.0",
         "lat": [
          47.660607271708315,
          47.661319003734754
         ],
         "line": {
          "color": "rgb(0.208623,0.367752,0.552675)",
          "width": 2
         },
         "lon": [
          -122.3207798495814,
          -122.32072786148697
         ],
         "mode": "lines",
         "showlegend": false,
         "type": "scattermapbox"
        },
        {
         "hoverinfo": "text",
         "hovertext": "W SEA BR EB 4 AV OFF RP Flow: 4204.0",
         "lat": [
          47.57267326121036,
          47.5721345885508,
          47.57204766541321,
          47.5719493228995,
          47.5718771088066,
          47.57181372084763,
          47.57178535549026
         ],
         "line": {
          "color": "rgb(0.277941,0.056324,0.381191)",
          "width": 2
         },
         "lon": [
          -122.35320443232689,
          -122.35249468484737,
          -122.35239212211762,
          -122.35226313156846,
          -122.35216099729405,
          -122.35205912338368,
          -122.35195443064212
         ],
         "mode": "lines",
         "showlegend": false,
         "type": "scattermapbox"
        },
        {
         "hoverinfo": "text",
         "hovertext": "W SEA BR EB 4 AV OFF RP Flow: 4204.0",
         "lat": [
          47.57444948296686,
          47.574400707049115,
          47.57438516250061,
          47.57436866131989,
          47.574327415153626,
          47.57424504007068,
          47.57411876727499,
          47.57404850982074,
          47.573969541531305,
          47.57379418597911,
          47.573715451177456,
          47.573546793497094,
          47.57345981296237,
          47.573265898943504,
          47.57267326121036
         ],
         "line": {
          "color": "rgb(0.277941,0.056324,0.381191)",
          "width": 2
         },
         "lon": [
          -122.35464684044256,
          -122.35467022347513,
          -122.35467420022681,
          -122.35467793366172,
          -122.35468107838061,
          -122.35467867160071,
          -122.35465758570582,
          -122.35462943821166,
          -122.35459233804822,
          -122.35450023007738,
          -122.35444574069294,
          -122.3542929433758,
          -122.3541947202288,
          -122.35394985448488,
          -122.35320443232689
         ],
         "mode": "lines",
         "showlegend": false,
         "type": "scattermapbox"
        },
        {
         "hoverinfo": "text",
         "hovertext": "W SEA BR EB 4 AV OFF RP Flow: 12000.0",
         "lat": [
          47.65572689058199,
          47.65567171746161,
          47.65564737658113,
          47.655622865114736,
          47.65559681537656,
          47.65554884302643,
          47.655470827450095
         ],
         "line": {
          "color": "rgb(0.281887,0.150881,0.465405)",
          "width": 2
         },
         "lon": [
          -122.31881045002959,
          -122.3185984552381,
          -122.31853418860089,
          -122.31848306944943,
          -122.31843629094584,
          -122.3183669649222,
          -122.31826624896897
         ],
         "mode": "lines",
         "showlegend": false,
         "type": "scattermapbox"
        },
        {
         "hoverinfo": "text",
         "hovertext": "W SEA BR EB 4 AV OFF RP Flow: 25222.0",
         "lat": [
          47.58115390078086,
          47.581158697199015
         ],
         "line": {
          "color": "rgb(0.241237,0.296485,0.539709)",
          "width": 2
         },
         "lon": [
          -122.38021401747434,
          -122.38115119441814
         ],
         "mode": "lines",
         "showlegend": false,
         "type": "scattermapbox"
        },
        {
         "hoverinfo": "text",
         "hovertext": "W SEA BR EB 4 AV OFF RP Flow: 25222.0",
         "lat": [
          47.58109684426583,
          47.58111291226014,
          47.58112381778451,
          47.58112636446655,
          47.58113679081863
         ],
         "line": {
          "color": "rgb(0.241237,0.296485,0.539709)",
          "width": 2
         },
         "lon": [
          -122.37805702174497,
          -122.37817537716549,
          -122.37829501542342,
          -122.37846347947597,
          -122.37914917372875
         ],
         "mode": "lines",
         "showlegend": false,
         "type": "scattermapbox"
        },
        {
         "hoverinfo": "text",
         "hovertext": "W SEA BR EB 4 AV OFF RP Flow: 25222.0",
         "lat": [
          47.580274798978614,
          47.58036546902722,
          47.580367571964985,
          47.58045721596755,
          47.58048836664181,
          47.58054318482918,
          47.5806249503249,
          47.58070033256739,
          47.58072939107305,
          47.58077077997401,
          47.58083588666,
          47.58089526517762,
          47.58094857104889,
          47.580995493503366
         ],
         "line": {
          "color": "rgb(0.241237,0.296485,0.539709)",
          "width": 2
         },
         "lon": [
          -122.37670733264116,
          -122.37675994844024,
          -122.37676116883652,
          -122.37682555036444,
          -122.3768525574164,
          -122.37690008480646,
          -122.37698431777622,
          -122.37707553880327,
          -122.37711656566309,
          -122.37717500341161,
          -122.37728212519143,
          -122.37739628502892,
          -122.3775168132201,
          -122.37764300914037
         ],
         "mode": "lines",
         "showlegend": false,
         "type": "scattermapbox"
        },
        {
         "hoverinfo": "text",
         "hovertext": "W SEA BR EB 4 AV OFF RP Flow: 25222.0",
         "lat": [
          47.581158697199015,
          47.5811569957586,
          47.58116262808807,
          47.581163049245724,
          47.58116753853387,
          47.581169932065535
         ],
         "line": {
          "color": "rgb(0.241237,0.296485,0.539709)",
          "width": 2
         },
         "lon": [
          -122.38115119441814,
          -122.38154589806899,
          -122.38224885163308,
          -122.38230115300637,
          -122.38286172409165,
          -122.38326418435568
         ],
         "mode": "lines",
         "showlegend": false,
         "type": "scattermapbox"
        },
        {
         "hoverinfo": "text",
         "hovertext": "W SEA BR EB 4 AV OFF RP Flow: 25222.0",
         "lat": [
          47.575555219673475,
          47.57608842916424
         ],
         "line": {
          "color": "rgb(0.241237,0.296485,0.539709)",
          "width": 2
         },
         "lon": [
          -122.37471762756417,
          -122.3751004813566
         ],
         "mode": "lines",
         "showlegend": false,
         "type": "scattermapbox"
        },
        {
         "hoverinfo": "text",
         "hovertext": "W SEA BR EB 4 AV OFF RP Flow: 25222.0",
         "lat": [
          47.57608842916424,
          47.57626867079223,
          47.57652553431024,
          47.576848426261854,
          47.57781414217413,
          47.57877135991839,
          47.579019671749734,
          47.57927059125952,
          47.5793611349954,
          47.57954895037673,
          47.57982770316276,
          47.57982906794081,
          47.57994562355794,
          47.579945765369935,
          47.58002941812749,
          47.580112451699904,
          47.58018416984457,
          47.5801943646427,
          47.580274798978614
         ],
         "line": {
          "color": "rgb(0.241237,0.296485,0.539709)",
          "width": 2
         },
         "lon": [
          -122.3751004813566,
          -122.3752044832875,
          -122.37534678640262,
          -122.37552243957863,
          -122.37594433095052,
          -122.37632895480898,
          -122.37642004519014,
          -122.37649391773192,
          -122.37651381764007,
          -122.37655510009718,
          -122.37659489559246,
          -122.37659509027495,
          -122.37660727637349,
          -122.37660730052039,
          -122.37662016533842,
          -122.37664120194977,
          -122.37666668166034,
          -122.37667030378866,
          -122.37670733264116
         ],
         "mode": "lines",
         "showlegend": false,
         "type": "scattermapbox"
        },
        {
         "hoverinfo": "text",
         "hovertext": "W SEA BR EB 4 AV OFF RP Flow: 25222.0",
         "lat": [
          47.580995493503366,
          47.58103654021328,
          47.58105531284301,
          47.58107039135596,
          47.58109684426583
         ],
         "line": {
          "color": "rgb(0.241237,0.296485,0.539709)",
          "width": 2
         },
         "lon": [
          -122.37764300914037,
          -122.37777696995194,
          -122.377853655012,
          -122.37791525538752,
          -122.37805702174497
         ],
         "mode": "lines",
         "showlegend": false,
         "type": "scattermapbox"
        },
        {
         "hoverinfo": "text",
         "hovertext": "W SEA BR EB 4 AV OFF RP Flow: 25222.0",
         "lat": [
          47.58117585625215,
          47.581186086186655
         ],
         "line": {
          "color": "rgb(0.241237,0.296485,0.539709)",
          "width": 2
         },
         "lon": [
          -122.38388873989757,
          -122.38517250186422
         ],
         "mode": "lines",
         "showlegend": false,
         "type": "scattermapbox"
        },
        {
         "hoverinfo": "text",
         "hovertext": "W SEA BR EB 4 AV OFF RP Flow: 25222.0",
         "lat": [
          47.573666661249405,
          47.57373379947563,
          47.574941306067686,
          47.575555219673475
         ],
         "line": {
          "color": "rgb(0.241237,0.296485,0.539709)",
          "width": 2
         },
         "lon": [
          -122.3732785313923,
          -122.37333321698036,
          -122.37431678435391,
          -122.37471762756417
         ],
         "mode": "lines",
         "showlegend": false,
         "type": "scattermapbox"
        },
        {
         "hoverinfo": "text",
         "hovertext": "W SEA BR EB 4 AV OFF RP Flow: 25222.0",
         "lat": [
          47.572083991965705,
          47.57230933702053,
          47.57240219898007,
          47.572500274297866,
          47.572800935977824,
          47.57285677347478,
          47.57291187309661,
          47.57348327695898,
          47.573585918686895,
          47.573586465899474,
          47.57363105046604,
          47.573666661249405
         ],
         "line": {
          "color": "rgb(0.241237,0.296485,0.539709)",
          "width": 2
         },
         "lon": [
          -122.37199327027963,
          -122.37217342796369,
          -122.37224901609578,
          -122.37232884904287,
          -122.37257358491586,
          -122.3726190370978,
          -122.37266390390862,
          -122.3731291932703,
          -122.37321277389951,
          -122.37321322080614,
          -122.3732495263494,
          -122.3732785313923
         ],
         "mode": "lines",
         "showlegend": false,
         "type": "scattermapbox"
        },
        {
         "hoverinfo": "text",
         "hovertext": "W SEA BR EB 4 AV OFF RP Flow: 25222.0",
         "lat": [
          47.58113679081863,
          47.58115390078086
         ],
         "line": {
          "color": "rgb(0.241237,0.296485,0.539709)",
          "width": 2
         },
         "lon": [
          -122.37914917372875,
          -122.38021401747434
         ],
         "mode": "lines",
         "showlegend": false,
         "type": "scattermapbox"
        },
        {
         "hoverinfo": "text",
         "hovertext": "W SEA BR EB 4 AV OFF RP Flow: 25222.0",
         "lat": [
          47.581169932065535,
          47.58117585625215
         ],
         "line": {
          "color": "rgb(0.241237,0.296485,0.539709)",
          "width": 2
         },
         "lon": [
          -122.38326418435568,
          -122.38388873989757
         ],
         "mode": "lines",
         "showlegend": false,
         "type": "scattermapbox"
        },
        {
         "hoverinfo": "text",
         "hovertext": "W SEA BR EB 4 AV OFF RP Flow: 25222.0",
         "lat": [
          47.581186086186655,
          47.581195342087696
         ],
         "line": {
          "color": "rgb(0.241237,0.296485,0.539709)",
          "width": 2
         },
         "lon": [
          -122.38517250186422,
          -122.38654575592841
         ],
         "mode": "lines",
         "showlegend": false,
         "type": "scattermapbox"
        },
        {
         "hoverinfo": "text",
         "hovertext": "W SEA BR EB 4 AV OFF RP Flow: 23500.0",
         "lat": [
          47.61850791447084,
          47.61850463499015,
          47.618491757599564
         ],
         "line": {
          "color": "rgb(0.248629,0.278775,0.534556)",
          "width": 2
         },
         "lon": [
          -122.33139505274875,
          -122.33098689198081,
          -122.330722961038
         ],
         "mode": "lines",
         "showlegend": false,
         "type": "scattermapbox"
        },
        {
         "hoverinfo": "text",
         "hovertext": "W SEA BR EB 4 AV OFF RP Flow: 2000.0",
         "lat": [
          47.5066686080539,
          47.50662303691799,
          47.5066219435235,
          47.50658380623483,
          47.50655114535138,
          47.50652524634882,
          47.50650762592695,
          47.50650626494194,
          47.506501769258286,
          47.50649431091434,
          47.50648945516777,
          47.50648405679608
         ],
         "line": {
          "color": "rgb(0.271305,0.019942,0.347269)",
          "width": 2
         },
         "lon": [
          -122.38698311531195,
          -122.38686375999241,
          -122.38686030063865,
          -122.386739600349,
          -122.38661136278854,
          -122.38647980180976,
          -122.38635531453797,
          -122.38634570003092,
          -122.38629460675388,
          -122.38620984400798,
          -122.38607303506754,
          -122.38549945226751
         ],
         "mode": "lines",
         "showlegend": false,
         "type": "scattermapbox"
        },
        {
         "hoverinfo": "text",
         "hovertext": "W SEA BR EB 4 AV OFF RP Flow: 2000.0",
         "lat": [
          47.50648405679608,
          47.506470256124814
         ],
         "line": {
          "color": "rgb(0.271305,0.019942,0.347269)",
          "width": 2
         },
         "lon": [
          -122.38549945226751,
          -122.38402301371178
         ],
         "mode": "lines",
         "showlegend": false,
         "type": "scattermapbox"
        },
        {
         "hoverinfo": "text",
         "hovertext": "W SEA BR EB 4 AV OFF RP Flow: 2000.0",
         "lat": [
          47.506470256124814,
          47.50645447419728,
          47.506449072138494,
          47.50643783363608,
          47.50641983023795,
          47.506384153750226,
          47.50631998125399
         ],
         "line": {
          "color": "rgb(0.271305,0.019942,0.347269)",
          "width": 2
         },
         "lon": [
          -122.38402301371178,
          -122.3823420711622,
          -122.38221628365238,
          -122.382097918492,
          -122.38195195167401,
          -122.38176507058465,
          -122.38153822073201
         ],
         "mode": "lines",
         "showlegend": false,
         "type": "scattermapbox"
        },
        {
         "hoverinfo": "text",
         "hovertext": "W SEA BR EB 4 AV OFF RP Flow: 2000.0",
         "lat": [
          47.50829303990641,
          47.508240390909094,
          47.50812717864236,
          47.507764768562176,
          47.5077645381896,
          47.50766815383816,
          47.50757172928646,
          47.50747611387268,
          47.50738191498701,
          47.507289739716555,
          47.50720017357276,
          47.50712951423514,
          47.50705052869067,
          47.506975251451195,
          47.50690410563169,
          47.50683750192996,
          47.50677582170456,
          47.506719414386765,
          47.5066686080539
         ],
         "line": {
          "color": "rgb(0.271305,0.019942,0.347269)",
          "width": 2
         },
         "lon": [
          -122.38778976919838,
          -122.38779085490702,
          -122.38780008092046,
          -122.3878296183163,
          -122.38782962339697,
          -122.3878317803303,
          -122.38782254690142,
          -122.38780198168968,
          -122.3877702050997,
          -122.38772742515201,
          -122.38767391427584,
          -122.38762260959956,
          -122.38755468892373,
          -122.3874781493578,
          -122.38739342839898,
          -122.38730101627358,
          -122.38720144348247,
          -122.38709527275812,
          -122.38698311531195
         ],
         "mode": "lines",
         "showlegend": false,
         "type": "scattermapbox"
        },
        {
         "hoverinfo": "text",
         "hovertext": "W SEA BR EB 4 AV OFF RP Flow: 33500.0",
         "lat": [
          47.702399564858524,
          47.70246113542865,
          47.70365251306463
         ],
         "line": {
          "color": "rgb(0.203063,0.379716,0.553925)",
          "width": 2
         },
         "lon": [
          -122.36074267927478,
          -122.36062133742121,
          -122.35827332448834
         ],
         "mode": "lines",
         "showlegend": false,
         "type": "scattermapbox"
        },
        {
         "hoverinfo": "text",
         "hovertext": "W SEA BR EB 4 AV OFF RP Flow: 33500.0",
         "lat": [
          47.70365251306463,
          47.704368709409856
         ],
         "line": {
          "color": "rgb(0.203063,0.379716,0.553925)",
          "width": 2
         },
         "lon": [
          -122.35827332448834,
          -122.35686172820445
         ],
         "mode": "lines",
         "showlegend": false,
         "type": "scattermapbox"
        },
        {
         "hoverinfo": "text",
         "hovertext": "W SEA BR EB 4 AV OFF RP Flow: 33500.0",
         "lat": [
          47.704368709409856,
          47.70476727816517,
          47.70476735022925,
          47.70502205381164,
          47.70508354119985
         ],
         "line": {
          "color": "rgb(0.203063,0.379716,0.553925)",
          "width": 2
         },
         "lon": [
          -122.35686172820445,
          -122.35607613989735,
          -122.35607599807355,
          -122.35557394213473,
          -122.35545274568328
         ],
         "mode": "lines",
         "showlegend": false,
         "type": "scattermapbox"
        },
        {
         "hoverinfo": "text",
         "hovertext": "W SEA BR EB 4 AV OFF RP Flow: 10835.0",
         "lat": [
          47.56986732853454,
          47.56916618573059
         ],
         "line": {
          "color": "rgb(0.282884,0.135920,0.453427)",
          "width": 2
         },
         "lon": [
          -122.3134271078186,
          -122.31343045791466
         ],
         "mode": "lines",
         "showlegend": false,
         "type": "scattermapbox"
        },
        {
         "hoverinfo": "text",
         "hovertext": "W SEA BR EB 4 AV OFF RP Flow: 10835.0",
         "lat": [
          47.57162901745434,
          47.57106209389637
         ],
         "line": {
          "color": "rgb(0.282884,0.135920,0.453427)",
          "width": 2
         },
         "lon": [
          -122.31340770389647,
          -122.31341394804234
         ],
         "mode": "lines",
         "showlegend": false,
         "type": "scattermapbox"
        },
        {
         "hoverinfo": "text",
         "hovertext": "W SEA BR EB 4 AV OFF RP Flow: 10835.0",
         "lat": [
          47.57106209389637,
          47.56986732853454
         ],
         "line": {
          "color": "rgb(0.282884,0.135920,0.453427)",
          "width": 2
         },
         "lon": [
          -122.31341394804234,
          -122.3134271078186
         ],
         "mode": "lines",
         "showlegend": false,
         "type": "scattermapbox"
        },
        {
         "hoverinfo": "text",
         "hovertext": "W SEA BR EB 4 AV OFF RP Flow: 3202.0",
         "lat": [
          47.53895778300035,
          47.53697371238828
         ],
         "line": {
          "color": "rgb(0.274952,0.037752,0.364543)",
          "width": 2
         },
         "lon": [
          -122.29608148511059,
          -122.29309416151268
         ],
         "mode": "lines",
         "showlegend": false,
         "type": "scattermapbox"
        },
        {
         "hoverinfo": "text",
         "hovertext": "W SEA BR EB 4 AV OFF RP Flow: 3202.0",
         "lat": [
          47.53697371238828,
          47.536633496939714,
          47.53589456379166
         ],
         "line": {
          "color": "rgb(0.274952,0.037752,0.364543)",
          "width": 2
         },
         "lon": [
          -122.29309416151268,
          -122.29258362311217,
          -122.29148334115476
         ],
         "mode": "lines",
         "showlegend": false,
         "type": "scattermapbox"
        },
        {
         "hoverinfo": "text",
         "hovertext": "W SEA BR EB 4 AV OFF RP Flow: 3202.0",
         "lat": [
          47.53237069690926,
          47.532299712323336,
          47.53192265085591,
          47.53168457589814
         ],
         "line": {
          "color": "rgb(0.274952,0.037752,0.364543)",
          "width": 2
         },
         "lon": [
          -122.2885071014472,
          -122.28847155680522,
          -122.28827101569134,
          -122.28817194465272
         ],
         "mode": "lines",
         "showlegend": false,
         "type": "scattermapbox"
        },
        {
         "hoverinfo": "text",
         "hovertext": "W SEA BR EB 4 AV OFF RP Flow: 3202.0",
         "lat": [
          47.53099725031689,
          47.53099667897332,
          47.53090689073068,
          47.53080586513719,
          47.53068803747959,
          47.53054195980397,
          47.52968873839819
         ],
         "line": {
          "color": "rgb(0.274952,0.037752,0.364543)",
          "width": 2
         },
         "lon": [
          -122.28790579379803,
          -122.28790566096235,
          -122.28789485709927,
          -122.28788373830061,
          -122.28786800239554,
          -122.28786392530185,
          -122.2878249234655
         ],
         "mode": "lines",
         "showlegend": false,
         "type": "scattermapbox"
        },
        {
         "hoverinfo": "text",
         "hovertext": "W SEA BR EB 4 AV OFF RP Flow: 3202.0",
         "lat": [
          47.52968873839819,
          47.527884239709245
         ],
         "line": {
          "color": "rgb(0.274952,0.037752,0.364543)",
          "width": 2
         },
         "lon": [
          -122.2878249234655,
          -122.28774886114579
         ],
         "mode": "lines",
         "showlegend": false,
         "type": "scattermapbox"
        },
        {
         "hoverinfo": "text",
         "hovertext": "W SEA BR EB 4 AV OFF RP Flow: 3202.0",
         "lat": [
          47.53589456379166,
          47.535562366210826
         ],
         "line": {
          "color": "rgb(0.274952,0.037752,0.364543)",
          "width": 2
         },
         "lon": [
          -122.29148334115476,
          -122.29098609451557
         ],
         "mode": "lines",
         "showlegend": false,
         "type": "scattermapbox"
        },
        {
         "hoverinfo": "text",
         "hovertext": "W SEA BR EB 4 AV OFF RP Flow: 3202.0",
         "lat": [
          47.533057997604665,
          47.53298356934088,
          47.532440367489095,
          47.53237069690926
         ],
         "line": {
          "color": "rgb(0.274952,0.037752,0.364543)",
          "width": 2
         },
         "lon": [
          -122.28886358391881,
          -122.28883268294973,
          -122.28854198916943,
          -122.2885071014472
         ],
         "mode": "lines",
         "showlegend": false,
         "type": "scattermapbox"
        },
        {
         "hoverinfo": "text",
         "hovertext": "W SEA BR EB 4 AV OFF RP Flow: 3202.0",
         "lat": [
          47.527884239709245,
          47.52612063936362
         ],
         "line": {
          "color": "rgb(0.274952,0.037752,0.364543)",
          "width": 2
         },
         "lon": [
          -122.28774886114579,
          -122.28767365181243
         ],
         "mode": "lines",
         "showlegend": false,
         "type": "scattermapbox"
        },
        {
         "hoverinfo": "text",
         "hovertext": "W SEA BR EB 4 AV OFF RP Flow: 3202.0",
         "lat": [
          47.53374610869841,
          47.53313077847356,
          47.533057997604665
         ],
         "line": {
          "color": "rgb(0.274952,0.037752,0.364543)",
          "width": 2
         },
         "lon": [
          -122.28922547562743,
          -122.28889380003314,
          -122.28886358391881
         ],
         "mode": "lines",
         "showlegend": false,
         "type": "scattermapbox"
        },
        {
         "hoverinfo": "text",
         "hovertext": "W SEA BR EB 4 AV OFF RP Flow: 3202.0",
         "lat": [
          47.53516680515759,
          47.534821411561815,
          47.53449714866074,
          47.534433919832665,
          47.534357224633524,
          47.534114873181736,
          47.53374610869841
         ],
         "line": {
          "color": "rgb(0.274952,0.037752,0.364543)",
          "width": 2
         },
         "lon": [
          -122.2904081695969,
          -122.29002416295451,
          -122.28972056174999,
          -122.28966298058194,
          -122.28959313567701,
          -122.28942484511133,
          -122.28922547562743
         ],
         "mode": "lines",
         "showlegend": false,
         "type": "scattermapbox"
        },
        {
         "hoverinfo": "text",
         "hovertext": "W SEA BR EB 4 AV OFF RP Flow: 3202.0",
         "lat": [
          47.53168457589814,
          47.53144742134605,
          47.53135789868456,
          47.53125157302213,
          47.53115637853397,
          47.53107793297637,
          47.53099725031689
         ],
         "line": {
          "color": "rgb(0.274952,0.037752,0.364543)",
          "width": 2
         },
         "lon": [
          -122.28817194465272,
          -122.28803857185015,
          -122.2880070258727,
          -122.28797086540152,
          -122.28794331223409,
          -122.28792452576374,
          -122.28790579379803
         ],
         "mode": "lines",
         "showlegend": false,
         "type": "scattermapbox"
        },
        {
         "hoverinfo": "text",
         "hovertext": "W SEA BR EB 4 AV OFF RP Flow: 3202.0",
         "lat": [
          47.535562366210826,
          47.53529675748798,
          47.53516680515759
         ],
         "line": {
          "color": "rgb(0.274952,0.037752,0.364543)",
          "width": 2
         },
         "lon": [
          -122.29098609451557,
          -122.29058852968951,
          -122.2904081695969
         ],
         "mode": "lines",
         "showlegend": false,
         "type": "scattermapbox"
        },
        {
         "hoverinfo": "text",
         "hovertext": "W SEA BR EB 4 AV OFF RP Flow: 10842.0",
         "lat": [
          47.71877840876523,
          47.71879383056377,
          47.71879583191189,
          47.71879783504149,
          47.71879983728875,
          47.71880183772044,
          47.7188038381181,
          47.71880583759945,
          47.71880783343278,
          47.71880982648337,
          47.71881181588594,
          47.71881380070725,
          47.71881578184656,
          47.7188177565891,
          47.718819726716426,
          47.71882168951378,
          47.71882360546423,
          47.71882555909906,
          47.71882750905194,
          47.718829454423556,
          47.718831397012416,
          47.718833334120795,
          47.71883526846339,
          47.718837198241665,
          47.71883912342176,
          47.71884104493682,
          47.71884296278681,
          47.71884487607252,
          47.71884678565931,
          47.718848689799465,
          47.718850590257624,
          47.71885253785152,
          47.71885443006337,
          47.71885631859325,
          47.71885820165952,
          47.71886008102684,
          47.71886195582985,
          47.718863826950866,
          47.718865693507595,
          47.718867557315534,
          47.71886941562594,
          47.71887127117058,
          47.7188731221679,
          47.71887496856697,
          47.71887681223421,
          47.71887865043785,
          47.71888048677504,
          47.71888227682465,
          47.71888409761956,
          47.718885910185165,
          47.71888771452152,
          47.718889512461054,
          47.71889130671862,
          47.71889309549566,
          47.718894882440075,
          47.718896666652675,
          47.7188984508313,
          47.71890023685923,
          47.7189020228871,
          47.71890381168056,
          47.718905608940716,
          47.71890826332815,
          47.71890997787192,
          47.71891171454118,
          47.718913453042816,
          47.718915192460614,
          47.71891693277757,
          47.71891867129591,
          47.71892041067951,
          47.7189221455497,
          47.71892388036889,
          47.71892561065769,
          47.71892733818073,
          47.71892906024016,
          47.71893077773529,
          47.71893248883357,
          47.718934193552066,
          47.71893589187375,
          47.718937608130084,
          47.7189392927589,
          47.71894097372263,
          47.71894264920581,
          47.71894432014161,
          47.71894598737844,
          47.71894764826936,
          47.71894930639448,
          47.71895095997228,
          47.718952609868055,
          47.71895425523341,
          47.71895589695069,
          47.718957535002886,
          47.718959169424025,
          47.718960800197046,
          47.71896240453469,
          47.71896402253106,
          47.71896562776782,
          47.71896722204354,
          47.718968807207716,
          47.71897038507574,
          47.71897195837944,
          47.71897352893433,
          47.7189750986068,
          47.718976670077744,
          47.71897824519659,
          47.71897984517253,
          47.71898296210264,
          47.71898455727654,
          47.71898612969706,
          47.718987676462795,
          47.71898920240934,
          47.71899072923808,
          47.71899225604976,
          47.718993780146526,
          47.71899530331001,
          47.718996824657914,
          47.71899834237463,
          47.718999856460236,
          47.7190013686963,
          47.71900287546874,
          47.71900437769379,
          47.71900587445526,
          47.719007365753086,
          47.71900884978876,
          47.7190103274276,
          47.71901185427211,
          47.71901331553718,
          47.71901476769065,
          47.7190162134812,
          47.71901765377423,
          47.719019087721286,
          47.71902051712103,
          47.719021942872594,
          47.71902336679165,
          47.71902478891197,
          47.719026210082085,
          47.71902763128599,
          47.719029053389065,
          47.71903047914004,
          47.719031906706405,
          47.71903330306933,
          47.719034659117554,
          47.71903602208859,
          47.719037388690495,
          47.7190387571248,
          47.719040125558976,
          47.7190414957916,
          47.71904286424254,
          47.71904423176017,
          47.719045596545946,
          47.719046956801265,
          47.71904831249226,
          47.7190496627366,
          47.719051006635,
          47.71905234233799,
          47.71905367076187,
          47.71905501693414,
          47.71905632718567,
          47.719057630174994,
          47.71905892496895,
          47.71906021523247,
          47.71906150001542,
          47.7190627784524,
          47.71906405414054,
          47.71906532531523,
          47.71906659375806,
          47.71906785946901,
          47.719069124280594,
          47.71907038815883,
          47.71907165113769,
          47.719072913234115,
          47.719074177111985,
          47.71907539285261,
          47.71907658317639,
          47.719078164341575,
          47.71907940083396,
          47.71908060843021,
          47.71908181962342,
          47.71908303356524,
          47.719084245691484,
          47.71908545781756,
          47.71908666719482,
          47.719087870243065,
          47.71908906694537,
          47.719090256351556,
          47.71909143308298,
          47.71909259802189,
          47.7190937103951,
          47.719094859876414,
          47.719096003928016,
          47.719097145247744,
          47.719098280221516,
          47.7190994124634,
          47.7191005392586,
          47.7191016615234,
          47.71910277832453,
          47.7191038906122,
          47.71910499835249,
          47.719106099763785,
          47.71910719571144,
          47.71910828712864,
          47.71910937219995,
          47.719110453096484,
          47.719111526392055,
          47.71911259424103,
          47.71911365844179,
          47.71911471631365,
          47.71911576873881,
          47.71911681571724,
          47.71911785816532,
          47.71911889514967,
          47.71911992673829,
          47.719120952863264,
          47.719121973558515,
          47.71912298970636,
          47.7191239995252,
          47.719125003897396,
          47.71912600375611,
          47.719127040061416,
          47.71912802451344,
          47.71912899988774,
          47.71912996530202,
          47.71913092528659,
          47.71913187800897,
          47.719132826217844,
          47.719133770795594,
          47.71913471175913,
          47.71913565177232,
          47.71913659000386,
          47.71913752823525,
          47.71913846738277,
          47.71913941012727,
          47.719141248259874,
          47.71914216555183,
          47.71914304037498,
          47.719143918829154,
          47.71914479909864,
          47.71914568118354,
          47.719146563268346,
          47.71914744443675,
          47.71914832380645,
          47.71914919956197,
          47.719150072585634,
          47.71915094017954,
          47.7191518023437,
          47.71915265727966,
          47.7191535040711,
          47.71915434090247,
          47.71915509701981,
          47.719155918461475,
          47.71915673355715,
          47.71915754413931,
          47.719158348392554,
          47.71915914719904,
          47.71915994147514,
          47.71916072943918,
          47.719161511956536,
          47.71916228994346,
          47.719163061618374,
          47.71916382696423,
          47.71916458777967,
          47.71916534314845,
          47.71916609220518,
          47.71916683586613,
          47.71916760940742,
          47.71916834307427,
          47.71916907042908,
          47.719169792371154,
          47.71917050796731,
          47.719171219032916,
          47.719171924685824,
          47.71917262489204,
          47.71917331968548,
          47.71917400816692,
          47.719174689403104,
          47.71917536794134,
          47.71917604013363,
          47.719176706013826,
          47.7191773673636,
          47.719178000155935,
          47.71917864976396,
          47.71917929305995,
          47.71917993270779,
          47.719180565144384,
          47.71918119306744,
          47.719181814644536,
          47.719182430808885,
          47.71918304156045,
          47.71918364688234,
          47.71918424497592,
          47.71918484033758,
          47.71918542852193,
          47.719186010360296,
          47.71918658768516,
          47.719187158698006,
          47.71918775642007,
          47.71918831659045,
          47.71918887133109,
          47.71918941974276
         ],
         "line": {
          "color": "rgb(0.282884,0.135920,0.453427)",
          "width": 2
         },
         "lon": [
          -122.28486503066398,
          -122.28488770957337,
          -122.2848904850077,
          -122.2848932618251,
          -122.28489603728492,
          -122.28489881402736,
          -122.28490159343524,
          -122.28490437415071,
          -122.28490715876376,
          -122.28490994996459,
          -122.28491274506293,
          -122.28491554669884,
          -122.28491835489744,
          -122.28492117091592,
          -122.28492399613721,
          -122.28492683181841,
          -122.28492974350911,
          -122.28493259226542,
          -122.2849354475845,
          -122.28493830944116,
          -122.28494117788564,
          -122.2849440528425,
          -122.28494693305466,
          -122.28494981847167,
          -122.28495271175895,
          -122.28495561027628,
          -122.28495851402373,
          -122.28496142297608,
          -122.28496433982377,
          -122.2849672605187,
          -122.28497018777627,
          -122.28497329898424,
          -122.28497623800952,
          -122.28497918359749,
          -122.28498213436526,
          -122.28498509302831,
          -122.28498805689637,
          -122.28499102732708,
          -122.2849940029628,
          -122.28499698252108,
          -122.2849999699244,
          -122.28500296258302,
          -122.28500595911392,
          -122.28500896351498,
          -122.2850119705061,
          -122.28501498267696,
          -122.2850180001282,
          -122.28502076699883,
          -122.28502380401231,
          -122.28502685146057,
          -122.28502990934365,
          -122.28503297504662,
          -122.28503604731232,
          -122.28503912609042,
          -122.28504220748367,
          -122.28504529146691,
          -122.28504837811562,
          -122.28505146081697,
          -122.28505454351854,
          -122.2850576209653,
          -122.28506073997463,
          -122.28506507472578,
          -122.28506811943646,
          -122.28507126341428,
          -122.2850744047773,
          -122.28507754483309,
          -122.28508068491426,
          -122.28508382494532,
          -122.28508696766697,
          -122.28509011159571,
          -122.28509325952251,
          -122.285096409989,
          -122.28509956571077,
          -122.28510272661232,
          -122.28510589271879,
          -122.28510906664516,
          -122.28511224705883,
          -122.28511543529234,
          -122.28511905194814,
          -122.28512225579631,
          -122.28512546487454,
          -122.28512868046522,
          -122.28513189992816,
          -122.28513512728644,
          -122.2851383584668,
          -122.28514159490231,
          -122.28514483521018,
          -122.28514808208075,
          -122.28515133149108,
          -122.28515458479882,
          -122.28515784333663,
          -122.28516110443931,
          -122.28516436943946,
          -122.28516723777396,
          -122.28517051708128,
          -122.28517380936287,
          -122.28517711466904,
          -122.28518042905232,
          -122.2851837512303,
          -122.28518707861319,
          -122.28519040991875,
          -122.28519373986671,
          -122.28519706986518,
          -122.28520039596657,
          -122.28520388939903,
          -122.28521054333774,
          -122.2852138486713,
          -122.28521717469832,
          -122.28522046668095,
          -122.28522383940002,
          -122.28522721347706,
          -122.28523058888692,
          -122.28523396555414,
          -122.28523734486161,
          -122.28524072545166,
          -122.2852441086065,
          -122.2852474943262,
          -122.28525088399367,
          -122.2852542788409,
          -122.28525767756038,
          -122.28526108145977,
          -122.28526449053885,
          -122.28526790474741,
          -122.28527132677588,
          -122.28527448756208,
          -122.28527792379703,
          -122.28528136910903,
          -122.28528481957566,
          -122.28528827788729,
          -122.28529174002091,
          -122.28529520602689,
          -122.28529867593024,
          -122.28530214844878,
          -122.28530562091719,
          -122.28530909735848,
          -122.28531257113474,
          -122.28531604493638,
          -122.28531951484088,
          -122.28532298346329,
          -122.285326641845,
          -122.28533028710179,
          -122.28533381257436,
          -122.28533733548252,
          -122.28534085577591,
          -122.28534437606949,
          -122.28534789641354,
          -122.28535141537488,
          -122.28535493697647,
          -122.28535846116806,
          -122.28536198789935,
          -122.2853655198355,
          -122.28536905561877,
          -122.28537259522412,
          -122.28537614259893,
          -122.28537969643588,
          -122.28538291616395,
          -122.28538648415703,
          -122.28539005727957,
          -122.28539363817174,
          -122.28539722160343,
          -122.28540081154762,
          -122.28540440531373,
          -122.28540800300243,
          -122.28541160189816,
          -122.28541520338389,
          -122.28541880745958,
          -122.28542241151025,
          -122.28542601820119,
          -122.28542962486723,
          -122.28543323017558,
          -122.28543683686713,
          -122.28544069150038,
          -122.28544435212505,
          -122.28544925145549,
          -122.2854526774148,
          -122.28545632385908,
          -122.28545997040409,
          -122.28546361302692,
          -122.28546725693217,
          -122.28547090083764,
          -122.2854745486657,
          -122.28547819898307,
          -122.28548185312246,
          -122.2854855150565,
          -122.28548918330165,
          -122.28549285921574,
          -122.28549670696171,
          -122.28550039577473,
          -122.2855040871023,
          -122.28550778101983,
          -122.28551147875926,
          -122.28551517908866,
          -122.28551888326515,
          -122.28552258998134,
          -122.2855263018772,
          -122.2855300149801,
          -122.28553373195527,
          -122.2855374514198,
          -122.28554117606403,
          -122.28554490324787,
          -122.28554863425367,
          -122.28555255177557,
          -122.28555628911785,
          -122.28556003030722,
          -122.28556377539395,
          -122.28556752297003,
          -122.28557127439322,
          -122.28557502966352,
          -122.28557878747345,
          -122.28558255046309,
          -122.28558631330192,
          -122.28559008132049,
          -122.28559385185359,
          -122.28559762625885,
          -122.28560140315346,
          -122.28560518389517,
          -122.28560896584386,
          -122.28561257017793,
          -122.28561636102765,
          -122.28562015828913,
          -122.28562396060452,
          -122.28562776543436,
          -122.28563157539361,
          -122.28563538655985,
          -122.28563920029089,
          -122.28564301525407,
          -122.28564683419006,
          -122.28565065174331,
          -122.28565446929663,
          -122.2856582855427,
          -122.28566210188944,
          -122.28566970926323,
          -122.28567375818955,
          -122.28567760996373,
          -122.28568145917339,
          -122.2856853071009,
          -122.28568915374618,
          -122.28569300039166,
          -122.28569684834461,
          -122.2857006962475,
          -122.2857045453825,
          -122.28570839710741,
          -122.28571225134674,
          -122.28571610810052,
          -122.28571996731847,
          -122.28572383030799,
          -122.28572769835144,
          -122.28573154680718,
          -122.28573542241891,
          -122.28573930185257,
          -122.28574318249322,
          -122.28574706562314,
          -122.28575095260008,
          -122.28575484211666,
          -122.28575873278987,
          -122.28576262731012,
          -122.28576652436993,
          -122.28577042258645,
          -122.28577432329224,
          -122.28577822653757,
          -122.28578213362998,
          -122.285786041879,
          -122.2857899499772,
          -122.28579370160651,
          -122.28579761742392,
          -122.285801534398,
          -122.28580545255393,
          -122.28580937453168,
          -122.28581329904901,
          -122.28581722474817,
          -122.28582115429433,
          -122.28582508502231,
          -122.2858290169069,
          -122.28583295258817,
          -122.28583688819414,
          -122.28584082762197,
          -122.28584476820642,
          -122.28584871133039,
          -122.2858528482872,
          -122.28585679508221,
          -122.28586074303388,
          -122.28586469488289,
          -122.28586864786337,
          -122.28587260205074,
          -122.28587656005999,
          -122.28588051925104,
          -122.28588447962386,
          -122.28588844251102,
          -122.2858924078623,
          -122.28589637580346,
          -122.28590034221081,
          -122.28590431244,
          -122.28590828387615,
          -122.28591225646885,
          -122.2859158272149,
          -122.28591980350376,
          -122.28592378230705,
          -122.28592776359956
         ],
         "mode": "lines",
         "showlegend": false,
         "type": "scattermapbox"
        },
        {
         "hoverinfo": "text",
         "hovertext": "W SEA BR EB 4 AV OFF RP Flow: 10842.0",
         "lat": [
          47.71069943966174,
          47.711857499382944,
          47.71241194346208
         ],
         "line": {
          "color": "rgb(0.282884,0.135920,0.453427)",
          "width": 2
         },
         "lon": [
          -122.28102488243333,
          -122.28157317551009,
          -122.2818388885773
         ],
         "mode": "lines",
         "showlegend": false,
         "type": "scattermapbox"
        },
        {
         "hoverinfo": "text",
         "hovertext": "W SEA BR EB 4 AV OFF RP Flow: 10842.0",
         "lat": [
          47.70890460684204,
          47.71069943966174
         ],
         "line": {
          "color": "rgb(0.282884,0.135920,0.453427)",
          "width": 2
         },
         "lon": [
          -122.2801723316583,
          -122.28102488243333
         ],
         "mode": "lines",
         "showlegend": false,
         "type": "scattermapbox"
        },
        {
         "hoverinfo": "text",
         "hovertext": "W SEA BR EB 4 AV OFF RP Flow: 10842.0",
         "lat": [
          47.71736901569193,
          47.718410127216224,
          47.718460510416,
          47.718511852280265,
          47.718563214516784,
          47.71860491490816,
          47.71863907548575,
          47.71867857505764,
          47.718711633399295,
          47.71874361260238,
          47.71877840876523
         ],
         "line": {
          "color": "rgb(0.282884,0.135920,0.453427)",
          "width": 2
         },
         "lon": [
          -122.28390740394714,
          -122.28453445719936,
          -122.28456629001576,
          -122.2846077584916,
          -122.28464762526164,
          -122.28468241898086,
          -122.28471539965099,
          -122.28475333401592,
          -122.2847878863323,
          -122.28482240852765,
          -122.28486503066398
         ],
         "mode": "lines",
         "showlegend": false,
         "type": "scattermapbox"
        },
        {
         "hoverinfo": "text",
         "hovertext": "W SEA BR EB 4 AV OFF RP Flow: 10842.0",
         "lat": [
          47.71601302235292,
          47.71609398440697,
          47.71610012296249,
          47.71622706313838,
          47.716383579887804,
          47.716548883458046,
          47.71671675121781,
          47.716879108064035,
          47.7170199759165,
          47.71715143544122,
          47.71715646233087,
          47.71736901569193
         ],
         "line": {
          "color": "rgb(0.282884,0.135920,0.453427)",
          "width": 2
         },
         "lon": [
          -122.28310584666484,
          -122.28315370669749,
          -122.28315733591748,
          -122.28323236701357,
          -122.28332488708149,
          -122.28342259726618,
          -122.28352183002009,
          -122.28361780353791,
          -122.28370107348377,
          -122.28377878225463,
          -122.28378175537603,
          -122.28390740394714
         ],
         "mode": "lines",
         "showlegend": false,
         "type": "scattermapbox"
        },
        {
         "hoverinfo": "text",
         "hovertext": "W SEA BR EB 4 AV OFF RP Flow: 10842.0",
         "lat": [
          47.71241194346208,
          47.713748495818976,
          47.71396892545589,
          47.714970034142084,
          47.715776216465066,
          47.715785598013326,
          47.71585532410351,
          47.71593192360444,
          47.71601302235292
         ],
         "line": {
          "color": "rgb(0.282884,0.135920,0.453427)",
          "width": 2
         },
         "lon": [
          -122.2818388885773,
          -122.28247404180856,
          -122.28248036890511,
          -122.28248934540895,
          -122.28296587235202,
          -122.28297141560812,
          -122.28301263243462,
          -122.28305791098333,
          -122.28310584666484
         ],
         "mode": "lines",
         "showlegend": false,
         "type": "scattermapbox"
        },
        {
         "hoverinfo": "text",
         "hovertext": "W SEA BR EB 4 AV OFF RP Flow: 10842.0",
         "lat": [
          47.71923448051693,
          47.7192243804858
         ],
         "line": {
          "color": "rgb(0.282884,0.135920,0.453427)",
          "width": 2
         },
         "lon": [
          -122.28852936463251,
          -122.28733350928516
         ],
         "mode": "lines",
         "showlegend": false,
         "type": "scattermapbox"
        },
        {
         "hoverinfo": "text",
         "hovertext": "W SEA BR EB 4 AV OFF RP Flow: 10842.0",
         "lat": [
          47.71925343734195,
          47.71925332706572,
          47.71925232303681,
          47.71924129969465
         ],
         "line": {
          "color": "rgb(0.282884,0.135920,0.453427)",
          "width": 2
         },
         "lon": [
          -122.29078406193135,
          -122.29076481826183,
          -122.29064552065414,
          -122.28933758198548
         ],
         "mode": "lines",
         "showlegend": false,
         "type": "scattermapbox"
        },
        {
         "hoverinfo": "text",
         "hovertext": "W SEA BR EB 4 AV OFF RP Flow: 10842.0",
         "lat": [
          47.71924129969465,
          47.71923448051693
         ],
         "line": {
          "color": "rgb(0.282884,0.135920,0.453427)",
          "width": 2
         },
         "lon": [
          -122.28933758198548,
          -122.28852936463251
         ],
         "mode": "lines",
         "showlegend": false,
         "type": "scattermapbox"
        },
        {
         "hoverinfo": "text",
         "hovertext": "W SEA BR EB 4 AV OFF RP Flow: 10842.0",
         "lat": [
          47.7192243804858,
          47.71921558731817,
          47.71921555947258,
          47.71921555670961
         ],
         "line": {
          "color": "rgb(0.282884,0.135920,0.453427)",
          "width": 2
         },
         "lon": [
          -122.28733350928516,
          -122.28629356994341,
          -122.28629031908218,
          -122.28629004172139
         ],
         "mode": "lines",
         "showlegend": false,
         "type": "scattermapbox"
        },
        {
         "hoverinfo": "text",
         "hovertext": "W SEA BR EB 4 AV OFF RP Flow: 10842.0",
         "lat": [
          47.71921555670961,
          47.71921545969039,
          47.71921539089302,
          47.719215324810335,
          47.71921526050902,
          47.71921519622454,
          47.719215131023695,
          47.71921506494043,
          47.71921499614219,
          47.71921492194816,
          47.71921484415691,
          47.71921475825508,
          47.7192146660412,
          47.71921456485141,
          47.71921445463483,
          47.719214331523304,
          47.71921420420323,
          47.71921407060507,
          47.7192139306949,
          47.719213785371984,
          47.71921363465324,
          47.719213477622525,
          47.71921331519595,
          47.71921314735666,
          47.719212973239316,
          47.71921279370917,
          47.71921260874929,
          47.719212417511336,
          47.71921222084364,
          47.719212017880885,
          47.719211810404666,
          47.71921152684541,
          47.71921130676207,
          47.719211081265996,
          47.71921085037414,
          47.71921061317026,
          47.719210370570565,
          47.71921012255813,
          47.71920986913293,
          47.71920960941264,
          47.719209343380385,
          47.719209071935325,
          47.71920879599378,
          47.719208513723196,
          47.71920822515756,
          47.71920793026293,
          47.71920765800451,
          47.71920735228433,
          47.71920704116839,
          47.719206724656686,
          47.71920640183292,
          47.719206074495695,
          47.71920573994712,
          47.71920540088509,
          47.719205055527986,
          47.71920470474117,
          47.719204347659286,
          47.71920398514767,
          47.7192036172233,
          47.71920324388613,
          47.71920286425397,
          47.71920247917506,
          47.719202107297576,
          47.71920171141012,
          47.71920130831141,
          47.719200900699185,
          47.71920048767417,
          47.719200069253375,
          47.719199644486665,
          47.71919921342484,
          47.719198776967275,
          47.719198335062956,
          47.71919788776288,
          47.71919743505001,
          47.7191969760082,
          47.719196512435936,
          47.71919604166928,
          47.71919556635526,
          47.71919508664704,
          47.71919459962514,
          47.71919410717353,
          47.71919360840994,
          47.71919310514978,
          47.71919259556065,
          47.71919208055875,
          47.71919155922782,
          47.719191033383446,
          47.719190501227054,
          47.719189963640915,
          47.71918941974276
         ],
         "line": {
          "color": "rgb(0.282884,0.135920,0.453427)",
          "width": 2
         },
         "lon": [
          -122.28629004172139,
          -122.2862830415987,
          -122.28627898040381,
          -122.28627491795184,
          -122.28627085688281,
          -122.28626679448118,
          -122.286262733387,
          -122.28625867093501,
          -122.28625460974027,
          -122.2862505483945,
          -122.2862464869481,
          -122.28624242660783,
          -122.28623836742412,
          -122.28623430665613,
          -122.2862302483018,
          -122.28622614292844,
          -122.28622208542868,
          -122.28621802642019,
          -122.28621396856828,
          -122.28620991189793,
          -122.28620585507669,
          -122.28620179941196,
          -122.28619774359628,
          -122.28619368896224,
          -122.28618963281954,
          -122.28618557785848,
          -122.28618152541172,
          -122.28617747145621,
          -122.28617342001502,
          -122.28616936839781,
          -122.28616531798735,
          -122.28616137876118,
          -122.28615732933122,
          -122.28615328108292,
          -122.2861492326837,
          -122.28614518544097,
          -122.28614113804733,
          -122.28613709183543,
          -122.28613304680519,
          -122.2861290015989,
          -122.28612495754908,
          -122.28612091468096,
          -122.28611687168716,
          -122.28611283118246,
          -122.2861087905017,
          -122.28610475231012,
          -122.28610049079221,
          -122.28609645496408,
          -122.28609241898496,
          -122.28608838285494,
          -122.2860843478815,
          -122.28608031411494,
          -122.28607628147974,
          -122.28607225005138,
          -122.28606821844703,
          -122.286064189357,
          -122.2860601600909,
          -122.28605613333913,
          -122.28605210776911,
          -122.28604808338075,
          -122.28604405881637,
          -122.28604003809902,
          -122.28603589910568,
          -122.28603187941913,
          -122.28602786086395,
          -122.28602384351566,
          -122.2860198273491,
          -122.28601581103165,
          -122.28601179853607,
          -122.28600778586436,
          -122.2860037730418,
          -122.28599976406629,
          -122.2859957549398,
          -122.28599174699507,
          -122.28598774153954,
          -122.28598373862357,
          -122.2859797355064,
          -122.28597573626132,
          -122.28597165824092,
          -122.28596766000162,
          -122.28596366427668,
          -122.2859596697083,
          -122.2859556750142,
          -122.28595168280935,
          -122.28594769178619,
          -122.28594370325233,
          -122.28593971592532,
          -122.28593572975494,
          -122.28593174609897,
          -122.28592776359956
         ],
         "mode": "lines",
         "showlegend": false,
         "type": "scattermapbox"
        },
        {
         "hoverinfo": "text",
         "hovertext": "W SEA BR EB 4 AV OFF RP Flow: 15481.0",
         "lat": [
          47.60829216504288,
          47.609285142681195
         ],
         "line": {
          "color": "rgb(0.276194,0.190074,0.493001)",
          "width": 2
         },
         "lon": [
          -122.33799535939778,
          -122.338903694202
         ],
         "mode": "lines",
         "showlegend": false,
         "type": "scattermapbox"
        },
        {
         "hoverinfo": "text",
         "hovertext": "W SEA BR EB 4 AV OFF RP Flow: 4170.0",
         "lat": [
          47.662135581261545,
          47.662875420917246
         ],
         "line": {
          "color": "rgb(0.277018,0.050344,0.375715)",
          "width": 2
         },
         "lon": [
          -122.35003391261932,
          -122.3500284346327
         ],
         "mode": "lines",
         "showlegend": false,
         "type": "scattermapbox"
        },
        {
         "hoverinfo": "text",
         "hovertext": "W SEA BR EB 4 AV OFF RP Flow: 4170.0",
         "lat": [
          47.66430127498408,
          47.6650407493935
         ],
         "line": {
          "color": "rgb(0.277018,0.050344,0.375715)",
          "width": 2
         },
         "lon": [
          -122.35001752302645,
          -122.35000285167484
         ],
         "mode": "lines",
         "showlegend": false,
         "type": "scattermapbox"
        },
        {
         "hoverinfo": "text",
         "hovertext": "W SEA BR EB 4 AV OFF RP Flow: 4170.0",
         "lat": [
          47.66358801911211,
          47.66430127498408
         ],
         "line": {
          "color": "rgb(0.277018,0.050344,0.375715)",
          "width": 2
         },
         "lon": [
          -122.35002298196028,
          -122.35001752302645
         ],
         "mode": "lines",
         "showlegend": false,
         "type": "scattermapbox"
        },
        {
         "hoverinfo": "text",
         "hovertext": "W SEA BR EB 4 AV OFF RP Flow: 4170.0",
         "lat": [
          47.662875420917246,
          47.66358801911211
         ],
         "line": {
          "color": "rgb(0.277018,0.050344,0.375715)",
          "width": 2
         },
         "lon": [
          -122.3500284346327,
          -122.35002298196028
         ],
         "mode": "lines",
         "showlegend": false,
         "type": "scattermapbox"
        },
        {
         "hoverinfo": "text",
         "hovertext": "W SEA BR EB 4 AV OFF RP Flow: 9513.0",
         "lat": [
          47.712312298639105,
          47.71230868640222,
          47.71230532484446,
          47.712304973817744,
          47.71229825879332,
          47.71229146210533,
          47.712291145501645
         ],
         "line": {
          "color": "rgb(0.283229,0.120777,0.440584)",
          "width": 2
         },
         "lon": [
          -122.34212432902828,
          -122.340730766211,
          -122.33943502603704,
          -122.33930087739212,
          -122.33674572693549,
          -122.33417630340395,
          -122.33405642903674
         ],
         "mode": "lines",
         "showlegend": false,
         "type": "scattermapbox"
        },
        {
         "hoverinfo": "text",
         "hovertext": "W SEA BR EB 4 AV OFF RP Flow: 9513.0",
         "lat": [
          47.71231922297051,
          47.71231920203536,
          47.712318755671944,
          47.712312298639105
         ],
         "line": {
          "color": "rgb(0.283229,0.120777,0.440584)",
          "width": 2
         },
         "lon": [
          -122.3448136651353,
          -122.34480574421988,
          -122.34463087668189,
          -122.34212432902828
         ],
         "mode": "lines",
         "showlegend": false,
         "type": "scattermapbox"
        },
        {
         "hoverinfo": "text",
         "hovertext": "W SEA BR EB 4 AV OFF RP Flow: 9620.0",
         "lat": [
          47.63230434123263,
          47.63229967865707,
          47.63229296756172
         ],
         "line": {
          "color": "rgb(0.283229,0.120777,0.440584)",
          "width": 2
         },
         "lon": [
          -122.39300801833957,
          -122.39375129397838,
          -122.39426507384842
         ],
         "mode": "lines",
         "showlegend": false,
         "type": "scattermapbox"
        },
        {
         "hoverinfo": "text",
         "hovertext": "W SEA BR EB 4 AV OFF RP Flow: 9620.0",
         "lat": [
          47.63229296756172,
          47.632352754681094,
          47.63269548068056,
          47.63301347812149,
          47.633139703454574,
          47.63328815685723,
          47.63374719884895
         ],
         "line": {
          "color": "rgb(0.283229,0.120777,0.440584)",
          "width": 2
         },
         "lon": [
          -122.39426507384842,
          -122.39467033571432,
          -122.39567231276492,
          -122.39655716689023,
          -122.39690091621883,
          -122.397094548023,
          -122.39739526070701
         ],
         "mode": "lines",
         "showlegend": false,
         "type": "scattermapbox"
        },
        {
         "hoverinfo": "text",
         "hovertext": "W SEA BR EB 4 AV OFF RP Flow: 9620.0",
         "lat": [
          47.63374719884895,
          47.63446001080535,
          47.63591109996367
         ],
         "line": {
          "color": "rgb(0.283229,0.120777,0.440584)",
          "width": 2
         },
         "lon": [
          -122.39739526070701,
          -122.39781768292293,
          -122.39788870468281
         ],
         "mode": "lines",
         "showlegend": false,
         "type": "scattermapbox"
        },
        {
         "hoverinfo": "text",
         "hovertext": "W SEA BR EB 4 AV OFF RP Flow: 37000.0",
         "lat": [
          47.5646795420245,
          47.5646049492145,
          47.56459783587398,
          47.5643944058645,
          47.56427078403178
         ],
         "line": {
          "color": "rgb(0.188923,0.410910,0.556326)",
          "width": 2
         },
         "lon": [
          -122.37688479761857,
          -122.37701048855634,
          -122.3770198344205,
          -122.37728708686154,
          -122.37744948970857
         ],
         "mode": "lines",
         "showlegend": false,
         "type": "scattermapbox"
        },
        {
         "hoverinfo": "text",
         "hovertext": "W SEA BR EB 4 AV OFF RP Flow: 37000.0",
         "lat": [
          47.56427078403178,
          47.564148065868814,
          47.56407771245929
         ],
         "line": {
          "color": "rgb(0.188923,0.410910,0.556326)",
          "width": 2
         },
         "lon": [
          -122.37744948970857,
          -122.37761104666131,
          -122.37770366806059
         ],
         "mode": "lines",
         "showlegend": false,
         "type": "scattermapbox"
        },
        {
         "hoverinfo": "text",
         "hovertext": "W SEA BR EB 4 AV OFF RP Flow: 37000.0",
         "lat": [
          47.565038523837146,
          47.56495105538426,
          47.56476172834913,
          47.5646795420245
         ],
         "line": {
          "color": "rgb(0.188923,0.410910,0.556326)",
          "width": 2
         },
         "lon": [
          -122.37618826554016,
          -122.37637289662062,
          -122.37674598782036,
          -122.37688479761857
         ],
         "mode": "lines",
         "showlegend": false,
         "type": "scattermapbox"
        },
        {
         "hoverinfo": "text",
         "hovertext": "W SEA BR EB 4 AV OFF RP Flow: 17084.0",
         "lat": [
          47.67579369447353,
          47.67578344004294
         ],
         "line": {
          "color": "rgb(0.271828,0.209303,0.504434)",
          "width": 2
         },
         "lon": [
          -122.31313120965503,
          -122.31192972136378
         ],
         "mode": "lines",
         "showlegend": false,
         "type": "scattermapbox"
        },
        {
         "hoverinfo": "text",
         "hovertext": "W SEA BR EB 4 AV OFF RP Flow: 17084.0",
         "lat": [
          47.67580395122383,
          47.67579462800906,
          47.67579369447353
         ],
         "line": {
          "color": "rgb(0.271828,0.209303,0.504434)",
          "width": 2
         },
         "lon": [
          -122.31434884655411,
          -122.31325298533467,
          -122.31313120965503
         ],
         "mode": "lines",
         "showlegend": false,
         "type": "scattermapbox"
        },
        {
         "hoverinfo": "text",
         "hovertext": "W SEA BR EB 4 AV OFF RP Flow: 17084.0",
         "lat": [
          47.675814927946405,
          47.67580395122383
         ],
         "line": {
          "color": "rgb(0.271828,0.209303,0.504434)",
          "width": 2
         },
         "lon": [
          -122.31565804718758,
          -122.31434884655411
         ],
         "mode": "lines",
         "showlegend": false,
         "type": "scattermapbox"
        },
        {
         "hoverinfo": "text",
         "hovertext": "W SEA BR EB 4 AV OFF RP Flow: 11603.0",
         "lat": [
          47.67476810032588,
          47.674797611197874,
          47.67578344004294
         ],
         "line": {
          "color": "rgb(0.282290,0.145912,0.461510)",
          "width": 2
         },
         "lon": [
          -122.31192190815274,
          -122.31192305944428,
          -122.31192972136378
         ],
         "mode": "lines",
         "showlegend": false,
         "type": "scattermapbox"
        },
        {
         "hoverinfo": "text",
         "hovertext": "W SEA BR EB 4 AV OFF RP Flow: 11603.0",
         "lat": [
          47.67397842662639,
          47.67476810032588
         ],
         "line": {
          "color": "rgb(0.282290,0.145912,0.461510)",
          "width": 2
         },
         "lon": [
          -122.31191775574152,
          -122.31192190815274
         ],
         "mode": "lines",
         "showlegend": false,
         "type": "scattermapbox"
        },
        {
         "hoverinfo": "text",
         "hovertext": "W SEA BR EB 4 AV OFF RP Flow: 11603.0",
         "lat": [
          47.67210552271683,
          47.67397842662639
         ],
         "line": {
          "color": "rgb(0.282290,0.145912,0.461510)",
          "width": 2
         },
         "lon": [
          -122.31190524735987,
          -122.31191775574152
         ],
         "mode": "lines",
         "showlegend": false,
         "type": "scattermapbox"
        },
        {
         "hoverinfo": "text",
         "hovertext": "W SEA BR EB 4 AV OFF RP Flow: 7103.0",
         "lat": [
          47.602804366399994,
          47.603454879287995,
          47.6035175768823
         ],
         "line": {
          "color": "rgb(0.281924,0.089666,0.412415)",
          "width": 2
         },
         "lon": [
          -122.33604389042004,
          -122.33663916190065,
          -122.33669653594183
         ],
         "mode": "lines",
         "showlegend": false,
         "type": "scattermapbox"
        },
        {
         "hoverinfo": "text",
         "hovertext": "W SEA BR EB 4 AV OFF RP Flow: 32333.0",
         "lat": [
          47.52404587307956,
          47.523688467242486,
          47.52328833512976,
          47.52284617428157,
          47.52231856057646,
          47.521685524752776,
          47.52097034181837,
          47.52021526536038,
          47.519609576202086,
          47.519225949571734,
          47.518586257010504,
          47.517882938149235,
          47.51724230714571,
          47.51674592701215,
          47.51631504725842,
          47.51572479014898,
          47.514927591170846,
          47.5143855190319,
          47.514001331409396
         ],
         "line": {
          "color": "rgb(0.208623,0.367752,0.552675)",
          "width": 2
         },
         "lon": [
          -122.3333971193915,
          -122.33331273256464,
          -122.3332059461415,
          -122.33302385271439,
          -122.33279696100917,
          -122.33240826170481,
          -122.33192873464789,
          -122.33143975284652,
          -122.33106653409023,
          -122.33091318741451,
          -122.33068132727479,
          -122.33040020540463,
          -122.33023948846626,
          -122.33010663818983,
          -122.32988079380193,
          -122.32955550221092,
          -122.3290819663329,
          -122.32875807608663,
          -122.32856302040267
         ],
         "mode": "lines",
         "showlegend": false,
         "type": "scattermapbox"
        },
        {
         "hoverinfo": "text",
         "hovertext": "W SEA BR EB 4 AV OFF RP Flow: 27506.0",
         "lat": [
          47.706701200334344,
          47.70680834903864,
          47.706924636973326,
          47.70704086408299,
          47.70715701597889,
          47.7072730809699,
          47.70738904103567,
          47.70750488353429,
          47.70762059767353,
          47.70773616270072,
          47.70785156873999,
          47.70796679860124,
          47.70808183964183,
          47.70819668018724,
          47.70831130398057,
          47.70837095733912,
          47.70842569389987
         ],
         "line": {
          "color": "rgb(0.229739,0.322361,0.545706)",
          "width": 2
         },
         "lon": [
          -122.30163146570932,
          -122.30162676071663,
          -122.30161973380456,
          -122.3016107939262,
          -122.30159994066202,
          -122.30158717366871,
          -122.3015724950897,
          -122.30155590855333,
          -122.3015374137419,
          -122.30151701538733,
          -122.30149471186519,
          -122.30147051067397,
          -122.30144441544233,
          -122.30141642449514,
          -122.30138654269204,
          -122.30136997457734,
          -122.30135477220263
         ],
         "mode": "lines",
         "showlegend": false,
         "type": "scattermapbox"
        },
        {
         "hoverinfo": "text",
         "hovertext": "W SEA BR EB 4 AV OFF RP Flow: 27506.0",
         "lat": [
          47.704544380572656,
          47.70477801986924,
          47.7047883198502,
          47.70516981540807,
          47.70635900015292,
          47.706360394330666,
          47.70645927537366,
          47.706575655666,
          47.70669201923257,
          47.706701200334344
         ],
         "line": {
          "color": "rgb(0.229739,0.322361,0.545706)",
          "width": 2
         },
         "lon": [
          -122.30161582687658,
          -122.3016181109061,
          -122.30161821282871,
          -122.30162250829864,
          -122.30163589903248,
          -122.30163591445634,
          -122.30163633618147,
          -122.30163506020406,
          -122.30163186988001,
          -122.30163146570932
         ],
         "mode": "lines",
         "showlegend": false,
         "type": "scattermapbox"
        },
        {
         "hoverinfo": "text",
         "hovertext": "W SEA BR EB 4 AV OFF RP Flow: 7691.0",
         "lat": [
          47.607763177282315,
          47.607984061305835,
          47.608165673759196,
          47.60822792222814
         ],
         "line": {
          "color": "rgb(0.282656,0.100196,0.422160)",
          "width": 2
         },
         "lon": [
          -122.33597579412479,
          -122.33544849188326,
          -122.33501493714412,
          -122.33486632826093
         ],
         "mode": "lines",
         "showlegend": false,
         "type": "scattermapbox"
        },
        {
         "hoverinfo": "text",
         "hovertext": "W SEA BR EB 4 AV OFF RP Flow: 608.0",
         "lat": [
          47.656012208334964,
          47.655999989337275
         ],
         "line": {
          "color": "rgb(0.267004,0.004874,0.329415)",
          "width": 2
         },
         "lon": [
          -122.31557218259633,
          -122.31442451462172
         ],
         "mode": "lines",
         "showlegend": false,
         "type": "scattermapbox"
        },
        {
         "hoverinfo": "text",
         "hovertext": "W SEA BR EB 4 AV OFF RP Flow: 608.0",
         "lat": [
          47.656020956,
          47.656024251208684,
          47.65602434907923,
          47.656012208334964
         ],
         "line": {
          "color": "rgb(0.267004,0.004874,0.329415)",
          "width": 2
         },
         "lon": [
          -122.31729975856304,
          -122.31673048230432,
          -122.31671350602015,
          -122.31557218259633
         ],
         "mode": "lines",
         "showlegend": false,
         "type": "scattermapbox"
        },
        {
         "hoverinfo": "text",
         "hovertext": "W SEA BR EB 4 AV OFF RP Flow: 4861.0",
         "lat": [
          47.615616479629864,
          47.6163853916884
         ],
         "line": {
          "color": "rgb(0.278791,0.062145,0.386592)",
          "width": 2
         },
         "lon": [
          -122.33443632002579,
          -122.33573579939043
         ],
         "mode": "lines",
         "showlegend": false,
         "type": "scattermapbox"
        },
        {
         "hoverinfo": "text",
         "hovertext": "W SEA BR EB 4 AV OFF RP Flow: 10000.0",
         "lat": [
          47.6568816040185,
          47.65696281094489,
          47.6572246053859,
          47.65747764651545
         ],
         "line": {
          "color": "rgb(0.283187,0.125848,0.444960)",
          "width": 2
         },
         "lon": [
          -122.31717634454635,
          -122.31708887748685,
          -122.31680690738641,
          -122.31667471781356
         ],
         "mode": "lines",
         "showlegend": false,
         "type": "scattermapbox"
        },
        {
         "hoverinfo": "text",
         "hovertext": "W SEA BR EB 4 AV OFF RP Flow: 10000.0",
         "lat": [
          47.65601781689988,
          47.65626556560437,
          47.65656103954904,
          47.6568816040185
         ],
         "line": {
          "color": "rgb(0.283187,0.125848,0.444960)",
          "width": 2
         },
         "lon": [
          -122.31784158809029,
          -122.3177034302078,
          -122.31750247933661,
          -122.31717634454635
         ],
         "mode": "lines",
         "showlegend": false,
         "type": "scattermapbox"
        },
        {
         "hoverinfo": "text",
         "hovertext": "W SEA BR EB 4 AV OFF RP Flow: 10000.0",
         "lat": [
          47.65835595397219,
          47.659836514399856
         ],
         "line": {
          "color": "rgb(0.283187,0.125848,0.444960)",
          "width": 2
         },
         "lon": [
          -122.31665565954303,
          -122.31661695479056
         ],
         "mode": "lines",
         "showlegend": false,
         "type": "scattermapbox"
        },
        {
         "hoverinfo": "text",
         "hovertext": "W SEA BR EB 4 AV OFF RP Flow: 10000.0",
         "lat": [
          47.65747764651545,
          47.65835595397219
         ],
         "line": {
          "color": "rgb(0.283187,0.125848,0.444960)",
          "width": 2
         },
         "lon": [
          -122.31667471781356,
          -122.31665565954303
         ],
         "mode": "lines",
         "showlegend": false,
         "type": "scattermapbox"
        },
        {
         "hoverinfo": "text",
         "hovertext": "W SEA BR EB 4 AV OFF RP Flow: 15524.0",
         "lat": [
          47.62347604836757,
          47.623955823139184
         ],
         "line": {
          "color": "rgb(0.276194,0.190074,0.493001)",
          "width": 2
         },
         "lon": [
          -122.2961887861732,
          -122.29547786203861
         ],
         "mode": "lines",
         "showlegend": false,
         "type": "scattermapbox"
        },
        {
         "hoverinfo": "text",
         "hovertext": "W SEA BR EB 4 AV OFF RP Flow: 15524.0",
         "lat": [
          47.623955823139184,
          47.62419741036941,
          47.62420725237103
         ],
         "line": {
          "color": "rgb(0.276194,0.190074,0.493001)",
          "width": 2
         },
         "lon": [
          -122.29547786203861,
          -122.29513147207261,
          -122.29511736284967
         ],
         "mode": "lines",
         "showlegend": false,
         "type": "scattermapbox"
        },
        {
         "hoverinfo": "text",
         "hovertext": "W SEA BR EB 4 AV OFF RP Flow: 15524.0",
         "lat": [
          47.62420725237103,
          47.624965054062606,
          47.62601780027442
         ],
         "line": {
          "color": "rgb(0.276194,0.190074,0.493001)",
          "width": 2
         },
         "lon": [
          -122.29511736284967,
          -122.29399344794236,
          -122.29244003323126
         ],
         "mode": "lines",
         "showlegend": false,
         "type": "scattermapbox"
        },
        {
         "hoverinfo": "text",
         "hovertext": "W SEA BR EB 4 AV OFF RP Flow: 15524.0",
         "lat": [
          47.623317237309315,
          47.62347604836757
         ],
         "line": {
          "color": "rgb(0.276194,0.190074,0.493001)",
          "width": 2
         },
         "lon": [
          -122.29642410562333,
          -122.2961887861732
         ],
         "mode": "lines",
         "showlegend": false,
         "type": "scattermapbox"
        },
        {
         "hoverinfo": "text",
         "hovertext": "W SEA BR EB 4 AV OFF RP Flow: 3270.0",
         "lat": [
          47.50828684391181,
          47.50829303990641
         ],
         "line": {
          "color": "rgb(0.274952,0.037752,0.364543)",
          "width": 2
         },
         "lon": [
          -122.38705811799959,
          -122.38778976919838
         ],
         "mode": "lines",
         "showlegend": false,
         "type": "scattermapbox"
        },
        {
         "hoverinfo": "text",
         "hovertext": "W SEA BR EB 4 AV OFF RP Flow: 3270.0",
         "lat": [
          47.508274809327986,
          47.508285769244075,
          47.50828684391181
         ],
         "line": {
          "color": "rgb(0.274952,0.037752,0.364543)",
          "width": 2
         },
         "lon": [
          -122.3856757021227,
          -122.38693446722382,
          -122.38705811799959
         ],
         "mode": "lines",
         "showlegend": false,
         "type": "scattermapbox"
        },
        {
         "hoverinfo": "text",
         "hovertext": "W SEA BR EB 4 AV OFF RP Flow: 3270.0",
         "lat": [
          47.50823821423674,
          47.50823930102808,
          47.50825055709325
         ],
         "line": {
          "color": "rgb(0.274952,0.037752,0.364543)",
          "width": 2
         },
         "lon": [
          -122.38149730744317,
          -122.38162096481668,
          -122.38290245848712
         ],
         "mode": "lines",
         "showlegend": false,
         "type": "scattermapbox"
        },
        {
         "hoverinfo": "text",
         "hovertext": "W SEA BR EB 4 AV OFF RP Flow: 3270.0",
         "lat": [
          47.50826357107024,
          47.508274809327986
         ],
         "line": {
          "color": "rgb(0.274952,0.037752,0.364543)",
          "width": 2
         },
         "lon": [
          -122.38428914464735,
          -122.3856757021227
         ],
         "mode": "lines",
         "showlegend": false,
         "type": "scattermapbox"
        },
        {
         "hoverinfo": "text",
         "hovertext": "W SEA BR EB 4 AV OFF RP Flow: 3270.0",
         "lat": [
          47.50825055709325,
          47.50826357107024
         ],
         "line": {
          "color": "rgb(0.274952,0.037752,0.364543)",
          "width": 2
         },
         "lon": [
          -122.38290245848712,
          -122.38428914464735
         ],
         "mode": "lines",
         "showlegend": false,
         "type": "scattermapbox"
        },
        {
         "hoverinfo": "text",
         "hovertext": "W SEA BR EB 4 AV OFF RP Flow: 6736.0",
         "lat": [
          47.62206548104456,
          47.62224204497304,
          47.62321298440914
         ],
         "line": {
          "color": "rgb(0.281924,0.089666,0.412415)",
          "width": 2
         },
         "lon": [
          -122.30732440049708,
          -122.3073214847228,
          -122.30730543037511
         ],
         "mode": "lines",
         "showlegend": false,
         "type": "scattermapbox"
        },
        {
         "hoverinfo": "text",
         "hovertext": "W SEA BR EB 4 AV OFF RP Flow: 6736.0",
         "lat": [
          47.624419280496745,
          47.62503352987767,
          47.62523403699936
         ],
         "line": {
          "color": "rgb(0.281924,0.089666,0.412415)",
          "width": 2
         },
         "lon": [
          -122.3072849862093,
          -122.30732198105073,
          -122.30731924985275
         ],
         "mode": "lines",
         "showlegend": false,
         "type": "scattermapbox"
        },
        {
         "hoverinfo": "text",
         "hovertext": "W SEA BR EB 4 AV OFF RP Flow: 6736.0",
         "lat": [
          47.62523403699936,
          47.62685184677705
         ],
         "line": {
          "color": "rgb(0.281924,0.089666,0.412415)",
          "width": 2
         },
         "lon": [
          -122.30731924985275,
          -122.30729721167032
         ],
         "mode": "lines",
         "showlegend": false,
         "type": "scattermapbox"
        },
        {
         "hoverinfo": "text",
         "hovertext": "W SEA BR EB 4 AV OFF RP Flow: 6736.0",
         "lat": [
          47.62321298440914,
          47.624419280496745
         ],
         "line": {
          "color": "rgb(0.281924,0.089666,0.412415)",
          "width": 2
         },
         "lon": [
          -122.30730543037511,
          -122.3072849862093
         ],
         "mode": "lines",
         "showlegend": false,
         "type": "scattermapbox"
        },
        {
         "hoverinfo": "text",
         "hovertext": "W SEA BR EB 4 AV OFF RP Flow: 6736.0",
         "lat": [
          47.620487279345106,
          47.6213969086015,
          47.62206548104456
         ],
         "line": {
          "color": "rgb(0.281924,0.089666,0.412415)",
          "width": 2
         },
         "lon": [
          -122.30735048662397,
          -122.30733544922533,
          -122.30732440049708
         ],
         "mode": "lines",
         "showlegend": false,
         "type": "scattermapbox"
        },
        {
         "hoverinfo": "text",
         "hovertext": "W SEA BR EB 4 AV OFF RP Flow: 15115.0",
         "lat": [
          47.61161790725424,
          47.61294055907178
         ],
         "line": {
          "color": "rgb(0.277134,0.185228,0.489898)",
          "width": 2
         },
         "lon": [
          -122.29622531791637,
          -122.29619919485114
         ],
         "mode": "lines",
         "showlegend": false,
         "type": "scattermapbox"
        },
        {
         "hoverinfo": "text",
         "hovertext": "W SEA BR EB 4 AV OFF RP Flow: 15115.0",
         "lat": [
          47.61001041612745,
          47.610440478149876,
          47.61046584050313,
          47.61161790725424
         ],
         "line": {
          "color": "rgb(0.277134,0.185228,0.489898)",
          "width": 2
         },
         "lon": [
          -122.29623107313226,
          -122.29622607875594,
          -122.2962265031157,
          -122.29622531791637
         ],
         "mode": "lines",
         "showlegend": false,
         "type": "scattermapbox"
        },
        {
         "hoverinfo": "text",
         "hovertext": "W SEA BR EB 4 AV OFF RP Flow: 15115.0",
         "lat": [
          47.607996623641725,
          47.60900689894993
         ],
         "line": {
          "color": "rgb(0.277134,0.185228,0.489898)",
          "width": 2
         },
         "lon": [
          -122.29625430666168,
          -122.29624649126144
         ],
         "mode": "lines",
         "showlegend": false,
         "type": "scattermapbox"
        },
        {
         "hoverinfo": "text",
         "hovertext": "W SEA BR EB 4 AV OFF RP Flow: 15115.0",
         "lat": [
          47.60900689894993,
          47.61001041612745
         ],
         "line": {
          "color": "rgb(0.277134,0.185228,0.489898)",
          "width": 2
         },
         "lon": [
          -122.29624649126144,
          -122.29623107313226
         ],
         "mode": "lines",
         "showlegend": false,
         "type": "scattermapbox"
        },
        {
         "hoverinfo": "text",
         "hovertext": "W SEA BR EB 4 AV OFF RP Flow: 13156.0",
         "lat": [
          47.55389153333784,
          47.552110328890095
         ],
         "line": {
          "color": "rgb(0.280255,0.165693,0.476498)",
          "width": 2
         },
         "lon": [
          -122.38698694177917,
          -122.38703845070059
         ],
         "mode": "lines",
         "showlegend": false,
         "type": "scattermapbox"
        },
        {
         "hoverinfo": "text",
         "hovertext": "W SEA BR EB 4 AV OFF RP Flow: 13156.0",
         "lat": [
          47.557497571570856,
          47.55645626689218
         ],
         "line": {
          "color": "rgb(0.280255,0.165693,0.476498)",
          "width": 2
         },
         "lon": [
          -122.38688295273714,
          -122.38691320408444
         ],
         "mode": "lines",
         "showlegend": false,
         "type": "scattermapbox"
        },
        {
         "hoverinfo": "text",
         "hovertext": "W SEA BR EB 4 AV OFF RP Flow: 13156.0",
         "lat": [
          47.555701167177155,
          47.55389153333784
         ],
         "line": {
          "color": "rgb(0.280255,0.165693,0.476498)",
          "width": 2
         },
         "lon": [
          -122.38693512907356,
          -122.38698694177917
         ],
         "mode": "lines",
         "showlegend": false,
         "type": "scattermapbox"
        },
        {
         "hoverinfo": "text",
         "hovertext": "W SEA BR EB 4 AV OFF RP Flow: 13156.0",
         "lat": [
          47.55645626689218,
          47.555701167177155
         ],
         "line": {
          "color": "rgb(0.280255,0.165693,0.476498)",
          "width": 2
         },
         "lon": [
          -122.38691320408444,
          -122.38693512907356
         ],
         "mode": "lines",
         "showlegend": false,
         "type": "scattermapbox"
        },
        {
         "hoverinfo": "text",
         "hovertext": "W SEA BR EB 4 AV OFF RP Flow: 13156.0",
         "lat": [
          47.55030084126607,
          47.54849160275342
         ],
         "line": {
          "color": "rgb(0.280255,0.165693,0.476498)",
          "width": 2
         },
         "lon": [
          -122.38709093962947,
          -122.3871434283574
         ],
         "mode": "lines",
         "showlegend": false,
         "type": "scattermapbox"
        },
        {
         "hoverinfo": "text",
         "hovertext": "W SEA BR EB 4 AV OFF RP Flow: 13156.0",
         "lat": [
          47.54849160275342,
          47.546707644536916,
          47.54668273851088
         ],
         "line": {
          "color": "rgb(0.280255,0.165693,0.476498)",
          "width": 2
         },
         "lon": [
          -122.3871434283574,
          -122.38719498663232,
          -122.38719538248922
         ],
         "mode": "lines",
         "showlegend": false,
         "type": "scattermapbox"
        },
        {
         "hoverinfo": "text",
         "hovertext": "W SEA BR EB 4 AV OFF RP Flow: 13156.0",
         "lat": [
          47.552110328890095,
          47.55030084126607
         ],
         "line": {
          "color": "rgb(0.280255,0.165693,0.476498)",
          "width": 2
         },
         "lon": [
          -122.38703845070059,
          -122.38709093962947
         ],
         "mode": "lines",
         "showlegend": false,
         "type": "scattermapbox"
        },
        {
         "hoverinfo": "text",
         "hovertext": "W SEA BR EB 4 AV OFF RP Flow: 13156.0",
         "lat": [
          47.55932475889391,
          47.557497571570856
         ],
         "line": {
          "color": "rgb(0.280255,0.165693,0.476498)",
          "width": 2
         },
         "lon": [
          -122.38682987016786,
          -122.38688295273714
         ],
         "mode": "lines",
         "showlegend": false,
         "type": "scattermapbox"
        },
        {
         "hoverinfo": "text",
         "hovertext": "W SEA BR EB 4 AV OFF RP Flow: 20746.0",
         "lat": [
          47.56466115595086,
          47.56458890082342,
          47.564519669326735,
          47.564453960933015,
          47.564392254304764,
          47.56433499472389,
          47.56428259585478,
          47.5642354396366,
          47.564193864504055,
          47.56415817355276,
          47.5641286225616,
          47.56412032260339,
          47.56410542727735,
          47.564088757947246,
          47.56407873093834,
          47.56407541987058,
          47.56407658980774,
          47.56407659791716
         ],
         "line": {
          "color": "rgb(0.258965,0.251537,0.524736)",
          "width": 2
         },
         "lon": [
          -122.37256226084999,
          -122.37261027339201,
          -122.37266718619475,
          -122.37273258600668,
          -122.37280600181505,
          -122.37288690314622,
          -122.37297470277579,
          -122.37306876470096,
          -122.37316841043769,
          -122.37327291394486,
          -122.37338152253618,
          -122.37342157304171,
          -122.37349345044834,
          -122.37360788399539,
          -122.37372400258542,
          -122.37384095379473,
          -122.37617413801303,
          -122.37618931718269
         ],
         "mode": "lines",
         "showlegend": false,
         "type": "scattermapbox"
        },
        {
         "hoverinfo": "text",
         "hovertext": "W SEA BR EB 4 AV OFF RP Flow: 7141.0",
         "lat": [
          47.639565452761296,
          47.63956180016457
         ],
         "line": {
          "color": "rgb(0.282327,0.094955,0.417331)",
          "width": 2
         },
         "lon": [
          -122.31237237106204,
          -122.31077139432722
         ],
         "mode": "lines",
         "showlegend": false,
         "type": "scattermapbox"
        },
        {
         "hoverinfo": "text",
         "hovertext": "W SEA BR EB 4 AV OFF RP Flow: 7141.0",
         "lat": [
          47.63967956577174,
          47.639618508243025,
          47.63960697782378,
          47.63959931742359,
          47.63959681935176,
          47.63958806020158,
          47.639580725067596,
          47.63957483143276,
          47.63957039579449,
          47.639567432886395,
          47.639565452761296
         ],
         "line": {
          "color": "rgb(0.282327,0.094955,0.417331)",
          "width": 2
         },
         "lon": [
          -122.31366770670607,
          -122.31352777778963,
          -122.31348918290078,
          -122.313459449906,
          -122.31344975256887,
          -122.31340959538642,
          -122.31336881853817,
          -122.31332753033469,
          -122.31328584571331,
          -122.31324387689922,
          -122.31237237106204
         ],
         "mode": "lines",
         "showlegend": false,
         "type": "scattermapbox"
        },
        {
         "hoverinfo": "text",
         "hovertext": "W SEA BR EB 4 AV OFF RP Flow: 7141.0",
         "lat": [
          47.643194556287696,
          47.64319502124791
         ],
         "line": {
          "color": "rgb(0.282327,0.094955,0.417331)",
          "width": 2
         },
         "lon": [
          -122.32005642857416,
          -122.31959559432313
         ],
         "mode": "lines",
         "showlegend": false,
         "type": "scattermapbox"
        },
        {
         "hoverinfo": "text",
         "hovertext": "W SEA BR EB 4 AV OFF RP Flow: 7141.0",
         "lat": [
          47.64319502124791,
          47.64319570587997
         ],
         "line": {
          "color": "rgb(0.282327,0.094955,0.417331)",
          "width": 2
         },
         "lon": [
          -122.31959559432313,
          -122.3190029952829
         ],
         "mode": "lines",
         "showlegend": false,
         "type": "scattermapbox"
        },
        {
         "hoverinfo": "text",
         "hovertext": "W SEA BR EB 4 AV OFF RP Flow: 7141.0",
         "lat": [
          47.63967956577174,
          47.63969552087677,
          47.63971450325565,
          47.63971612697767,
          47.63973149666684,
          47.63973456847703,
          47.639755659144946,
          47.639777719610166,
          47.639800690487846,
          47.639824508830806,
          47.63984663800406,
          47.63986935503117,
          47.63989260915634,
          47.639916351958036,
          47.63995403124701,
          47.640021160992866,
          47.64023381244909,
          47.64026511007375,
          47.64027829607451,
          47.64029585241284,
          47.64032599038615,
          47.640355469639026,
          47.64038424482679,
          47.640403147689746,
          47.64041226164653,
          47.640439477555134,
          47.640465842797965,
          47.640491314901006,
          47.640515850508436,
          47.64052174119507,
          47.64053940808014,
          47.640561947009935,
          47.64056880778931,
          47.64058342949334,
          47.64060382033722,
          47.640623083553024,
          47.640641187683315,
          47.64065610861367,
          47.6406700928787,
          47.64068312136894,
          47.6406951734533,
          47.64069782448216,
          47.64070041961703,
          47.640702957076655,
          47.64072940480416,
          47.64077590892947,
          47.640785833513895,
          47.64079714782341,
          47.640799846079254,
          47.64080981023528,
          47.64082377464777,
          47.64083899041096,
          47.64084934385069,
          47.640855398625725,
          47.640872942191535,
          47.64089155406395,
          47.640911167060025,
          47.640931707632596,
          47.64095310126604,
          47.64097526796229,
          47.640998126685616,
          47.64102159368492,
          47.64102466623517,
          47.64104558050485,
          47.64107000047123,
          47.641423187197766,
          47.64145012779036,
          47.64147668324242,
          47.64150278474271,
          47.641528366177695,
          47.64155336062096,
          47.64157770389586,
          47.64160133277704,
          47.641624186875376,
          47.64164620663171,
          47.64166733629192,
          47.64168751999775,
          47.64170670659537,
          47.641724847559445,
          47.641741894485826,
          47.64175780343227,
          47.64177253424411,
          47.64178604752757,
          47.641787779717,
          47.64179831122155,
          47.6418092915013,
          47.64181896171896,
          47.641955186990565,
          47.64198939276051,
          47.64206750130272
         ],
         "line": {
          "color": "rgb(0.282327,0.094955,0.417331)",
          "width": 2
         },
         "lon": [
          -122.31366770670607,
          -122.31370467196933,
          -122.31373616224303,
          -122.31373858840902,
          -122.31376155953818,
          -122.3137661513092,
          -122.31379455633889,
          -122.31382129854586,
          -122.3138463096854,
          -122.31386951874896,
          -122.31388883162515,
          -122.31390659059274,
          -122.31392275560425,
          -122.31393731463085,
          -122.31395880335205,
          -122.31399708883482,
          -122.31411836556123,
          -122.31413735275895,
          -122.3141463043706,
          -122.31415822494995,
          -122.3141809514557,
          -122.31420549212932,
          -122.31423180574939,
          -122.31425072495827,
          -122.3142598481767,
          -122.31428957028243,
          -122.3143209240629,
          -122.31435385506603,
          -122.31438830748333,
          -122.31439729102892,
          -122.31442422422644,
          -122.31446154557095,
          -122.31447389246642,
          -122.31450020388547,
          -122.31454013826799,
          -122.3145812798069,
          -122.31462355705722,
          -122.31466157735434,
          -122.31470037097705,
          -122.31473988546693,
          -122.31478004702475,
          -122.31478945748239,
          -122.31479887699743,
          -122.31480830418799,
          -122.3149080415644,
          -122.31508341478443,
          -122.31511775623771,
          -122.3151511416462,
          -122.31515802707297,
          -122.3151834513586,
          -122.31521456426445,
          -122.31524436311658,
          -122.31526227119258,
          -122.31527274241205,
          -122.31529959669896,
          -122.3153248242346,
          -122.31534833392078,
          -122.3153700398017,
          -122.31538986121811,
          -122.3154077240094,
          -122.31542356463382,
          -122.31543732080296,
          -122.3154388100181,
          -122.31544894606712,
          -122.31545839535829,
          -122.315578166118,
          -122.31558837956176,
          -122.31560060532645,
          -122.31561480817577,
          -122.31563095295003,
          -122.31564899781057,
          -122.31566889700349,
          -122.31569060080821,
          -122.3157140489359,
          -122.31573918644558,
          -122.31576594253063,
          -122.31579425436807,
          -122.31582404329518,
          -122.31585523604817,
          -122.3158877500485,
          -122.31592150550678,
          -122.31595640809887,
          -122.31599237417073,
          -122.31599758962923,
          -122.31602930962842,
          -122.31606711766489,
          -122.3161057030086,
          -122.3166943909178,
          -122.31684220825754,
          -122.31717975519199
         ],
         "mode": "lines",
         "showlegend": false,
         "type": "scattermapbox"
        },
        {
         "hoverinfo": "text",
         "hovertext": "W SEA BR EB 4 AV OFF RP Flow: 7141.0",
         "lat": [
          47.642571543743344,
          47.64271499529921,
          47.64276183385339,
          47.64279334205842,
          47.64285866566997,
          47.64319570587997
         ],
         "line": {
          "color": "rgb(0.282327,0.094955,0.417331)",
          "width": 2
         },
         "lon": [
          -122.31794935963539,
          -122.3181915153859,
          -122.31827403132321,
          -122.31832696818776,
          -122.31843672040688,
          -122.3190029952829
         ],
         "mode": "lines",
         "showlegend": false,
         "type": "scattermapbox"
        },
        {
         "hoverinfo": "text",
         "hovertext": "W SEA BR EB 4 AV OFF RP Flow: 7141.0",
         "lat": [
          47.64206750130272,
          47.64206762645463,
          47.64241486562294,
          47.64249274879759,
          47.642571543743344
         ],
         "line": {
          "color": "rgb(0.282327,0.094955,0.417331)",
          "width": 2
         },
         "lon": [
          -122.31717975519199,
          -122.31718029920037,
          -122.31767857434251,
          -122.31781733751997,
          -122.31794935963539
         ],
         "mode": "lines",
         "showlegend": false,
         "type": "scattermapbox"
        },
        {
         "hoverinfo": "text",
         "hovertext": "W SEA BR EB 4 AV OFF RP Flow: 7500.0",
         "lat": [
          47.60373279300229,
          47.60390072822275,
          47.60419712084825
         ],
         "line": {
          "color": "rgb(0.282327,0.094955,0.417331)",
          "width": 2
         },
         "lon": [
          -122.33382457176455,
          -122.3334230938715,
          -122.33271437905664
         ],
         "mode": "lines",
         "showlegend": false,
         "type": "scattermapbox"
        },
        {
         "hoverinfo": "text",
         "hovertext": "W SEA BR EB 4 AV OFF RP Flow: 19007.0",
         "lat": [
          47.617609533846476,
          47.61781263089148,
          47.6182737632661
         ],
         "line": {
          "color": "rgb(0.265145,0.232956,0.516599)",
          "width": 2
         },
         "lon": [
          -122.33185856063047,
          -122.33159585883983,
          -122.33099941082699
         ],
         "mode": "lines",
         "showlegend": false,
         "type": "scattermapbox"
        },
        {
         "hoverinfo": "text",
         "hovertext": "W SEA BR EB 4 AV OFF RP Flow: 19007.0",
         "lat": [
          47.616944942602444,
          47.617541434170356,
          47.617609533846476
         ],
         "line": {
          "color": "rgb(0.265145,0.232956,0.516599)",
          "width": 2
         },
         "lon": [
          -122.33271816521791,
          -122.33194664366783,
          -122.33185856063047
         ],
         "mode": "lines",
         "showlegend": false,
         "type": "scattermapbox"
        },
        {
         "hoverinfo": "text",
         "hovertext": "W SEA BR EB 4 AV OFF RP Flow: 14000.0",
         "lat": [
          47.60301939318505,
          47.60327393577226,
          47.60373279300229
         ],
         "line": {
          "color": "rgb(0.278826,0.175490,0.483397)",
          "width": 2
         },
         "lon": [
          -122.33317224655578,
          -122.33340504384074,
          -122.33382457176455
         ],
         "mode": "lines",
         "showlegend": false,
         "type": "scattermapbox"
        },
        {
         "hoverinfo": "text",
         "hovertext": "W SEA BR EB 4 AV OFF RP Flow: 9500.0",
         "lat": [
          47.54533689635002,
          47.54389035398108
         ],
         "line": {
          "color": "rgb(0.283229,0.120777,0.440584)",
          "width": 2
         },
         "lon": [
          -122.3295882140894,
          -122.32962073819483
         ],
         "mode": "lines",
         "showlegend": false,
         "type": "scattermapbox"
        },
        {
         "hoverinfo": "text",
         "hovertext": "W SEA BR EB 4 AV OFF RP Flow: 11443.0",
         "lat": [
          47.553368116773676,
          47.553368006273345,
          47.55336650336047,
          47.55336622925533,
          47.55335719960206,
          47.55335408817992
         ],
         "line": {
          "color": "rgb(0.282290,0.145912,0.461510)",
          "width": 2
         },
         "lon": [
          -122.32390855616686,
          -122.32388830778937,
          -122.3236122109573,
          -122.32356635604603,
          -122.3220435891513,
          -122.3215196817765
         ],
         "mode": "lines",
         "showlegend": false,
         "type": "scattermapbox"
        },
        {
         "hoverinfo": "text",
         "hovertext": "W SEA BR EB 4 AV OFF RP Flow: 11443.0",
         "lat": [
          47.55337626793497,
          47.553368116773676
         ],
         "line": {
          "color": "rgb(0.282290,0.145912,0.461510)",
          "width": 2
         },
         "lon": [
          -122.32539190245643,
          -122.32390855616686
         ],
         "mode": "lines",
         "showlegend": false,
         "type": "scattermapbox"
        },
        {
         "hoverinfo": "text",
         "hovertext": "W SEA BR EB 4 AV OFF RP Flow: 11443.0",
         "lat": [
          47.553384396179005,
          47.55337626793497
         ],
         "line": {
          "color": "rgb(0.282290,0.145912,0.461510)",
          "width": 2
         },
         "lon": [
          -122.32687538332283,
          -122.32539190245643
         ],
         "mode": "lines",
         "showlegend": false,
         "type": "scattermapbox"
        },
        {
         "hoverinfo": "text",
         "hovertext": "W SEA BR EB 4 AV OFF RP Flow: 11443.0",
         "lat": [
          47.55335408817992,
          47.553353388776316,
          47.553351870067196,
          47.55335102332343
         ],
         "line": {
          "color": "rgb(0.282290,0.145912,0.461510)",
          "width": 2
         },
         "lon": [
          -122.3215196817765,
          -122.32140200975732,
          -122.32114672674354,
          -122.32100440415626
         ],
         "mode": "lines",
         "showlegend": false,
         "type": "scattermapbox"
        },
        {
         "hoverinfo": "text",
         "hovertext": "W SEA BR EB 4 AV OFF RP Flow: 19500.0",
         "lat": [
          47.68311118230693,
          47.683106452816986,
          47.683104824806044
         ],
         "line": {
          "color": "rgb(0.263663,0.237631,0.518762)",
          "width": 2
         },
         "lon": [
          -122.31748950733657,
          -122.3170962746447,
          -122.31696097751686
         ],
         "mode": "lines",
         "showlegend": false,
         "type": "scattermapbox"
        },
        {
         "hoverinfo": "text",
         "hovertext": "W SEA BR EB 4 AV OFF RP Flow: 19500.0",
         "lat": [
          47.683104824806044,
          47.68310245319081,
          47.683098536579315
         ],
         "line": {
          "color": "rgb(0.263663,0.237631,0.518762)",
          "width": 2
         },
         "lon": [
          -122.31696097751686,
          -122.31676213696524,
          -122.31643391793273
         ],
         "mode": "lines",
         "showlegend": false,
         "type": "scattermapbox"
        },
        {
         "hoverinfo": "text",
         "hovertext": "W SEA BR EB 4 AV OFF RP Flow: 19500.0",
         "lat": [
          47.683098536579315,
          47.68309800017488,
          47.68308626439181
         ],
         "line": {
          "color": "rgb(0.263663,0.237631,0.518762)",
          "width": 2
         },
         "lon": [
          -122.31643391793273,
          -122.31638914813647,
          -122.31527968832211
         ],
         "mode": "lines",
         "showlegend": false,
         "type": "scattermapbox"
        },
        {
         "hoverinfo": "text",
         "hovertext": "W SEA BR EB 4 AV OFF RP Flow: 4947.0",
         "lat": [
          47.56110646749045,
          47.56113800494825
         ],
         "line": {
          "color": "rgb(0.278791,0.062145,0.386592)",
          "width": 2
         },
         "lon": [
          -122.38677811082577,
          -122.38813082369442
         ],
         "mode": "lines",
         "showlegend": false,
         "type": "scattermapbox"
        },
        {
         "hoverinfo": "text",
         "hovertext": "W SEA BR EB 4 AV OFF RP Flow: 11923.0",
         "lat": [
          47.588475302716425,
          47.58776800242881
         ],
         "line": {
          "color": "rgb(0.281887,0.150881,0.465405)",
          "width": 2
         },
         "lon": [
          -122.3137806710172,
          -122.31378331452606
         ],
         "mode": "lines",
         "showlegend": false,
         "type": "scattermapbox"
        },
        {
         "hoverinfo": "text",
         "hovertext": "W SEA BR EB 4 AV OFF RP Flow: 11923.0",
         "lat": [
          47.5899890019081,
          47.589534165463185,
          47.58853127756897,
          47.588475302716425
         ],
         "line": {
          "color": "rgb(0.281887,0.150881,0.465405)",
          "width": 2
         },
         "lon": [
          -122.3138279750077,
          -122.31373925477243,
          -122.31377848241407,
          -122.3137806710172
         ],
         "mode": "lines",
         "showlegend": false,
         "type": "scattermapbox"
        },
        {
         "hoverinfo": "text",
         "hovertext": "W SEA BR EB 4 AV OFF RP Flow: 11923.0",
         "lat": [
          47.58553166427728,
          47.58454434950764
         ],
         "line": {
          "color": "rgb(0.281887,0.150881,0.465405)",
          "width": 2
         },
         "lon": [
          -122.31337047349965,
          -122.31337901145656
         ],
         "mode": "lines",
         "showlegend": false,
         "type": "scattermapbox"
        },
        {
         "hoverinfo": "text",
         "hovertext": "W SEA BR EB 4 AV OFF RP Flow: 11923.0",
         "lat": [
          47.58298194537833,
          47.58249799396029,
          47.581014995190316
         ],
         "line": {
          "color": "rgb(0.281887,0.150881,0.465405)",
          "width": 2
         },
         "lon": [
          -122.31339442964682,
          -122.31339799490725,
          -122.31340891376556
         ],
         "mode": "lines",
         "showlegend": false,
         "type": "scattermapbox"
        },
        {
         "hoverinfo": "text",
         "hovertext": "W SEA BR EB 4 AV OFF RP Flow: 11923.0",
         "lat": [
          47.58454434950764,
          47.583694684528815
         ],
         "line": {
          "color": "rgb(0.281887,0.150881,0.465405)",
          "width": 2
         },
         "lon": [
          -122.31337901145656,
          -122.31338667968235
         ],
         "mode": "lines",
         "showlegend": false,
         "type": "scattermapbox"
        },
        {
         "hoverinfo": "text",
         "hovertext": "W SEA BR EB 4 AV OFF RP Flow: 11923.0",
         "lat": [
          47.581014995190316,
          47.58059321954826
         ],
         "line": {
          "color": "rgb(0.281887,0.150881,0.465405)",
          "width": 2
         },
         "lon": [
          -122.31340891376556,
          -122.31341202061986
         ],
         "mode": "lines",
         "showlegend": false,
         "type": "scattermapbox"
        },
        {
         "hoverinfo": "text",
         "hovertext": "W SEA BR EB 4 AV OFF RP Flow: 11923.0",
         "lat": [
          47.58776800242881,
          47.58745019964081,
          47.587350094184934,
          47.587176862000526,
          47.58715050470235,
          47.58700440479769,
          47.58700327305081
         ],
         "line": {
          "color": "rgb(0.281887,0.150881,0.465405)",
          "width": 2
         },
         "lon": [
          -122.31378331452606,
          -122.31377658895903,
          -122.31374571278945,
          -122.31365108869767,
          -122.3136346232233,
          -122.31352808584292,
          -122.31352725982191
         ],
         "mode": "lines",
         "showlegend": false,
         "type": "scattermapbox"
        },
        {
         "hoverinfo": "text",
         "hovertext": "W SEA BR EB 4 AV OFF RP Flow: 11923.0",
         "lat": [
          47.586362679386276,
          47.58553166427728
         ],
         "line": {
          "color": "rgb(0.281887,0.150881,0.465405)",
          "width": 2
         },
         "lon": [
          -122.31336274789277,
          -122.31337047349965
         ],
         "mode": "lines",
         "showlegend": false,
         "type": "scattermapbox"
        },
        {
         "hoverinfo": "text",
         "hovertext": "W SEA BR EB 4 AV OFF RP Flow: 11923.0",
         "lat": [
          47.59290468341842,
          47.592681629992015,
          47.59241516969457,
          47.59236924925587,
          47.59232280949155,
          47.59227589244358,
          47.59222853918541,
          47.5921807926928,
          47.59213269230958,
          47.59208428196251,
          47.59163700050473,
          47.59154664187754,
          47.59149953918556,
          47.5899890019081
         ],
         "line": {
          "color": "rgb(0.281887,0.150881,0.465405)",
          "width": 2
         },
         "lon": [
          -122.3148722135777,
          -122.31469643638013,
          -122.31453377200386,
          -122.31450690947467,
          -122.31448206955108,
          -122.31445927071277,
          -122.314438536731,
          -122.31441988345178,
          -122.31440332927721,
          -122.31438888609054,
          -122.31426563567702,
          -122.31424073836133,
          -122.31422825695867,
          -122.3138279750077
         ],
         "mode": "lines",
         "showlegend": false,
         "type": "scattermapbox"
        },
        {
         "hoverinfo": "text",
         "hovertext": "W SEA BR EB 4 AV OFF RP Flow: 11923.0",
         "lat": [
          47.583694684528815,
          47.58298194537833
         ],
         "line": {
          "color": "rgb(0.281887,0.150881,0.465405)",
          "width": 2
         },
         "lon": [
          -122.31338667968235,
          -122.31339442964682
         ],
         "mode": "lines",
         "showlegend": false,
         "type": "scattermapbox"
        },
        {
         "hoverinfo": "text",
         "hovertext": "W SEA BR EB 4 AV OFF RP Flow: 11923.0",
         "lat": [
          47.58700327305081,
          47.58695973429825,
          47.5867724391411,
          47.586362679386276
         ],
         "line": {
          "color": "rgb(0.281887,0.150881,0.465405)",
          "width": 2
         },
         "lon": [
          -122.31352725982191,
          -122.31349551018715,
          -122.31335893699801,
          -122.31336274789277
         ],
         "mode": "lines",
         "showlegend": false,
         "type": "scattermapbox"
        },
        {
         "hoverinfo": "text",
         "hovertext": "W SEA BR EB 4 AV OFF RP Flow: 18000.0",
         "lat": [
          47.62469578119397,
          47.6250730788404,
          47.62550870374764,
          47.625795769601766
         ],
         "line": {
          "color": "rgb(0.269308,0.218818,0.509577)",
          "width": 2
         },
         "lon": [
          -122.33843433530853,
          -122.33843155230747,
          -122.33842834371879,
          -122.3386345498782
         ],
         "mode": "lines",
         "showlegend": false,
         "type": "scattermapbox"
        },
        {
         "hoverinfo": "text",
         "hovertext": "W SEA BR EB 4 AV OFF RP Flow: 13000.0",
         "lat": [
          47.61295826729049,
          47.61372706974304
         ],
         "line": {
          "color": "rgb(0.280868,0.160771,0.472899)",
          "width": 2
         },
         "lon": [
          -122.33787347698471,
          -122.33917357066088
         ],
         "mode": "lines",
         "showlegend": false,
         "type": "scattermapbox"
        },
        {
         "hoverinfo": "text",
         "hovertext": "W SEA BR EB 4 AV OFF RP Flow: 13624.0",
         "lat": [
          47.73412951295893,
          47.73412904094926,
          47.73412904002781,
          47.73412903824196,
          47.73412900686401
         ],
         "line": {
          "color": "rgb(0.279574,0.170599,0.479997)",
          "width": 2
         },
         "lon": [
          -122.35050597008852,
          -122.34797334578731,
          -122.34796521809564,
          -122.34795708771176,
          -122.34780152903004
         ],
         "mode": "lines",
         "showlegend": false,
         "type": "scattermapbox"
        },
        {
         "hoverinfo": "text",
         "hovertext": "W SEA BR EB 4 AV OFF RP Flow: 13624.0",
         "lat": [
          47.734130319047324,
          47.73413029172356,
          47.734130134343104
         ],
         "line": {
          "color": "rgb(0.279574,0.170599,0.479997)",
          "width": 2
         },
         "lon": [
          -122.35557134106583,
          -122.35537358359394,
          -122.35425860007476
         ],
         "mode": "lines",
         "showlegend": false,
         "type": "scattermapbox"
        },
        {
         "hoverinfo": "text",
         "hovertext": "W SEA BR EB 4 AV OFF RP Flow: 13624.0",
         "lat": [
          47.73412994961194,
          47.73412974336671
         ],
         "line": {
          "color": "rgb(0.279574,0.170599,0.479997)",
          "width": 2
         },
         "lon": [
          -122.35303864838406,
          -122.35177230137782
         ],
         "mode": "lines",
         "showlegend": false,
         "type": "scattermapbox"
        },
        {
         "hoverinfo": "text",
         "hovertext": "W SEA BR EB 4 AV OFF RP Flow: 13624.0",
         "lat": [
          47.734130134343104,
          47.73412994961194
         ],
         "line": {
          "color": "rgb(0.279574,0.170599,0.479997)",
          "width": 2
         },
         "lon": [
          -122.35425860007476,
          -122.35303864838406
         ],
         "mode": "lines",
         "showlegend": false,
         "type": "scattermapbox"
        },
        {
         "hoverinfo": "text",
         "hovertext": "W SEA BR EB 4 AV OFF RP Flow: 13624.0",
         "lat": [
          47.73412974336671,
          47.73412951295893
         ],
         "line": {
          "color": "rgb(0.279574,0.170599,0.479997)",
          "width": 2
         },
         "lon": [
          -122.35177230137782,
          -122.35050597008852
         ],
         "mode": "lines",
         "showlegend": false,
         "type": "scattermapbox"
        },
        {
         "hoverinfo": "text",
         "hovertext": "W SEA BR EB 4 AV OFF RP Flow: 10000.0",
         "lat": [
          47.69756885599573,
          47.69756434094156
         ],
         "line": {
          "color": "rgb(0.283187,0.125848,0.444960)",
          "width": 2
         },
         "lon": [
          -122.30546672497256,
          -122.3048908046714
         ],
         "mode": "lines",
         "showlegend": false,
         "type": "scattermapbox"
        },
        {
         "hoverinfo": "text",
         "hovertext": "W SEA BR EB 4 AV OFF RP Flow: 18210.0",
         "lat": [
          47.66626671856123,
          47.66633745590687,
          47.66650388560132,
          47.6665581945678,
          47.66666748717745,
          47.66677675363908,
          47.666886018387466,
          47.66699528306678,
          47.66710455049491,
          47.66721381517331,
          47.667323079003424,
          47.66743234368087,
          47.66754160840931,
          47.66765087578365,
          47.66776013776192,
          47.66786940248894,
          47.667978352881484
         ],
         "line": {
          "color": "rgb(0.267968,0.223549,0.512008)",
          "width": 2
         },
         "lon": [
          -122.3006049806637,
          -122.3006053940335,
          -122.30060642049042,
          -122.30060675631937,
          -122.30060742971203,
          -122.30060810769633,
          -122.3006087789764,
          -122.30060945558435,
          -122.30061012827748,
          -122.30061080489114,
          -122.30061147748837,
          -122.3006121541077,
          -122.300612826736,
          -122.30061350343716,
          -122.30061417998887,
          -122.30061485262566,
          -122.30061611303108
         ],
         "mode": "lines",
         "showlegend": false,
         "type": "scattermapbox"
        },
        {
         "hoverinfo": "text",
         "hovertext": "W SEA BR EB 4 AV OFF RP Flow: 18210.0",
         "lat": [
          47.667978352881484,
          47.66799050577532,
          47.66807836506288,
          47.668429529696404,
          47.66851511139131,
          47.66852574746237
         ],
         "line": {
          "color": "rgb(0.267968,0.223549,0.512008)",
          "width": 2
         },
         "lon": [
          -122.30061611303108,
          -122.30061560775617,
          -122.30061617022285,
          -122.30061841507923,
          -122.30061896253564,
          -122.30061895381458
         ],
         "mode": "lines",
         "showlegend": false,
         "type": "scattermapbox"
        },
        {
         "hoverinfo": "text",
         "hovertext": "W SEA BR EB 4 AV OFF RP Flow: 20000.0",
         "lat": [
          47.562897887698135,
          47.56080844656606
         ],
         "line": {
          "color": "rgb(0.262138,0.242286,0.520837)",
          "width": 2
         },
         "lon": [
          -122.29455093494371,
          -122.29324025303698
         ],
         "mode": "lines",
         "showlegend": false,
         "type": "scattermapbox"
        },
        {
         "hoverinfo": "text",
         "hovertext": "W SEA BR EB 4 AV OFF RP Flow: 14195.0",
         "lat": [
          47.51919629835409,
          47.51884270224293
         ],
         "line": {
          "color": "rgb(0.278826,0.175490,0.483397)",
          "width": 2
         },
         "lon": [
          -122.35681116905934,
          -122.35649409059859
         ],
         "mode": "lines",
         "showlegend": false,
         "type": "scattermapbox"
        },
        {
         "hoverinfo": "text",
         "hovertext": "W SEA BR EB 4 AV OFF RP Flow: 14195.0",
         "lat": [
          47.52286134378828,
          47.52180710681435
         ],
         "line": {
          "color": "rgb(0.278826,0.175490,0.483397)",
          "width": 2
         },
         "lon": [
          -122.36009936150636,
          -122.35915384722927
         ],
         "mode": "lines",
         "showlegend": false,
         "type": "scattermapbox"
        },
        {
         "hoverinfo": "text",
         "hovertext": "W SEA BR EB 4 AV OFF RP Flow: 14195.0",
         "lat": [
          47.52032519128829,
          47.51919629835409
         ],
         "line": {
          "color": "rgb(0.278826,0.175490,0.483397)",
          "width": 2
         },
         "lon": [
          -122.35782375599348,
          -122.35681116905934
         ],
         "mode": "lines",
         "showlegend": false,
         "type": "scattermapbox"
        },
        {
         "hoverinfo": "text",
         "hovertext": "W SEA BR EB 4 AV OFF RP Flow: 14195.0",
         "lat": [
          47.521029953493276,
          47.52032519128829
         ],
         "line": {
          "color": "rgb(0.278826,0.175490,0.483397)",
          "width": 2
         },
         "lon": [
          -122.35845620775892,
          -122.35782375599348
         ],
         "mode": "lines",
         "showlegend": false,
         "type": "scattermapbox"
        },
        {
         "hoverinfo": "text",
         "hovertext": "W SEA BR EB 4 AV OFF RP Flow: 14195.0",
         "lat": [
          47.52180710681435,
          47.521029953493276
         ],
         "line": {
          "color": "rgb(0.278826,0.175490,0.483397)",
          "width": 2
         },
         "lon": [
          -122.35915384722927,
          -122.35845620775892
         ],
         "mode": "lines",
         "showlegend": false,
         "type": "scattermapbox"
        },
        {
         "hoverinfo": "text",
         "hovertext": "W SEA BR EB 4 AV OFF RP Flow: 23819.0",
         "lat": [
          47.60323265410482,
          47.60394844008186
         ],
         "line": {
          "color": "rgb(0.246811,0.283237,0.535941)",
          "width": 2
         },
         "lon": [
          -122.33029745897032,
          -122.33095206227533
         ],
         "mode": "lines",
         "showlegend": false,
         "type": "scattermapbox"
        },
        {
         "hoverinfo": "text",
         "hovertext": "W SEA BR EB 4 AV OFF RP Flow: 6037.0",
         "lat": [
          47.6648543295362,
          47.66637560555822,
          47.66642598450292
         ],
         "line": {
          "color": "rgb(0.280894,0.078907,0.402329)",
          "width": 2
         },
         "lon": [
          -122.30650659882558,
          -122.30649835359426,
          -122.3064970686662
         ],
         "mode": "lines",
         "showlegend": false,
         "type": "scattermapbox"
        },
        {
         "hoverinfo": "text",
         "hovertext": "W SEA BR EB 4 AV OFF RP Flow: 6037.0",
         "lat": [
          47.66642598450292,
          47.66800627369891
         ],
         "line": {
          "color": "rgb(0.280894,0.078907,0.402329)",
          "width": 2
         },
         "lon": [
          -122.3064970686662,
          -122.3064874017591
         ],
         "mode": "lines",
         "showlegend": false,
         "type": "scattermapbox"
        },
        {
         "hoverinfo": "text",
         "hovertext": "W SEA BR EB 4 AV OFF RP Flow: 7636.0",
         "lat": [
          47.5714094068177,
          47.57151137655423
         ],
         "line": {
          "color": "rgb(0.282656,0.100196,0.422160)",
          "width": 2
         },
         "lon": [
          -122.34114496544535,
          -122.34018638784663
         ],
         "mode": "lines",
         "showlegend": false,
         "type": "scattermapbox"
        },
        {
         "hoverinfo": "text",
         "hovertext": "W SEA BR EB 4 AV OFF RP Flow: 7636.0",
         "lat": [
          47.571562900713126,
          47.571389276862085,
          47.571289347551094,
          47.57124288664098,
          47.57123553204599,
          47.57123814063684,
          47.57131685305715,
          47.5714094068177
         ],
         "line": {
          "color": "rgb(0.282656,0.100196,0.422160)",
          "width": 2
         },
         "lon": [
          -122.34420594883082,
          -122.34362860726999,
          -122.34320360276703,
          -122.34301712588322,
          -122.34297290271464,
          -122.34292603590069,
          -122.34201494821059,
          -122.34114496544535
         ],
         "mode": "lines",
         "showlegend": false,
         "type": "scattermapbox"
        },
        {
         "hoverinfo": "text",
         "hovertext": "W SEA BR EB 4 AV OFF RP Flow: 8174.0",
         "lat": [
          47.60829216504288,
          47.608756224431964
         ],
         "line": {
          "color": "rgb(0.282910,0.105393,0.426902)",
          "width": 2
         },
         "lon": [
          -122.33799535939778,
          -122.33688460284449
         ],
         "mode": "lines",
         "showlegend": false,
         "type": "scattermapbox"
        },
        {
         "hoverinfo": "text",
         "hovertext": "W SEA BR EB 4 AV OFF RP Flow: 10611.0",
         "lat": [
          47.604625179048284,
          47.605340176543045
         ],
         "line": {
          "color": "rgb(0.282884,0.135920,0.453427)",
          "width": 2
         },
         "lon": [
          -122.32697031462867,
          -122.32762425461159
         ],
         "mode": "lines",
         "showlegend": false,
         "type": "scattermapbox"
        },
        {
         "hoverinfo": "text",
         "hovertext": "W SEA BR EB 4 AV OFF RP Flow: 2310.0",
         "lat": [
          47.706116136375115,
          47.70615747428101,
          47.70619326269309,
          47.706681204862484,
          47.70668669737641
         ],
         "line": {
          "color": "rgb(0.272594,0.025563,0.353093)",
          "width": 2
         },
         "lon": [
          -122.29623113722114,
          -122.29622415437194,
          -122.29622108812848,
          -122.29623341480593,
          -122.2962333775902
         ],
         "mode": "lines",
         "showlegend": false,
         "type": "scattermapbox"
        },
        {
         "hoverinfo": "text",
         "hovertext": "W SEA BR EB 4 AV OFF RP Flow: 2310.0",
         "lat": [
          47.70668669737641,
          47.70669217366926,
          47.708400023878404
         ],
         "line": {
          "color": "rgb(0.272594,0.025563,0.353093)",
          "width": 2
         },
         "lon": [
          -122.2962333775902,
          -122.29623334258315,
          -122.29622158844644
         ],
         "mode": "lines",
         "showlegend": false,
         "type": "scattermapbox"
        },
        {
         "hoverinfo": "text",
         "hovertext": "W SEA BR EB 4 AV OFF RP Flow: 2310.0",
         "lat": [
          47.70115732895886,
          47.70308084207549
         ],
         "line": {
          "color": "rgb(0.272594,0.025563,0.353093)",
          "width": 2
         },
         "lon": [
          -122.29992148439516,
          -122.29885380369484
         ],
         "mode": "lines",
         "showlegend": false,
         "type": "scattermapbox"
        },
        {
         "hoverinfo": "text",
         "hovertext": "W SEA BR EB 4 AV OFF RP Flow: 2310.0",
         "lat": [
          47.704787147510096,
          47.705869679291574,
          47.70596841624976,
          47.70603760892892,
          47.70607625092673,
          47.706116136375115
         ],
         "line": {
          "color": "rgb(0.272594,0.025563,0.353093)",
          "width": 2
         },
         "lon": [
          -122.29752991507571,
          -122.29636474782329,
          -122.29627790119198,
          -122.29624318460759,
          -122.29623205159932,
          -122.29623113722114
         ],
         "mode": "lines",
         "showlegend": false,
         "type": "scattermapbox"
        },
        {
         "hoverinfo": "text",
         "hovertext": "W SEA BR EB 4 AV OFF RP Flow: 2310.0",
         "lat": [
          47.70308084207549,
          47.70399911974159,
          47.704027930485104,
          47.70405705763619,
          47.70408563495038,
          47.704113616101665,
          47.704140955543416,
          47.70416760615296,
          47.70418468107513,
          47.704193525895015,
          47.704787147510096
         ],
         "line": {
          "color": "rgb(0.272594,0.025563,0.353093)",
          "width": 2
         },
         "lon": [
          -122.29885380369484,
          -122.29834406755921,
          -122.29832710852345,
          -122.2983079287719,
          -122.29828701296347,
          -122.29826439577263,
          -122.29824012122495,
          -122.29821421597667,
          -122.29819611021213,
          -122.29818673081668,
          -122.29752991507571
         ],
         "mode": "lines",
         "showlegend": false,
         "type": "scattermapbox"
        },
        {
         "hoverinfo": "text",
         "hovertext": "W SEA BR EB 4 AV OFF RP Flow: 2310.0",
         "lat": [
          47.70025636465499,
          47.70115732895886
         ],
         "line": {
          "color": "rgb(0.272594,0.025563,0.353093)",
          "width": 2
         },
         "lon": [
          -122.30131815132346,
          -122.29992148439516
         ],
         "mode": "lines",
         "showlegend": false,
         "type": "scattermapbox"
        },
        {
         "hoverinfo": "text",
         "hovertext": "W SEA BR EB 4 AV OFF RP Flow: 6434.0",
         "lat": [
          47.57863325395961,
          47.578629738182926
         ],
         "line": {
          "color": "rgb(0.281446,0.084320,0.407414)",
          "width": 2
         },
         "lon": [
          -122.31335343302955,
          -122.31204895624346
         ],
         "mode": "lines",
         "showlegend": false,
         "type": "scattermapbox"
        },
        {
         "hoverinfo": "text",
         "hovertext": "W SEA BR EB 4 AV OFF RP Flow: 6434.0",
         "lat": [
          47.578629738182926,
          47.578626297635644
         ],
         "line": {
          "color": "rgb(0.281446,0.084320,0.407414)",
          "width": 2
         },
         "lon": [
          -122.31204895624346,
          -122.31159702170261
         ],
         "mode": "lines",
         "showlegend": false,
         "type": "scattermapbox"
        },
        {
         "hoverinfo": "text",
         "hovertext": "W SEA BR EB 4 AV OFF RP Flow: 2300.0",
         "lat": [
          47.623214065070755,
          47.62320915628543
         ],
         "line": {
          "color": "rgb(0.272594,0.025563,0.353093)",
          "width": 2
         },
         "lon": [
          -122.33975127144419,
          -122.33844628878816
         ],
         "mode": "lines",
         "showlegend": false,
         "type": "scattermapbox"
        },
        {
         "hoverinfo": "text",
         "hovertext": "W SEA BR EB 4 AV OFF RP Flow: 4801.0",
         "lat": [
          47.52019340836753,
          47.51914814306623,
          47.51889490687387,
          47.5186434885675,
          47.518028011303585
         ],
         "line": {
          "color": "rgb(0.278791,0.062145,0.386592)",
          "width": 2
         },
         "lon": [
          -122.3904130832443,
          -122.39103693708422,
          -122.39111609882737,
          -122.39120032467818,
          -122.39119494174649
         ],
         "mode": "lines",
         "showlegend": false,
         "type": "scattermapbox"
        },
        {
         "hoverinfo": "text",
         "hovertext": "W SEA BR EB 4 AV OFF RP Flow: 4801.0",
         "lat": [
          47.518028011303585,
          47.51753893903585
         ],
         "line": {
          "color": "rgb(0.278791,0.062145,0.386592)",
          "width": 2
         },
         "lon": [
          -122.39119494174649,
          -122.39116246931644
         ],
         "mode": "lines",
         "showlegend": false,
         "type": "scattermapbox"
        },
        {
         "hoverinfo": "text",
         "hovertext": "W SEA BR EB 4 AV OFF RP Flow: 4801.0",
         "lat": [
          47.51753893903585,
          47.51733607580484,
          47.51712253105078,
          47.51688347480664,
          47.51676949864769,
          47.51651785067031,
          47.51614573860667,
          47.51576599153624,
          47.51562422752731,
          47.51545236738551,
          47.515292238336094,
          47.515288647006805,
          47.51513970433676,
          47.51513066303914,
          47.515121570848216
         ],
         "line": {
          "color": "rgb(0.278791,0.062145,0.386592)",
          "width": 2
         },
         "lon": [
          -122.39116246931644,
          -122.39115186234979,
          -122.39122090607948,
          -122.39133041313742,
          -122.3913510969593,
          -122.39139676376699,
          -122.39145936199729,
          -122.39148896584562,
          -122.39148658750409,
          -122.39148369733715,
          -122.39146919863585,
          -122.39146887351227,
          -122.39145538915126,
          -122.39145441245995,
          -122.3914534076895
         ],
         "mode": "lines",
         "showlegend": false,
         "type": "scattermapbox"
        },
        {
         "hoverinfo": "text",
         "hovertext": "W SEA BR EB 4 AV OFF RP Flow: 7500.0",
         "lat": [
          47.61260043829661,
          47.613595528398456
         ],
         "line": {
          "color": "rgb(0.282327,0.094955,0.417331)",
          "width": 2
         },
         "lon": [
          -122.33426239985211,
          -122.33517270255165
         ],
         "mode": "lines",
         "showlegend": false,
         "type": "scattermapbox"
        },
        {
         "hoverinfo": "text",
         "hovertext": "W SEA BR EB 4 AV OFF RP Flow: 13836.0",
         "lat": [
          47.686916158301024,
          47.68691358092468
         ],
         "line": {
          "color": "rgb(0.279574,0.170599,0.479997)",
          "width": 2
         },
         "lon": [
          -122.33556581348827,
          -122.3345625992683
         ],
         "mode": "lines",
         "showlegend": false,
         "type": "scattermapbox"
        },
        {
         "hoverinfo": "text",
         "hovertext": "W SEA BR EB 4 AV OFF RP Flow: 13836.0",
         "lat": [
          47.6869183104867,
          47.686916158301024
         ],
         "line": {
          "color": "rgb(0.279574,0.170599,0.479997)",
          "width": 2
         },
         "lon": [
          -122.33640554080313,
          -122.33556581348827
         ],
         "mode": "lines",
         "showlegend": false,
         "type": "scattermapbox"
        },
        {
         "hoverinfo": "text",
         "hovertext": "W SEA BR EB 4 AV OFF RP Flow: 13776.0",
         "lat": [
          47.72321837745099,
          47.72321794899639,
          47.72321193912687,
          47.723211565680124,
          47.723211547459854
         ],
         "line": {
          "color": "rgb(0.279574,0.170599,0.479997)",
          "width": 2
         },
         "lon": [
          -122.34819529854697,
          -122.34799153316793,
          -122.34515960249416,
          -122.34498500701832,
          -122.3449768805381
         ],
         "mode": "lines",
         "showlegend": false,
         "type": "scattermapbox"
        },
        {
         "hoverinfo": "text",
         "hovertext": "W SEA BR EB 4 AV OFF RP Flow: 1142.0",
         "lat": [
          47.57116431596694,
          47.57115358711726,
          47.571132587003206,
          47.57111789397698,
          47.57110291904494,
          47.57109860064731,
          47.571108204969164,
          47.571116130551715,
          47.57113932898183,
          47.57116226011766
         ],
         "line": {
          "color": "rgb(0.268510,0.009605,0.335427)",
          "width": 2
         },
         "lon": [
          -122.34867654655237,
          -122.34867965735036,
          -122.34869407025866,
          -122.34872212476782,
          -122.34877132989324,
          -122.34897139627935,
          -122.35028696701562,
          -122.35037785912154,
          -122.35049813163558,
          -122.35058065028186
         ],
         "mode": "lines",
         "showlegend": false,
         "type": "scattermapbox"
        },
        {
         "hoverinfo": "text",
         "hovertext": "W SEA BR EB 4 AV OFF RP Flow: 1142.0",
         "lat": [
          47.57141301756033,
          47.57129333738187,
          47.571280197623054,
          47.57125841801327,
          47.571239231969315,
          47.5712077713637,
          47.57118300931531,
          47.57116431596694
         ],
         "line": {
          "color": "rgb(0.268510,0.009605,0.335427)",
          "width": 2
         },
         "lon": [
          -122.34880038746707,
          -122.34870388738405,
          -122.34869329178191,
          -122.34868141187461,
          -122.34867655318176,
          -122.34867265865016,
          -122.3486711231934,
          -122.34867654655237
         ],
         "mode": "lines",
         "showlegend": false,
         "type": "scattermapbox"
        },
        {
         "hoverinfo": "text",
         "hovertext": "W SEA BR EB 4 AV OFF RP Flow: 3659.0",
         "lat": [
          47.679027863570944,
          47.67979893819865
         ],
         "line": {
          "color": "rgb(0.276022,0.044167,0.370164)",
          "width": 2
         },
         "lon": [
          -122.32482839886644,
          -122.32453975253583
         ],
         "mode": "lines",
         "showlegend": false,
         "type": "scattermapbox"
        },
        {
         "hoverinfo": "text",
         "hovertext": "W SEA BR EB 4 AV OFF RP Flow: 12607.0",
         "lat": [
          47.69402003793373,
          47.69405510672505,
          47.6940913643278,
          47.69412879321355,
          47.694167369660306,
          47.694207074324495,
          47.6942478843497,
          47.694289776845814,
          47.6943328535666
         ],
         "line": {
          "color": "rgb(0.280868,0.160771,0.472899)",
          "width": 2
         },
         "lon": [
          -122.27449704817033,
          -122.27457238738513,
          -122.27464647787298,
          -122.27471928317395,
          -122.2747907586612,
          -122.27486086915603,
          -122.27492957271959,
          -122.27499683007662,
          -122.27506242019982
         ],
         "mode": "lines",
         "showlegend": false,
         "type": "scattermapbox"
        },
        {
         "hoverinfo": "text",
         "hovertext": "W SEA BR EB 4 AV OFF RP Flow: 12607.0",
         "lat": [
          47.68212406487597,
          47.68222466331314,
          47.682926203150636
         ],
         "line": {
          "color": "rgb(0.280868,0.160771,0.472899)",
          "width": 2
         },
         "lon": [
          -122.26366810493457,
          -122.26367706713106,
          -122.26369135066663
         ],
         "mode": "lines",
         "showlegend": false,
         "type": "scattermapbox"
        },
        {
         "hoverinfo": "text",
         "hovertext": "W SEA BR EB 4 AV OFF RP Flow: 12607.0",
         "lat": [
          47.687449192949266,
          47.68754309733818,
          47.68763561579166,
          47.68772776269841,
          47.68781951840614,
          47.68791085961514,
          47.688001768454875,
          47.68809222075958,
          47.68818219865849,
          47.68827167891842,
          47.68831059911884,
          47.68836064278591,
          47.68844906877596,
          47.6885369373026,
          47.688624226914165,
          47.688710918873525,
          47.688796992661764,
          47.68888242775972,
          47.688967205480346,
          47.68905130528764,
          47.68913470941048,
          47.689217399111314,
          47.689689411687574,
          47.690120458626275,
          47.69020325758671,
          47.69021387939821,
          47.69029517448421,
          47.6903482390765,
          47.69037572249125,
          47.69045550474886,
          47.69051716218079,
          47.69053450258654,
          47.69061269823302,
          47.6906866857256,
          47.690690073900235,
          47.69076661186714,
          47.69084078886019,
          47.690842293429625,
          47.69085923980196,
          47.690917102665196,
          47.69099102181914,
          47.691064034052886,
          47.69113612252794,
          47.69120727042239,
          47.69127746176335,
          47.69134668067864,
          47.69141491032974,
          47.691482135693235,
          47.69154834266208,
          47.691748930762365,
          47.69178422140241,
          47.69234142176246,
          47.69238656076448,
          47.692430748696644,
          47.69247397050375,
          47.692516210433105,
          47.69255744991651,
          47.69259767040273,
          47.69263686335006,
          47.692675009224054,
          47.692696576874866
         ],
         "line": {
          "color": "rgb(0.280868,0.160771,0.472899)",
          "width": 2
         },
         "lon": [
          -122.26546966382311,
          -122.26550454516912,
          -122.26553968553581,
          -122.26557690213484,
          -122.26561618377656,
          -122.26565752316738,
          -122.26570091049852,
          -122.2657463357875,
          -122.26579378922503,
          -122.26584325818924,
          -122.26586577587393,
          -122.26589473151378,
          -122.26594820062122,
          -122.26600364899261,
          -122.2660610653862,
          -122.26612043730269,
          -122.26618175086097,
          -122.26624499217954,
          -122.2663101447626,
          -122.26637719605985,
          -122.26644612826765,
          -122.26651692888476,
          -122.26693011056575,
          -122.26730743896665,
          -122.2673796682706,
          -122.26738893478488,
          -122.26746106954393,
          -122.2675097886575,
          -122.26753502121424,
          -122.26761077196514,
          -122.26767128409183,
          -122.2676883039656,
          -122.26776759940911,
          -122.26784509347111,
          -122.26784864182058,
          -122.26793140939719,
          -122.26801420795218,
          -122.26801588697005,
          -122.26803540501963,
          -122.2681020527851,
          -122.26818988770201,
          -122.26827937127285,
          -122.26837048304945,
          -122.26846320125128,
          -122.26855750811781,
          -122.26865337789694,
          -122.26875079013863,
          -122.26884972311053,
          -122.2689501537726,
          -122.26925906162279,
          -122.26931349227186,
          -122.2701715822765,
          -122.2702424192613,
          -122.27031455313853,
          -122.2703879648376,
          -122.27046261927944,
          -122.2705384906335,
          -122.270615551737,
          -122.27069376637706,
          -122.270773114025,
          -122.27081947898851
         ],
         "mode": "lines",
         "showlegend": false,
         "type": "scattermapbox"
        },
        {
         "hoverinfo": "text",
         "hovertext": "W SEA BR EB 4 AV OFF RP Flow: 12607.0",
         "lat": [
          47.693483867629986,
          47.69373832908189,
          47.69386320200504,
          47.69389204361129,
          47.69392216481381,
          47.693953548168096,
          47.693986178961296,
          47.69402003793373
         ],
         "line": {
          "color": "rgb(0.280868,0.160771,0.472899)",
          "width": 2
         },
         "lon": [
          -122.2730085450191,
          -122.27374286405069,
          -122.27410315882152,
          -122.27418408496395,
          -122.27426398073675,
          -122.27434280302188,
          -122.27442050611194,
          -122.27449704817033
         ],
         "mode": "lines",
         "showlegend": false,
         "type": "scattermapbox"
        },
        {
         "hoverinfo": "text",
         "hovertext": "W SEA BR EB 4 AV OFF RP Flow: 12607.0",
         "lat": [
          47.67936562595091,
          47.68157743764605,
          47.68212406487597
         ],
         "line": {
          "color": "rgb(0.280868,0.160771,0.472899)",
          "width": 2
         },
         "lon": [
          -122.2636188504331,
          -122.26366388870754,
          -122.26366810493457
         ],
         "mode": "lines",
         "showlegend": false,
         "type": "scattermapbox"
        },
        {
         "hoverinfo": "text",
         "hovertext": "W SEA BR EB 4 AV OFF RP Flow: 12607.0",
         "lat": [
          47.682926203150636,
          47.68337294485683,
          47.68342041260861,
          47.68346781679347,
          47.683515113346395,
          47.68356225918521,
          47.68360920944572,
          47.68365592372673,
          47.68370235721398,
          47.68374846780772,
          47.683794214273846,
          47.68383955369672,
          47.68388444400977,
          47.683928845011586,
          47.6839727173667,
          47.68401601825935,
          47.68405870932001,
          47.68410075316194,
          47.68451188961379,
          47.68455130041952,
          47.68459127182407,
          47.684631772621515,
          47.68467276975714,
          47.68471423115908,
          47.684756175579444
         ],
         "line": {
          "color": "rgb(0.280868,0.160771,0.472899)",
          "width": 2
         },
         "lon": [
          -122.26369135066663,
          -122.26369975430518,
          -122.26370183495942,
          -122.26370604134183,
          -122.26371237224525,
          -122.26372081982855,
          -122.26373137486945,
          -122.26374403093257,
          -122.26375877480035,
          -122.26377559199724,
          -122.26379447073603,
          -122.26381538985761,
          -122.26383833222259,
          -122.26386327541395,
          -122.26389019970267,
          -122.26391907593836,
          -122.26394987908925,
          -122.26398257748937,
          -122.26431562817965,
          -122.26434587800881,
          -122.26437446741822,
          -122.26440137423027,
          -122.26442658021284,
          -122.26445006049961,
          -122.26447182626121
         ],
         "mode": "lines",
         "showlegend": false,
         "type": "scattermapbox"
        },
        {
         "hoverinfo": "text",
         "hovertext": "W SEA BR EB 4 AV OFF RP Flow: 12607.0",
         "lat": [
          47.684756175579444,
          47.684798411727535,
          47.684841065683415,
          47.684884048870934,
          47.686101587162206
         ],
         "line": {
          "color": "rgb(0.280868,0.160771,0.472899)",
          "width": 2
         },
         "lon": [
          -122.26447182626121,
          -122.26449178030309,
          -122.2645099833788,
          -122.26452639707506,
          -122.26496910783248
         ],
         "mode": "lines",
         "showlegend": false,
         "type": "scattermapbox"
        },
        {
         "hoverinfo": "text",
         "hovertext": "W SEA BR EB 4 AV OFF RP Flow: 12607.0",
         "lat": [
          47.69615724158573,
          47.69618229559756,
          47.69632105503442,
          47.696517995647305,
          47.69652153393015,
          47.69663922909464,
          47.69676332285496,
          47.697189727088556,
          47.69735921213703
         ],
         "line": {
          "color": "rgb(0.280868,0.160771,0.472899)",
          "width": 2
         },
         "lon": [
          -122.27668722080233,
          -122.27670672780371,
          -122.27681477293565,
          -122.27696812305352,
          -122.27697087840318,
          -122.2770625239579,
          -122.27715915148424,
          -122.27749118346381,
          -122.27762238694197
         ],
         "mode": "lines",
         "showlegend": false,
         "type": "scattermapbox"
        },
        {
         "hoverinfo": "text",
         "hovertext": "W SEA BR EB 4 AV OFF RP Flow: 12607.0",
         "lat": [
          47.686101587162206,
          47.687449192949266
         ],
         "line": {
          "color": "rgb(0.280868,0.160771,0.472899)",
          "width": 2
         },
         "lon": [
          -122.26496910783248,
          -122.26546966382311
         ],
         "mode": "lines",
         "showlegend": false,
         "type": "scattermapbox"
        },
        {
         "hoverinfo": "text",
         "hovertext": "W SEA BR EB 4 AV OFF RP Flow: 12607.0",
         "lat": [
          47.6943328535666,
          47.69433811174865,
          47.694365130635504,
          47.694407259533314,
          47.69445026613924,
          47.694494139186055,
          47.69453885106802,
          47.694584378692504,
          47.6946307009341,
          47.69467779466645,
          47.69472563946103,
          47.694774209696014,
          47.69482348119399,
          47.69487342743379,
          47.694924027851876,
          47.69497525312805,
          47.695347814529846,
          47.69581574351159,
          47.69589604385671
         ],
         "line": {
          "color": "rgb(0.280868,0.160771,0.472899)",
          "width": 2
         },
         "lon": [
          -122.27506242019982,
          -122.2750705221932,
          -122.27511023293044,
          -122.27516974626765,
          -122.27522785833696,
          -122.27528453551356,
          -122.2753397557111,
          -122.27539349563561,
          -122.27544571872282,
          -122.27549640434209,
          -122.27554553193745,
          -122.27559306481879,
          -122.2756389943176,
          -122.27568328371818,
          -122.27572592311927,
          -122.27576688372167,
          -122.27605696467822,
          -122.27642131356002,
          -122.27648383548726
         ],
         "mode": "lines",
         "showlegend": false,
         "type": "scattermapbox"
        },
        {
         "hoverinfo": "text",
         "hovertext": "W SEA BR EB 4 AV OFF RP Flow: 12607.0",
         "lat": [
          47.692696576874866,
          47.69273476403771,
          47.692771760012526,
          47.69280755082837,
          47.69284211716901,
          47.69287544869445,
          47.69290752883697,
          47.69303396466738,
          47.69346762365723,
          47.693483867629986
         ],
         "line": {
          "color": "rgb(0.280868,0.160771,0.472899)",
          "width": 2
         },
         "lon": [
          -122.27081947898851,
          -122.27090446139066,
          -122.27099059013894,
          -122.27107783153313,
          -122.2711661477273,
          -122.27125550245611,
          -122.27134585395191,
          -122.27171063320026,
          -122.27296168771124,
          -122.2730085450191
         ],
         "mode": "lines",
         "showlegend": false,
         "type": "scattermapbox"
        },
        {
         "hoverinfo": "text",
         "hovertext": "W SEA BR EB 4 AV OFF RP Flow: 12607.0",
         "lat": [
          47.69589604385671,
          47.69615724158573
         ],
         "line": {
          "color": "rgb(0.280868,0.160771,0.472899)",
          "width": 2
         },
         "lon": [
          -122.27648383548726,
          -122.27668722080233
         ],
         "mode": "lines",
         "showlegend": false,
         "type": "scattermapbox"
        },
        {
         "hoverinfo": "text",
         "hovertext": "W SEA BR EB 4 AV OFF RP Flow: 2501.0",
         "lat": [
          47.572864097406274,
          47.57238630765056,
          47.57233863301423,
          47.57225260942459,
          47.572196622520224,
          47.57214101564221
         ],
         "line": {
          "color": "rgb(0.273809,0.031497,0.358853)",
          "width": 2
         },
         "lon": [
          -122.35306191869824,
          -122.3524373673127,
          -122.35238050911857,
          -122.3522939033945,
          -122.3522572989696,
          -122.35223393141963
         ],
         "mode": "lines",
         "showlegend": false,
         "type": "scattermapbox"
        },
        {
         "hoverinfo": "text",
         "hovertext": "W SEA BR EB 4 AV OFF RP Flow: 2501.0",
         "lat": [
          47.57214101564221,
          47.57209021153099,
          47.57204936918673,
          47.571963006125436,
          47.57178535549026
         ],
         "line": {
          "color": "rgb(0.273809,0.031497,0.358853)",
          "width": 2
         },
         "lon": [
          -122.35223393141963,
          -122.3522140180783,
          -122.35218956582106,
          -122.35212001315489,
          -122.35195443064212
         ],
         "mode": "lines",
         "showlegend": false,
         "type": "scattermapbox"
        },
        {
         "hoverinfo": "text",
         "hovertext": "W SEA BR EB 4 AV OFF RP Flow: 2501.0",
         "lat": [
          47.57444948296686,
          47.57439727484747,
          47.574363154859256,
          47.57417634952826,
          47.573968680620084,
          47.57375374583256,
          47.57350282295703,
          47.572864097406274
         ],
         "line": {
          "color": "rgb(0.273809,0.031497,0.358853)",
          "width": 2
         },
         "lon": [
          -122.35464684044256,
          -122.35460972015939,
          -122.3545954239082,
          -122.35451598762232,
          -122.35439584246443,
          -122.35419569722102,
          -122.35388372091893,
          -122.35306191869824
         ],
         "mode": "lines",
         "showlegend": false,
         "type": "scattermapbox"
        },
        {
         "hoverinfo": "text",
         "hovertext": "W SEA BR EB 4 AV OFF RP Flow: 8854.0",
         "lat": [
          47.681793014205105,
          47.68253408965184
         ],
         "line": {
          "color": "rgb(0.283197,0.115680,0.436115)",
          "width": 2
         },
         "lon": [
          -122.36048905062677,
          -122.3606548193125
         ],
         "mode": "lines",
         "showlegend": false,
         "type": "scattermapbox"
        },
        {
         "hoverinfo": "text",
         "hovertext": "W SEA BR EB 4 AV OFF RP Flow: 8854.0",
         "lat": [
          47.67956028609848,
          47.67963990656979,
          47.6807299113255
         ],
         "line": {
          "color": "rgb(0.283197,0.115680,0.436115)",
          "width": 2
         },
         "lon": [
          -122.36046915466235,
          -122.36046879704571,
          -122.36046386154936
         ],
         "mode": "lines",
         "showlegend": false,
         "type": "scattermapbox"
        },
        {
         "hoverinfo": "text",
         "hovertext": "W SEA BR EB 4 AV OFF RP Flow: 8854.0",
         "lat": [
          47.68253408965184,
          47.68327596093253
         ],
         "line": {
          "color": "rgb(0.283197,0.115680,0.436115)",
          "width": 2
         },
         "lon": [
          -122.3606548193125,
          -122.36065382245475
         ],
         "mode": "lines",
         "showlegend": false,
         "type": "scattermapbox"
        },
        {
         "hoverinfo": "text",
         "hovertext": "W SEA BR EB 4 AV OFF RP Flow: 8854.0",
         "lat": [
          47.6807299113255,
          47.68145526444315,
          47.6816617495011,
          47.681793014205105
         ],
         "line": {
          "color": "rgb(0.283197,0.115680,0.436115)",
          "width": 2
         },
         "lon": [
          -122.36046386154936,
          -122.36046061278026,
          -122.36045968869958,
          -122.36048905062677
         ],
         "mode": "lines",
         "showlegend": false,
         "type": "scattermapbox"
        },
        {
         "hoverinfo": "text",
         "hovertext": "W SEA BR EB 4 AV OFF RP Flow: 8854.0",
         "lat": [
          47.67599645369229,
          47.67603664359646,
          47.67605997944623,
          47.67608149481959,
          47.67610111134712,
          47.676132952454196,
          47.676164048016055,
          47.676183035766066,
          47.676200642850034,
          47.67622005454497,
          47.67623966185983,
          47.67625945026403,
          47.676279400784004,
          47.67629949802549,
          47.67631973051245,
          47.677777841429574
         ],
         "line": {
          "color": "rgb(0.283197,0.115680,0.436115)",
          "width": 2
         },
         "lon": [
          -122.36069501537536,
          -122.36066074509957,
          -122.36063914371637,
          -122.36061805358517,
          -122.3606009050022,
          -122.36057565471663,
          -122.36055387636377,
          -122.36054189078855,
          -122.36053163221476,
          -122.36052124018421,
          -122.3605116904007,
          -122.3605029930942,
          -122.36049515436817,
          -122.36048818176319,
          -122.36048205895875,
          -122.36047625419606
         ],
         "mode": "lines",
         "showlegend": false,
         "type": "scattermapbox"
        },
        {
         "hoverinfo": "text",
         "hovertext": "W SEA BR EB 4 AV OFF RP Flow: 8854.0",
         "lat": [
          47.677777841429574,
          47.67956028609848
         ],
         "line": {
          "color": "rgb(0.283197,0.115680,0.436115)",
          "width": 2
         },
         "lon": [
          -122.36047625419606,
          -122.36046915466235
         ],
         "mode": "lines",
         "showlegend": false,
         "type": "scattermapbox"
        },
        {
         "hoverinfo": "text",
         "hovertext": "W SEA BR EB 4 AV OFF RP Flow: 8854.0",
         "lat": [
          47.68400826721353,
          47.684739611700415
         ],
         "line": {
          "color": "rgb(0.283197,0.115680,0.436115)",
          "width": 2
         },
         "lon": [
          -122.36065304932445,
          -122.36065228253969
         ],
         "mode": "lines",
         "showlegend": false,
         "type": "scattermapbox"
        },
        {
         "hoverinfo": "text",
         "hovertext": "W SEA BR EB 4 AV OFF RP Flow: 8854.0",
         "lat": [
          47.684739611700415,
          47.68547095614579
         ],
         "line": {
          "color": "rgb(0.283197,0.115680,0.436115)",
          "width": 2
         },
         "lon": [
          -122.36065228253969,
          -122.36065151706504
         ],
         "mode": "lines",
         "showlegend": false,
         "type": "scattermapbox"
        },
        {
         "hoverinfo": "text",
         "hovertext": "W SEA BR EB 4 AV OFF RP Flow: 8854.0",
         "lat": [
          47.68327596093253,
          47.68400826721353
         ],
         "line": {
          "color": "rgb(0.283197,0.115680,0.436115)",
          "width": 2
         },
         "lon": [
          -122.36065382245475,
          -122.36065304932445
         ],
         "mode": "lines",
         "showlegend": false,
         "type": "scattermapbox"
        },
        {
         "hoverinfo": "text",
         "hovertext": "W SEA BR EB 4 AV OFF RP Flow: 8854.0",
         "lat": [
          47.68620230060315,
          47.68693915340461
         ],
         "line": {
          "color": "rgb(0.283197,0.115680,0.436115)",
          "width": 2
         },
         "lon": [
          -122.36065074890533,
          -122.36064997744238
         ],
         "mode": "lines",
         "showlegend": false,
         "type": "scattermapbox"
        },
        {
         "hoverinfo": "text",
         "hovertext": "W SEA BR EB 4 AV OFF RP Flow: 8854.0",
         "lat": [
          47.68547095614579,
          47.68620230060315
         ],
         "line": {
          "color": "rgb(0.283197,0.115680,0.436115)",
          "width": 2
         },
         "lon": [
          -122.36065151706504,
          -122.36065074890533
         ],
         "mode": "lines",
         "showlegend": false,
         "type": "scattermapbox"
        },
        {
         "hoverinfo": "text",
         "hovertext": "W SEA BR EB 4 AV OFF RP Flow: 13474.0",
         "lat": [
          47.67947022085003,
          47.68017196793811
         ],
         "line": {
          "color": "rgb(0.279574,0.170599,0.479997)",
          "width": 2
         },
         "lon": [
          -122.31741341550969,
          -122.31742808076093
         ],
         "mode": "lines",
         "showlegend": false,
         "type": "scattermapbox"
        },
        {
         "hoverinfo": "text",
         "hovertext": "W SEA BR EB 4 AV OFF RP Flow: 13474.0",
         "lat": [
          47.68017196793811,
          47.68086288850791
         ],
         "line": {
          "color": "rgb(0.279574,0.170599,0.479997)",
          "width": 2
         },
         "lon": [
          -122.31742808076093,
          -122.31744252245326
         ],
         "mode": "lines",
         "showlegend": false,
         "type": "scattermapbox"
        },
        {
         "hoverinfo": "text",
         "hovertext": "W SEA BR EB 4 AV OFF RP Flow: 13474.0",
         "lat": [
          47.68086288850791,
          47.68155393056055
         ],
         "line": {
          "color": "rgb(0.279574,0.170599,0.479997)",
          "width": 2
         },
         "lon": [
          -122.31744252245326,
          -122.31745696000714
         ],
         "mode": "lines",
         "showlegend": false,
         "type": "scattermapbox"
        },
        {
         "hoverinfo": "text",
         "hovertext": "W SEA BR EB 4 AV OFF RP Flow: 6597.0",
         "lat": [
          47.6098362681487,
          47.610300933420824
         ],
         "line": {
          "color": "rgb(0.281446,0.084320,0.407414)",
          "width": 2
         },
         "lon": [
          -122.32866572265394,
          -122.32755514135692
         ],
         "mode": "lines",
         "showlegend": false,
         "type": "scattermapbox"
        },
        {
         "hoverinfo": "text",
         "hovertext": "W SEA BR EB 4 AV OFF RP Flow: 6597.0",
         "lat": [
          47.610300933420824,
          47.61067243886031,
          47.61076543483241
         ],
         "line": {
          "color": "rgb(0.281446,0.084320,0.407414)",
          "width": 2
         },
         "lon": [
          -122.32755514135692,
          -122.32666659402851,
          -122.32644427243154
         ],
         "mode": "lines",
         "showlegend": false,
         "type": "scattermapbox"
        },
        {
         "hoverinfo": "text",
         "hovertext": "W SEA BR EB 4 AV OFF RP Flow: 4719.0",
         "lat": [
          47.57873784901869,
          47.578353961073674
         ],
         "line": {
          "color": "rgb(0.278791,0.062145,0.386592)",
          "width": 2
         },
         "lon": [
          -122.30536719397712,
          -122.3053692659354
         ],
         "mode": "lines",
         "showlegend": false,
         "type": "scattermapbox"
        },
        {
         "hoverinfo": "text",
         "hovertext": "W SEA BR EB 4 AV OFF RP Flow: 4719.0",
         "lat": [
          47.57873954183562,
          47.5787387657907
         ],
         "line": {
          "color": "rgb(0.278791,0.062145,0.386592)",
          "width": 2
         },
         "lon": [
          -122.30931448116996,
          -122.30800986419733
         ],
         "mode": "lines",
         "showlegend": false,
         "type": "scattermapbox"
        },
        {
         "hoverinfo": "text",
         "hovertext": "W SEA BR EB 4 AV OFF RP Flow: 4719.0",
         "lat": [
          47.578353961073674,
          47.57835307229044
         ],
         "line": {
          "color": "rgb(0.278791,0.062145,0.386592)",
          "width": 2
         },
         "lon": [
          -122.3053692659354,
          -122.30433688381525
         ],
         "mode": "lines",
         "showlegend": false,
         "type": "scattermapbox"
        },
        {
         "hoverinfo": "text",
         "hovertext": "W SEA BR EB 4 AV OFF RP Flow: 4719.0",
         "lat": [
          47.57835307229044,
          47.578351079279294
         ],
         "line": {
          "color": "rgb(0.278791,0.062145,0.386592)",
          "width": 2
         },
         "lon": [
          -122.30433688381525,
          -122.30332510454973
         ],
         "mode": "lines",
         "showlegend": false,
         "type": "scattermapbox"
        },
        {
         "hoverinfo": "text",
         "hovertext": "W SEA BR EB 4 AV OFF RP Flow: 4719.0",
         "lat": [
          47.578737064422185,
          47.57873784901869
         ],
         "line": {
          "color": "rgb(0.278791,0.062145,0.386592)",
          "width": 2
         },
         "lon": [
          -122.30670552197037,
          -122.30536719397712
         ],
         "mode": "lines",
         "showlegend": false,
         "type": "scattermapbox"
        },
        {
         "hoverinfo": "text",
         "hovertext": "W SEA BR EB 4 AV OFF RP Flow: 4719.0",
         "lat": [
          47.578669824098434,
          47.57871333077023,
          47.578724868842066,
          47.578737090299974,
          47.57873954183562
         ],
         "line": {
          "color": "rgb(0.278791,0.062145,0.386592)",
          "width": 2
         },
         "lon": [
          -122.31070242599573,
          -122.3105823445321,
          -122.3105144257552,
          -122.3103940294983,
          -122.30931448116996
         ],
         "mode": "lines",
         "showlegend": false,
         "type": "scattermapbox"
        },
        {
         "hoverinfo": "text",
         "hovertext": "W SEA BR EB 4 AV OFF RP Flow: 4719.0",
         "lat": [
          47.5787387657907,
          47.578737384089095,
          47.578737064422185
         ],
         "line": {
          "color": "rgb(0.278791,0.062145,0.386592)",
          "width": 2
         },
         "lon": [
          -122.30800986419733,
          -122.3069492596649,
          -122.30670552197037
         ],
         "mode": "lines",
         "showlegend": false,
         "type": "scattermapbox"
        },
        {
         "hoverinfo": "text",
         "hovertext": "W SEA BR EB 4 AV OFF RP Flow: 9773.0",
         "lat": [
          47.69934135069634,
          47.69941870894256,
          47.701068000961975,
          47.70111426384522,
          47.70114759638762
         ],
         "line": {
          "color": "rgb(0.283187,0.125848,0.444960)",
          "width": 2
         },
         "lon": [
          -122.27772708223927,
          -122.27772576721628,
          -122.27769776146859,
          -122.27769694631952,
          -122.27769638329929
         ],
         "mode": "lines",
         "showlegend": false,
         "type": "scattermapbox"
        },
        {
         "hoverinfo": "text",
         "hovertext": "W SEA BR EB 4 AV OFF RP Flow: 9773.0",
         "lat": [
          47.70507904269507,
          47.70514852473549,
          47.705219502434424,
          47.70529105332326,
          47.705363149695636,
          47.70543576211408,
          47.70550886555303,
          47.70702678814865
         ],
         "line": {
          "color": "rgb(0.283187,0.125848,0.444960)",
          "width": 2
         },
         "lon": [
          -122.2783125832431,
          -122.27835834175049,
          -122.27840263733908,
          -122.27844486193618,
          -122.27848500143642,
          -122.2785230363548,
          -122.27855895399259,
          -122.27928012249889
         ],
         "mode": "lines",
         "showlegend": false,
         "type": "scattermapbox"
        },
        {
         "hoverinfo": "text",
         "hovertext": "W SEA BR EB 4 AV OFF RP Flow: 9773.0",
         "lat": [
          47.70702678814865,
          47.70864386054143,
          47.70890460684204
         ],
         "line": {
          "color": "rgb(0.283187,0.125848,0.444960)",
          "width": 2
         },
         "lon": [
          -122.27928012249889,
          -122.28004843933988,
          -122.2801723316583
         ],
         "mode": "lines",
         "showlegend": false,
         "type": "scattermapbox"
        },
        {
         "hoverinfo": "text",
         "hovertext": "W SEA BR EB 4 AV OFF RP Flow: 9773.0",
         "lat": [
          47.70114759638762,
          47.701231540072044,
          47.702955956491344
         ],
         "line": {
          "color": "rgb(0.283187,0.125848,0.444960)",
          "width": 2
         },
         "lon": [
          -122.27769638329929,
          -122.27769496345432,
          -122.27766563974092
         ],
         "mode": "lines",
         "showlegend": false,
         "type": "scattermapbox"
        },
        {
         "hoverinfo": "text",
         "hovertext": "W SEA BR EB 4 AV OFF RP Flow: 9773.0",
         "lat": [
          47.69735921213703,
          47.697380847936294,
          47.69740288950765,
          47.69742506513402,
          47.69744736682323,
          47.69746978828061,
          47.69749232234582,
          47.69751496367397,
          47.69753770330625,
          47.69756053406536,
          47.69758345147202,
          47.69760644658416,
          47.697629513106946,
          47.697652643880076,
          47.69767583082696,
          47.69769906945132,
          47.69772234986123,
          47.6977456667454,
          47.697769011942924,
          47.69779237917578,
          47.69781576128352,
          47.69783915015585,
          47.697862539497784,
          47.697885921198996,
          47.697929459652315,
          47.69934135069634
         ],
         "line": {
          "color": "rgb(0.283187,0.125848,0.444960)",
          "width": 2
         },
         "lon": [
          -122.27762238694197,
          -122.2776350478807,
          -122.27764663942922,
          -122.27765766172622,
          -122.27766810655366,
          -122.2776779737359,
          -122.277687260408,
          -122.2776959624232,
          -122.27770407686643,
          -122.27771160220499,
          -122.27771853698103,
          -122.27772487694756,
          -122.27773062192877,
          -122.2777357690597,
          -122.2777403167825,
          -122.27774426497139,
          -122.27774761335047,
          -122.27775035510855,
          -122.27775249534808,
          -122.27775403256116,
          -122.27775496388277,
          -122.27775529041912,
          -122.27775501199439,
          -122.27775412971482,
          -122.2777510801887,
          -122.27772708223927
         ],
         "mode": "lines",
         "showlegend": false,
         "type": "scattermapbox"
        },
        {
         "hoverinfo": "text",
         "hovertext": "W SEA BR EB 4 AV OFF RP Flow: 9773.0",
         "lat": [
          47.702955956491344,
          47.702960217701374,
          47.70300990749093,
          47.703827033286,
          47.70383373954191,
          47.70383649323277,
          47.703839235085816,
          47.7038419761071,
          47.70384471807827,
          47.70384745916709,
          47.70385020117204,
          47.703852943193894,
          47.70385568518193,
          47.70385842623698,
          47.70386116815756,
          47.70386391001056,
          47.703866650879924,
          47.703869392581055,
          47.70387213414711,
          47.70387487471265,
          47.703877616924835,
          47.703880357203374,
          47.703883086517195,
          47.703885827408115,
          47.70388856819773,
          47.70389130890292,
          47.703894049506886,
          47.703896790026434,
          47.703899530478466,
          47.70390227081235,
          47.7039050110618,
          47.703907751226865,
          47.7039104904083,
          47.703913231286954,
          47.70391597026579,
          47.70391870917713,
          47.70392144888642,
          47.7039241876121,
          47.70392692625333,
          47.703929663894066,
          47.70393238315341,
          47.70393512062535,
          47.70393785889523,
          47.70394059528218,
          47.70394333246712,
          47.70394606958452,
          47.703948805684526,
          47.70395154261626,
          47.70395427856434,
          47.70395701439426,
          47.70395975017355,
          47.703962484935396,
          47.70396521961281,
          47.70396795330658,
          47.70397068779835,
          47.703973421306436,
          47.703976153830844,
          47.70397888627087,
          47.70398164544819,
          47.70398437680326,
          47.703987107157765,
          47.703989839226416,
          47.7039925703283,
          47.7039953004127,
          47.703998030429595,
          47.7040007594291,
          47.704003489260316,
          47.704006217191726,
          47.704008945937986,
          47.7040116728013,
          47.70401440046261,
          47.704017127140276,
          47.704019853733506,
          47.704022578443784,
          47.70402530395206,
          47.70402802756054,
          47.70403073481031,
          47.704033458266835,
          47.70403618072282,
          47.704038903094386,
          47.704041624448514,
          47.704044345752,
          47.70404706695422,
          47.704049787155896,
          47.70405250637386,
          47.70405522550742,
          47.70405794275806,
          47.70406066080668,
          47.70406337697236,
          47.70406609395288,
          47.70406880993288,
          47.70407152402989,
          47.70407423804253,
          47.704076951953866,
          47.70407965863725,
          47.70408237056434,
          47.70408508152466,
          47.70408779240057,
          47.704090502275925,
          47.70409321294927,
          47.704095920857256,
          47.704098628680846,
          47.70410133550387,
          47.70410404222563,
          47.7041067470813,
          47.70410945273493,
          47.70411215648878,
          47.7041148592927,
          47.70411756196159,
          47.704120263680544,
          47.70412296349964,
          47.704125664116766,
          47.70412837194788,
          47.70413107059761,
          47.7041337673644,
          47.70413646404679,
          47.704139159728605,
          47.70414185352746,
          47.704144548141244,
          47.7041472408551,
          47.70414993350149,
          47.70415262513042,
          47.70415531489328,
          47.70415800457172,
          47.70416069324961,
          47.70416338094381,
          47.70416606675504,
          47.70416875248189,
          47.704171437208174,
          47.7041741433529,
          47.70417682521252,
          47.704179506071604,
          47.704182186880026,
          47.704184866654145,
          47.70418754546143,
          47.704190222385776,
          47.70419289922572,
          47.704195575048196,
          47.70419824992074,
          47.704200922876595,
          47.70420359576494,
          47.704206266770306,
          47.70420893677505,
          47.70421160667857,
          47.70421427381673,
          47.70421694087048,
          47.70421960604125,
          47.70422223131391,
          47.70422489450044,
          47.70422755668639,
          47.70423021880482,
          47.70423287810728,
          47.704235536476666,
          47.704238194727864,
          47.704240851079234,
          47.70424350644695,
          47.70424616084784,
          47.70424881424811,
          47.70425146576548,
          47.70425411629914,
          47.70425676494982,
          47.704259413499244,
          47.70426206018257,
          47.70426470586533,
          47.70426734966509,
          47.704270017877334,
          47.70427265881048,
          47.704275299659166,
          47.70427793772565,
          47.70428057567398,
          47.70428321265543,
          47.70428584777086,
          47.704288481868836,
          47.70429111501685,
          47.70429374623129,
          47.704296375596506,
          47.70429900486043,
          47.70430163224141,
          47.70430425684011,
          47.704306881354405,
          47.70430950398576,
          47.704312125633386,
          47.70431474539809,
          47.704317335115256,
          47.7043199510971,
          47.704322568793074,
          47.70432518190826,
          47.704327795821456,
          47.7043304078854,
          47.70433301715025,
          47.70433562633069,
          47.70433823361123,
          47.70434083900884,
          47.70434344343963,
          47.7043460459537,
          47.704348647517804,
          47.70435124626594,
          47.704353844963364,
          47.704356440844826,
          47.70435903667559,
          47.70436162969038,
          47.7043642261749,
          47.70436681632304,
          47.704369405521234,
          47.70437199190338,
          47.70437457821802,
          47.70437716261591,
          47.704379744282186,
          47.704382325813405,
          47.70438490459617,
          47.704387482361405,
          47.70439005827747,
          47.704392632293676,
          47.7043952053262,
          47.704397776475744,
          47.704400345742286,
          47.70440291312589,
          47.70440547862649,
          47.70440804224408,
          47.704410598343564,
          47.704413159111375,
          47.70441571797936,
          47.70441827496439,
          47.704420830948806,
          47.70442338418472,
          47.70442593730247,
          47.70442848763791,
          47.704431037006586,
          47.70443358360988,
          47.704436128296386,
          47.704438672033035,
          47.7044412129705,
          47.70444375290738,
          47.70444629099504,
          47.704448827182844,
          47.70445136148765,
          47.70445393309582,
          47.70445646365155,
          47.70445899140817,
          47.7044615181811,
          47.70446404308789,
          47.70446656609481,
          47.70446908811804,
          47.70447160737591,
          47.70447412476765,
          47.70447664112507,
          47.70447915473393,
          47.70448166644297,
          47.70448417628596,
          47.70448668424589,
          47.7044891894236,
          47.70449169451688,
          47.70449419594549,
          47.704496695474255,
          47.70449918305913,
          47.704501678838795,
          47.70450417273543,
          47.70450666474914,
          47.70450915486295,
          47.70451164309374,
          47.704514128576086,
          47.704516613957075,
          47.70451909565652,
          47.70452157640606,
          47.70452405344028,
          47.70452653039007,
          47.70452900369207,
          47.704531475976594,
          47.70453394551264,
          47.70453641316563,
          47.7045388780364,
          47.70454134100732,
          47.70454378636406,
          47.704546244669714,
          47.70454870109236,
          47.704551154732705,
          47.704553606473226,
          47.70455605543149,
          47.704558503389116,
          47.70456094859821,
          47.70456339102511,
          47.70456583246823,
          47.70456827204528,
          47.704570708873796,
          47.704573144718616,
          47.70457557869732,
          47.704578010843626,
          47.70458044112391,
          47.7045828704373,
          47.704585297935246,
          47.70458771410718,
          47.70459013135844
         ],
         "line": {
          "color": "rgb(0.283187,0.125848,0.444960)",
          "width": 2
         },
         "lon": [
          -122.27766563974092,
          -122.27766551035394,
          -122.27766466649899,
          -122.2776507633174,
          -122.27765070857967,
          -122.27765063455666,
          -122.27765064283167,
          -122.27765064575277,
          -122.27765064470212,
          -122.2776506422943,
          -122.27765063857927,
          -122.27765063353193,
          -122.27765063114914,
          -122.27765063140575,
          -122.2776506343518,
          -122.2776506426268,
          -122.27765065753789,
          -122.27765067780291,
          -122.27765070872577,
          -122.27765074761703,
          -122.2776507985483,
          -122.2776508600874,
          -122.27765086401564,
          -122.27765094822759,
          -122.27765104043299,
          -122.2776511392995,
          -122.27765124615941,
          -122.27765135968043,
          -122.27765147853043,
          -122.27765160670604,
          -122.27765174154278,
          -122.2776518830407,
          -122.27765203117472,
          -122.27765218735217,
          -122.27765235147298,
          -122.27765252092273,
          -122.27765269839091,
          -122.27765288249526,
          -122.2776530732607,
          -122.27765327199461,
          -122.27765364346813,
          -122.27765385552436,
          -122.27765407559897,
          -122.27765430228473,
          -122.27765453698893,
          -122.27765477702206,
          -122.27765502635582,
          -122.27765528104352,
          -122.27765554236741,
          -122.27765581301686,
          -122.2776560876631,
          -122.27765637160998,
          -122.27765666221799,
          -122.27765695946222,
          -122.27765726472481,
          -122.27765757662367,
          -122.27765789515861,
          -122.27765822035478,
          -122.27765849431921,
          -122.27765883414497,
          -122.27765918193913,
          -122.27765953644455,
          -122.27765989625388,
          -122.27766026536386,
          -122.27766063980278,
          -122.27766102354238,
          -122.2776614126359,
          -122.27766180967292,
          -122.27766221339606,
          -122.27766262373045,
          -122.27766304208326,
          -122.27766346707223,
          -122.27766389872241,
          -122.27766433698383,
          -122.27766478326365,
          -122.27766523748689,
          -122.27766591781447,
          -122.27766638402791,
          -122.27766685820981,
          -122.2776673390529,
          -122.27766782919664,
          -122.27766832333714,
          -122.27766882547108,
          -122.27766933557348,
          -122.27766985231206,
          -122.2776703757119,
          -122.27767090572289,
          -122.27767144375237,
          -122.27767198839307,
          -122.27767253971996,
          -122.2776730990153,
          -122.27767366492186,
          -122.27767423748963,
          -122.27767481805084,
          -122.2776754010766,
          -122.27767599624251,
          -122.27767659671241,
          -122.27767720384348,
          -122.27767781894312,
          -122.27767844206114,
          -122.27767907043314,
          -122.27767970546643,
          -122.27768034846815,
          -122.27768099946337,
          -122.27768165573752,
          -122.27768232003021,
          -122.27768299226629,
          -122.27768366847415,
          -122.27768435534,
          -122.27768504617757,
          -122.27768574495866,
          -122.27768645175816,
          -122.2776869441931,
          -122.27768766426512,
          -122.2776883909483,
          -122.27768912429279,
          -122.27768986560574,
          -122.27769061352997,
          -122.27769136814041,
          -122.27769213069429,
          -122.27769289857724,
          -122.27769367576089,
          -122.27769445822355,
          -122.27769524734745,
          -122.2776960444399,
          -122.27769684816855,
          -122.2776976585084,
          -122.27769847550957,
          -122.27769930047923,
          -122.27770021000497,
          -122.27770104822208,
          -122.27770189440774,
          -122.27770274459016,
          -122.27770360540556,
          -122.277704471525,
          -122.2777053442557,
          -122.27770622364764,
          -122.27770711234031,
          -122.27770800500478,
          -122.27770890694498,
          -122.27770981421426,
          -122.27771072809477,
          -122.27771164994374,
          -122.2777125797863,
          -122.27771351488279,
          -122.27771445664065,
          -122.27771540500969,
          -122.27771623632397,
          -122.27771719929784,
          -122.27771817024022,
          -122.27771914651163,
          -122.27772013203378,
          -122.27772112019545,
          -122.27772211768294,
          -122.27772312311396,
          -122.27772413518122,
          -122.27772515255252,
          -122.27772617789236,
          -122.27772720984348,
          -122.27772824843089,
          -122.27772929362952,
          -122.27773034682168,
          -122.27773140529295,
          -122.2777324717327,
          -122.27773354478377,
          -122.27773482108535,
          -122.27773590738393,
          -122.27773700034392,
          -122.27773809989014,
          -122.27773920876213,
          -122.27774032293817,
          -122.27774144239325,
          -122.27774257114915,
          -122.27774370387684,
          -122.27774484721256,
          -122.277745994495,
          -122.27774714977112,
          -122.27774831165848,
          -122.27774948013212,
          -122.27775065526707,
          -122.27775183701328,
          -122.27775302539585,
          -122.27775422038974,
          -122.2777554438677,
          -122.27775665341642,
          -122.27775786967644,
          -122.27775909247269,
          -122.27776032328761,
          -122.27776155804926,
          -122.27776280072956,
          -122.27776405007106,
          -122.2777653073562,
          -122.2777665712526,
          -122.27776784045308,
          -122.27776911892931,
          -122.2777704013775,
          -122.27777169307636,
          -122.2777729887721,
          -122.27777429371868,
          -122.27777560266205,
          -122.27777692085618,
          -122.27777810720876,
          -122.27777943865053,
          -122.27778077406417,
          -122.27778211872858,
          -122.27778346872215,
          -122.2777848279915,
          -122.27778618985042,
          -122.27778756236734,
          -122.27778893880618,
          -122.27779032454585,
          -122.27779171423228,
          -122.2777931118623,
          -122.2777945161287,
          -122.27779592700635,
          -122.27779734449541,
          -122.27779876859574,
          -122.27780019930742,
          -122.2778016366305,
          -122.2778033122998,
          -122.27780476153823,
          -122.27780621872023,
          -122.27780768251363,
          -122.27780915427556,
          -122.27781062995935,
          -122.27781211496898,
          -122.27781360656489,
          -122.27781510346496,
          -122.2778166056191,
          -122.27781811704907,
          -122.27781963245091,
          -122.27782115577132,
          -122.27782268706034,
          -122.27782422229616,
          -122.2778257654756,
          -122.27782731526638,
          -122.27782847694286,
          -122.27783003862409,
          -122.27783160822388,
          -122.27783318446004,
          -122.27783476597529,
          -122.27783635543415,
          -122.27783795152934,
          -122.27783955287862,
          -122.27784115950705,
          -122.27784277676854,
          -122.2778443979519,
          -122.27784602707887,
          -122.27784766148493,
          -122.27784930250232,
          -122.2778509501061,
          -122.27785260437128,
          -122.27785426386546,
          -122.27785593130335,
          -122.27785761839985,
          -122.27785929772817,
          -122.2778609836678,
          -122.27786267621887,
          -122.27786437671352,
          -122.27786608381948,
          -122.27786779484734,
          -122.27786951386888,
          -122.27787123945167,
          -122.27787296900642,
          -122.27787470778694,
          -122.27787645322888,
          -122.27787820256775,
          -122.2778799612074,
          -122.27788172376894,
          -122.27788349294183,
          -122.27788526870108,
          -122.27788705240398,
          -122.27788880629743,
          -122.27789060319805,
          -122.27789240671008,
          -122.27789421680838,
          -122.27789603485039,
          -122.27789785947873,
          -122.27789969207568,
          -122.27790152859454,
          -122.27790337169975,
          -122.27790522144134,
          -122.27790707646209,
          -122.2779089354047,
          -122.27791080098368,
          -122.27791267184183,
          -122.27791454531462,
          -122.27791642406656,
          -122.27791830812261,
          -122.27792019346107,
          -122.27792247563394,
          -122.2779243886748
         ],
         "mode": "lines",
         "showlegend": false,
         "type": "scattermapbox"
        },
        {
         "hoverinfo": "text",
         "hovertext": "W SEA BR EB 4 AV OFF RP Flow: 9773.0",
         "lat": [
          47.70459013135844,
          47.704634497056006,
          47.70466599708332,
          47.70466997649431,
          47.70473619560875,
          47.70480317238973,
          47.704870881930525,
          47.704939299290636,
          47.7050083959493,
          47.70507814698272,
          47.70507904269507
         ],
         "line": {
          "color": "rgb(0.283187,0.125848,0.444960)",
          "width": 2
         },
         "lon": [
          -122.2779243886748,
          -122.27796076633837,
          -122.27798824616481,
          -122.27799182591137,
          -122.27805009506139,
          -122.27810642900175,
          -122.27816080571107,
          -122.27821320583185,
          -122.27826360857411,
          -122.27831199324737,
          -122.2783125832431
         ],
         "mode": "lines",
         "showlegend": false,
         "type": "scattermapbox"
        },
        {
         "hoverinfo": "text",
         "hovertext": "W SEA BR EB 4 AV OFF RP Flow: 9327.0",
         "lat": [
          47.661261953231964,
          47.6630836472227
         ],
         "line": {
          "color": "rgb(0.283229,0.120777,0.440584)",
          "width": 2
         },
         "lon": [
          -122.31199331008652,
          -122.31196569346487
         ],
         "mode": "lines",
         "showlegend": false,
         "type": "scattermapbox"
        },
        {
         "hoverinfo": "text",
         "hovertext": "W SEA BR EB 4 AV OFF RP Flow: 12949.0",
         "lat": [
          47.59278182392992,
          47.59253052846148,
          47.59229784944447,
          47.59159722687374,
          47.59150682064445,
          47.591495361074756
         ],
         "line": {
          "color": "rgb(0.280868,0.160771,0.472899)",
          "width": 2
         },
         "lon": [
          -122.3227694208266,
          -122.32249159538276,
          -122.322470261077,
          -122.32247648986238,
          -122.32247685972872,
          -122.32248149350556
         ],
         "mode": "lines",
         "showlegend": false,
         "type": "scattermapbox"
        },
        {
         "hoverinfo": "text",
         "hovertext": "W SEA BR EB 4 AV OFF RP Flow: 4108.0",
         "lat": [
          47.501478154206474,
          47.49964167989674
         ],
         "line": {
          "color": "rgb(0.277018,0.050344,0.375715)",
          "width": 2
         },
         "lon": [
          -122.24140211925854,
          -122.24142621595426
         ],
         "mode": "lines",
         "showlegend": false,
         "type": "scattermapbox"
        },
        {
         "hoverinfo": "text",
         "hovertext": "W SEA BR EB 4 AV OFF RP Flow: 4108.0",
         "lat": [
          47.49964167989674,
          47.49958378300435,
          47.49952632755827,
          47.499469703167435,
          47.49935217905558,
          47.499303931889905,
          47.499258822586505
         ],
         "line": {
          "color": "rgb(0.277018,0.050344,0.375715)",
          "width": 2
         },
         "lon": [
          -122.24142621595426,
          -122.24143051995584,
          -122.24144188071696,
          -122.24146021846818,
          -122.24151405129632,
          -122.2415396931401,
          -122.2415743932836
         ],
         "mode": "lines",
         "showlegend": false,
         "type": "scattermapbox"
        },
        {
         "hoverinfo": "text",
         "hovertext": "W SEA BR EB 4 AV OFF RP Flow: 4108.0",
         "lat": [
          47.50289285400507,
          47.502801351663734,
          47.50275723775753,
          47.50271350037381,
          47.50267045340109,
          47.50262839853194,
          47.50258763983279,
          47.50253837145094,
          47.50248751775768,
          47.50243545150117,
          47.502382562038086,
          47.502330037669104,
          47.502329238981226,
          47.501478154206474
         ],
         "line": {
          "color": "rgb(0.277018,0.050344,0.375715)",
          "width": 2
         },
         "lon": [
          -122.24124096287333,
          -122.24123064640118,
          -122.24123448402655,
          -122.24124379598534,
          -122.24125851506938,
          -122.24127854188134,
          -122.24130373062513,
          -122.24133410856386,
          -122.24135812056923,
          -122.24137559617792,
          -122.24138640387598,
          -122.24139040319228,
          -122.2413904639318,
          -122.24140211925854
         ],
         "mode": "lines",
         "showlegend": false,
         "type": "scattermapbox"
        },
        {
         "hoverinfo": "text",
         "hovertext": "W SEA BR EB 4 AV OFF RP Flow: 9607.0",
         "lat": [
          47.60869259714119,
          47.60877352762025,
          47.60915693114065,
          47.609160220260854
         ],
         "line": {
          "color": "rgb(0.283229,0.120777,0.440584)",
          "width": 2
         },
         "lon": [
          -122.33375683023245,
          -122.33356355143914,
          -122.33264805848451,
          -122.332640195462
         ],
         "mode": "lines",
         "showlegend": false,
         "type": "scattermapbox"
        },
        {
         "hoverinfo": "text",
         "hovertext": "W SEA BR EB 4 AV OFF RP Flow: 20781.0",
         "lat": [
          47.60329714212646,
          47.603445806334236
         ],
         "line": {
          "color": "rgb(0.258965,0.251537,0.524736)",
          "width": 2
         },
         "lon": [
          -122.32728726165084,
          -122.32742361247828
         ],
         "mode": "lines",
         "showlegend": false,
         "type": "scattermapbox"
        },
        {
         "hoverinfo": "text",
         "hovertext": "W SEA BR EB 4 AV OFF RP Flow: 20781.0",
         "lat": [
          47.603445806334236,
          47.60416123476074
         ],
         "line": {
          "color": "rgb(0.258965,0.251537,0.524736)",
          "width": 2
         },
         "lon": [
          -122.32742361247828,
          -122.32807857788542
         ],
         "mode": "lines",
         "showlegend": false,
         "type": "scattermapbox"
        },
        {
         "hoverinfo": "text",
         "hovertext": "W SEA BR EB 4 AV OFF RP Flow: 3534.0",
         "lat": [
          47.58841253916677,
          47.58841060090693
         ],
         "line": {
          "color": "rgb(0.276022,0.044167,0.370164)",
          "width": 2
         },
         "lon": [
          -122.306233944722,
          -122.30582739706331
         ],
         "mode": "lines",
         "showlegend": false,
         "type": "scattermapbox"
        },
        {
         "hoverinfo": "text",
         "hovertext": "W SEA BR EB 4 AV OFF RP Flow: 3534.0",
         "lat": [
          47.58842792522588,
          47.58842305753242,
          47.58842298601833
         ],
         "line": {
          "color": "rgb(0.276022,0.044167,0.370164)",
          "width": 2
         },
         "lon": [
          -122.30946700651816,
          -122.3084062835847,
          -122.30839064101777
         ],
         "mode": "lines",
         "showlegend": false,
         "type": "scattermapbox"
        },
        {
         "hoverinfo": "text",
         "hovertext": "W SEA BR EB 4 AV OFF RP Flow: 3534.0",
         "lat": [
          47.588417670988896,
          47.58841253916677
         ],
         "line": {
          "color": "rgb(0.276022,0.044167,0.370164)",
          "width": 2
         },
         "lon": [
          -122.30731229334758,
          -122.306233944722
         ],
         "mode": "lines",
         "showlegend": false,
         "type": "scattermapbox"
        },
        {
         "hoverinfo": "text",
         "hovertext": "W SEA BR EB 4 AV OFF RP Flow: 3534.0",
         "lat": [
          47.58842298601833,
          47.588417670988896
         ],
         "line": {
          "color": "rgb(0.276022,0.044167,0.370164)",
          "width": 2
         },
         "lon": [
          -122.30839064101777,
          -122.30731229334758
         ],
         "mode": "lines",
         "showlegend": false,
         "type": "scattermapbox"
        },
        {
         "hoverinfo": "text",
         "hovertext": "W SEA BR EB 4 AV OFF RP Flow: 3534.0",
         "lat": [
          47.58843349325051,
          47.58842800550256,
          47.58842792522588
         ],
         "line": {
          "color": "rgb(0.276022,0.044167,0.370164)",
          "width": 2
         },
         "lon": [
          -122.31054494350686,
          -122.30948223977704,
          -122.30946700651816
         ],
         "mode": "lines",
         "showlegend": false,
         "type": "scattermapbox"
        },
        {
         "hoverinfo": "text",
         "hovertext": "W SEA BR EB 4 AV OFF RP Flow: 4445.0",
         "lat": [
          47.66613927426433,
          47.66706031985614,
          47.66730844357513,
          47.66747078308735
         ],
         "line": {
          "color": "rgb(0.277941,0.056324,0.381191)",
          "width": 2
         },
         "lon": [
          -122.2848003072927,
          -122.28480912464984,
          -122.28480764344977,
          -122.28481305576999
         ],
         "mode": "lines",
         "showlegend": false,
         "type": "scattermapbox"
        },
        {
         "hoverinfo": "text",
         "hovertext": "W SEA BR EB 4 AV OFF RP Flow: 4445.0",
         "lat": [
          47.663027173886036,
          47.66326317609829,
          47.663623883588805,
          47.663809104567804,
          47.664251589070155,
          47.66480433660395,
          47.66488803557405
         ],
         "line": {
          "color": "rgb(0.277941,0.056324,0.381191)",
          "width": 2
         },
         "lon": [
          -122.28477360265707,
          -122.28477547030398,
          -122.28478328896172,
          -122.28477978765123,
          -122.2847791911369,
          -122.28478766214889,
          -122.28478832136442
         ],
         "mode": "lines",
         "showlegend": false,
         "type": "scattermapbox"
        },
        {
         "hoverinfo": "text",
         "hovertext": "W SEA BR EB 4 AV OFF RP Flow: 4445.0",
         "lat": [
          47.66747078308735,
          47.66850930138852
         ],
         "line": {
          "color": "rgb(0.277941,0.056324,0.381191)",
          "width": 2
         },
         "lon": [
          -122.28481305576999,
          -122.28482300460723
         ],
         "mode": "lines",
         "showlegend": false,
         "type": "scattermapbox"
        },
        {
         "hoverinfo": "text",
         "hovertext": "W SEA BR EB 4 AV OFF RP Flow: 4445.0",
         "lat": [
          47.66488803557405,
          47.66613927426433
         ],
         "line": {
          "color": "rgb(0.277941,0.056324,0.381191)",
          "width": 2
         },
         "lon": [
          -122.28478832136442,
          -122.2848003072927
         ],
         "mode": "lines",
         "showlegend": false,
         "type": "scattermapbox"
        },
        {
         "hoverinfo": "text",
         "hovertext": "W SEA BR EB 4 AV OFF RP Flow: 9471.0",
         "lat": [
          47.60170347692825,
          47.60170035475722
         ],
         "line": {
          "color": "rgb(0.283229,0.120777,0.440584)",
          "width": 2
         },
         "lon": [
          -122.32244685326992,
          -122.32073735194703
         ],
         "mode": "lines",
         "showlegend": false,
         "type": "scattermapbox"
        },
        {
         "hoverinfo": "text",
         "hovertext": "W SEA BR EB 4 AV OFF RP Flow: 12413.0",
         "lat": [
          47.648051483476095,
          47.64804508933823
         ],
         "line": {
          "color": "rgb(0.281412,0.155834,0.469201)",
          "width": 2
         },
         "lon": [
          -122.33754433477084,
          -122.33635091555874
         ],
         "mode": "lines",
         "showlegend": false,
         "type": "scattermapbox"
        },
        {
         "hoverinfo": "text",
         "hovertext": "W SEA BR EB 4 AV OFF RP Flow: 12413.0",
         "lat": [
          47.64825061895457,
          47.64807093676157,
          47.648061721432555,
          47.64805888339787
         ],
         "line": {
          "color": "rgb(0.281412,0.155834,0.469201)",
          "width": 2
         },
         "lon": [
          -122.34090172163188,
          -122.33959358468775,
          -122.33950923229976,
          -122.33939243348583
         ],
         "mode": "lines",
         "showlegend": false,
         "type": "scattermapbox"
        },
        {
         "hoverinfo": "text",
         "hovertext": "W SEA BR EB 4 AV OFF RP Flow: 12413.0",
         "lat": [
          47.64805888339787,
          47.64805878765629,
          47.64805786944184
         ],
         "line": {
          "color": "rgb(0.281412,0.155834,0.469201)",
          "width": 2
         },
         "lon": [
          -122.33939243348583,
          -122.33933083738421,
          -122.33873763059192
         ],
         "mode": "lines",
         "showlegend": false,
         "type": "scattermapbox"
        },
        {
         "hoverinfo": "text",
         "hovertext": "W SEA BR EB 4 AV OFF RP Flow: 12413.0",
         "lat": [
          47.64854072789802,
          47.64825061895457
         ],
         "line": {
          "color": "rgb(0.281412,0.155834,0.469201)",
          "width": 2
         },
         "lon": [
          -122.34277540189352,
          -122.34090172163188
         ],
         "mode": "lines",
         "showlegend": false,
         "type": "scattermapbox"
        },
        {
         "hoverinfo": "text",
         "hovertext": "W SEA BR EB 4 AV OFF RP Flow: 12413.0",
         "lat": [
          47.64805786944184,
          47.648051483476095
         ],
         "line": {
          "color": "rgb(0.281412,0.155834,0.469201)",
          "width": 2
         },
         "lon": [
          -122.33873763059192,
          -122.33754433477084
         ],
         "mode": "lines",
         "showlegend": false,
         "type": "scattermapbox"
        },
        {
         "hoverinfo": "text",
         "hovertext": "W SEA BR EB 4 AV OFF RP Flow: 7500.0",
         "lat": [
          47.609285142681195,
          47.60974973281673
         ],
         "line": {
          "color": "rgb(0.282327,0.094955,0.417331)",
          "width": 2
         },
         "lon": [
          -122.338903694202,
          -122.3377929156983
         ],
         "mode": "lines",
         "showlegend": false,
         "type": "scattermapbox"
        },
        {
         "hoverinfo": "text",
         "hovertext": "W SEA BR EB 4 AV OFF RP Flow: 2396.0",
         "lat": [
          47.69823627533876,
          47.698978707940675
         ],
         "line": {
          "color": "rgb(0.272594,0.025563,0.353093)",
          "width": 2
         },
         "lon": [
          -122.38756298022817,
          -122.38756135534815
         ],
         "mode": "lines",
         "showlegend": false,
         "type": "scattermapbox"
        },
        {
         "hoverinfo": "text",
         "hovertext": "W SEA BR EB 4 AV OFF RP Flow: 2396.0",
         "lat": [
          47.690575453393976,
          47.692359443544305
         ],
         "line": {
          "color": "rgb(0.272594,0.025563,0.353093)",
          "width": 2
         },
         "lon": [
          -122.38759810513447,
          -122.38757647889783
         ],
         "mode": "lines",
         "showlegend": false,
         "type": "scattermapbox"
        },
        {
         "hoverinfo": "text",
         "hovertext": "W SEA BR EB 4 AV OFF RP Flow: 2396.0",
         "lat": [
          47.692359443544305,
          47.69336708692612,
          47.694143475290076
         ],
         "line": {
          "color": "rgb(0.272594,0.025563,0.353093)",
          "width": 2
         },
         "lon": [
          -122.38757647889783,
          -122.38757415852693,
          -122.38757237193143
         ],
         "mode": "lines",
         "showlegend": false,
         "type": "scattermapbox"
        },
        {
         "hoverinfo": "text",
         "hovertext": "W SEA BR EB 4 AV OFF RP Flow: 2396.0",
         "lat": [
          47.69517940531623,
          47.69604141296411,
          47.69605087184828,
          47.697247790801846,
          47.697867744822105
         ],
         "line": {
          "color": "rgb(0.272594,0.025563,0.353093)",
          "width": 2
         },
         "lon": [
          -122.38756998226856,
          -122.38756799619979,
          -122.3875679740516,
          -122.38756547315367,
          -122.38756379372163
         ],
         "mode": "lines",
         "showlegend": false,
         "type": "scattermapbox"
        },
        {
         "hoverinfo": "text",
         "hovertext": "W SEA BR EB 4 AV OFF RP Flow: 2396.0",
         "lat": [
          47.697867744822105,
          47.69787601891978,
          47.69823627533876
         ],
         "line": {
          "color": "rgb(0.272594,0.025563,0.353093)",
          "width": 2
         },
         "lon": [
          -122.38756379372163,
          -122.38756377077004,
          -122.38756298022817
         ],
         "mode": "lines",
         "showlegend": false,
         "type": "scattermapbox"
        },
        {
         "hoverinfo": "text",
         "hovertext": "W SEA BR EB 4 AV OFF RP Flow: 2396.0",
         "lat": [
          47.694143475290076,
          47.69517940531623
         ],
         "line": {
          "color": "rgb(0.272594,0.025563,0.353093)",
          "width": 2
         },
         "lon": [
          -122.38757237193143,
          -122.38756998226856
         ],
         "mode": "lines",
         "showlegend": false,
         "type": "scattermapbox"
        },
        {
         "hoverinfo": "text",
         "hovertext": "W SEA BR EB 4 AV OFF RP Flow: 1500.0",
         "lat": [
          47.51105158587278,
          47.51098208132378,
          47.51092549946021,
          47.51088143463413,
          47.51082711019193,
          47.510762841366095,
          47.51068899506764,
          47.51060606145632,
          47.51060600183996,
          47.51060575628717,
          47.510510038544325,
          47.510405221602085,
          47.510292209768906,
          47.510171713052706,
          47.51009551067026,
          47.51001567883337,
          47.509932824840426,
          47.509847574162755
         ],
         "line": {
          "color": "rgb(0.269944,0.014625,0.341379)",
          "width": 2
         },
         "lon": [
          -122.2470311533502,
          -122.24682072449787,
          -122.24665869268487,
          -122.24645672176872,
          -122.24626027410409,
          -122.24607047895289,
          -122.24588843376593,
          -122.24571530835605,
          -122.24571518326056,
          -122.24571474641824,
          -122.24554471678935,
          -122.24538601526942,
          -122.24524007509304,
          -122.24510782231444,
          -122.2450413146089,
          -122.24498483277954,
          -122.24493880615859,
          -122.24490357693178
         ],
         "mode": "lines",
         "showlegend": false,
         "type": "scattermapbox"
        },
        {
         "hoverinfo": "text",
         "hovertext": "W SEA BR EB 4 AV OFF RP Flow: 1500.0",
         "lat": [
          47.509847574162755,
          47.50971587581824
         ],
         "line": {
          "color": "rgb(0.269944,0.014625,0.341379)",
          "width": 2
         },
         "lon": [
          -122.24490357693178,
          -122.24488275742324
         ],
         "mode": "lines",
         "showlegend": false,
         "type": "scattermapbox"
        },
        {
         "hoverinfo": "text",
         "hovertext": "W SEA BR EB 4 AV OFF RP Flow: 17040.0",
         "lat": [
          47.6693443205591,
          47.66984458426236
         ],
         "line": {
          "color": "rgb(0.271828,0.209303,0.504434)",
          "width": 2
         },
         "lon": [
          -122.3399637911987,
          -122.33991618485187
         ],
         "mode": "lines",
         "showlegend": false,
         "type": "scattermapbox"
        },
        {
         "hoverinfo": "text",
         "hovertext": "W SEA BR EB 4 AV OFF RP Flow: 17040.0",
         "lat": [
          47.67020367568444,
          47.67082507537148,
          47.67083252339594,
          47.670839973269175,
          47.6708474241825,
          47.67085487220308,
          47.67086231792952,
          47.67086974373857,
          47.67087718320147,
          47.670884619206916,
          47.67089205265406,
          47.67089948084523,
          47.670906901829824,
          47.67091432128985,
          47.67092173371287,
          47.67092914267845,
          47.67093654547105,
          47.670943959495,
          47.67095134726164,
          47.670958728872925,
          47.670966103429684,
          47.67097347091422,
          47.67098082774712,
          47.6709881882057,
          47.67099552819644,
          47.671002859334,
          47.671010180684014,
          47.67101749136474,
          47.67102476101121,
          47.67103205033579,
          47.671039328109444,
          47.6710465951962,
          47.67105384981517,
          47.67106111866381,
          47.67106834741262,
          47.671075563676055,
          47.67108276658995,
          47.67108995516709,
          47.67109712857854,
          47.67110425845821,
          47.67111140326654,
          47.6711185329268,
          47.671125646469314,
          47.67113274391166,
          47.67113984413569,
          47.671146906680015,
          47.67115395492263,
          47.671160985248946,
          47.67116799677731,
          47.6711749781342,
          47.67118195204901,
          47.67118890802991,
          47.67119584521278,
          47.67120276174631,
          47.67120965856496,
          47.67121654658444,
          47.67122340215721,
          47.67123023709813,
          47.67123705050805,
          47.67124384235171,
          47.6712506148177,
          47.6712573618007,
          47.67126408633576,
          47.67127078750594,
          47.671277465346556,
          47.671284089733305,
          47.671290718146416,
          47.67129732319468,
          47.67130390309711,
          47.67131045871777,
          47.67131698734129,
          47.67132351085212,
          47.67132998824953,
          47.671336439566616,
          47.67134286300487,
          47.67134925941072,
          47.67135562890883,
          47.671361969556884,
          47.67136828229089,
          47.67137456712836,
          47.67138082225319,
          47.671387037296746,
          47.67139323296104,
          47.67139940072882,
          47.671405538801444,
          47.67141164441084,
          47.67141771939066,
          47.67142374128426,
          47.671429754987265,
          47.671435737161396,
          47.671441687753855,
          47.67144760410203,
          47.67145351608536,
          47.67145936660751,
          47.671465186464744,
          47.671470972060014,
          47.671476724275045,
          47.67148242350051,
          47.671488106239515,
          47.671493754698965,
          47.67149937064213,
          47.67150494780937,
          47.6715104897449,
          47.67151602522826,
          47.67152149585394,
          47.67152693124791,
          47.671532328747524,
          47.67153769006337,
          47.671543001378225,
          47.671548287716654,
          47.67155353705996,
          47.67155874932013,
          47.67156392183458,
          47.671569037543016,
          47.67157413056594,
          47.671579182943866,
          47.671584198238634,
          47.67158917636221,
          47.67159412175804,
          47.67159902845303,
          47.671603860660504,
          47.67160863093977,
          47.67161334184788,
          47.67161800867212,
          47.671622602689034,
          47.67162713557132,
          47.67163160634931,
          47.671636019324076,
          47.6716403668807,
          47.6716446505169,
          47.67164887113187,
          47.67165300210143,
          47.67165709579228,
          47.67166112461056,
          47.671665103792606,
          47.671669001049594,
          47.67167283433322,
          47.671676600028796,
          47.67168030111739,
          47.671683933347396,
          47.671687497954146,
          47.671690993985536,
          47.67169439689579,
          47.67169775755738,
          47.67170104786265,
          47.67170426955736,
          47.67170742303217,
          47.67171047350962,
          47.671713443721224,
          47.67171891213469,
          47.67199223031558,
          47.671992917232565,
          47.67201233359625,
          47.672032878046544,
          47.672054537432274,
          47.67207729770333,
          47.672184092572685
         ],
         "line": {
          "color": "rgb(0.271828,0.209303,0.504434)",
          "width": 2
         },
         "lon": [
          -122.33990391241898,
          -122.33991832506753,
          -122.33991817603516,
          -122.33991788720995,
          -122.33991758775981,
          -122.33991723495087,
          -122.33991678351681,
          -122.33991579742487,
          -122.33991513936881,
          -122.33991440263195,
          -122.33991358724028,
          -122.3399126931155,
          -122.33991207181545,
          -122.33991102160803,
          -122.33990989128395,
          -122.33990868227883,
          -122.33990739584578,
          -122.33990607644112,
          -122.33990463374256,
          -122.33990311228459,
          -122.33990151204118,
          -122.33989983434354,
          -122.33989807775615,
          -122.33989597898154,
          -122.33989406740741,
          -122.33989207699548,
          -122.33989001038242,
          -122.33988786621074,
          -122.33988555969202,
          -122.33988326173434,
          -122.33988088486055,
          -122.33987843175933,
          -122.33987590104724,
          -122.3398733827338,
          -122.3398706994365,
          -122.33986793985956,
          -122.33986510131412,
          -122.33986219043094,
          -122.33985920185853,
          -122.33985637584435,
          -122.3398532372709,
          -122.33985001967667,
          -122.33984672836114,
          -122.3398433619928,
          -122.33983978526744,
          -122.33983626871527,
          -122.33983267716242,
          -122.33982901183592,
          -122.33982527137833,
          -122.33982143148611,
          -122.33981754209759,
          -122.33981358026675,
          -122.33980954330467,
          -122.33980543515335,
          -122.33980125317612,
          -122.33979705629201,
          -122.33979272794204,
          -122.33978832707137,
          -122.33978385365391,
          -122.33977931035233,
          -122.33977480378059,
          -122.3397701153332,
          -122.33976535564416,
          -122.33976052601892,
          -122.33975562379457,
          -122.33975027383912,
          -122.33974523166385,
          -122.33974011955218,
          -122.33973493612059,
          -122.33972968405794,
          -122.33972436461731,
          -122.33971909164303,
          -122.33971363219916,
          -122.33970810407202,
          -122.33970250720935,
          -122.33969684563142,
          -122.33969117794464,
          -122.33968537889577,
          -122.33967951377403,
          -122.33967358124818,
          -122.3396675825974,
          -122.33966148555592,
          -122.33965535731797,
          -122.3396491616758,
          -122.33964289857727,
          -122.33963657326973,
          -122.33963018314246,
          -122.33962406584358,
          -122.33961754740828,
          -122.33961096412719,
          -122.33960431999446,
          -122.33959761226907,
          -122.3395904862034,
          -122.33958365403369,
          -122.33957675970692,
          -122.33956980311886,
          -122.339562785627,
          -122.33955562541786,
          -122.3395484873715,
          -122.33954128839513,
          -122.33953403120374,
          -122.3395267129521,
          -122.33951933773862,
          -122.33951204224991,
          -122.33950454909248,
          -122.33949699897317,
          -122.33948938915108,
          -122.33948172633517,
          -122.33947430713614,
          -122.33946653159755,
          -122.33945869638227,
          -122.33945080814705,
          -122.33944286415101,
          -122.33943445367795,
          -122.33942639816027,
          -122.33941828685573,
          -122.33941012253138,
          -122.33940191184404,
          -122.33939365891817,
          -122.33938554338592,
          -122.33937714200098,
          -122.3393686615704,
          -122.33936011282334,
          -122.3393514962028,
          -122.33934280688078,
          -122.33933404652748,
          -122.3393252204423,
          -122.33931627547435,
          -122.33930731129468,
          -122.33929828266248,
          -122.33928918960386,
          -122.33928007263599,
          -122.33927084936704,
          -122.33926156561377,
          -122.33925229373973,
          -122.33924289029707,
          -122.33923342639615,
          -122.33922390326414,
          -122.33921436760367,
          -122.33920473271866,
          -122.33919504126537,
          -122.339185297212,
          -122.33917545189925,
          -122.33916560402919,
          -122.33915570217567,
          -122.3391457503849,
          -122.33913585521967,
          -122.33912578925062,
          -122.339115670343,
          -122.33909677205249,
          -122.33813104533101,
          -122.33812862251587,
          -122.33806227535675,
          -122.33799667603925,
          -122.33793186680022,
          -122.33786788985046,
          -122.33762007195428
         ],
         "mode": "lines",
         "showlegend": false,
         "type": "scattermapbox"
        },
        {
         "hoverinfo": "text",
         "hovertext": "W SEA BR EB 4 AV OFF RP Flow: 17040.0",
         "lat": [
          47.67460101159732,
          47.67477299978135,
          47.67480874839873,
          47.674867495471965,
          47.674947466168604,
          47.67526482812457
         ],
         "line": {
          "color": "rgb(0.271828,0.209303,0.504434)",
          "width": 2
         },
         "lon": [
          -122.33458721767224,
          -122.33437217916378,
          -122.33431529628132,
          -122.33423164157766,
          -122.33409982803855,
          -122.33353290793077
         ],
         "mode": "lines",
         "showlegend": false,
         "type": "scattermapbox"
        },
        {
         "hoverinfo": "text",
         "hovertext": "W SEA BR EB 4 AV OFF RP Flow: 17040.0",
         "lat": [
          47.672184092572685,
          47.672256500638376,
          47.672288245332076,
          47.67232106078654,
          47.67235492484129,
          47.67238981355513,
          47.67242570125853,
          47.67246256131249,
          47.67250036891165,
          47.672539096640755,
          47.67257871787848,
          47.67258255872225,
          47.673708651431205
         ],
         "line": {
          "color": "rgb(0.271828,0.209303,0.504434)",
          "width": 2
         },
         "lon": [
          -122.33762007195428,
          -122.33748288498086,
          -122.33742283700875,
          -122.33736406395312,
          -122.3373066091244,
          -122.33725051444992,
          -122.33719581647973,
          -122.33714255706397,
          -122.33709077544218,
          -122.33704050411947,
          -122.33699178361543,
          -122.33698718509031,
          -122.33565361207765
         ],
         "mode": "lines",
         "showlegend": false,
         "type": "scattermapbox"
        },
        {
         "hoverinfo": "text",
         "hovertext": "W SEA BR EB 4 AV OFF RP Flow: 17040.0",
         "lat": [
          47.66984458426236,
          47.67020367568444
         ],
         "line": {
          "color": "rgb(0.271828,0.209303,0.504434)",
          "width": 2
         },
         "lon": [
          -122.33991618485187,
          -122.33990391241898
         ],
         "mode": "lines",
         "showlegend": false,
         "type": "scattermapbox"
        },
        {
         "hoverinfo": "text",
         "hovertext": "W SEA BR EB 4 AV OFF RP Flow: 17040.0",
         "lat": [
          47.673708651431205,
          47.67460101159732
         ],
         "line": {
          "color": "rgb(0.271828,0.209303,0.504434)",
          "width": 2
         },
         "lon": [
          -122.33565361207765,
          -122.33458721767224
         ],
         "mode": "lines",
         "showlegend": false,
         "type": "scattermapbox"
        },
        {
         "hoverinfo": "text",
         "hovertext": "W SEA BR EB 4 AV OFF RP Flow: 15729.0",
         "lat": [
          47.61617112381272,
          47.61618690205154,
          47.61684046574373
         ],
         "line": {
          "color": "rgb(0.275191,0.194905,0.496005)",
          "width": 2
         },
         "lon": [
          -122.3314165991048,
          -122.33140436473495,
          -122.33055885331203
         ],
         "mode": "lines",
         "showlegend": false,
         "type": "scattermapbox"
        },
        {
         "hoverinfo": "text",
         "hovertext": "W SEA BR EB 4 AV OFF RP Flow: 15729.0",
         "lat": [
          47.61684046574373,
          47.617501618617254,
          47.61750461817339
         ],
         "line": {
          "color": "rgb(0.275191,0.194905,0.496005)",
          "width": 2
         },
         "lon": [
          -122.33055885331203,
          -122.32970284586246,
          -122.32969878895042
         ],
         "mode": "lines",
         "showlegend": false,
         "type": "scattermapbox"
        },
        {
         "hoverinfo": "text",
         "hovertext": "W SEA BR EB 4 AV OFF RP Flow: 9355.0",
         "lat": [
          47.650543276282285,
          47.650591568798724,
          47.65060615472174,
          47.650612072699985,
          47.650606478129454,
          47.65059525971611,
          47.65058553796557,
          47.650577316615525,
          47.65057060215325,
          47.650565400080964,
          47.650561712372706,
          47.65055954190198,
          47.65055889147375,
          47.65055975946544,
          47.65056214508518,
          47.65056604761021,
          47.650571463619904,
          47.65057839142382,
          47.650586827601686,
          47.65059676148781,
          47.65060819056164,
          47.650621105091425,
          47.65063549894272,
          47.65065136148479,
          47.650668680323,
          47.650687445726255,
          47.650707644400896,
          47.65072926393557,
          47.650752288339035,
          47.650776702553955,
          47.65080249147155,
          47.650829636437564,
          47.65085812063085,
          47.65088792353018,
          47.65091902658475,
          47.65096287212336,
          47.650995696919324,
          47.65102560634559,
          47.65105551641353,
          47.65108341988581
         ],
         "line": {
          "color": "rgb(0.283229,0.120777,0.440584)",
          "width": 2
         },
         "lon": [
          -122.30761623219239,
          -122.30754041035159,
          -122.30746370727933,
          -122.30735658223344,
          -122.30721722654165,
          -122.30713183183177,
          -122.30704603624521,
          -122.30695989845984,
          -122.30687347323708,
          -122.30678682196722,
          -122.30670000061497,
          -122.30661306517047,
          -122.30652607694734,
          -122.30643909180813,
          -122.30635217096462,
          -122.30626537030487,
          -122.30617874564076,
          -122.30609235815848,
          -122.3060062636701,
          -122.30592052177649,
          -122.3058351883154,
          -122.30575032025165,
          -122.30566597465241,
          -122.30558220845754,
          -122.30549907589456,
          -122.30541663392924,
          -122.30533493676427,
          -122.30525403995861,
          -122.30517399763922,
          -122.30509486129682,
          -122.30501668641523,
          -122.30493952438417,
          -122.30486342398281,
          -122.30478844187418,
          -122.30471462146406,
          -122.30460775132778,
          -122.30446213575142,
          -122.3043026979704,
          -122.3041432626932,
          -122.30390736015777
         ],
         "mode": "lines",
         "showlegend": false,
         "type": "scattermapbox"
        },
        {
         "hoverinfo": "text",
         "hovertext": "W SEA BR EB 4 AV OFF RP Flow: 8688.0",
         "lat": [
          47.646921925822646,
          47.64782677362257
         ],
         "line": {
          "color": "rgb(0.283091,0.110553,0.431554)",
          "width": 2
         },
         "lon": [
          -122.32210299278914,
          -122.32210082780068
         ],
         "mode": "lines",
         "showlegend": false,
         "type": "scattermapbox"
        },
        {
         "hoverinfo": "text",
         "hovertext": "W SEA BR EB 4 AV OFF RP Flow: 8688.0",
         "lat": [
          47.64561992138458,
          47.64683647744274,
          47.646921925822646
         ],
         "line": {
          "color": "rgb(0.283091,0.110553,0.431554)",
          "width": 2
         },
         "lon": [
          -122.32210550948848,
          -122.32210315685782,
          -122.32210299278914
         ],
         "mode": "lines",
         "showlegend": false,
         "type": "scattermapbox"
        },
        {
         "hoverinfo": "text",
         "hovertext": "W SEA BR EB 4 AV OFF RP Flow: 8688.0",
         "lat": [
          47.648710640170826,
          47.64890047386041,
          47.64955379487711,
          47.64964288297975,
          47.649980979152204,
          47.65008913501129,
          47.65020225399197,
          47.65029651844546,
          47.65051917315982
         ],
         "line": {
          "color": "rgb(0.283091,0.110553,0.431554)",
          "width": 2
         },
         "lon": [
          -122.32209905647332,
          -122.32209857025724,
          -122.32209688889276,
          -122.32209666127466,
          -122.32209579387812,
          -122.3220955171197,
          -122.32209524001716,
          -122.32209501016779,
          -122.32209446518969
         ],
         "mode": "lines",
         "showlegend": false,
         "type": "scattermapbox"
        },
        {
         "hoverinfo": "text",
         "hovertext": "W SEA BR EB 4 AV OFF RP Flow: 8688.0",
         "lat": [
          47.64782677362257,
          47.64867776248011,
          47.648710640170826
         ],
         "line": {
          "color": "rgb(0.283091,0.110553,0.431554)",
          "width": 2
         },
         "lon": [
          -122.32210082780068,
          -122.32209911357866,
          -122.32209905647332
         ],
         "mode": "lines",
         "showlegend": false,
         "type": "scattermapbox"
        },
        {
         "hoverinfo": "text",
         "hovertext": "W SEA BR EB 4 AV OFF RP Flow: 11274.0",
         "lat": [
          47.61327122308668,
          47.613587998916195,
          47.61403982291637
         ],
         "line": {
          "color": "rgb(0.282623,0.140926,0.457517)",
          "width": 2
         },
         "lon": [
          -122.34435339866259,
          -122.34488929693428,
          -122.34565345644711
         ],
         "mode": "lines",
         "showlegend": false,
         "type": "scattermapbox"
        },
        {
         "hoverinfo": "text",
         "hovertext": "W SEA BR EB 4 AV OFF RP Flow: 11274.0",
         "lat": [
          47.61403982291637,
          47.61473907132101,
          47.6147679238496,
          47.61480883668842
         ],
         "line": {
          "color": "rgb(0.282623,0.140926,0.457517)",
          "width": 2
         },
         "lon": [
          -122.34565345644711,
          -122.34685466373632,
          -122.34689556918426,
          -122.34695357575437
         ],
         "mode": "lines",
         "showlegend": false,
         "type": "scattermapbox"
        },
        {
         "hoverinfo": "text",
         "hovertext": "W SEA BR EB 4 AV OFF RP Flow: 11274.0",
         "lat": [
          47.61250190168383,
          47.61327122308668
         ],
         "line": {
          "color": "rgb(0.282623,0.140926,0.457517)",
          "width": 2
         },
         "lon": [
          -122.34305260445157,
          -122.34435339866259
         ],
         "mode": "lines",
         "showlegend": false,
         "type": "scattermapbox"
        },
        {
         "hoverinfo": "text",
         "hovertext": "W SEA BR EB 4 AV OFF RP Flow: 11405.0",
         "lat": [
          47.56407659791716,
          47.56407664181458,
          47.56407684198959,
          47.56407686927236,
          47.56407706814208,
          47.56407713595904
         ],
         "line": {
          "color": "rgb(0.282290,0.145912,0.461510)",
          "width": 2
         },
         "lon": [
          -122.37618931718269,
          -122.37629068236569,
          -122.37675648874759,
          -122.37682153699495,
          -122.37728761056658,
          -122.37744947025904
         ],
         "mode": "lines",
         "showlegend": false,
         "type": "scattermapbox"
        },
        {
         "hoverinfo": "text",
         "hovertext": "W SEA BR EB 4 AV OFF RP Flow: 11405.0",
         "lat": [
          47.56407713595904,
          47.564077182028186,
          47.5640775030553,
          47.56407771245929
         ],
         "line": {
          "color": "rgb(0.282290,0.145912,0.461510)",
          "width": 2
         },
         "lon": [
          -122.37744947025904,
          -122.37746972393914,
          -122.37761126838784,
          -122.37770366806059
         ],
         "mode": "lines",
         "showlegend": false,
         "type": "scattermapbox"
        },
        {
         "hoverinfo": "text",
         "hovertext": "W SEA BR EB 4 AV OFF RP Flow: 12045.0",
         "lat": [
          47.71550622531062,
          47.71731678234961
         ],
         "line": {
          "color": "rgb(0.281887,0.150881,0.465405)",
          "width": 2
         },
         "lon": [
          -122.2915031059354,
          -122.29136481285235
         ],
         "mode": "lines",
         "showlegend": false,
         "type": "scattermapbox"
        },
        {
         "hoverinfo": "text",
         "hovertext": "W SEA BR EB 4 AV OFF RP Flow: 12045.0",
         "lat": [
          47.714350597560205,
          47.714377109276214,
          47.714417599291146,
          47.71445830866357,
          47.714499192583624,
          47.71454021426679,
          47.71458133051426,
          47.714622505491526,
          47.71466369235144,
          47.714704852459356,
          47.71550622531062
         ],
         "line": {
          "color": "rgb(0.281887,0.150881,0.465405)",
          "width": 2
         },
         "lon": [
          -122.29151962729513,
          -122.29152822826781,
          -122.29153940117016,
          -122.29154868609477,
          -122.29155606978226,
          -122.29156154453028,
          -122.29156511178742,
          -122.29156675987889,
          -122.29156649414969,
          -122.29156431084434,
          -122.2915031059354
         ],
         "mode": "lines",
         "showlegend": false,
         "type": "scattermapbox"
        },
        {
         "hoverinfo": "text",
         "hovertext": "W SEA BR EB 4 AV OFF RP Flow: 12045.0",
         "lat": [
          47.71195941552655,
          47.71265564742992,
          47.71270835228512,
          47.71276100157267,
          47.712813558473286,
          47.712865986082406,
          47.71291824496786,
          47.71297029920922,
          47.71302211025641,
          47.71307364134065,
          47.71312485392857,
          47.713175712235675,
          47.71322618042625,
          47.713278944601406
         ],
         "line": {
          "color": "rgb(0.281887,0.150881,0.465405)",
          "width": 2
         },
         "lon": [
          -122.29065019955922,
          -122.29066207157774,
          -122.29066401978704,
          -122.29066806313881,
          -122.2906741966073,
          -122.29068242182903,
          -122.29069272704028,
          -122.29070510724038,
          -122.29071955202305,
          -122.29073605236476,
          -122.2907545965265,
          -122.29077516884726,
          -122.29079775766351,
          -122.29083011078576
         ],
         "mode": "lines",
         "showlegend": false,
         "type": "scattermapbox"
        },
        {
         "hoverinfo": "text",
         "hovertext": "W SEA BR EB 4 AV OFF RP Flow: 12045.0",
         "lat": [
          47.713278944601406,
          47.714350597560205
         ],
         "line": {
          "color": "rgb(0.281887,0.150881,0.465405)",
          "width": 2
         },
         "lon": [
          -122.29083011078576,
          -122.29151962729513
         ],
         "mode": "lines",
         "showlegend": false,
         "type": "scattermapbox"
        },
        {
         "hoverinfo": "text",
         "hovertext": "W SEA BR EB 4 AV OFF RP Flow: 12045.0",
         "lat": [
          47.71731678234961,
          47.71781032603773,
          47.71788583368078,
          47.71905712270515,
          47.71909600080668,
          47.71913509404877,
          47.719174383445015,
          47.71921383921756,
          47.719242694182846,
          47.71925343734195
         ],
         "line": {
          "color": "rgb(0.281887,0.150881,0.465405)",
          "width": 2
         },
         "lon": [
          -122.29136481285235,
          -122.29132711479981,
          -122.29129741339555,
          -122.29083668252133,
          -122.29082321509777,
          -122.29081121476266,
          -122.29080068898482,
          -122.29079164493021,
          -122.29078611863676,
          -122.29078406193135
         ],
         "mode": "lines",
         "showlegend": false,
         "type": "scattermapbox"
        },
        {
         "hoverinfo": "text",
         "hovertext": "W SEA BR EB 4 AV OFF RP Flow: 17719.0",
         "lat": [
          47.71935298747316,
          47.71934080743252,
          47.71934073027049
         ],
         "line": {
          "color": "rgb(0.269308,0.218818,0.509577)",
          "width": 2
         },
         "lon": [
          -122.30592004842725,
          -122.30457658306952,
          -122.3045682703205
         ],
         "mode": "lines",
         "showlegend": false,
         "type": "scattermapbox"
        },
        {
         "hoverinfo": "text",
         "hovertext": "W SEA BR EB 4 AV OFF RP Flow: 17719.0",
         "lat": [
          47.71938179840533,
          47.719374707558075,
          47.719365232177246
         ],
         "line": {
          "color": "rgb(0.269308,0.218818,0.509577)",
          "width": 2
         },
         "lon": [
          -122.3091036078881,
          -122.30831908068667,
          -122.30727176328271
         ],
         "mode": "lines",
         "showlegend": false,
         "type": "scattermapbox"
        },
        {
         "hoverinfo": "text",
         "hovertext": "W SEA BR EB 4 AV OFF RP Flow: 17719.0",
         "lat": [
          47.71934073027049,
          47.719340657354955,
          47.71933409174953
         ],
         "line": {
          "color": "rgb(0.269308,0.218818,0.509577)",
          "width": 2
         },
         "lon": [
          -122.3045682703205,
          -122.30456032562826,
          -122.30383686618453
         ],
         "mode": "lines",
         "showlegend": false,
         "type": "scattermapbox"
        },
        {
         "hoverinfo": "text",
         "hovertext": "W SEA BR EB 4 AV OFF RP Flow: 17719.0",
         "lat": [
          47.719389669994094,
          47.7193895965983,
          47.71938179840533
         ],
         "line": {
          "color": "rgb(0.269308,0.218818,0.509577)",
          "width": 2
         },
         "lon": [
          -122.3099752587927,
          -122.3099669634542,
          -122.3091036078881
         ],
         "mode": "lines",
         "showlegend": false,
         "type": "scattermapbox"
        },
        {
         "hoverinfo": "text",
         "hovertext": "W SEA BR EB 4 AV OFF RP Flow: 17719.0",
         "lat": [
          47.71931616484707,
          47.719308368808555,
          47.719308343116914
         ],
         "line": {
          "color": "rgb(0.269308,0.218818,0.509577)",
          "width": 2
         },
         "lon": [
          -122.30186480525784,
          -122.3004771267707,
          -122.30039347265073
         ],
         "mode": "lines",
         "showlegend": false,
         "type": "scattermapbox"
        },
        {
         "hoverinfo": "text",
         "hovertext": "W SEA BR EB 4 AV OFF RP Flow: 17719.0",
         "lat": [
          47.719414042614254,
          47.71941294623613,
          47.71940188780009
         ],
         "line": {
          "color": "rgb(0.269308,0.218818,0.509577)",
          "width": 2
         },
         "lon": [
          -122.3126787728095,
          -122.31255698755099,
          -122.31132700815375
         ],
         "mode": "lines",
         "showlegend": false,
         "type": "scattermapbox"
        },
        {
         "hoverinfo": "text",
         "hovertext": "W SEA BR EB 4 AV OFF RP Flow: 17719.0",
         "lat": [
          47.71929175517323,
          47.71928489143583
         ],
         "line": {
          "color": "rgb(0.269308,0.218818,0.509577)",
          "width": 2
         },
         "lon": [
          -122.29780321785043,
          -122.29631399550578
         ],
         "mode": "lines",
         "showlegend": false,
         "type": "scattermapbox"
        },
        {
         "hoverinfo": "text",
         "hovertext": "W SEA BR EB 4 AV OFF RP Flow: 17719.0",
         "lat": [
          47.719308343116914,
          47.71930332875877,
          47.719300553700485
         ],
         "line": {
          "color": "rgb(0.269308,0.218818,0.509577)",
          "width": 2
         },
         "lon": [
          -122.30039347265073,
          -122.29955382973327,
          -122.29908940864597
         ],
         "mode": "lines",
         "showlegend": false,
         "type": "scattermapbox"
        },
        {
         "hoverinfo": "text",
         "hovertext": "W SEA BR EB 4 AV OFF RP Flow: 17719.0",
         "lat": [
          47.71933409174953,
          47.719325545209195,
          47.71932547399912
         ],
         "line": {
          "color": "rgb(0.269308,0.218818,0.509577)",
          "width": 2
         },
         "lon": [
          -122.30383686618453,
          -122.302896472639,
          -122.30288859599116
         ],
         "mode": "lines",
         "showlegend": false,
         "type": "scattermapbox"
        },
        {
         "hoverinfo": "text",
         "hovertext": "W SEA BR EB 4 AV OFF RP Flow: 17719.0",
         "lat": [
          47.71939793360336,
          47.719389742308024,
          47.719389669994094
         ],
         "line": {
          "color": "rgb(0.269308,0.218818,0.509577)",
          "width": 2
         },
         "lon": [
          -122.3108911911009,
          -122.30998322082404,
          -122.3099752587927
         ],
         "mode": "lines",
         "showlegend": false,
         "type": "scattermapbox"
        },
        {
         "hoverinfo": "text",
         "hovertext": "W SEA BR EB 4 AV OFF RP Flow: 17719.0",
         "lat": [
          47.719357689032414,
          47.71935298747316
         ],
         "line": {
          "color": "rgb(0.269308,0.218818,0.509577)",
          "width": 2
         },
         "lon": [
          -122.3064388950942,
          -122.30592004842725
         ],
         "mode": "lines",
         "showlegend": false,
         "type": "scattermapbox"
        },
        {
         "hoverinfo": "text",
         "hovertext": "W SEA BR EB 4 AV OFF RP Flow: 17719.0",
         "lat": [
          47.71940188780009,
          47.71939793360336
         ],
         "line": {
          "color": "rgb(0.269308,0.218818,0.509577)",
          "width": 2
         },
         "lon": [
          -122.31132700815375,
          -122.3108911911009
         ],
         "mode": "lines",
         "showlegend": false,
         "type": "scattermapbox"
        },
        {
         "hoverinfo": "text",
         "hovertext": "W SEA BR EB 4 AV OFF RP Flow: 17719.0",
         "lat": [
          47.71932547399912,
          47.71932539848919,
          47.71931616484707
         ],
         "line": {
          "color": "rgb(0.269308,0.218818,0.509577)",
          "width": 2
         },
         "lon": [
          -122.30288859599116,
          -122.30288021530922,
          -122.30186480525784
         ],
         "mode": "lines",
         "showlegend": false,
         "type": "scattermapbox"
        },
        {
         "hoverinfo": "text",
         "hovertext": "W SEA BR EB 4 AV OFF RP Flow: 17719.0",
         "lat": [
          47.719300553700485,
          47.71929175517323
         ],
         "line": {
          "color": "rgb(0.269308,0.218818,0.509577)",
          "width": 2
         },
         "lon": [
          -122.29908940864597,
          -122.29780321785043
         ],
         "mode": "lines",
         "showlegend": false,
         "type": "scattermapbox"
        },
        {
         "hoverinfo": "text",
         "hovertext": "W SEA BR EB 4 AV OFF RP Flow: 17719.0",
         "lat": [
          47.719365232177246,
          47.719357689032414
         ],
         "line": {
          "color": "rgb(0.269308,0.218818,0.509577)",
          "width": 2
         },
         "lon": [
          -122.30727176328271,
          -122.3064388950942
         ],
         "mode": "lines",
         "showlegend": false,
         "type": "scattermapbox"
        },
        {
         "hoverinfo": "text",
         "hovertext": "W SEA BR EB 4 AV OFF RP Flow: 12706.0",
         "lat": [
          47.56075893579347,
          47.56075368433127,
          47.560753654414974,
          47.56075359761472
         ],
         "line": {
          "color": "rgb(0.280868,0.160771,0.472899)",
          "width": 2
         },
         "lon": [
          -122.28992442411737,
          -122.28884122327929,
          -122.28883498792126,
          -122.28882157765938
         ],
         "mode": "lines",
         "showlegend": false,
         "type": "scattermapbox"
        },
        {
         "hoverinfo": "text",
         "hovertext": "W SEA BR EB 4 AV OFF RP Flow: 12706.0",
         "lat": [
          47.56076577863016,
          47.56076420165715
         ],
         "line": {
          "color": "rgb(0.280868,0.160771,0.472899)",
          "width": 2
         },
         "lon": [
          -122.29149426215376,
          -122.29101390557952
         ],
         "mode": "lines",
         "showlegend": false,
         "type": "scattermapbox"
        },
        {
         "hoverinfo": "text",
         "hovertext": "W SEA BR EB 4 AV OFF RP Flow: 12706.0",
         "lat": [
          47.56079381928822,
          47.560765929559174,
          47.56076577863016
         ],
         "line": {
          "color": "rgb(0.280868,0.160771,0.472899)",
          "width": 2
         },
         "lon": [
          -122.29257951680529,
          -122.29154042527462,
          -122.29149426215376
         ],
         "mode": "lines",
         "showlegend": false,
         "type": "scattermapbox"
        },
        {
         "hoverinfo": "text",
         "hovertext": "W SEA BR EB 4 AV OFF RP Flow: 12706.0",
         "lat": [
          47.56076420165715,
          47.56075893579347
         ],
         "line": {
          "color": "rgb(0.280868,0.160771,0.472899)",
          "width": 2
         },
         "lon": [
          -122.29101390557952,
          -122.28992442411737
         ],
         "mode": "lines",
         "showlegend": false,
         "type": "scattermapbox"
        },
        {
         "hoverinfo": "text",
         "hovertext": "W SEA BR EB 4 AV OFF RP Flow: 12706.0",
         "lat": [
          47.56080844656606,
          47.56079381928822
         ],
         "line": {
          "color": "rgb(0.280868,0.160771,0.472899)",
          "width": 2
         },
         "lon": [
          -122.29324025303698,
          -122.29257951680529
         ],
         "mode": "lines",
         "showlegend": false,
         "type": "scattermapbox"
        },
        {
         "hoverinfo": "text",
         "hovertext": "W SEA BR EB 4 AV OFF RP Flow: 12706.0",
         "lat": [
          47.56075359761472,
          47.56075015087126,
          47.56074860209163,
          47.56074767622128
         ],
         "line": {
          "color": "rgb(0.280868,0.160771,0.472899)",
          "width": 2
         },
         "lon": [
          -122.28882157765938,
          -122.28769170006561,
          -122.28727519730595,
          -122.28702675958009
         ],
         "mode": "lines",
         "showlegend": false,
         "type": "scattermapbox"
        },
        {
         "hoverinfo": "text",
         "hovertext": "W SEA BR EB 4 AV OFF RP Flow: 7502.0",
         "lat": [
          47.615587941762925,
          47.61625303950115
         ],
         "line": {
          "color": "rgb(0.282327,0.094955,0.417331)",
          "width": 2
         },
         "lon": [
          -122.35422426782041,
          -122.3533656023891
         ],
         "mode": "lines",
         "showlegend": false,
         "type": "scattermapbox"
        },
        {
         "hoverinfo": "text",
         "hovertext": "W SEA BR EB 4 AV OFF RP Flow: 10968.0",
         "lat": [
          47.613946973126694,
          47.61439140343087
         ],
         "line": {
          "color": "rgb(0.282623,0.140926,0.457517)",
          "width": 2
         },
         "lon": [
          -122.33756320253126,
          -122.33831434293712
         ],
         "mode": "lines",
         "showlegend": false,
         "type": "scattermapbox"
        },
        {
         "hoverinfo": "text",
         "hovertext": "W SEA BR EB 4 AV OFF RP Flow: 3210.0",
         "lat": [
          47.662366424390164,
          47.66291688237491
         ],
         "line": {
          "color": "rgb(0.274952,0.037752,0.364543)",
          "width": 2
         },
         "lon": [
          -122.36079016784987,
          -122.36079223517349
         ],
         "mode": "lines",
         "showlegend": false,
         "type": "scattermapbox"
        },
        {
         "hoverinfo": "text",
         "hovertext": "W SEA BR EB 4 AV OFF RP Flow: 3210.0",
         "lat": [
          47.656944122040784,
          47.65776836793622
         ],
         "line": {
          "color": "rgb(0.274952,0.037752,0.364543)",
          "width": 2
         },
         "lon": [
          -122.36081648713034,
          -122.36081114118006
         ],
         "mode": "lines",
         "showlegend": false,
         "type": "scattermapbox"
        },
        {
         "hoverinfo": "text",
         "hovertext": "W SEA BR EB 4 AV OFF RP Flow: 3210.0",
         "lat": [
          47.66021100696723,
          47.66048478128798
         ],
         "line": {
          "color": "rgb(0.274952,0.037752,0.364543)",
          "width": 2
         },
         "lon": [
          -122.36079424188628,
          -122.36079219137413
         ],
         "mode": "lines",
         "showlegend": false,
         "type": "scattermapbox"
        },
        {
         "hoverinfo": "text",
         "hovertext": "W SEA BR EB 4 AV OFF RP Flow: 3210.0",
         "lat": [
          47.65493809309281,
          47.65557045238558
         ],
         "line": {
          "color": "rgb(0.274952,0.037752,0.364543)",
          "width": 2
         },
         "lon": [
          -122.3608312879547,
          -122.36082628427073
         ],
         "mode": "lines",
         "showlegend": false,
         "type": "scattermapbox"
        },
        {
         "hoverinfo": "text",
         "hovertext": "W SEA BR EB 4 AV OFF RP Flow: 3210.0",
         "lat": [
          47.66642110315098,
          47.66651181944306,
          47.66678764321587,
          47.66686411695011,
          47.666920389938575
         ],
         "line": {
          "color": "rgb(0.274952,0.037752,0.364543)",
          "width": 2
         },
         "lon": [
          -122.36080079090836,
          -122.3608008398679,
          -122.36080098820055,
          -122.36080102879856,
          -122.36080133341679
         ],
         "mode": "lines",
         "showlegend": false,
         "type": "scattermapbox"
        },
        {
         "hoverinfo": "text",
         "hovertext": "W SEA BR EB 4 AV OFF RP Flow: 3210.0",
         "lat": [
          47.665012280473924,
          47.66505570598221,
          47.66532929691855,
          47.665598243213594,
          47.66568967738451
         ],
         "line": {
          "color": "rgb(0.274952,0.037752,0.364543)",
          "width": 2
         },
         "lon": [
          -122.36080007530862,
          -122.36080005298217,
          -122.36080020227791,
          -122.36080034692829,
          -122.36080039700597
         ],
         "mode": "lines",
         "showlegend": false,
         "type": "scattermapbox"
        },
        {
         "hoverinfo": "text",
         "hovertext": "W SEA BR EB 4 AV OFF RP Flow: 3210.0",
         "lat": [
          47.65557045238558,
          47.656066861755505
         ],
         "line": {
          "color": "rgb(0.274952,0.037752,0.364543)",
          "width": 2
         },
         "lon": [
          -122.36082628427073,
          -122.36082271723889
         ],
         "mode": "lines",
         "showlegend": false,
         "type": "scattermapbox"
        },
        {
         "hoverinfo": "text",
         "hovertext": "W SEA BR EB 4 AV OFF RP Flow: 3210.0",
         "lat": [
          47.65776836793622,
          47.65894988747395
         ],
         "line": {
          "color": "rgb(0.274952,0.037752,0.364543)",
          "width": 2
         },
         "lon": [
          -122.36081114118006,
          -122.36080334588658
         ],
         "mode": "lines",
         "showlegend": false,
         "type": "scattermapbox"
        },
        {
         "hoverinfo": "text",
         "hovertext": "W SEA BR EB 4 AV OFF RP Flow: 3210.0",
         "lat": [
          47.66433620763114,
          47.665012280473924
         ],
         "line": {
          "color": "rgb(0.274952,0.037752,0.364543)",
          "width": 2
         },
         "lon": [
          -122.36079728225326,
          -122.36080007530862
         ],
         "mode": "lines",
         "showlegend": false,
         "type": "scattermapbox"
        },
        {
         "hoverinfo": "text",
         "hovertext": "W SEA BR EB 4 AV OFF RP Flow: 3210.0",
         "lat": [
          47.66146898988877,
          47.66218608895499
         ],
         "line": {
          "color": "rgb(0.274952,0.037752,0.364543)",
          "width": 2
         },
         "lon": [
          -122.36078980055994,
          -122.36078949231735
         ],
         "mode": "lines",
         "showlegend": false,
         "type": "scattermapbox"
        },
        {
         "hoverinfo": "text",
         "hovertext": "W SEA BR EB 4 AV OFF RP Flow: 3210.0",
         "lat": [
          47.66218608895499,
          47.662366424390164
         ],
         "line": {
          "color": "rgb(0.274952,0.037752,0.364543)",
          "width": 2
         },
         "lon": [
          -122.36078949231735,
          -122.36079016784987
         ],
         "mode": "lines",
         "showlegend": false,
         "type": "scattermapbox"
        },
        {
         "hoverinfo": "text",
         "hovertext": "W SEA BR EB 4 AV OFF RP Flow: 3210.0",
         "lat": [
          47.66291688237491,
          47.66319226432623
         ],
         "line": {
          "color": "rgb(0.274952,0.037752,0.364543)",
          "width": 2
         },
         "lon": [
          -122.36079223517349,
          -122.3607932666881
         ],
         "mode": "lines",
         "showlegend": false,
         "type": "scattermapbox"
        },
        {
         "hoverinfo": "text",
         "hovertext": "W SEA BR EB 4 AV OFF RP Flow: 3210.0",
         "lat": [
          47.656066861755505,
          47.65633896215766
         ],
         "line": {
          "color": "rgb(0.274952,0.037752,0.364543)",
          "width": 2
         },
         "lon": [
          -122.36082271723889,
          -122.36082125431652
         ],
         "mode": "lines",
         "showlegend": false,
         "type": "scattermapbox"
        },
        {
         "hoverinfo": "text",
         "hovertext": "W SEA BR EB 4 AV OFF RP Flow: 3210.0",
         "lat": [
          47.66568967738451,
          47.665782894599296,
          47.666060006599885,
          47.666334234468344,
          47.66642110315098
         ],
         "line": {
          "color": "rgb(0.274952,0.037752,0.364543)",
          "width": 2
         },
         "lon": [
          -122.36080039700597,
          -122.3608004462115,
          -122.36080059643922,
          -122.36080074448208,
          -122.36080079090836
         ],
         "mode": "lines",
         "showlegend": false,
         "type": "scattermapbox"
        },
        {
         "hoverinfo": "text",
         "hovertext": "W SEA BR EB 4 AV OFF RP Flow: 3210.0",
         "lat": [
          47.65633896215766,
          47.656944122040784
         ],
         "line": {
          "color": "rgb(0.274952,0.037752,0.364543)",
          "width": 2
         },
         "lon": [
          -122.36082125431652,
          -122.36081648713034
         ],
         "mode": "lines",
         "showlegend": false,
         "type": "scattermapbox"
        },
        {
         "hoverinfo": "text",
         "hovertext": "W SEA BR EB 4 AV OFF RP Flow: 3210.0",
         "lat": [
          47.66319226432623,
          47.66361514995323
         ],
         "line": {
          "color": "rgb(0.274952,0.037752,0.364543)",
          "width": 2
         },
         "lon": [
          -122.3607932666881,
          -122.3607982890703
         ],
         "mode": "lines",
         "showlegend": false,
         "type": "scattermapbox"
        },
        {
         "hoverinfo": "text",
         "hovertext": "W SEA BR EB 4 AV OFF RP Flow: 3210.0",
         "lat": [
          47.66361514995323,
          47.66433620763114
         ],
         "line": {
          "color": "rgb(0.274952,0.037752,0.364543)",
          "width": 2
         },
         "lon": [
          -122.3607982890703,
          -122.36079728225326
         ],
         "mode": "lines",
         "showlegend": false,
         "type": "scattermapbox"
        },
        {
         "hoverinfo": "text",
         "hovertext": "W SEA BR EB 4 AV OFF RP Flow: 3210.0",
         "lat": [
          47.65894988747395,
          47.66021100696723
         ],
         "line": {
          "color": "rgb(0.274952,0.037752,0.364543)",
          "width": 2
         },
         "lon": [
          -122.36080334588658,
          -122.36079424188628
         ],
         "mode": "lines",
         "showlegend": false,
         "type": "scattermapbox"
        },
        {
         "hoverinfo": "text",
         "hovertext": "W SEA BR EB 4 AV OFF RP Flow: 3210.0",
         "lat": [
          47.66048478128798,
          47.66146898988877
         ],
         "line": {
          "color": "rgb(0.274952,0.037752,0.364543)",
          "width": 2
         },
         "lon": [
          -122.36079219137413,
          -122.36078980055994
         ],
         "mode": "lines",
         "showlegend": false,
         "type": "scattermapbox"
        },
        {
         "hoverinfo": "text",
         "hovertext": "W SEA BR EB 4 AV OFF RP Flow: 9392.0",
         "lat": [
          47.52330978872168,
          47.523310403970456
         ],
         "line": {
          "color": "rgb(0.283229,0.120777,0.440584)",
          "width": 2
         },
         "lon": [
          -122.27424225790604,
          -122.27283355453145
         ],
         "mode": "lines",
         "showlegend": false,
         "type": "scattermapbox"
        },
        {
         "hoverinfo": "text",
         "hovertext": "W SEA BR EB 4 AV OFF RP Flow: 9392.0",
         "lat": [
          47.523310403970456,
          47.52331038851234,
          47.523308877980696
         ],
         "line": {
          "color": "rgb(0.283229,0.120777,0.440584)",
          "width": 2
         },
         "lon": [
          -122.27283355453145,
          -122.27281809127876,
          -122.27140117397585
         ],
         "mode": "lines",
         "showlegend": false,
         "type": "scattermapbox"
        },
        {
         "hoverinfo": "text",
         "hovertext": "W SEA BR EB 4 AV OFF RP Flow: 9392.0",
         "lat": [
          47.52331233930024,
          47.52331186181453,
          47.52330978872168
         ],
         "line": {
          "color": "rgb(0.283229,0.120777,0.440584)",
          "width": 2
         },
         "lon": [
          -122.27640325407125,
          -122.2753200533358,
          -122.27424225790604
         ],
         "mode": "lines",
         "showlegend": false,
         "type": "scattermapbox"
        },
        {
         "hoverinfo": "text",
         "hovertext": "W SEA BR EB 4 AV OFF RP Flow: 9392.0",
         "lat": [
          47.523308877980696,
          47.5233076073928,
          47.52330726785948
         ],
         "line": {
          "color": "rgb(0.283229,0.120777,0.440584)",
          "width": 2
         },
         "lon": [
          -122.27140117397585,
          -122.27002057882628,
          -122.26998603943467
         ],
         "mode": "lines",
         "showlegend": false,
         "type": "scattermapbox"
        },
        {
         "hoverinfo": "text",
         "hovertext": "W SEA BR EB 4 AV OFF RP Flow: 9500.0",
         "lat": [
          47.61295826729049,
          47.613300608730924
         ],
         "line": {
          "color": "rgb(0.283229,0.120777,0.440584)",
          "width": 2
         },
         "lon": [
          -122.33787347698471,
          -122.33743123401423
         ],
         "mode": "lines",
         "showlegend": false,
         "type": "scattermapbox"
        },
        {
         "hoverinfo": "text",
         "hovertext": "W SEA BR EB 4 AV OFF RP Flow: 4159.0",
         "lat": [
          47.66795924378061,
          47.66822771160516,
          47.6686993705619
         ],
         "line": {
          "color": "rgb(0.277018,0.050344,0.375715)",
          "width": 2
         },
         "lon": [
          -122.30373895004544,
          -122.30383078079093,
          -122.30389407821379
         ],
         "mode": "lines",
         "showlegend": false,
         "type": "scattermapbox"
        },
        {
         "hoverinfo": "text",
         "hovertext": "W SEA BR EB 4 AV OFF RP Flow: 4159.0",
         "lat": [
          47.6686993705619,
          47.66940651224776
         ],
         "line": {
          "color": "rgb(0.277018,0.050344,0.375715)",
          "width": 2
         },
         "lon": [
          -122.30389407821379,
          -122.30399814500065
         ],
         "mode": "lines",
         "showlegend": false,
         "type": "scattermapbox"
        },
        {
         "hoverinfo": "text",
         "hovertext": "W SEA BR EB 4 AV OFF RP Flow: 95580.0",
         "lat": [
          47.57151842665821,
          47.571518391261385,
          47.57152391749084,
          47.571519851920726,
          47.57151840100638,
          47.57151428872463,
          47.571513776617444,
          47.571511940155595,
          47.57151043273848,
          47.57150955725178,
          47.571506017326115,
          47.57150701089187,
          47.57150691690421,
          47.57150664041103,
          47.57151137655423,
          47.571517530593425,
          47.571505308134185,
          47.5714943471482,
          47.57147345626606,
          47.571428527426335,
          47.571289347551094,
          47.57126146388157,
          47.57122073642776
         ],
         "line": {
          "color": "rgb(0.699415,0.867117,0.175971)",
          "width": 2
         },
         "lon": [
          -122.33091572215828,
          -122.33095481400872,
          -122.3317019037091,
          -122.33201045270441,
          -122.3321218923857,
          -122.33419374623583,
          -122.33678956823215,
          -122.33692463889554,
          -122.3373658530261,
          -122.33796225411706,
          -122.33923413315486,
          -122.33938842002442,
          -122.33946105456951,
          -122.3396739747102,
          -122.34018638784663,
          -122.34085258197327,
          -122.3411118477528,
          -122.34127595393933,
          -122.34152631319795,
          -122.34201865294354,
          -122.34320360276703,
          -122.34344098278255,
          -122.3437876991764
         ],
         "mode": "lines",
         "showlegend": false,
         "type": "scattermapbox"
        },
        {
         "hoverinfo": "text",
         "hovertext": "W SEA BR EB 4 AV OFF RP Flow: 38500.0",
         "lat": [
          47.689112765894386,
          47.689835991400464
         ],
         "line": {
          "color": "rgb(0.182256,0.426184,0.557120)",
          "width": 2
         },
         "lon": [
          -122.34451443487308,
          -122.34451816908913
         ],
         "mode": "lines",
         "showlegend": false,
         "type": "scattermapbox"
        },
        {
         "hoverinfo": "text",
         "hovertext": "W SEA BR EB 4 AV OFF RP Flow: 38500.0",
         "lat": [
          47.689835991400464,
          47.69056258657467
         ],
         "line": {
          "color": "rgb(0.182256,0.426184,0.557120)",
          "width": 2
         },
         "lon": [
          -122.34451816908913,
          -122.34452192148156
         ],
         "mode": "lines",
         "showlegend": false,
         "type": "scattermapbox"
        },
        {
         "hoverinfo": "text",
         "hovertext": "W SEA BR EB 4 AV OFF RP Flow: 11444.0",
         "lat": [
          47.539007881329,
          47.53900778305323,
          47.53900330289287,
          47.53897364496539,
          47.53897100404222,
          47.53896390971108
         ],
         "line": {
          "color": "rgb(0.282290,0.145912,0.461510)",
          "width": 2
         },
         "lon": [
          -122.29869566053793,
          -122.29869323594117,
          -122.2985821852244,
          -122.29700560949395,
          -122.2968652697579,
          -122.29647359095115
         ],
         "mode": "lines",
         "showlegend": false,
         "type": "scattermapbox"
        },
        {
         "hoverinfo": "text",
         "hovertext": "W SEA BR EB 4 AV OFF RP Flow: 11444.0",
         "lat": [
          47.54092232775317,
          47.54092130752708,
          47.54084144026849,
          47.539732859758466
         ],
         "line": {
          "color": "rgb(0.282290,0.145912,0.461510)",
          "width": 2
         },
         "lon": [
          -122.30181967940196,
          -122.30181843237922,
          -122.30172067035099,
          -122.30036374130502
         ],
         "mode": "lines",
         "showlegend": false,
         "type": "scattermapbox"
        },
        {
         "hoverinfo": "text",
         "hovertext": "W SEA BR EB 4 AV OFF RP Flow: 11444.0",
         "lat": [
          47.54698097761781,
          47.54697704265304,
          47.546536610743814,
          47.54573946036498
         ],
         "line": {
          "color": "rgb(0.282290,0.145912,0.461510)",
          "width": 2
         },
         "lon": [
          -122.30793669796242,
          -122.30792956443774,
          -122.307324702599,
          -122.30642626099208
         ],
         "mode": "lines",
         "showlegend": false,
         "type": "scattermapbox"
        },
        {
         "hoverinfo": "text",
         "hovertext": "W SEA BR EB 4 AV OFF RP Flow: 11444.0",
         "lat": [
          47.54573946036498,
          47.54572551070405,
          47.54540983012704
         ],
         "line": {
          "color": "rgb(0.282290,0.145912,0.461510)",
          "width": 2
         },
         "lon": [
          -122.30642626099208,
          -122.30641053912836,
          -122.30609417634479
         ],
         "mode": "lines",
         "showlegend": false,
         "type": "scattermapbox"
        },
        {
         "hoverinfo": "text",
         "hovertext": "W SEA BR EB 4 AV OFF RP Flow: 11444.0",
         "lat": [
          47.54388532322378,
          47.543231062782816,
          47.5428542905258
         ],
         "line": {
          "color": "rgb(0.282290,0.145912,0.461510)",
          "width": 2
         },
         "lon": [
          -122.30451508876112,
          -122.30381909242855,
          -122.30347679943873
         ],
         "mode": "lines",
         "showlegend": false,
         "type": "scattermapbox"
        },
        {
         "hoverinfo": "text",
         "hovertext": "W SEA BR EB 4 AV OFF RP Flow: 11444.0",
         "lat": [
          47.5428542905258,
          47.542401905927306,
          47.54210555345807,
          47.54183989828565,
          47.54154455544686,
          47.54123080030637,
          47.54092232775317
         ],
         "line": {
          "color": "rgb(0.282290,0.145912,0.461510)",
          "width": 2
         },
         "lon": [
          -122.30347679943873,
          -122.30319702158957,
          -122.3029930335501,
          -122.3027563767251,
          -122.30247417007793,
          -122.30215232324991,
          -122.30181967940196
         ],
         "mode": "lines",
         "showlegend": false,
         "type": "scattermapbox"
        },
        {
         "hoverinfo": "text",
         "hovertext": "W SEA BR EB 4 AV OFF RP Flow: 11444.0",
         "lat": [
          47.54540983012704,
          47.54388532322378
         ],
         "line": {
          "color": "rgb(0.282290,0.145912,0.461510)",
          "width": 2
         },
         "lon": [
          -122.30609417634479,
          -122.30451508876112
         ],
         "mode": "lines",
         "showlegend": false,
         "type": "scattermapbox"
        },
        {
         "hoverinfo": "text",
         "hovertext": "W SEA BR EB 4 AV OFF RP Flow: 11444.0",
         "lat": [
          47.539203063208795,
          47.539201723281316,
          47.53920037620271,
          47.53919902457621,
          47.53919766933536,
          47.539196311362325,
          47.5391949497407,
          47.53919358630323,
          47.539192220150724,
          47.539190853081685,
          47.53918948329758,
          47.53918811349626,
          47.53918674371192,
          47.53918537301109,
          47.53918400322658,
          47.53918263434124,
          47.53918126635503,
          47.539179900201496,
          47.539178534047934,
          47.53917717242488,
          47.53917581171807,
          47.539174455558985,
          47.53917310301402,
          47.53917175321818,
          47.539170408852144,
          47.539169068134484,
          47.539167732863774,
          47.53916640215787,
          47.53916507957958,
          47.53916376248253,
          47.539162450849545,
          47.539161147361305,
          47.539159852052116,
          47.539158563123394,
          47.539157282373715,
          47.5391560116016,
          47.5391547489914,
          47.539153493259064,
          47.53915224612483,
          47.539151002621765,
          47.53914976548202,
          47.539148532890025,
          47.539147303963496,
          47.539146080466764,
          47.53914486241696,
          47.53914364803271,
          47.53914243907821,
          47.53914123468854,
          47.53914003572865,
          47.539138841333546,
          47.539137651469,
          47.53913646705138,
          47.539135287181395,
          47.53913411275836,
          47.53913294288296,
          47.53913177662167,
          47.53913061672371,
          47.539129462272705,
          47.53912831145291,
          47.53912716697934,
          47.539126027036296,
          47.539124891640924,
          47.53912376167533,
          47.53912263715666,
          47.53912151716849,
          47.53912040262729,
          47.539119293515824,
          47.539118188035644,
          47.53911708890164,
          47.53911599519745,
          47.539114906023784,
          47.539113822279894,
          47.53911274306651,
          47.53911167019934,
          47.53911061192639,
          47.539109554449446,
          47.53910850606793,
          47.53910746674751,
          47.5391064364883,
          47.53910541349169,
          47.53910439865689,
          47.53910339108473,
          47.53910239165734,
          47.53910139677755,
          47.53910040916042,
          47.539099426973024,
          47.53909845023256,
          47.53909747892192,
          47.53909651124247,
          47.53909554719426,
          47.539094587693704,
          47.53909363089085,
          47.53909267681994,
          47.53909172548098,
          47.53909077594045,
          47.53908982819837,
          47.53908888140681,
          47.53908793549729,
          47.53908698957048,
          47.53908604366072,
          47.53908509775078,
          47.539084150042186,
          47.539083201399905,
          47.53908225185827,
          47.53908129960152,
          47.53908034461253,
          47.53907938600927,
          47.53907842557299,
          47.539077459723835,
          47.5390764902432,
          47.53907549733815,
          47.53907471120669,
          47.53907392731039,
          47.53907313710192,
          47.53907234327909,
          47.53907154675825,
          47.53907074568958,
          47.53906994192292,
          47.539069135458334,
          47.53906832716076,
          47.539067517064524,
          47.53906670605176,
          47.539065893257465,
          47.53906508044586,
          47.53906426763417,
          47.539063454822305,
          47.53906264292676,
          47.5390618328296,
          47.53906102363157,
          47.539060215349835,
          47.539059410682185,
          47.53905860781297,
          47.53905780765859,
          47.539057012017544,
          47.539056220007765,
          47.539055431594925,
          47.539054648611874,
          47.53905386926002,
          47.53905309711937,
          47.539052329526356,
          47.53905156911026,
          47.53905081597394,
          47.539050068267336,
          47.5390493286541,
          47.53904859720266,
          47.539047873878864,
          47.539047158699795,
          47.53904645254761,
          47.539045756372936,
          47.53904507010729,
          47.539044384098425,
          47.53904371592076,
          47.5390430522736,
          47.53904239495548,
          47.53904174216789,
          47.539041094810024,
          47.53904045198268,
          47.539039815484394,
          47.539039183516564,
          47.53903855787781,
          47.53903793673528,
          47.539037321056774,
          47.53903671077377,
          47.539036105920566,
          47.53903550649708,
          47.53903491160413,
          47.53903432212379,
          47.53903373897253,
          47.53903316033462,
          47.53903258800857,
          47.53903202021308,
          47.53903145783021,
          47.539030900877115,
          47.53903034843736,
          47.53902980229241,
          47.53902926159434,
          47.53902872540963,
          47.539028195519684,
          47.53902767105953,
          47.53902715111274,
          47.53902663747787,
          47.539026129238465,
          47.53902562464744,
          47.53902512723333,
          47.53902463433262,
          47.53902414776088,
          47.539023665702565,
          47.53902318992187,
          47.53902271867168,
          47.539022252834116,
          47.539021793556714,
          47.539021342124386,
          47.53902090065247,
          47.539020469988806,
          47.53902004835201,
          47.53901963664135,
          47.53901923395758,
          47.53901883940137,
          47.53901845295562,
          47.53901807553674,
          47.539017702648316,
          47.53901733875254,
          47.53901698032076,
          47.53901662816666,
          47.53901628144225,
          47.53901593921414,
          47.53901560331502,
          47.53901527013073,
          47.539014941442645,
          47.53901461728509,
          47.53901429400951,
          47.53901397526441,
          47.53901365741846,
          47.53901334138802,
          47.539013028038184,
          47.53901271468817,
          47.53901240225443,
          47.53901208892123,
          47.53901177648722,
          47.53901146315375,
          47.53901114802158,
          47.53901083197292,
          47.53901051320914,
          47.53901019264666,
          47.5390098693862,
          47.5390095425114,
          47.53900921112295,
          47.53900887701943,
          47.53900853843651,
          47.539008070747734,
          47.539007881329
         ],
         "line": {
          "color": "rgb(0.282290,0.145912,0.461510)",
          "width": 2
         },
         "lon": [
          -122.29957249475147,
          -122.29956904149107,
          -122.29956551496242,
          -122.29956199229153,
          -122.29955847084757,
          -122.29955495198388,
          -122.29955143700326,
          -122.29954792330021,
          -122.29954441084939,
          -122.29954089970146,
          -122.29953738980585,
          -122.29953388123836,
          -122.29953037134311,
          -122.29952686275075,
          -122.2995233528559,
          -122.29951984298643,
          -122.29951633314256,
          -122.29951282069341,
          -122.29950930824444,
          -122.29950579326614,
          -122.29950227698541,
          -122.29949875684729,
          -122.29949523548255,
          -122.29949171020986,
          -122.29948818243317,
          -122.29948465077388,
          -122.29948111528252,
          -122.29947757460587,
          -122.29947403150108,
          -122.29947048190824,
          -122.29946692715538,
          -122.29946336864637,
          -122.29945980372524,
          -122.29945623234136,
          -122.29945265454538,
          -122.2994490703878,
          -122.29944548114611,
          -122.29944170743782,
          -122.2994381040185,
          -122.29943449804463,
          -122.29943088693595,
          -122.29942727196995,
          -122.29942365179323,
          -122.29942002911258,
          -122.29941640259983,
          -122.29941277087642,
          -122.29940913664902,
          -122.29940549723621,
          -122.29940185531939,
          -122.29939820821718,
          -122.29939455858567,
          -122.2993909051221,
          -122.29938724780123,
          -122.29938358664825,
          -122.29937992163792,
          -122.29937625540096,
          -122.29937258402926,
          -122.2993689088255,
          -122.29936523106707,
          -122.29936154950192,
          -122.29935786540743,
          -122.29935417745558,
          -122.29935048699963,
          -122.29934679271163,
          -122.2993430958943,
          -122.29933939524494,
          -122.29933569209153,
          -122.2993319863834,
          -122.29932827686855,
          -122.29932456484968,
          -122.29932085030138,
          -122.29931713324908,
          -122.29931341366742,
          -122.29930969027895,
          -122.2993058118679,
          -122.29930208094184,
          -122.29929834230083,
          -122.29929459860101,
          -122.2992908498423,
          -122.29928709597408,
          -122.29928333702169,
          -122.2992795729598,
          -122.29927580514175,
          -122.29927203346638,
          -122.29926825668146,
          -122.29926447739244,
          -122.29926069427135,
          -122.29925690864621,
          -122.29925312046643,
          -122.29924932973191,
          -122.29924553514002,
          -122.2992417406242,
          -122.29923794352835,
          -122.29923414385257,
          -122.29923034422747,
          -122.29922654465317,
          -122.2992227411202,
          -122.29921893894074,
          -122.29921513808945,
          -122.29921133591027,
          -122.29920753373122,
          -122.2992037315017,
          -122.29919993190302,
          -122.29919613227922,
          -122.29919233390767,
          -122.29918853811631,
          -122.29918474355196,
          -122.29918095159314,
          -122.29917716081073,
          -122.29917337258321,
          -122.29916979625521,
          -122.29916588166554,
          -122.29916200300808,
          -122.29915812550163,
          -122.29915424922211,
          -122.2991503728668,
          -122.29914650036916,
          -122.29914262779579,
          -122.2991387551466,
          -122.29913488510296,
          -122.29913101500881,
          -122.29912714621751,
          -122.29912327604774,
          -122.29911940720609,
          -122.29911553836456,
          -122.29911166952317,
          -122.2991077993792,
          -122.2991039292859,
          -122.29910005921806,
          -122.2990961878476,
          -122.29909231525049,
          -122.29908844270406,
          -122.29908456890563,
          -122.29908069390574,
          -122.2990768163512,
          -122.29907293889795,
          -122.29906905894065,
          -122.29906517642854,
          -122.29906129279098,
          -122.29905740529593,
          -122.29905351933142,
          -122.29904962692936,
          -122.29904573202312,
          -122.29904183734473,
          -122.29903793758209,
          -122.29903403539117,
          -122.299030129444,
          -122.29902622109385,
          -122.2990223063821,
          -122.29901839062067,
          -122.29901459443057,
          -122.29901067120721,
          -122.29900674545442,
          -122.29900281722279,
          -122.29899888646172,
          -122.29899495319648,
          -122.2989910174018,
          -122.2989870791283,
          -122.29898313832537,
          -122.29897919504356,
          -122.29897525188832,
          -122.29897130357293,
          -122.29896735540942,
          -122.29896340474171,
          -122.29895945156989,
          -122.29895549586858,
          -122.29895153899118,
          -122.29894757963486,
          -122.29894361907712,
          -122.29893965736855,
          -122.29893569313049,
          -122.29893172771625,
          -122.29892775979793,
          -122.29892379067805,
          -122.29891982173538,
          -122.29891584896053,
          -122.29891187498426,
          -122.29890790118503,
          -122.2989039248817,
          -122.29889994737691,
          -122.29889596872124,
          -122.29889199021743,
          -122.29888800783081,
          -122.29888402697465,
          -122.29888004491704,
          -122.29887606038055,
          -122.29887207464252,
          -122.29886809040968,
          -122.29886410364735,
          -122.29886011570883,
          -122.29885603761777,
          -122.29885204875612,
          -122.29884805486064,
          -122.29884405994082,
          -122.29884006261797,
          -122.29883606291737,
          -122.29883206081374,
          -122.29882805628182,
          -122.29882405064963,
          -122.29882004261434,
          -122.29881603204956,
          -122.29881202173775,
          -122.29880800626573,
          -122.29880399229886,
          -122.29879997582778,
          -122.29879595948314,
          -122.29879194065965,
          -122.29878792058409,
          -122.29878390063494,
          -122.29877987815642,
          -122.29877585703113,
          -122.29877183337639,
          -122.29876780974699,
          -122.29876378484023,
          -122.2987597613374,
          -122.2987557378346,
          -122.29875171302916,
          -122.29874768819846,
          -122.29874366339304,
          -122.29873963856245,
          -122.29873561368132,
          -122.29873159010296,
          -122.29872756777675,
          -122.29872354539998,
          -122.29871952294748,
          -122.2987155017218,
          -122.29871148169775,
          -122.29870746292586,
          -122.29870344269959,
          -122.2986978538841,
          -122.29869566053793
         ],
         "mode": "lines",
         "showlegend": false,
         "type": "scattermapbox"
        },
        {
         "hoverinfo": "text",
         "hovertext": "W SEA BR EB 4 AV OFF RP Flow: 11444.0",
         "lat": [
          47.539732859758466,
          47.53973075463715,
          47.53972864332539,
          47.53972653291286,
          47.539724421618125,
          47.53972231122263,
          47.53972019991063,
          47.53971808953215,
          47.539715978220045,
          47.539713866925,
          47.539711755629945,
          47.53970964519977,
          47.53970753482101,
          47.53970542350859,
          47.53970331221327,
          47.53970120091794,
          47.53969909050461,
          47.53969698012557,
          47.53969486881286,
          47.539692757517244,
          47.53969064620444,
          47.53968853580798,
          47.53968642449504,
          47.539684314098494,
          47.53968220280259,
          47.53968009150664,
          47.53967798021061,
          47.539675868897376,
          47.5396737584834,
          47.539671648086454,
          47.53966953767234,
          47.539667425493896,
          47.53966531416322,
          47.539663203766096,
          47.53966109246959,
          47.53965898295445,
          47.53965687075856,
          47.539654759444744,
          47.53965264814807,
          47.539650537733394,
          47.53964842643653,
          47.53964631513966,
          47.539644204741954,
          47.539642093427815,
          47.53963998213073,
          47.539637871715705,
          47.53963576041855,
          47.53963364910414,
          47.539631537806805,
          47.53962942740873,
          47.53962731701056,
          47.53962520569596,
          47.539623094398394,
          47.53962098308364,
          47.53961887178602,
          47.53961676137039,
          47.539614650971906,
          47.53961253967405,
          47.539610428359,
          47.539608317061074,
          47.53960620576306,
          47.53960409536422,
          47.53960198493111,
          47.53959987365003,
          47.53959776233467,
          47.53959565193562,
          47.53959354062009,
          47.53959143022095,
          47.539589318922474,
          47.539587208523216,
          47.53958509722458,
          47.53958298592592,
          47.53958087549221,
          47.53957876421058,
          47.53957665381101,
          47.53957454339423,
          47.539572432095305,
          47.539570320796265,
          47.539568210379336,
          47.53956609997948,
          47.539563987781,
          47.53956187738103,
          47.53955976698099,
          47.53955765568164,
          47.53955554528148,
          47.539553433982014,
          47.53955132356459,
          47.53954921228212,
          47.53954710276387,
          47.5395449914642,
          47.539542881063674,
          47.53954076976381,
          47.53953865936322,
          47.53953654806324,
          47.53953443766251,
          47.53953232634531,
          47.53953021596161,
          47.53952810556065,
          47.53952599426045,
          47.5395238838594,
          47.53952177345831,
          47.539519663057135,
          47.53951755265595,
          47.539515441355405,
          47.53951333097125,
          47.53951122056982,
          47.53950910926914,
          47.539506998867616,
          47.53950488846607,
          47.53950277806442,
          47.539500667662764,
          47.53949860690968,
          47.539496547257556,
          47.53949450402836,
          47.53949245804978,
          47.53949040932195,
          47.53948835784478,
          47.53948630268472,
          47.53948424660827,
          47.5394821877824,
          47.5394801280401,
          47.539478066464916,
          47.539476003056784,
          47.53947394054794,
          47.539471876223296,
          47.539469811898606,
          47.539467747573816,
          47.539465683249034,
          47.53946362073984,
          47.5394615582477,
          47.5394594957898,
          47.539457437828226,
          47.539455379935134,
          47.53945332387481,
          47.53945126964728,
          47.53944921906818,
          47.53944717215466,
          47.539445127091085,
          47.53944308659234,
          47.53944104797781,
          47.53943901574388,
          47.539436986276215,
          47.53943496142487,
          47.539432942936905,
          47.539430928183144,
          47.53942891979277,
          47.539426916935135,
          47.53942492049231,
          47.53942292956505,
          47.53942094686828,
          47.539418968805,
          47.53941699898937,
          47.539415037404254,
          47.539413061128926,
          47.539411108742115,
          47.53940915912158,
          47.53940721408309,
          47.53940527182803,
          47.53940333325572,
          47.539401398348986,
          47.53939946802421,
          47.539397540482895,
          47.53939561569078,
          47.53939369639709,
          47.539391779852544,
          47.53938986699074,
          47.53938795872807,
          47.5393860531974,
          47.539384152265875,
          47.53938225589927,
          47.53938036139963,
          47.539378471464836,
          47.539376586129215,
          47.539374704424866,
          47.539372827319674,
          47.539370953880066,
          47.539369084088875,
          47.53936721887971,
          47.53936535733608,
          47.53936349945807,
          47.53936164704413,
          47.53935979741369,
          47.53935795233091,
          47.53935611181302,
          47.53935427587709,
          47.53935244360678,
          47.539350614984855,
          47.5393487918271,
          47.53934697233486,
          47.53934515740756,
          47.53934334704501,
          47.53934154124735,
          47.53933973909815,
          47.53933794151373,
          47.539336147319666,
          47.53933435886499,
          47.53933257409303,
          47.53933079298659,
          47.53932901466363,
          47.539327242704026,
          47.53932547261149,
          47.539323707100934,
          47.53932194615516,
          47.53932018885784,
          47.539318435260434,
          47.53931668622777,
          47.53931494174283,
          47.53931320004139,
          47.539311462887596,
          47.53930973121507,
          47.53930800232595,
          47.53930627886666,
          47.53930455819082,
          47.539302842979104,
          47.53930113053362,
          47.53929942353519,
          47.53929772110156,
          47.539296022350584,
          47.539294328147385,
          47.53929263849182,
          47.53929095251896,
          47.539289271093814,
          47.53928759425067,
          47.53928592283733,
          47.53928425508952,
          47.53928259102446,
          47.53928093237204,
          47.539279278318766,
          47.53927762881317,
          47.539275983855234,
          47.53927434254576,
          47.539272706717526,
          47.539271075402745,
          47.53926944868702,
          47.539267826484696,
          47.539266209780784,
          47.539264617726936,
          47.53926301649901,
          47.53926142258509,
          47.539259836884575,
          47.53925825756452,
          47.5392566864407,
          47.53925512263094,
          47.53925356520167,
          47.53925201325365,
          47.5392504685854,
          47.53924892939839,
          47.5392473947762,
          47.53924586653451,
          47.53924434104193,
          47.53924282011422,
          47.539241303751304,
          47.53923979191896,
          47.539238282835676,
          47.539236776501625,
          47.53923527381591,
          47.53923377292865,
          47.53923227479057,
          47.53923077758589,
          47.53922928219681,
          47.539227787706885,
          47.5392262950497,
          47.53922480239242,
          47.53922330883578,
          47.53922181707753,
          47.53922032350354,
          47.539218829946584,
          47.539217335455945,
          47.539215838233126,
          47.539214341010215,
          47.539212841037966,
          47.53921133836779,
          47.539209832931164,
          47.53920832476232,
          47.539206814743416,
          47.539205298395196,
          47.539203063208795
         ],
         "line": {
          "color": "rgb(0.282290,0.145912,0.461510)",
          "width": 2
         },
         "lon": [
          -122.30036374130502,
          -122.30036130666497,
          -122.30035872438651,
          -122.30035614213368,
          -122.30035355852766,
          -122.30035097494724,
          -122.30034839266965,
          -122.30034580776162,
          -122.30034322548447,
          -122.30034064187954,
          -122.30033805827479,
          -122.30033547735161,
          -122.3003328924446,
          -122.30033031016853,
          -122.3003277265646,
          -122.30032514296089,
          -122.30032256071077,
          -122.3003199758048,
          -122.30031739352975,
          -122.30031480992689,
          -122.30031222765228,
          -122.30030964407514,
          -122.30030706180096,
          -122.30030447822423,
          -122.30030189462246,
          -122.30029931102085,
          -122.3002967274195,
          -122.30029414514631,
          -122.30029156289869,
          -122.30028897932324,
          -122.30028639707602,
          -122.30028381212234,
          -122.30028123117825,
          -122.30027864760369,
          -122.30027606400395,
          -122.30027348178314,
          -122.30027089815849,
          -122.30026831588744,
          -122.30026573228855,
          -122.30026315004325,
          -122.30026056644476,
          -122.30025798284656,
          -122.3002553992738,
          -122.30025281700402,
          -122.30025023340637,
          -122.30024765116232,
          -122.30024506756509,
          -122.30024248529615,
          -122.30023990169934,
          -122.30023731812805,
          -122.30023473455705,
          -122.30023215228893,
          -122.30022956869296,
          -122.30022698642524,
          -122.30022440282971,
          -122.30022182058775,
          -122.30021923701794,
          -122.300216653423,
          -122.30021407115636,
          -122.3002114875619,
          -122.30020890396762,
          -122.30020632039884,
          -122.30020373948635,
          -122.30020115456469,
          -122.30019857229928,
          -122.30019598873136,
          -122.30019340646639,
          -122.30019082289893,
          -122.30018823930631,
          -122.30018565573923,
          -122.30018307214708,
          -122.30018048855509,
          -122.30017790764467,
          -122.30017532272511,
          -122.30017273915912,
          -122.30017015692127,
          -122.3001675733304,
          -122.30016498973964,
          -122.30016240750251,
          -122.30015982393752,
          -122.30015724032208,
          -122.30015465675757,
          -122.30015207319317,
          -122.30014948960375,
          -122.3001469060398,
          -122.30014432245075,
          -122.30014174021527,
          -122.30013915529861,
          -122.30013657308888,
          -122.30013398950065,
          -122.30013140593802,
          -122.30012882235022,
          -122.30012623878791,
          -122.30012365520061,
          -122.30012107163873,
          -122.30011848937981,
          -122.30011590449038,
          -122.30011332092916,
          -122.30011073734288,
          -122.30010815378205,
          -122.30010557022145,
          -122.3001029866611,
          -122.30010040310091,
          -122.30009781951568,
          -122.3000952346279,
          -122.30009265106835,
          -122.30009006748368,
          -122.30008748392461,
          -122.30008490036566,
          -122.300082316807,
          -122.3000797332485,
          -122.30007713647429,
          -122.3000740362296,
          -122.30007133632606,
          -122.30006864033088,
          -122.30006594824398,
          -122.30006326006547,
          -122.30006057842596,
          -122.30005789808938,
          -122.30005522166111,
          -122.30005254653572,
          -122.30004987401601,
          -122.30004720410193,
          -122.30004453421336,
          -122.30004186560231,
          -122.30003919699155,
          -122.30003652838101,
          -122.30003385977065,
          -122.30003118988316,
          -122.30002851866779,
          -122.30002584479666,
          -122.30002317105226,
          -122.30002049199604,
          -122.30001781033461,
          -122.30001512606796,
          -122.3000124379188,
          -122.30000974455895,
          -122.30000704726592,
          -122.30000434478758,
          -122.30000163572004,
          -122.29999892018981,
          -122.29999619942363,
          -122.29999346948813,
          -122.29999073441795,
          -122.29998798882508,
          -122.29998523809759,
          -122.29998247689807,
          -122.29997970657983,
          -122.29997692711753,
          -122.29997413725916,
          -122.29997133690343,
          -122.2999685248235,
          -122.29996570234758,
          -122.29996311194553,
          -122.29996027378692,
          -122.29995743039241,
          -122.29995458048455,
          -122.2999517240128,
          -122.29994886100238,
          -122.2999459927814,
          -122.29994311804708,
          -122.29994023674885,
          -122.29993735154277,
          -122.29993445852061,
          -122.29993156159057,
          -122.29992865812191,
          -122.29992574681195,
          -122.29992283292214,
          -122.29991991119097,
          -122.29991698427447,
          -122.29991405209681,
          -122.29991111473383,
          -122.29990816952952,
          -122.29990522177064,
          -122.29990226617046,
          -122.29989930535962,
          -122.29989634066625,
          -122.2998933694596,
          -122.2998903930423,
          -122.2998874114144,
          -122.29988442462648,
          -122.29988143127473,
          -122.29987843406563,
          -122.29987543167125,
          -122.2998724227636,
          -122.29986940864529,
          -122.29986639064442,
          -122.29986336748357,
          -122.29986033911209,
          -122.29985730555535,
          -122.2998542668133,
          -122.29985122288599,
          -122.29984817507604,
          -122.29984512208082,
          -122.29984222461529,
          -122.29983916124947,
          -122.29983609134503,
          -122.29983301622997,
          -122.29982993455101,
          -122.29982684773738,
          -122.29982375566247,
          -122.29982065707428,
          -122.29981755330081,
          -122.29981444564474,
          -122.29981133012203,
          -122.29980820941404,
          -122.29980508484874,
          -122.2998019537195,
          -122.29979881873301,
          -122.29979567725849,
          -122.29979252922001,
          -122.29978937867763,
          -122.29978622157132,
          -122.29978305930499,
          -122.29977989180274,
          -122.29977672046851,
          -122.29977354394902,
          -122.2997703608909,
          -122.29976717397544,
          -122.29976398320277,
          -122.2997607858914,
          -122.29975758472283,
          -122.29975437704083,
          -122.29975116685499,
          -122.29974795145844,
          -122.29974472952327,
          -122.29974150641219,
          -122.29973827545977,
          -122.29973504065002,
          -122.29973180198304,
          -122.29972855943338,
          -122.2997253103958,
          -122.29972206015688,
          -122.29971880207671,
          -122.29971554279516,
          -122.29971227569766,
          -122.29970877149357,
          -122.29970549021854,
          -122.29970219985012,
          -122.29969890041356,
          -122.2996955945143,
          -122.29969228087499,
          -122.29968895814221,
          -122.29968562894668,
          -122.29968229326316,
          -122.29967895114228,
          -122.29967560253334,
          -122.2996722487391,
          -122.29966888848213,
          -122.29966552431729,
          -122.2996621549671,
          -122.29965878043157,
          -122.29965540336681,
          -122.29965202239406,
          -122.29964863751344,
          -122.29964524875021,
          -122.2996418600378,
          -122.29963846741744,
          -122.29963507216654,
          -122.29963167563845,
          -122.29962827913589,
          -122.29962488002806,
          -122.29962148092051,
          -122.29961808178777,
          -122.29961468270591,
          -122.29961128490156,
          -122.29960788576946,
          -122.29960448926825,
          -122.2996010953473,
          -122.29959770142659,
          -122.29959431141421,
          -122.29959092132606,
          -122.29958753647425,
          -122.29958415420273,
          -122.29958077586483,
          -122.29957740000603,
          -122.29957249475147
         ],
         "mode": "lines",
         "showlegend": false,
         "type": "scattermapbox"
        },
        {
         "hoverinfo": "text",
         "hovertext": "W SEA BR EB 4 AV OFF RP Flow: 25000.0",
         "lat": [
          47.72313601253775,
          47.72312741602586,
          47.7231259694436,
          47.72312451209861,
          47.72311933729234
         ],
         "line": {
          "color": "rgb(0.241237,0.296485,0.539709)",
          "width": 2
         },
         "lon": [
          -122.32548354428133,
          -122.32449381914239,
          -122.32432739341787,
          -122.32415977684718,
          -122.32356466632584
         ],
         "mode": "lines",
         "showlegend": false,
         "type": "scattermapbox"
        },
        {
         "hoverinfo": "text",
         "hovertext": "W SEA BR EB 4 AV OFF RP Flow: 8907.0",
         "lat": [
          47.53475091237357,
          47.53449219913138,
          47.534270871684356
         ],
         "line": {
          "color": "rgb(0.283197,0.115680,0.436115)",
          "width": 2
         },
         "lon": [
          -122.33692597948556,
          -122.33683535494136,
          -122.33670190562951
         ],
         "mode": "lines",
         "showlegend": false,
         "type": "scattermapbox"
        },
        {
         "hoverinfo": "text",
         "hovertext": "W SEA BR EB 4 AV OFF RP Flow: 8907.0",
         "lat": [
          47.534270871684356,
          47.534144994501986,
          47.53396558032984,
          47.53382752657389
         ],
         "line": {
          "color": "rgb(0.283197,0.115680,0.436115)",
          "width": 2
         },
         "lon": [
          -122.33670190562951,
          -122.33658062380016,
          -122.336410736735,
          -122.33628109507622
         ],
         "mode": "lines",
         "showlegend": false,
         "type": "scattermapbox"
        },
        {
         "hoverinfo": "text",
         "hovertext": "W SEA BR EB 4 AV OFF RP Flow: 4443.0",
         "lat": [
          47.7277701621179,
          47.72785240809321,
          47.72862419358257,
          47.72867902390087
         ],
         "line": {
          "color": "rgb(0.277941,0.056324,0.381191)",
          "width": 2
         },
         "lon": [
          -122.34772451310619,
          -122.34772550687603,
          -122.3477348559012,
          -122.34773552064856
         ],
         "mode": "lines",
         "showlegend": false,
         "type": "scattermapbox"
        },
        {
         "hoverinfo": "text",
         "hovertext": "W SEA BR EB 4 AV OFF RP Flow: 4443.0",
         "lat": [
          47.72959341105563,
          47.72967018913677,
          47.73044505886253,
          47.73049697132515,
          47.731034270485125,
          47.73103975090653
         ],
         "line": {
          "color": "rgb(0.277941,0.056324,0.381191)",
          "width": 2
         },
         "lon": [
          -122.34774659375653,
          -122.34774752542752,
          -122.34775690774667,
          -122.347757536757,
          -122.34776404643904,
          -122.34776411297707
         ],
         "mode": "lines",
         "showlegend": false,
         "type": "scattermapbox"
        },
        {
         "hoverinfo": "text",
         "hovertext": "W SEA BR EB 4 AV OFF RP Flow: 4443.0",
         "lat": [
          47.72867902390087,
          47.72873385878603,
          47.729505648731816,
          47.72958244389928,
          47.729587910832294,
          47.72959341105563
         ],
         "line": {
          "color": "rgb(0.277941,0.056324,0.381191)",
          "width": 2
         },
         "lon": [
          -122.34773552064856,
          -122.34773618019707,
          -122.34774552967076,
          -122.34774646183703,
          -122.34774652797789,
          -122.34774659375653
         ],
         "mode": "lines",
         "showlegend": false,
         "type": "scattermapbox"
        },
        {
         "hoverinfo": "text",
         "hovertext": "W SEA BR EB 4 AV OFF RP Flow: 4443.0",
         "lat": [
          47.73103975090653,
          47.731045236741224,
          47.732314180067966
         ],
         "line": {
          "color": "rgb(0.277941,0.056324,0.381191)",
          "width": 2
         },
         "lon": [
          -122.34776411297707,
          -122.34776417833962,
          -122.34777954753106
         ],
         "mode": "lines",
         "showlegend": false,
         "type": "scattermapbox"
        },
        {
         "hoverinfo": "text",
         "hovertext": "W SEA BR EB 4 AV OFF RP Flow: 4443.0",
         "lat": [
          47.732314180067966,
          47.73404674476804,
          47.73412900686401
         ],
         "line": {
          "color": "rgb(0.277941,0.056324,0.381191)",
          "width": 2
         },
         "lon": [
          -122.34777954753106,
          -122.34780053188146,
          -122.34780152903004
         ],
         "mode": "lines",
         "showlegend": false,
         "type": "scattermapbox"
        },
        {
         "hoverinfo": "text",
         "hovertext": "W SEA BR EB 4 AV OFF RP Flow: 4443.0",
         "lat": [
          47.72321837745099,
          47.72619015232945,
          47.72629045227776,
          47.72635927588732,
          47.72639086536545,
          47.72649136639619,
          47.72659194188151,
          47.72669257916143,
          47.726793256707055,
          47.72686127147506
         ],
         "line": {
          "color": "rgb(0.277941,0.056324,0.381191)",
          "width": 2
         },
         "lon": [
          -122.34819529854697,
          -122.34776726853163,
          -122.34775378406043,
          -122.3477458532189,
          -122.34774221212061,
          -122.3477325533214,
          -122.3477248072805,
          -122.34771897897281,
          -122.34771506378162,
          -122.34771350777534
         ],
         "mode": "lines",
         "showlegend": false,
         "type": "scattermapbox"
        },
        {
         "hoverinfo": "text",
         "hovertext": "W SEA BR EB 4 AV OFF RP Flow: 4443.0",
         "lat": [
          47.72686127147506,
          47.726867099964046,
          47.72694353720299,
          47.7271024587241,
          47.72768786130508,
          47.7277701621179
         ],
         "line": {
          "color": "rgb(0.277941,0.056324,0.381191)",
          "width": 2
         },
         "lon": [
          -122.34771350777534,
          -122.34771358045556,
          -122.34771450475306,
          -122.34771642974545,
          -122.34772351640653,
          -122.34772451310619
         ],
         "mode": "lines",
         "showlegend": false,
         "type": "scattermapbox"
        },
        {
         "hoverinfo": "text",
         "hovertext": "W SEA BR EB 4 AV OFF RP Flow: 622.0",
         "lat": [
          47.66004205339197,
          47.6600674789477
         ],
         "line": {
          "color": "rgb(0.267004,0.004874,0.329415)",
          "width": 2
         },
         "lon": [
          -122.39759664972885,
          -122.39826335138956
         ],
         "mode": "lines",
         "showlegend": false,
         "type": "scattermapbox"
        },
        {
         "hoverinfo": "text",
         "hovertext": "W SEA BR EB 4 AV OFF RP Flow: 622.0",
         "lat": [
          47.65406963883957,
          47.65601451576207
         ],
         "line": {
          "color": "rgb(0.267004,0.004874,0.329415)",
          "width": 2
         },
         "lon": [
          -122.39561029716297,
          -122.39566078920826
         ],
         "mode": "lines",
         "showlegend": false,
         "type": "scattermapbox"
        },
        {
         "hoverinfo": "text",
         "hovertext": "W SEA BR EB 4 AV OFF RP Flow: 622.0",
         "lat": [
          47.65601451576207,
          47.65628866380353,
          47.656980623026755,
          47.65769008659105,
          47.65839868092849
         ],
         "line": {
          "color": "rgb(0.267004,0.004874,0.329415)",
          "width": 2
         },
         "lon": [
          -122.39566078920826,
          -122.39565972857672,
          -122.39584391223141,
          -122.39616789146959,
          -122.39658260403849
         ],
         "mode": "lines",
         "showlegend": false,
         "type": "scattermapbox"
        },
        {
         "hoverinfo": "text",
         "hovertext": "W SEA BR EB 4 AV OFF RP Flow: 622.0",
         "lat": [
          47.65839868092849,
          47.65881230054673,
          47.66004205339197
         ],
         "line": {
          "color": "rgb(0.267004,0.004874,0.329415)",
          "width": 2
         },
         "lon": [
          -122.39658260403849,
          -122.3970078045961,
          -122.39759664972885
         ],
         "mode": "lines",
         "showlegend": false,
         "type": "scattermapbox"
        },
        {
         "hoverinfo": "text",
         "hovertext": "W SEA BR EB 4 AV OFF RP Flow: 7995.0",
         "lat": [
          47.6376201157893,
          47.638107334250364,
          47.63816397996639,
          47.63822110176379,
          47.638278672825166,
          47.63833666188947,
          47.638395040322905,
          47.63845377592976,
          47.638512840093675,
          47.63957729720074
         ],
         "line": {
          "color": "rgb(0.282910,0.105393,0.426902)",
          "width": 2
         },
         "lon": [
          -122.34335745513222,
          -122.34366625002639,
          -122.34369832522728,
          -122.34372848698371,
          -122.34375672253202,
          -122.34378301498595,
          -122.34380735285981,
          -122.34382972190187,
          -122.34385010929536,
          -122.34415301574943
         ],
         "mode": "lines",
         "showlegend": false,
         "type": "scattermapbox"
        },
        {
         "hoverinfo": "text",
         "hovertext": "W SEA BR EB 4 AV OFF RP Flow: 7995.0",
         "lat": [
          47.63957729720074,
          47.64032507270142
         ],
         "line": {
          "color": "rgb(0.282910,0.105393,0.426902)",
          "width": 2
         },
         "lon": [
          -122.34415301574943,
          -122.34439622963248
         ],
         "mode": "lines",
         "showlegend": false,
         "type": "scattermapbox"
        },
        {
         "hoverinfo": "text",
         "hovertext": "W SEA BR EB 4 AV OFF RP Flow: 22200.0",
         "lat": [
          47.57438557834872,
          47.573700014412786
         ],
         "line": {
          "color": "rgb(0.253935,0.265254,0.529983)",
          "width": 2
         },
         "lon": [
          -122.33420366061453,
          -122.33420386883668
         ],
         "mode": "lines",
         "showlegend": false,
         "type": "scattermapbox"
        },
        {
         "hoverinfo": "text",
         "hovertext": "W SEA BR EB 4 AV OFF RP Flow: 22200.0",
         "lat": [
          47.57557557378351,
          47.57544200432243,
          47.57438557834872
         ],
         "line": {
          "color": "rgb(0.253935,0.265254,0.529983)",
          "width": 2
         },
         "lon": [
          -122.3342030257217,
          -122.33420309877853,
          -122.33420366061453
         ],
         "mode": "lines",
         "showlegend": false,
         "type": "scattermapbox"
        },
        {
         "hoverinfo": "text",
         "hovertext": "W SEA BR EB 4 AV OFF RP Flow: 11316.0",
         "lat": [
          47.58839962259822,
          47.58837465259308
         ],
         "line": {
          "color": "rgb(0.282623,0.140926,0.457517)",
          "width": 2
         },
         "lon": [
          -122.30387171572288,
          -122.30259364695866
         ],
         "mode": "lines",
         "showlegend": false,
         "type": "scattermapbox"
        },
        {
         "hoverinfo": "text",
         "hovertext": "W SEA BR EB 4 AV OFF RP Flow: 11316.0",
         "lat": [
          47.58840682478684,
          47.58839962259822
         ],
         "line": {
          "color": "rgb(0.282623,0.140926,0.457517)",
          "width": 2
         },
         "lon": [
          -122.30515359481005,
          -122.30387171572288
         ],
         "mode": "lines",
         "showlegend": false,
         "type": "scattermapbox"
        },
        {
         "hoverinfo": "text",
         "hovertext": "W SEA BR EB 4 AV OFF RP Flow: 11316.0",
         "lat": [
          47.58841060090693,
          47.58840682478684
         ],
         "line": {
          "color": "rgb(0.282623,0.140926,0.457517)",
          "width": 2
         },
         "lon": [
          -122.30582739706331,
          -122.30515359481005
         ],
         "mode": "lines",
         "showlegend": false,
         "type": "scattermapbox"
        },
        {
         "hoverinfo": "text",
         "hovertext": "W SEA BR EB 4 AV OFF RP Flow: 27000.0",
         "lat": [
          47.661344087635904,
          47.66134347616933,
          47.66134139372278,
          47.661339316767275,
          47.66133870433816
         ],
         "line": {
          "color": "rgb(0.231674,0.318106,0.544834)",
          "width": 2
         },
         "lon": [
          -122.32510772917854,
          -122.32498599201851,
          -122.32457116254378,
          -122.32415813498766,
          -122.32403639385659
         ],
         "mode": "lines",
         "showlegend": false,
         "type": "scattermapbox"
        },
        {
         "hoverinfo": "text",
         "hovertext": "W SEA BR EB 4 AV OFF RP Flow: 27000.0",
         "lat": [
          47.66133870433816,
          47.661338100684475,
          47.66133587938324,
          47.66133492063743,
          47.6613336430638,
          47.66133334696649
         ],
         "line": {
          "color": "rgb(0.231674,0.318106,0.544834)",
          "width": 2
         },
         "lon": [
          -122.32403639385659,
          -122.32391465964183,
          -122.323466413332,
          -122.32327316221935,
          -122.32301567255361,
          -122.32295632168815
         ],
         "mode": "lines",
         "showlegend": false,
         "type": "scattermapbox"
        },
        {
         "hoverinfo": "text",
         "hovertext": "W SEA BR EB 4 AV OFF RP Flow: 6000.0",
         "lat": [
          47.65226690650073,
          47.65274500113009
         ],
         "line": {
          "color": "rgb(0.280894,0.078907,0.402329)",
          "width": 2
         },
         "lon": [
          -122.34662936691294,
          -122.3459637059469
         ],
         "mode": "lines",
         "showlegend": false,
         "type": "scattermapbox"
        },
        {
         "hoverinfo": "text",
         "hovertext": "W SEA BR EB 4 AV OFF RP Flow: 10000.0",
         "lat": [
          47.6008490394015,
          47.6000109139239
         ],
         "line": {
          "color": "rgb(0.283187,0.125848,0.444960)",
          "width": 2
         },
         "lon": [
          -122.31413108847703,
          -122.31413300214497
         ],
         "mode": "lines",
         "showlegend": false,
         "type": "scattermapbox"
        },
        {
         "hoverinfo": "text",
         "hovertext": "W SEA BR EB 4 AV OFF RP Flow: 10000.0",
         "lat": [
          47.6000109139239,
          47.599290347746326,
          47.5992100870423
         ],
         "line": {
          "color": "rgb(0.283187,0.125848,0.444960)",
          "width": 2
         },
         "lon": [
          -122.31413300214497,
          -122.31413464022056,
          -122.31413725513323
         ],
         "mode": "lines",
         "showlegend": false,
         "type": "scattermapbox"
        },
        {
         "hoverinfo": "text",
         "hovertext": "W SEA BR EB 4 AV OFF RP Flow: 10000.0",
         "lat": [
          47.60168875729078,
          47.60159828331433,
          47.600939630267916,
          47.6008490394015
         ],
         "line": {
          "color": "rgb(0.283187,0.125848,0.444960)",
          "width": 2
         },
         "lon": [
          -122.3141619257043,
          -122.31415860252368,
          -122.31413441621783,
          -122.31413108847703
         ],
         "mode": "lines",
         "showlegend": false,
         "type": "scattermapbox"
        },
        {
         "hoverinfo": "text",
         "hovertext": "W SEA BR EB 4 AV OFF RP Flow: 1141.0",
         "lat": [
          47.52062225198288,
          47.52019340836753
         ],
         "line": {
          "color": "rgb(0.268510,0.009605,0.335427)",
          "width": 2
         },
         "lon": [
          -122.38911335307286,
          -122.3904130832443
         ],
         "mode": "lines",
         "showlegend": false,
         "type": "scattermapbox"
        },
        {
         "hoverinfo": "text",
         "hovertext": "W SEA BR EB 4 AV OFF RP Flow: 28649.0",
         "lat": [
          47.66866536814708,
          47.66866690848004
         ],
         "line": {
          "color": "rgb(0.223925,0.334994,0.548053)",
          "width": 2
         },
         "lon": [
          -122.37358850400103,
          -122.37621447442353
         ],
         "mode": "lines",
         "showlegend": false,
         "type": "scattermapbox"
        },
        {
         "hoverinfo": "text",
         "hovertext": "W SEA BR EB 4 AV OFF RP Flow: 29000.0",
         "lat": [
          47.588227007067616,
          47.586170116926255
         ],
         "line": {
          "color": "rgb(0.223925,0.334994,0.548053)",
          "width": 2
         },
         "lon": [
          -122.32905138747371,
          -122.32906226397816
         ],
         "mode": "lines",
         "showlegend": false,
         "type": "scattermapbox"
        },
        {
         "hoverinfo": "text",
         "hovertext": "W SEA BR EB 4 AV OFF RP Flow: 29000.0",
         "lat": [
          47.58933809818978,
          47.588227007067616
         ],
         "line": {
          "color": "rgb(0.223925,0.334994,0.548053)",
          "width": 2
         },
         "lon": [
          -122.32904512413121,
          -122.32905138747371
         ],
         "mode": "lines",
         "showlegend": false,
         "type": "scattermapbox"
        },
        {
         "hoverinfo": "text",
         "hovertext": "W SEA BR EB 4 AV OFF RP Flow: 2000.0",
         "lat": [
          47.539432124129895,
          47.539431933335806
         ],
         "line": {
          "color": "rgb(0.271305,0.019942,0.347269)",
          "width": 2
         },
         "lon": [
          -122.32154471518784,
          -122.32038272679212
         ],
         "mode": "lines",
         "showlegend": false,
         "type": "scattermapbox"
        },
        {
         "hoverinfo": "text",
         "hovertext": "W SEA BR EB 4 AV OFF RP Flow: 2000.0",
         "lat": [
          47.53943421244721,
          47.539432124129895
         ],
         "line": {
          "color": "rgb(0.271305,0.019942,0.347269)",
          "width": 2
         },
         "lon": [
          -122.32190039068865,
          -122.32154471518784
         ],
         "mode": "lines",
         "showlegend": false,
         "type": "scattermapbox"
        },
        {
         "hoverinfo": "text",
         "hovertext": "W SEA BR EB 4 AV OFF RP Flow: 4175.0",
         "lat": [
          47.67415590764737,
          47.674178500758785,
          47.67420976192179,
          47.67424346814278,
          47.67427770147235,
          47.67432688604985,
          47.674374957016425,
          47.674428213050795,
          47.67447154710958,
          47.67450890366365,
          47.67453997812239,
          47.67458714475746,
          47.67463293142721,
          47.674665136030434,
          47.67470228701869,
          47.674749232077986,
          47.67481106469537,
          47.67487133809745,
          47.67491764419142,
          47.675004027878806,
          47.6750464865643,
          47.67509177899379,
          47.675129766752114,
          47.675170537220595,
          47.6752346964974,
          47.675270885447276,
          47.6753202673411,
          47.67536731744962,
          47.675422553780265,
          47.67546747633847,
          47.67552054758748,
          47.67556591078632,
          47.67561407113036,
          47.67566781812817,
          47.6757190900248,
          47.67574347233933,
          47.67578421456959,
          47.67581693306072,
          47.67583875887616,
          47.675887390274504,
          47.675936115286234,
          47.6759848520595
         ],
         "line": {
          "color": "rgb(0.277018,0.050344,0.375715)",
          "width": 2
         },
         "lon": [
          -122.34559099279053,
          -122.34562505706302,
          -122.34567034628391,
          -122.3457178764763,
          -122.3457648000451,
          -122.34582983393881,
          -122.34589024959561,
          -122.34595413953208,
          -122.34600388036478,
          -122.34604491737393,
          -122.34607817137363,
          -122.346127144882,
          -122.34617265914171,
          -122.34620338614955,
          -122.34623821980766,
          -122.3462801636716,
          -122.34633247623304,
          -122.34638087280128,
          -122.34641619305246,
          -122.34647813171941,
          -122.3465065923092,
          -122.34653552839136,
          -122.34655883065705,
          -122.3465827933976,
          -122.34661821166091,
          -122.3466371473668,
          -122.3466615554681,
          -122.34668359270444,
          -122.34670794893906,
          -122.34672632659465,
          -122.34674639478924,
          -122.3467624143956,
          -122.34677841425759,
          -122.34679447561561,
          -122.34680825513972,
          -122.34681386031954,
          -122.34682186403296,
          -122.34682710061524,
          -122.3468301858062,
          -122.34683537568242,
          -122.3468383944647,
          -122.3468350426157
         ],
         "mode": "lines",
         "showlegend": false,
         "type": "scattermapbox"
        },
        {
         "hoverinfo": "text",
         "hovertext": "W SEA BR EB 4 AV OFF RP Flow: 19000.0",
         "lat": [
          47.51161897611113,
          47.51137582729781,
          47.511315330677135,
          47.511260135364566,
          47.51121065897455,
          47.51116727879379,
          47.51113032388689,
          47.51110007163173,
          47.511076755764094,
          47.51106055388741,
          47.51105158587278
         ],
         "line": {
          "color": "rgb(0.265145,0.232956,0.516599)",
          "width": 2
         },
         "lon": [
          -122.2483239035873,
          -122.24800743514447,
          -122.24792149901224,
          -122.2478281160885,
          -122.24772799079108,
          -122.24762188751046,
          -122.24751061446291,
          -122.24739501297537,
          -122.2472759616884,
          -122.24715436825187,
          -122.2470311533502
         ],
         "mode": "lines",
         "showlegend": false,
         "type": "scattermapbox"
        },
        {
         "hoverinfo": "text",
         "hovertext": "W SEA BR EB 4 AV OFF RP Flow: 19000.0",
         "lat": [
          47.51932465815904,
          47.51930401579478,
          47.51928304432222,
          47.518758637967444,
          47.51875863531949,
          47.51762332402608,
          47.51756449277496
         ],
         "line": {
          "color": "rgb(0.265145,0.232956,0.516599)",
          "width": 2
         },
         "lon": [
          -122.25734254446323,
          -122.25731200157011,
          -122.2572819490283,
          -122.25654241913512,
          -122.25654241507894,
          -122.25495854763984,
          -122.25492280749917
         ],
         "mode": "lines",
         "showlegend": false,
         "type": "scattermapbox"
        },
        {
         "hoverinfo": "text",
         "hovertext": "W SEA BR EB 4 AV OFF RP Flow: 19000.0",
         "lat": [
          47.513277978601224,
          47.513247813922746,
          47.51189653439397,
          47.51189375488473,
          47.51171455660131,
          47.51161897611113
         ],
         "line": {
          "color": "rgb(0.265145,0.232956,0.516599)",
          "width": 2
         },
         "lon": [
          -122.2504865408557,
          -122.25044721686054,
          -122.24868555345745,
          -122.24868192618415,
          -122.24844830929902,
          -122.2483239035873
         ],
         "mode": "lines",
         "showlegend": false,
         "type": "scattermapbox"
        },
        {
         "hoverinfo": "text",
         "hovertext": "W SEA BR EB 4 AV OFF RP Flow: 19000.0",
         "lat": [
          47.5147516326926,
          47.513277978601224
         ],
         "line": {
          "color": "rgb(0.265145,0.232956,0.516599)",
          "width": 2
         },
         "lon": [
          -122.25240047110923,
          -122.2504865408557
         ],
         "mode": "lines",
         "showlegend": false,
         "type": "scattermapbox"
        },
        {
         "hoverinfo": "text",
         "hovertext": "W SEA BR EB 4 AV OFF RP Flow: 19000.0",
         "lat": [
          47.52026439609339,
          47.5203208709865,
          47.52032933583517,
          47.52033674898608,
          47.520340268735865,
          47.52034413984522,
          47.52034681941569,
          47.52035091032438
         ],
         "line": {
          "color": "rgb(0.265145,0.232956,0.516599)",
          "width": 2
         },
         "lon": [
          -122.26158231791807,
          -122.2611160218259,
          -122.26103610095717,
          -122.26095174362892,
          -122.26090345568917,
          -122.260839161689,
          -122.2607825626808,
          -122.26071000655716
         ],
         "mode": "lines",
         "showlegend": false,
         "type": "scattermapbox"
        },
        {
         "hoverinfo": "text",
         "hovertext": "W SEA BR EB 4 AV OFF RP Flow: 19000.0",
         "lat": [
          47.52035091032438,
          47.52035002571888,
          47.52035060995433,
          47.52035052386207,
          47.520349605951196,
          47.52034715073202,
          47.52034331738149,
          47.52033862571734,
          47.52033312874545,
          47.52032619604097,
          47.520317673377576,
          47.52030782529506,
          47.52029679047458,
          47.520283741048154,
          47.520270871158125,
          47.52025684872059,
          47.520240884576324,
          47.520228330167086,
          47.52020627488474,
          47.52018778779118,
          47.52016695785351,
          47.52014704452969,
          47.520126162769515,
          47.52010432206632,
          47.52008153191343,
          47.520057806334066,
          47.51980316460091,
          47.519591281521386,
          47.5195645583776,
          47.51953662729881,
          47.519507510136336,
          47.519477230573635,
          47.51944581141133,
          47.51941327636636,
          47.51937965363521,
          47.51934496790064,
          47.51932465815904
         ],
         "line": {
          "color": "rgb(0.265145,0.232956,0.516599)",
          "width": 2
         },
         "lon": [
          -122.26071000655716,
          -122.26066943849779,
          -122.26061299059823,
          -122.26056406871106,
          -122.26049686272424,
          -122.26041596945497,
          -122.26033535453013,
          -122.26026283551069,
          -122.26019448031494,
          -122.26012210980569,
          -122.26004625628103,
          -122.2599709255937,
          -122.25989560495323,
          -122.25981737667338,
          -122.25974698322067,
          -122.25967702970458,
          -122.25960366459343,
          -122.25955012020898,
          -122.25946313459939,
          -122.2593953870806,
          -122.25932436442602,
          -122.25926058189665,
          -122.25919747941832,
          -122.25913508912524,
          -122.25907344315142,
          -122.25901257109858,
          -122.25837993808018,
          -122.25785354554921,
          -122.2577892608269,
          -122.25772610381627,
          -122.25766412557995,
          -122.25760337457453,
          -122.257543897904,
          -122.25748574136898,
          -122.25742895222014,
          -122.2573735709718,
          -122.25734254446323
         ],
         "mode": "lines",
         "showlegend": false,
         "type": "scattermapbox"
        },
        {
         "hoverinfo": "text",
         "hovertext": "W SEA BR EB 4 AV OFF RP Flow: 19000.0",
         "lat": [
          47.51675958299864,
          47.51632848693727,
          47.516248314416465,
          47.516198633684645,
          47.51615060692577,
          47.516104521213705,
          47.51606065153253,
          47.51601926259195,
          47.515997206755465,
          47.51542889945865,
          47.5147516326926
         ],
         "line": {
          "color": "rgb(0.265145,0.232956,0.516599)",
          "width": 2
         },
         "lon": [
          -122.25450762923141,
          -122.25428612068946,
          -122.2542449218059,
          -122.2542161506402,
          -122.25418179966559,
          -122.25414207590222,
          -122.25409721790712,
          -122.254047494496,
          -122.25401884311036,
          -122.25328042957568,
          -122.25240047110923
         ],
         "mode": "lines",
         "showlegend": false,
         "type": "scattermapbox"
        },
        {
         "hoverinfo": "text",
         "hovertext": "W SEA BR EB 4 AV OFF RP Flow: 19000.0",
         "lat": [
          47.51756449277496,
          47.51675958299864
         ],
         "line": {
          "color": "rgb(0.265145,0.232956,0.516599)",
          "width": 2
         },
         "lon": [
          -122.25492280749917,
          -122.25450762923141
         ],
         "mode": "lines",
         "showlegend": false,
         "type": "scattermapbox"
        },
        {
         "hoverinfo": "text",
         "hovertext": "W SEA BR EB 4 AV OFF RP Flow: 5772.0",
         "lat": [
          47.532065298156596,
          47.53183341833683,
          47.531688736772615,
          47.53165284070124,
          47.531545609184,
          47.53149986080489,
          47.5314565994881,
          47.531396901573004,
          47.531339752028835,
          47.53128249869193,
          47.53122234814728,
          47.531140198022136,
          47.53109910343576,
          47.53105523737362,
          47.53096473758544,
          47.530770070796486,
          47.530326156248314,
          47.52999912228058,
          47.529976885588795,
          47.52938184820254,
          47.528324474331995,
          47.52826442024804,
          47.52826148345834,
          47.528235758292475,
          47.52807288195729,
          47.52803231503314,
          47.527994574691206,
          47.527935492823644,
          47.52787925603443,
          47.52782053793784,
          47.527748740580314,
          47.52769867624352,
          47.52760709951265,
          47.52751780902481,
          47.52722969558946,
          47.527159524302355,
          47.527135859093,
          47.5271172495231,
          47.527098510006006,
          47.527074274501445,
          47.52705256749877,
          47.52703076672782,
          47.52700342009278,
          47.52699442583219,
          47.526978740109556,
          47.52695680086646,
          47.5269348858347,
          47.526910308908064,
          47.52688310150261,
          47.52686146065628,
          47.5268372867648,
          47.5268159825752,
          47.52679225097253,
          47.52676623916694,
          47.52674571270378,
          47.52673055516394,
          47.52670060602293,
          47.52665964430275,
          47.526645566832535,
          47.52662946384582,
          47.526611474803154,
          47.526598306590515,
          47.52658328998413,
          47.52656445133818,
          47.52652791326205,
          47.526507738887176,
          47.526486404799705,
          47.52645148994186,
          47.52623508651426
         ],
         "line": {
          "color": "rgb(0.280267,0.073417,0.397163)",
          "width": 2
         },
         "lon": [
          -122.33519136352838,
          -122.33509500753127,
          -122.33503437555697,
          -122.33502177422017,
          -122.3349876682045,
          -122.33497464223841,
          -122.33496409352401,
          -122.33495115048217,
          -122.33494067450388,
          -122.3349320618233,
          -122.33492504996764,
          -122.33491862361461,
          -122.33491729606646,
          -122.33491717711193,
          -122.33491819970611,
          -122.33491816149682,
          -122.33489915447433,
          -122.33485797408903,
          -122.33485819013852,
          -122.334851316157,
          -122.33483909802578,
          -122.33483840118383,
          -122.3348383683736,
          -122.33483836437865,
          -122.33487446413552,
          -122.33488433020207,
          -122.33489446762701,
          -122.33491223572379,
          -122.33493057719342,
          -122.33495111040826,
          -122.3349776208943,
          -122.33499873407447,
          -122.33504121204405,
          -122.33508128129343,
          -122.3352268539411,
          -122.33526155644617,
          -122.33527190646348,
          -122.33527886650805,
          -122.33528504049515,
          -122.335291847695,
          -122.33529656811181,
          -122.33530014755961,
          -122.33530268924238,
          -122.33530316320036,
          -122.33530399020489,
          -122.33530368600307,
          -122.33530223095669,
          -122.33529900309833,
          -122.33529421186215,
          -122.33528889304888,
          -122.33528164974526,
          -122.33527393396513,
          -122.33526392485034,
          -122.33525096653837,
          -122.33523954098736,
          -122.33523008446677,
          -122.33520989364682,
          -122.33517721667383,
          -122.3351646567946,
          -122.33514920819458,
          -122.33513066504374,
          -122.33511580972456,
          -122.33509814118725,
          -122.33507472572343,
          -122.3350228340948,
          -122.33498973893042,
          -122.33495209190794,
          -122.33485708801263,
          -122.33440526697807
         ],
         "mode": "lines",
         "showlegend": false,
         "type": "scattermapbox"
        },
        {
         "hoverinfo": "text",
         "hovertext": "W SEA BR EB 4 AV OFF RP Flow: 5772.0",
         "lat": [
          47.53382752657389,
          47.53333465672893,
          47.532901391892814,
          47.532708525901676,
          47.532065298156596
         ],
         "line": {
          "color": "rgb(0.280267,0.073417,0.397163)",
          "width": 2
         },
         "lon": [
          -122.33628109507622,
          -122.33584319316543,
          -122.33552768178352,
          -122.33541048585839,
          -122.33519136352838
         ],
         "mode": "lines",
         "showlegend": false,
         "type": "scattermapbox"
        },
        {
         "hoverinfo": "text",
         "hovertext": "W SEA BR EB 4 AV OFF RP Flow: 8231.0",
         "lat": [
          47.702399564858524,
          47.70293675797207,
          47.70348590380648
         ],
         "line": {
          "color": "rgb(0.282910,0.105393,0.426902)",
          "width": 2
         },
         "lon": [
          -122.36074267927478,
          -122.36074703370494,
          -122.36075148517119
         ],
         "mode": "lines",
         "showlegend": false,
         "type": "scattermapbox"
        },
        {
         "hoverinfo": "text",
         "hovertext": "W SEA BR EB 4 AV OFF RP Flow: 5395.0",
         "lat": [
          47.67756550344018,
          47.67785516976408
         ],
         "line": {
          "color": "rgb(0.279566,0.067836,0.391917)",
          "width": 2
         },
         "lon": [
          -122.32722706583522,
          -122.32618602303907
         ],
         "mode": "lines",
         "showlegend": false,
         "type": "scattermapbox"
        },
        {
         "hoverinfo": "text",
         "hovertext": "W SEA BR EB 4 AV OFF RP Flow: 5395.0",
         "lat": [
          47.6783231051808,
          47.6785321319599,
          47.67875757084303
         ],
         "line": {
          "color": "rgb(0.279566,0.067836,0.391917)",
          "width": 2
         },
         "lon": [
          -122.32537522159859,
          -122.3251743964185,
          -122.32498923031012
         ],
         "mode": "lines",
         "showlegend": false,
         "type": "scattermapbox"
        },
        {
         "hoverinfo": "text",
         "hovertext": "W SEA BR EB 4 AV OFF RP Flow: 5395.0",
         "lat": [
          47.67785516976408,
          47.6783231051808
         ],
         "line": {
          "color": "rgb(0.279566,0.067836,0.391917)",
          "width": 2
         },
         "lon": [
          -122.32618602303907,
          -122.32537522159859
         ],
         "mode": "lines",
         "showlegend": false,
         "type": "scattermapbox"
        },
        {
         "hoverinfo": "text",
         "hovertext": "W SEA BR EB 4 AV OFF RP Flow: 8300.0",
         "lat": [
          47.60168276287388,
          47.601680552971544
         ],
         "line": {
          "color": "rgb(0.282910,0.105393,0.426902)",
          "width": 2
         },
         "lon": [
          -122.3115690626143,
          -122.31026488387366
         ],
         "mode": "lines",
         "showlegend": false,
         "type": "scattermapbox"
        },
        {
         "hoverinfo": "text",
         "hovertext": "W SEA BR EB 4 AV OFF RP Flow: 8300.0",
         "lat": [
          47.60167608763888,
          47.60167412892825,
          47.6016738344058
         ],
         "line": {
          "color": "rgb(0.282910,0.105393,0.426902)",
          "width": 2
         },
         "lon": [
          -122.30765671824015,
          -122.30652185000844,
          -122.30635179768792
         ],
         "mode": "lines",
         "showlegend": false,
         "type": "scattermapbox"
        },
        {
         "hoverinfo": "text",
         "hovertext": "W SEA BR EB 4 AV OFF RP Flow: 8300.0",
         "lat": [
          47.601680552971544,
          47.60167832862999
         ],
         "line": {
          "color": "rgb(0.282910,0.105393,0.426902)",
          "width": 2
         },
         "lon": [
          -122.31026488387366,
          -122.3089594868956
         ],
         "mode": "lines",
         "showlegend": false,
         "type": "scattermapbox"
        },
        {
         "hoverinfo": "text",
         "hovertext": "W SEA BR EB 4 AV OFF RP Flow: 8300.0",
         "lat": [
          47.60166927622328,
          47.601667298913014
         ],
         "line": {
          "color": "rgb(0.282910,0.105393,0.426902)",
          "width": 2
         },
         "lon": [
          -122.30373893477018,
          -122.30233880127626
         ],
         "mode": "lines",
         "showlegend": false,
         "type": "scattermapbox"
        },
        {
         "hoverinfo": "text",
         "hovertext": "W SEA BR EB 4 AV OFF RP Flow: 8300.0",
         "lat": [
          47.60167832862999,
          47.60167608763888
         ],
         "line": {
          "color": "rgb(0.282910,0.105393,0.426902)",
          "width": 2
         },
         "lon": [
          -122.3089594868956,
          -122.30765671824015
         ],
         "mode": "lines",
         "showlegend": false,
         "type": "scattermapbox"
        },
        {
         "hoverinfo": "text",
         "hovertext": "W SEA BR EB 4 AV OFF RP Flow: 8300.0",
         "lat": [
          47.6016738344058,
          47.60167156061117
         ],
         "line": {
          "color": "rgb(0.282910,0.105393,0.426902)",
          "width": 2
         },
         "lon": [
          -122.30635179768792,
          -122.30504404134074
         ],
         "mode": "lines",
         "showlegend": false,
         "type": "scattermapbox"
        },
        {
         "hoverinfo": "text",
         "hovertext": "W SEA BR EB 4 AV OFF RP Flow: 8300.0",
         "lat": [
          47.60167156061117,
          47.60166927622328
         ],
         "line": {
          "color": "rgb(0.282910,0.105393,0.426902)",
          "width": 2
         },
         "lon": [
          -122.30504404134074,
          -122.30373893477018
         ],
         "mode": "lines",
         "showlegend": false,
         "type": "scattermapbox"
        },
        {
         "hoverinfo": "text",
         "hovertext": "W SEA BR EB 4 AV OFF RP Flow: 8300.0",
         "lat": [
          47.60168635886487,
          47.60168276287388
         ],
         "line": {
          "color": "rgb(0.282910,0.105393,0.426902)",
          "width": 2
         },
         "lon": [
          -122.31287736467849,
          -122.3115690626143
         ],
         "mode": "lines",
         "showlegend": false,
         "type": "scattermapbox"
        },
        {
         "hoverinfo": "text",
         "hovertext": "W SEA BR EB 4 AV OFF RP Flow: 8300.0",
         "lat": [
          47.60168875729078,
          47.60168869509636,
          47.60168661094869,
          47.60168635886487
         ],
         "line": {
          "color": "rgb(0.282910,0.105393,0.426902)",
          "width": 2
         },
         "lon": [
          -122.3141619257043,
          -122.31412917439448,
          -122.31301112724192,
          -122.31287736467849
         ],
         "mode": "lines",
         "showlegend": false,
         "type": "scattermapbox"
        },
        {
         "hoverinfo": "text",
         "hovertext": "W SEA BR EB 4 AV OFF RP Flow: 4403.0",
         "lat": [
          47.55089034433846,
          47.55088714802839,
          47.55088690947318,
          47.55082063156513,
          47.55081850157366
         ],
         "line": {
          "color": "rgb(0.277941,0.056324,0.381191)",
          "width": 2
         },
         "lon": [
          -122.29688087254223,
          -122.2967593791795,
          -122.29675030880199,
          -122.29423209621096,
          -122.29415116648165
         ],
         "mode": "lines",
         "showlegend": false,
         "type": "scattermapbox"
        },
        {
         "hoverinfo": "text",
         "hovertext": "W SEA BR EB 4 AV OFF RP Flow: 4403.0",
         "lat": [
          47.5509545803839,
          47.551040148400006
         ],
         "line": {
          "color": "rgb(0.277941,0.056324,0.381191)",
          "width": 2
         },
         "lon": [
          -122.291555695717,
          -122.29043731608365
         ],
         "mode": "lines",
         "showlegend": false,
         "type": "scattermapbox"
        },
        {
         "hoverinfo": "text",
         "hovertext": "W SEA BR EB 4 AV OFF RP Flow: 4403.0",
         "lat": [
          47.550925175723016,
          47.550910530563826
         ],
         "line": {
          "color": "rgb(0.277941,0.056324,0.381191)",
          "width": 2
         },
         "lon": [
          -122.298254440553,
          -122.29768622705946
         ],
         "mode": "lines",
         "showlegend": false,
         "type": "scattermapbox"
        },
        {
         "hoverinfo": "text",
         "hovertext": "W SEA BR EB 4 AV OFF RP Flow: 4403.0",
         "lat": [
          47.550910530563826,
          47.550909921419716,
          47.55089855316117,
          47.55089309000632,
          47.55089034433846
         ],
         "line": {
          "color": "rgb(0.277941,0.056324,0.381191)",
          "width": 2
         },
         "lon": [
          -122.29768622705946,
          -122.2976625654329,
          -122.29720444169578,
          -122.2970013035176,
          -122.29688087254223
         ],
         "mode": "lines",
         "showlegend": false,
         "type": "scattermapbox"
        },
        {
         "hoverinfo": "text",
         "hovertext": "W SEA BR EB 4 AV OFF RP Flow: 4403.0",
         "lat": [
          47.551040148400006,
          47.55112603366924
         ],
         "line": {
          "color": "rgb(0.277941,0.056324,0.381191)",
          "width": 2
         },
         "lon": [
          -122.29043731608365,
          -122.28931465659208
         ],
         "mode": "lines",
         "showlegend": false,
         "type": "scattermapbox"
        },
        {
         "hoverinfo": "text",
         "hovertext": "W SEA BR EB 4 AV OFF RP Flow: 4403.0",
         "lat": [
          47.55098571742585,
          47.55095956940177,
          47.5509584963641,
          47.550925175723016
         ],
         "line": {
          "color": "rgb(0.277941,0.056324,0.381191)",
          "width": 2
         },
         "lon": [
          -122.30059938898751,
          -122.29958638740331,
          -122.29954481116977,
          -122.298254440553
         ],
         "mode": "lines",
         "showlegend": false,
         "type": "scattermapbox"
        },
        {
         "hoverinfo": "text",
         "hovertext": "W SEA BR EB 4 AV OFF RP Flow: 4403.0",
         "lat": [
          47.55115976010149,
          47.55123027098698
         ],
         "line": {
          "color": "rgb(0.277941,0.056324,0.381191)",
          "width": 2
         },
         "lon": [
          -122.28887374586162,
          -122.2880957353539
         ],
         "mode": "lines",
         "showlegend": false,
         "type": "scattermapbox"
        },
        {
         "hoverinfo": "text",
         "hovertext": "W SEA BR EB 4 AV OFF RP Flow: 4403.0",
         "lat": [
          47.55101515319967,
          47.55098571742585
         ],
         "line": {
          "color": "rgb(0.277941,0.056324,0.381191)",
          "width": 2
         },
         "lon": [
          -122.30174019099127,
          -122.30059938898751
         ],
         "mode": "lines",
         "showlegend": false,
         "type": "scattermapbox"
        },
        {
         "hoverinfo": "text",
         "hovertext": "W SEA BR EB 4 AV OFF RP Flow: 4403.0",
         "lat": [
          47.55112603366924,
          47.55115976010149
         ],
         "line": {
          "color": "rgb(0.277941,0.056324,0.381191)",
          "width": 2
         },
         "lon": [
          -122.28931465659208,
          -122.28887374586162
         ],
         "mode": "lines",
         "showlegend": false,
         "type": "scattermapbox"
        },
        {
         "hoverinfo": "text",
         "hovertext": "W SEA BR EB 4 AV OFF RP Flow: 4403.0",
         "lat": [
          47.55081850157366,
          47.55080018974376,
          47.550943831073745,
          47.5509545803839
         ],
         "line": {
          "color": "rgb(0.277941,0.056324,0.381191)",
          "width": 2
         },
         "lon": [
          -122.29415116648165,
          -122.29345579983672,
          -122.29168800138677,
          -122.291555695717
         ],
         "mode": "lines",
         "showlegend": false,
         "type": "scattermapbox"
        },
        {
         "hoverinfo": "text",
         "hovertext": "W SEA BR EB 4 AV OFF RP Flow: 8717.0",
         "lat": [
          47.611672010011134,
          47.61213645836599
         ],
         "line": {
          "color": "rgb(0.283091,0.110553,0.431554)",
          "width": 2
         },
         "lon": [
          -122.33648396619822,
          -122.33537313701125
         ],
         "mode": "lines",
         "showlegend": false,
         "type": "scattermapbox"
        },
        {
         "hoverinfo": "text",
         "hovertext": "W SEA BR EB 4 AV OFF RP Flow: 13492.0",
         "lat": [
          47.62512069334247,
          47.625768775811544
         ],
         "line": {
          "color": "rgb(0.279574,0.170599,0.479997)",
          "width": 2
         },
         "lon": [
          -122.33433582845706,
          -122.33435291476934
         ],
         "mode": "lines",
         "showlegend": false,
         "type": "scattermapbox"
        },
        {
         "hoverinfo": "text",
         "hovertext": "W SEA BR EB 4 AV OFF RP Flow: 13492.0",
         "lat": [
          47.62469377685833,
          47.62512069334247
         ],
         "line": {
          "color": "rgb(0.279574,0.170599,0.479997)",
          "width": 2
         },
         "lon": [
          -122.33428796867133,
          -122.33433582845706
         ],
         "mode": "lines",
         "showlegend": false,
         "type": "scattermapbox"
        },
        {
         "hoverinfo": "text",
         "hovertext": "W SEA BR EB 4 AV OFF RP Flow: 13492.0",
         "lat": [
          47.625768775811544,
          47.62596862231247
         ],
         "line": {
          "color": "rgb(0.279574,0.170599,0.479997)",
          "width": 2
         },
         "lon": [
          -122.33435291476934,
          -122.3343441513103
         ],
         "mode": "lines",
         "showlegend": false,
         "type": "scattermapbox"
        },
        {
         "hoverinfo": "text",
         "hovertext": "W SEA BR EB 4 AV OFF RP Flow: 6591.0",
         "lat": [
          47.72290005119496,
          47.72380211185595,
          47.72470420577748
         ],
         "line": {
          "color": "rgb(0.281446,0.084320,0.407414)",
          "width": 2
         },
         "lon": [
          -122.29635851816877,
          -122.29637022168977,
          -122.29638192388953
         ],
         "mode": "lines",
         "showlegend": false,
         "type": "scattermapbox"
        },
        {
         "hoverinfo": "text",
         "hovertext": "W SEA BR EB 4 AV OFF RP Flow: 6591.0",
         "lat": [
          47.726510697431905,
          47.72790792583988
         ],
         "line": {
          "color": "rgb(0.281446,0.084320,0.407414)",
          "width": 2
         },
         "lon": [
          -122.2964048317892,
          -122.29642586349586
         ],
         "mode": "lines",
         "showlegend": false,
         "type": "scattermapbox"
        },
        {
         "hoverinfo": "text",
         "hovertext": "W SEA BR EB 4 AV OFF RP Flow: 6591.0",
         "lat": [
          47.7319766703727,
          47.73271413351336
         ],
         "line": {
          "color": "rgb(0.281446,0.084320,0.407414)",
          "width": 2
         },
         "lon": [
          -122.29654264158657,
          -122.29653288418794
         ],
         "mode": "lines",
         "showlegend": false,
         "type": "scattermapbox"
        },
        {
         "hoverinfo": "text",
         "hovertext": "W SEA BR EB 4 AV OFF RP Flow: 6591.0",
         "lat": [
          47.72790792583988,
          47.730065111190875,
          47.73015084065016
         ],
         "line": {
          "color": "rgb(0.281446,0.084320,0.407414)",
          "width": 2
         },
         "lon": [
          -122.29642586349586,
          -122.2964641101854,
          -122.29650970377949
         ],
         "mode": "lines",
         "showlegend": false,
         "type": "scattermapbox"
        },
        {
         "hoverinfo": "text",
         "hovertext": "W SEA BR EB 4 AV OFF RP Flow: 6591.0",
         "lat": [
          47.73271413351336,
          47.73378027275547,
          47.73378577048598
         ],
         "line": {
          "color": "rgb(0.281446,0.084320,0.407414)",
          "width": 2
         },
         "lon": [
          -122.29653288418794,
          -122.29651877605083,
          -122.29651875232784
         ],
         "mode": "lines",
         "showlegend": false,
         "type": "scattermapbox"
        },
        {
         "hoverinfo": "text",
         "hovertext": "W SEA BR EB 4 AV OFF RP Flow: 6591.0",
         "lat": [
          47.73015084065016,
          47.73022871361765,
          47.73023419989816,
          47.73023968254742,
          47.7319766703727
         ],
         "line": {
          "color": "rgb(0.281446,0.084320,0.407414)",
          "width": 2
         },
         "lon": [
          -122.29650970377949,
          -122.29655532142868,
          -122.29655527872109,
          -122.29655523857795,
          -122.29654264158657
         ],
         "mode": "lines",
         "showlegend": false,
         "type": "scattermapbox"
        },
        {
         "hoverinfo": "text",
         "hovertext": "W SEA BR EB 4 AV OFF RP Flow: 6591.0",
         "lat": [
          47.71928489143583,
          47.719367518992584,
          47.72100509871532,
          47.72101603217854,
          47.721092430061795
         ],
         "line": {
          "color": "rgb(0.281446,0.084320,0.407414)",
          "width": 2
         },
         "lon": [
          -122.29631399550578,
          -122.29631500241517,
          -122.2963347407731,
          -122.29633510882653,
          -122.29633604292738
         ],
         "mode": "lines",
         "showlegend": false,
         "type": "scattermapbox"
        },
        {
         "hoverinfo": "text",
         "hovertext": "W SEA BR EB 4 AV OFF RP Flow: 6591.0",
         "lat": [
          47.72470420577748,
          47.726510697431905
         ],
         "line": {
          "color": "rgb(0.281446,0.084320,0.407414)",
          "width": 2
         },
         "lon": [
          -122.29638192388953,
          -122.2964048317892
         ],
         "mode": "lines",
         "showlegend": false,
         "type": "scattermapbox"
        },
        {
         "hoverinfo": "text",
         "hovertext": "W SEA BR EB 4 AV OFF RP Flow: 6591.0",
         "lat": [
          47.721092430061795,
          47.72290005119496
         ],
         "line": {
          "color": "rgb(0.281446,0.084320,0.407414)",
          "width": 2
         },
         "lon": [
          -122.29633604292738,
          -122.29635851816877
         ],
         "mode": "lines",
         "showlegend": false,
         "type": "scattermapbox"
        },
        {
         "hoverinfo": "text",
         "hovertext": "W SEA BR EB 4 AV OFF RP Flow: 996.0",
         "lat": [
          47.6789052747492,
          47.678969766701705,
          47.67898464027625,
          47.679006884792514,
          47.679014930335455,
          47.6790193569583,
          47.67902554182381,
          47.67900779288136,
          47.67893395211864,
          47.67884618400386,
          47.67875757084303
         ],
         "line": {
          "color": "rgb(0.268510,0.009605,0.335427)",
          "width": 2
         },
         "lon": [
          -122.32626439925046,
          -122.32610138386958,
          -122.32602959669224,
          -122.32592707308797,
          -122.3258447727769,
          -122.3257726867653,
          -122.32569472749613,
          -122.32559181848795,
          -122.32537821276755,
          -122.32516420917028,
          -122.32498923031012
         ],
         "mode": "lines",
         "showlegend": false,
         "type": "scattermapbox"
        },
        {
         "hoverinfo": "text",
         "hovertext": "W SEA BR EB 4 AV OFF RP Flow: 2000.0",
         "lat": [
          47.65688930471804,
          47.6568816040185
         ],
         "line": {
          "color": "rgb(0.271305,0.019942,0.347269)",
          "width": 2
         },
         "lon": [
          -122.31781902922495,
          -122.31717634454635
         ],
         "mode": "lines",
         "showlegend": false,
         "type": "scattermapbox"
        },
        {
         "hoverinfo": "text",
         "hovertext": "W SEA BR EB 4 AV OFF RP Flow: 14631.0",
         "lat": [
          47.686937790222736,
          47.686936361011874,
          47.68693635784806
         ],
         "line": {
          "color": "rgb(0.278012,0.180367,0.486697)",
          "width": 2
         },
         "lon": [
          -122.36332585157895,
          -122.36599581010006,
          -122.36600173071334
         ],
         "mode": "lines",
         "showlegend": false,
         "type": "scattermapbox"
        },
        {
         "hoverinfo": "text",
         "hovertext": "W SEA BR EB 4 AV OFF RP Flow: 14631.0",
         "lat": [
          47.68693915340461,
          47.686937790222736
         ],
         "line": {
          "color": "rgb(0.278012,0.180367,0.486697)",
          "width": 2
         },
         "lon": [
          -122.36064997744238,
          -122.36332585157895
         ],
         "mode": "lines",
         "showlegend": false,
         "type": "scattermapbox"
        },
        {
         "hoverinfo": "text",
         "hovertext": "W SEA BR EB 4 AV OFF RP Flow: 49254.0",
         "lat": [
          47.7282882731601,
          47.72850890394167,
          47.72851438547294,
          47.72873252542333,
          47.72873800342558,
          47.72874348772276,
          47.73011394379994
         ],
         "line": {
          "color": "rgb(0.143343,0.522773,0.556295)",
          "width": 2
         },
         "lon": [
          -122.29225017824697,
          -122.29225757562523,
          -122.29225776299832,
          -122.29226507844407,
          -122.29226526038626,
          -122.29226544250541,
          -122.29231140546831
         ],
         "mode": "lines",
         "showlegend": false,
         "type": "scattermapbox"
        },
        {
         "hoverinfo": "text",
         "hovertext": "W SEA BR EB 4 AV OFF RP Flow: 49254.0",
         "lat": [
          47.73011394379994,
          47.73020281983999,
          47.73186889958546,
          47.73187438111544,
          47.73194292782349
         ],
         "line": {
          "color": "rgb(0.143343,0.522773,0.556295)",
          "width": 2
         },
         "lon": [
          -122.29231140546831,
          -122.29231438188275,
          -122.29237026282438,
          -122.29237045022157,
          -122.29237274612787
         ],
         "mode": "lines",
         "showlegend": false,
         "type": "scattermapbox"
        },
        {
         "hoverinfo": "text",
         "hovertext": "W SEA BR EB 4 AV OFF RP Flow: 49254.0",
         "lat": [
          47.73194292782349,
          47.73200598485673,
          47.73201146728587,
          47.733678760773444,
          47.73368424233688,
          47.73375280882039
         ],
         "line": {
          "color": "rgb(0.143343,0.522773,0.556295)",
          "width": 2
         },
         "lon": [
          -122.29237274612787,
          -122.29237485841347,
          -122.29237504583688,
          -122.2924309701272,
          -122.29243115487132,
          -122.2924334514939
         ],
         "mode": "lines",
         "showlegend": false,
         "type": "scattermapbox"
        },
        {
         "hoverinfo": "text",
         "hovertext": "W SEA BR EB 4 AV OFF RP Flow: 10000.0",
         "lat": [
          47.619773260395824,
          47.62094100460828
         ],
         "line": {
          "color": "rgb(0.283187,0.125848,0.444960)",
          "width": 2
         },
         "lon": [
          -122.35674674337113,
          -122.35673850595904
         ],
         "mode": "lines",
         "showlegend": false,
         "type": "scattermapbox"
        },
        {
         "hoverinfo": "text",
         "hovertext": "W SEA BR EB 4 AV OFF RP Flow: 10000.0",
         "lat": [
          47.62094100460828,
          47.62208094203719,
          47.62210835612727
         ],
         "line": {
          "color": "rgb(0.283187,0.125848,0.444960)",
          "width": 2
         },
         "lon": [
          -122.35673850595904,
          -122.35672950712019,
          -122.35672929197274
         ],
         "mode": "lines",
         "showlegend": false,
         "type": "scattermapbox"
        },
        {
         "hoverinfo": "text",
         "hovertext": "W SEA BR EB 4 AV OFF RP Flow: 10000.0",
         "lat": [
          47.618607061179986,
          47.619773260395824
         ],
         "line": {
          "color": "rgb(0.283187,0.125848,0.444960)",
          "width": 2
         },
         "lon": [
          -122.35675629498985,
          -122.35674674337113
         ],
         "mode": "lines",
         "showlegend": false,
         "type": "scattermapbox"
        },
        {
         "hoverinfo": "text",
         "hovertext": "W SEA BR EB 4 AV OFF RP Flow: 16500.0",
         "lat": [
          47.60658579070875,
          47.607299058545095
         ],
         "line": {
          "color": "rgb(0.273006,0.204520,0.501721)",
          "width": 2
         },
         "lon": [
          -122.33643418811634,
          -122.33708679767423
         ],
         "mode": "lines",
         "showlegend": false,
         "type": "scattermapbox"
        },
        {
         "hoverinfo": "text",
         "hovertext": "W SEA BR EB 4 AV OFF RP Flow: 4687.0",
         "lat": [
          47.6369895242295,
          47.637705055524314
         ],
         "line": {
          "color": "rgb(0.278791,0.062145,0.386592)",
          "width": 2
         },
         "lon": [
          -122.38901980871825,
          -122.38848491560545
         ],
         "mode": "lines",
         "showlegend": false,
         "type": "scattermapbox"
        },
        {
         "hoverinfo": "text",
         "hovertext": "W SEA BR EB 4 AV OFF RP Flow: 4687.0",
         "lat": [
          47.637705055524314,
          47.63842056934865
         ],
         "line": {
          "color": "rgb(0.278791,0.062145,0.386592)",
          "width": 2
         },
         "lon": [
          -122.38848491560545,
          -122.3879501138136
         ],
         "mode": "lines",
         "showlegend": false,
         "type": "scattermapbox"
        },
        {
         "hoverinfo": "text",
         "hovertext": "W SEA BR EB 4 AV OFF RP Flow: 4687.0",
         "lat": [
          47.639136095366695,
          47.639350812062204
         ],
         "line": {
          "color": "rgb(0.278791,0.062145,0.386592)",
          "width": 2
         },
         "lon": [
          -122.3874144165757,
          -122.38725301174672
         ],
         "mode": "lines",
         "showlegend": false,
         "type": "scattermapbox"
        },
        {
         "hoverinfo": "text",
         "hovertext": "W SEA BR EB 4 AV OFF RP Flow: 4687.0",
         "lat": [
          47.642154460053185,
          47.64283459730548,
          47.64292778462468
         ],
         "line": {
          "color": "rgb(0.278791,0.062145,0.386592)",
          "width": 2
         },
         "lon": [
          -122.38515224214274,
          -122.38464273221919,
          -122.38457291944529
         ],
         "mode": "lines",
         "showlegend": false,
         "type": "scattermapbox"
        },
        {
         "hoverinfo": "text",
         "hovertext": "W SEA BR EB 4 AV OFF RP Flow: 4687.0",
         "lat": [
          47.63842056934865,
          47.63878935817402,
          47.639136095366695
         ],
         "line": {
          "color": "rgb(0.278791,0.062145,0.386592)",
          "width": 2
         },
         "lon": [
          -122.3879501138136,
          -122.38767401518578,
          -122.3874144165757
         ],
         "mode": "lines",
         "showlegend": false,
         "type": "scattermapbox"
        },
        {
         "hoverinfo": "text",
         "hovertext": "W SEA BR EB 4 AV OFF RP Flow: 4687.0",
         "lat": [
          47.64078482226748,
          47.641380448983924,
          47.641968081059886,
          47.642154460053185
         ],
         "line": {
          "color": "rgb(0.278791,0.062145,0.386592)",
          "width": 2
         },
         "lon": [
          -122.3861782398097,
          -122.3857320623225,
          -122.38529186318094,
          -122.38515224214274
         ],
         "mode": "lines",
         "showlegend": false,
         "type": "scattermapbox"
        },
        {
         "hoverinfo": "text",
         "hovertext": "W SEA BR EB 4 AV OFF RP Flow: 4687.0",
         "lat": [
          47.63627388221133,
          47.6369895242295
         ],
         "line": {
          "color": "rgb(0.278791,0.062145,0.386592)",
          "width": 2
         },
         "lon": [
          -122.38955608675407,
          -122.38901980871825
         ],
         "mode": "lines",
         "showlegend": false,
         "type": "scattermapbox"
        },
        {
         "hoverinfo": "text",
         "hovertext": "W SEA BR EB 4 AV OFF RP Flow: 4687.0",
         "lat": [
          47.63510146393439,
          47.63562985325567,
          47.63608660925359
         ],
         "line": {
          "color": "rgb(0.278791,0.062145,0.386592)",
          "width": 2
         },
         "lon": [
          -122.3906005587816,
          -122.39009310947034,
          -122.38971289537855
         ],
         "mode": "lines",
         "showlegend": false,
         "type": "scattermapbox"
        },
        {
         "hoverinfo": "text",
         "hovertext": "W SEA BR EB 4 AV OFF RP Flow: 4687.0",
         "lat": [
          47.63608660925359,
          47.63627388221133
         ],
         "line": {
          "color": "rgb(0.278791,0.062145,0.386592)",
          "width": 2
         },
         "lon": [
          -122.38971289537855,
          -122.38955608675407
         ],
         "mode": "lines",
         "showlegend": false,
         "type": "scattermapbox"
        },
        {
         "hoverinfo": "text",
         "hovertext": "W SEA BR EB 4 AV OFF RP Flow: 4687.0",
         "lat": [
          47.639350812062204,
          47.63958254576343,
          47.63986784269506,
          47.640606174980405,
          47.64078482226748
         ],
         "line": {
          "color": "rgb(0.278791,0.062145,0.386592)",
          "width": 2
         },
         "lon": [
          -122.38725301174672,
          -122.38707881513125,
          -122.3868651156076,
          -122.38631206114155,
          -122.3861782398097
         ],
         "mode": "lines",
         "showlegend": false,
         "type": "scattermapbox"
        },
        {
         "hoverinfo": "text",
         "hovertext": "W SEA BR EB 4 AV OFF RP Flow: 20404.0",
         "lat": [
          47.66866690848004,
          47.66867108849374,
          47.66867103128512
         ],
         "line": {
          "color": "rgb(0.260571,0.246922,0.522828)",
          "width": 2
         },
         "lon": [
          -122.37621447442353,
          -122.37742163406372,
          -122.37888427948384
         ],
         "mode": "lines",
         "showlegend": false,
         "type": "scattermapbox"
        },
        {
         "hoverinfo": "text",
         "hovertext": "W SEA BR EB 4 AV OFF RP Flow: 20404.0",
         "lat": [
          47.66867103128512,
          47.66867320080751
         ],
         "line": {
          "color": "rgb(0.260571,0.246922,0.522828)",
          "width": 2
         },
         "lon": [
          -122.37888427948384,
          -122.38035281582516
         ],
         "mode": "lines",
         "showlegend": false,
         "type": "scattermapbox"
        },
        {
         "hoverinfo": "text",
         "hovertext": "W SEA BR EB 4 AV OFF RP Flow: 20404.0",
         "lat": [
          47.66867320080751,
          47.6686750734318
         ],
         "line": {
          "color": "rgb(0.260571,0.246922,0.522828)",
          "width": 2
         },
         "lon": [
          -122.38035281582516,
          -122.38157414843805
         ],
         "mode": "lines",
         "showlegend": false,
         "type": "scattermapbox"
        },
        {
         "hoverinfo": "text",
         "hovertext": "W SEA BR EB 4 AV OFF RP Flow: 20404.0",
         "lat": [
          47.6686750734318,
          47.66867579926
         ],
         "line": {
          "color": "rgb(0.260571,0.246922,0.522828)",
          "width": 2
         },
         "lon": [
          -122.38157414843805,
          -122.38212999719583
         ],
         "mode": "lines",
         "showlegend": false,
         "type": "scattermapbox"
        },
        {
         "hoverinfo": "text",
         "hovertext": "W SEA BR EB 4 AV OFF RP Flow: 15261.0",
         "lat": [
          47.57125968091867,
          47.57019136365447
         ],
         "line": {
          "color": "rgb(0.276194,0.190074,0.493001)",
          "width": 2
         },
         "lon": [
          -122.38676588611027,
          -122.38676709670872
         ],
         "mode": "lines",
         "showlegend": false,
         "type": "scattermapbox"
        },
        {
         "hoverinfo": "text",
         "hovertext": "W SEA BR EB 4 AV OFF RP Flow: 15261.0",
         "lat": [
          47.575626251335464,
          47.57382122776218
         ],
         "line": {
          "color": "rgb(0.276194,0.190074,0.493001)",
          "width": 2
         },
         "lon": [
          -122.38676064809265,
          -122.38676255614496
         ],
         "mode": "lines",
         "showlegend": false,
         "type": "scattermapbox"
        },
        {
         "hoverinfo": "text",
         "hovertext": "W SEA BR EB 4 AV OFF RP Flow: 15261.0",
         "lat": [
          47.57318178783193,
          47.57201585182379
         ],
         "line": {
          "color": "rgb(0.276194,0.190074,0.493001)",
          "width": 2
         },
         "lon": [
          -122.38676342721487,
          -122.38676503315489
         ],
         "mode": "lines",
         "showlegend": false,
         "type": "scattermapbox"
        },
        {
         "hoverinfo": "text",
         "hovertext": "W SEA BR EB 4 AV OFF RP Flow: 15261.0",
         "lat": [
          47.57201585182379,
          47.57193213898574,
          47.57125968091867
         ],
         "line": {
          "color": "rgb(0.276194,0.190074,0.493001)",
          "width": 2
         },
         "lon": [
          -122.38676503315489,
          -122.3867651293814,
          -122.38676588611027
         ],
         "mode": "lines",
         "showlegend": false,
         "type": "scattermapbox"
        },
        {
         "hoverinfo": "text",
         "hovertext": "W SEA BR EB 4 AV OFF RP Flow: 15261.0",
         "lat": [
          47.57382122776218,
          47.57318178783193
         ],
         "line": {
          "color": "rgb(0.276194,0.190074,0.493001)",
          "width": 2
         },
         "lon": [
          -122.38676255614496,
          -122.38676342721487
         ],
         "mode": "lines",
         "showlegend": false,
         "type": "scattermapbox"
        },
        {
         "hoverinfo": "text",
         "hovertext": "W SEA BR EB 4 AV OFF RP Flow: 2212.0",
         "lat": [
          47.65769660824808,
          47.65895636435938
         ],
         "line": {
          "color": "rgb(0.272594,0.025563,0.353093)",
          "width": 2
         },
         "lon": [
          -122.32623232888601,
          -122.3262140398658
         ],
         "mode": "lines",
         "showlegend": false,
         "type": "scattermapbox"
        },
        {
         "hoverinfo": "text",
         "hovertext": "W SEA BR EB 4 AV OFF RP Flow: 2212.0",
         "lat": [
          47.65895636435938,
          47.66021769208865
         ],
         "line": {
          "color": "rgb(0.272594,0.025563,0.353093)",
          "width": 2
         },
         "lon": [
          -122.3262140398658,
          -122.3261954701852
         ],
         "mode": "lines",
         "showlegend": false,
         "type": "scattermapbox"
        },
        {
         "hoverinfo": "text",
         "hovertext": "W SEA BR EB 4 AV OFF RP Flow: 2212.0",
         "lat": [
          47.66021769208865,
          47.66134940378393
         ],
         "line": {
          "color": "rgb(0.272594,0.025563,0.353093)",
          "width": 2
         },
         "lon": [
          -122.3261954701852,
          -122.32617895788493
         ],
         "mode": "lines",
         "showlegend": false,
         "type": "scattermapbox"
        },
        {
         "hoverinfo": "text",
         "hovertext": "W SEA BR EB 4 AV OFF RP Flow: 2212.0",
         "lat": [
          47.657700081477664,
          47.65769660824808
         ],
         "line": {
          "color": "rgb(0.272594,0.025563,0.353093)",
          "width": 2
         },
         "lon": [
          -122.32679170435595,
          -122.32623232888601
         ],
         "mode": "lines",
         "showlegend": false,
         "type": "scattermapbox"
        },
        {
         "hoverinfo": "text",
         "hovertext": "W SEA BR EB 4 AV OFF RP Flow: 2212.0",
         "lat": [
          47.65554290728783,
          47.657700081477664
         ],
         "line": {
          "color": "rgb(0.272594,0.025563,0.353093)",
          "width": 2
         },
         "lon": [
          -122.32682256939565,
          -122.32679170435595
         ],
         "mode": "lines",
         "showlegend": false,
         "type": "scattermapbox"
        },
        {
         "hoverinfo": "text",
         "hovertext": "W SEA BR EB 4 AV OFF RP Flow: 3505.0",
         "lat": [
          47.616137689280876,
          47.616690635504796
         ],
         "line": {
          "color": "rgb(0.276022,0.044167,0.370164)",
          "width": 2
         },
         "lon": [
          -122.34523488427746,
          -122.3461706249785
         ],
         "mode": "lines",
         "showlegend": false,
         "type": "scattermapbox"
        },
        {
         "hoverinfo": "text",
         "hovertext": "W SEA BR EB 4 AV OFF RP Flow: 16123.0",
         "lat": [
          47.53368597769557,
          47.5336804279642
         ],
         "line": {
          "color": "rgb(0.274128,0.199721,0.498911)",
          "width": 2
         },
         "lon": [
          -122.35391492075715,
          -122.35503244845935
         ],
         "mode": "lines",
         "showlegend": false,
         "type": "scattermapbox"
        },
        {
         "hoverinfo": "text",
         "hovertext": "W SEA BR EB 4 AV OFF RP Flow: 16123.0",
         "lat": [
          47.534264843356354,
          47.53426550177579,
          47.53426616263303,
          47.53426682893894,
          47.53426750247432,
          47.53426817958889,
          47.534268860353585,
          47.53426954289893,
          47.534270227278135,
          47.53427091074021,
          47.53427159328517,
          47.53427227404918,
          47.534272951162755,
          47.53427362379765,
          47.53427429010207,
          47.53427495009379,
          47.534275601920996,
          47.53427624473772,
          47.534276877609194,
          47.53427749965384,
          47.53427810903773,
          47.53427870489703,
          47.534279284480775,
          47.534279850539875,
          47.53428038541529,
          47.53428092163877,
          47.53428144881622,
          47.53428196696549,
          47.53428247606869,
          47.53428297610814,
          47.53428346805411,
          47.534283950936334,
          47.53428442389102,
          47.53428488961595,
          47.534285345395666,
          47.53428579126554,
          47.534286229006476,
          47.53428665861839,
          47.53428707740351,
          47.53428748807741,
          47.53428788974078,
          47.53428828235811,
          47.5342886659827,
          47.53428903967976,
          47.53428940528331,
          47.53428976095934,
          47.53429010852414,
          47.53429044619692,
          47.53429078822938,
          47.53429110786338,
          47.53429141846908,
          47.53429172004658,
          47.53429201261348,
          47.534292295235154,
          47.53429256974559,
          47.53429283522772,
          47.534293091699325,
          47.534293338243465,
          47.53429357669404,
          47.53429380519934,
          47.53429402561122,
          47.53429423611324,
          47.53429443760475,
          47.534294630085725,
          47.534294813573965,
          47.534294988033906,
          47.53429515260184,
          47.534295309094006,
          47.53429545565865,
          47.53429559324828,
          47.53429572184514,
          47.534295840549945,
          47.53429594570657,
          47.534296046390324,
          47.53429613808134,
          47.53429622074405,
          47.53429629439629,
          47.534296359038024,
          47.534296413769916,
          47.53429646040832,
          47.53429649711923,
          47.534296525754314,
          47.534296544461945,
          47.5342965541945,
          47.53429655403504,
          47.534296545746564,
          47.53429652758383,
          47.534296501327525,
          47.534296465196995,
          47.534296420055895,
          47.534296365022854,
          47.534296301931725,
          47.53429622984785,
          47.534296147871956,
          47.53429605692102,
          47.53429595701278,
          47.534295859819984,
          47.53429574192625,
          47.53429561412271,
          47.534295478207945,
          47.534295331519594,
          47.53429517580299,
          47.53429501292765,
          47.53429484016024,
          47.53429465748308,
          47.534294465830904,
          47.53429426518599,
          47.53429405556601,
          47.534293836935504,
          47.534293609347756,
          47.53429337186797,
          47.5342931254309,
          47.53429287090034,
          47.53429260651323,
          47.53429233313333,
          47.534292050796196,
          47.534291759484034,
          47.5342914592146,
          47.534291150005664,
          47.53429083088692,
          47.53429048898478,
          47.53429015193373,
          47.53428980588998,
          47.53428945087116,
          47.53428908685961,
          47.53428871299148,
          47.53428833191141,
          47.534287939158524,
          47.53428753924686,
          47.53428712946097,
          47.53428671070004,
          47.534286282964075,
          47.534285846253134,
          47.53428540060264,
          47.53428494595941,
          47.53428448145963,
          47.53428400980112,
          47.534283528286075,
          47.534283037813786,
          47.534282537484934,
          47.53428202909815,
          47.53428151175405,
          47.53428098547044,
          47.53428045112886,
          47.53427991922427,
          47.53427936605111,
          47.534278803920756,
          47.53427823281532,
          47.53427765183564,
          47.534277062815676,
          47.53427646482074,
          47.53427585785077,
          47.53427524100653,
          47.53427461612206,
          47.53427398228033,
          47.53427333948133,
          47.53427268684356,
          47.53427202702933,
          47.534271356477035,
          47.534270678766006,
          47.53426999121624,
          47.53426929562621,
          47.53426859017969,
          47.53426787669286,
          47.53426715518361,
          47.53426642381783,
          47.53426568441179,
          47.53426493700104,
          47.53426418843678,
          47.53426342221226,
          47.53426264791202,
          47.53426186377296,
          47.53426107157594,
          47.53426027042166,
          47.53425945941087,
          47.53425864037757,
          47.534257812369326,
          47.53425697632077,
          47.534256131332775,
          47.534255277423,
          47.53425441453823,
          47.534253542731754,
          47.534252662902794,
          47.53425177501578,
          47.53425087729007,
          47.53424997155962,
          47.534249056889664,
          47.534248135078734,
          47.53424720346455,
          47.534246264709424,
          47.534245316133294,
          47.534244361333215,
          47.53424336175429,
          47.53424238815825,
          47.53424140475891,
          47.53424041420088,
          47.53423941470334,
          47.534238406266326,
          47.53423738888982,
          47.534236362573786,
          47.53423532825312,
          47.53423428587441,
          47.534233234573975,
          47.534232174351786,
          47.53423110608942,
          47.53423002980458,
          47.534228944615755,
          47.53422785228598,
          47.53422675013521,
          47.53422563997967,
          47.534224521783976,
          47.5342233956013,
          47.53422226139619,
          47.534221119168556,
          47.53421996893628,
          47.534218811349945,
          47.53421764241044,
          47.53421646364993,
          47.53421527420468,
          47.534214074938475,
          47.53421286676827,
          47.534211647877825,
          47.534210420982724,
          47.53420918606507,
          47.53420794222576,
          47.53420669036401,
          47.534205431379014,
          47.53420416435383,
          47.53420289202172,
          47.534201611631644,
          47.534200325916935,
          47.53419903396051,
          47.5341977375787,
          47.534196434955184,
          47.5341951278885,
          47.534193816378696,
          47.53419250040794,
          47.534191181792565,
          47.53418985963334,
          47.53418855441682,
          47.534187226015774,
          47.53418589585158,
          47.53418456390653,
          47.53418322926356,
          47.534181892875225,
          47.534180554706026,
          47.53417921473818,
          47.53417787210793,
          47.53417652857832,
          47.53417518328565,
          47.534173836194284,
          47.53417248823906,
          47.53417113758596,
          47.53416978605121,
          47.53416843363487,
          47.53416707943763,
          47.534165723441774,
          47.53416436656431,
          47.53416300880522,
          47.53416165014677,
          47.534160290606664,
          47.534158930185,
          47.534157567946906,
          47.53415620662575,
          47.53415484352371,
          47.53415347952228,
          47.53415211553853,
          47.53415075155465,
          47.5341493857544,
          47.53414802088875,
          47.53414665510606,
          47.53414528934097,
          47.53414392265879,
          47.53414255599424,
          47.534141190211045,
          47.534139823546255,
          47.53413888723884,
          47.53413845776291,
          47.534137092014895,
          47.53413572621358,
          47.5341343604476,
          47.53413299556306,
          47.53413163066065,
          47.53413026667514,
          47.534128903571016,
          47.53412754046685,
          47.53412617824402,
          47.53412481602108,
          47.53412345559659,
          47.53412209605346,
          47.534120737391746,
          47.534118068392296
         ],
         "line": {
          "color": "rgb(0.274128,0.199721,0.498911)",
          "width": 2
         },
         "lon": [
          -122.35167572715731,
          -122.35167950434165,
          -122.3516834356896,
          -122.35168736321128,
          -122.35169128828699,
          -122.35169521479548,
          -122.3516991374252,
          -122.35170306143534,
          -122.35170698284232,
          -122.351710905551,
          -122.35171482956146,
          -122.35171875219176,
          -122.3517226787009,
          -122.35172660375133,
          -122.35173053127414,
          -122.3517344599415,
          -122.35173839368463,
          -122.3517423284936,
          -122.35174626699813,
          -122.35175020784402,
          -122.35175415363467,
          -122.35175810168803,
          -122.35176205590923,
          -122.35176601239313,
          -122.35177028279571,
          -122.35177425036589,
          -122.35177822165774,
          -122.35178219534333,
          -122.35178617275056,
          -122.35179015520735,
          -122.35179413742833,
          -122.35179812469887,
          -122.35180211433692,
          -122.35180610642117,
          -122.35181010220084,
          -122.3518140990202,
          -122.35181809825956,
          -122.35182209991883,
          -122.35182610391948,
          -122.35183010901217,
          -122.35183411517083,
          -122.35183812505103,
          -122.3518421346693,
          -122.35184614665506,
          -122.35185015840507,
          -122.35185417252255,
          -122.35185818773218,
          -122.35186220265358,
          -122.35186595866693,
          -122.35186997704793,
          -122.35187399782265,
          -122.35187802099112,
          -122.35188204522547,
          -122.35188607315514,
          -122.35189010217688,
          -122.35189413359244,
          -122.35189816607375,
          -122.3519022009226,
          -122.35190623553562,
          -122.35191027384401,
          -122.35191431191662,
          -122.35191835102883,
          -122.35192239120687,
          -122.35192643245077,
          -122.35193047343263,
          -122.35193451680816,
          -122.3519385598955,
          -122.35194260141911,
          -122.35194664531018,
          -122.35195068761139,
          -122.3519547296505,
          -122.3519587714014,
          -122.35196288449026,
          -122.35196692837278,
          -122.35197097199324,
          -122.35197501800738,
          -122.35197906508733,
          -122.35198311323306,
          -122.3519871624184,
          -122.35199121136792,
          -122.35199526268485,
          -122.35199931243808,
          -122.35200336455871,
          -122.35200741508945,
          -122.35201146533187,
          -122.35201551799422,
          -122.35201956904035,
          -122.35202361985064,
          -122.35202766904476,
          -122.35203171930463,
          -122.35203576927621,
          -122.35203981635622,
          -122.3520438631741,
          -122.3520479097037,
          -122.3520519546433,
          -122.35205599666509,
          -122.35206003743762,
          -122.3520640789352,
          -122.35206812147231,
          -122.35207216510139,
          -122.35207620708806,
          -122.3520802514684,
          -122.35208429298328,
          -122.3520883342099,
          -122.35209237647597,
          -122.35209641715207,
          -122.35210045756605,
          -122.35210449639006,
          -122.35210853627984,
          -122.35211257325167,
          -122.35211660993524,
          -122.35212064370089,
          -122.35212467723062,
          -122.35212870781625,
          -122.35213273813974,
          -122.35213676554538,
          -122.35214079136105,
          -122.35214481425879,
          -122.35214883291077,
          -122.35215285260225,
          -122.35215689421216,
          -122.35216090939578,
          -122.35216492431718,
          -122.35216893764859,
          -122.3521729507178,
          -122.35217696084297,
          -122.35218097208617,
          -122.35218498166078,
          -122.35218898836987,
          -122.35219299346271,
          -122.35219699696556,
          -122.35220099887833,
          -122.352204999201,
          -122.35220899527798,
          -122.35221299109274,
          -122.35221698396334,
          -122.35222097396851,
          -122.35222496102949,
          -122.35222894517256,
          -122.3522329263715,
          -122.3522369046787,
          -122.352240880068,
          -122.35224485121145,
          -122.3522488194632,
          -122.35225294187859,
          -122.35225690559619,
          -122.35226086639577,
          -122.35226482560527,
          -122.3522687831985,
          -122.35227273657213,
          -122.3522766883557,
          -122.3522806385492,
          -122.35228458712636,
          -122.35228853148391,
          -122.35229247292355,
          -122.35229641144517,
          -122.35230034569477,
          -122.35230427840672,
          -122.35230820682041,
          -122.35231213236858,
          -122.35231605364466,
          -122.35231997070115,
          -122.35232388481344,
          -122.3523277947061,
          -122.35233169905126,
          -122.35233560045222,
          -122.35233949763354,
          -122.35234338793953,
          -122.3523471626423,
          -122.3523510470861,
          -122.35235492996598,
          -122.35235880857383,
          -122.3523626842899,
          -122.35236655708793,
          -122.35237042694179,
          -122.3523742912481,
          -122.35237815396428,
          -122.35238201246088,
          -122.35238586671154,
          -122.35238971538848,
          -122.35239356247529,
          -122.35239740398836,
          -122.35240123995389,
          -122.35240507302764,
          -122.3524089018293,
          -122.35241272375559,
          -122.35241654143593,
          -122.35242035492288,
          -122.35242416148193,
          -122.35242796384763,
          -122.35243176061329,
          -122.35243555188384,
          -122.35243905890303,
          -122.35244284298344,
          -122.35244662013602,
          -122.35245039442299,
          -122.35245416446412,
          -122.35245793025929,
          -122.35246169180859,
          -122.35246544911197,
          -122.35246919953995,
          -122.35247294707611,
          -122.35247668903844,
          -122.352480425427,
          -122.35248415759594,
          -122.35248788421728,
          -122.35249160393693,
          -122.35249531946315,
          -122.35249902938939,
          -122.35250273244016,
          -122.35250643127121,
          -122.35251012189897,
          -122.35251380697915,
          -122.35251748651179,
          -122.35252115916899,
          -122.35252484356707,
          -122.35252850239469,
          -122.35253215562231,
          -122.35253580056799,
          -122.35253943991364,
          -122.35254307235765,
          -122.35254669917536,
          -122.35255031911767,
          -122.35255393351241,
          -122.35255754233333,
          -122.3525611456066,
          -122.35256474335861,
          -122.35256833689078,
          -122.35257192362621,
          -122.35257550746974,
          -122.35257908584433,
          -122.35258266005164,
          -122.35258622881622,
          -122.35258979341349,
          -122.35259335389588,
          -122.35259691026349,
          -122.352600463844,
          -122.35260401336214,
          -122.35260755879162,
          -122.35261131725615,
          -122.35261485851814,
          -122.35261839707177,
          -122.35262193424491,
          -122.35262547133924,
          -122.35262900439734,
          -122.35263253607498,
          -122.3526360677,
          -122.35263959659044,
          -122.35264312545445,
          -122.35264665161016,
          -122.35265017771326,
          -122.3526537011342,
          -122.35265722447629,
          -122.35266074646415,
          -122.35266426709768,
          -122.35266778635075,
          -122.3526713055512,
          -122.35267482339742,
          -122.35267833988937,
          -122.35268185635486,
          -122.35268537146617,
          -122.35268888522316,
          -122.35269240025538,
          -122.35269591398578,
          -122.35269942633568,
          -122.3527029386592,
          -122.35270644965465,
          -122.35270996064997,
          -122.35271347292046,
          -122.35271698256135,
          -122.35272049350361,
          -122.35272400311786,
          -122.35272751403353,
          -122.3527310236212,
          -122.35273453456279,
          -122.35273804415007,
          -122.35274045177316,
          -122.35274155509124,
          -122.35274506337653,
          -122.35274857564522,
          -122.35275208525799,
          -122.35275559622464,
          -122.35275910851901,
          -122.35276261951152,
          -122.35276613185798,
          -122.35276964420417,
          -122.35277315790431,
          -122.35277667160427,
          -122.3527801853565,
          -122.3527837004626,
          -122.35278721692265,
          -122.35279413435367
         ],
         "mode": "lines",
         "showlegend": false,
         "type": "scattermapbox"
        },
        {
         "hoverinfo": "text",
         "hovertext": "W SEA BR EB 4 AV OFF RP Flow: 16123.0",
         "lat": [
          47.534118068392296,
          47.53368597769557
         ],
         "line": {
          "color": "rgb(0.274128,0.199721,0.498911)",
          "width": 2
         },
         "lon": [
          -122.35279413435367,
          -122.35391492075715
         ],
         "mode": "lines",
         "showlegend": false,
         "type": "scattermapbox"
        },
        {
         "hoverinfo": "text",
         "hovertext": "W SEA BR EB 4 AV OFF RP Flow: 16123.0",
         "lat": [
          47.534077846290955,
          47.53407054744988,
          47.534053306612805
         ],
         "line": {
          "color": "rgb(0.274128,0.199721,0.498911)",
          "width": 2
         },
         "lon": [
          -122.34707012893642,
          -122.34720404589635,
          -122.34927448620442
         ],
         "mode": "lines",
         "showlegend": false,
         "type": "scattermapbox"
        },
        {
         "hoverinfo": "text",
         "hovertext": "W SEA BR EB 4 AV OFF RP Flow: 16123.0",
         "lat": [
          47.53404276608291,
          47.53404287266809,
          47.53404291845857,
          47.53404295883559,
          47.53404299383463,
          47.534043027916525,
          47.5340430593005,
          47.5340430915836,
          47.5340431247658,
          47.5340431615449,
          47.53404320193867,
          47.53404324772784,
          47.53404330072874,
          47.53404336182282,
          47.53404343284414,
          47.53404351465646,
          47.53404360819451,
          47.53404371613836,
          47.53404384028654,
          47.534043978840515,
          47.534044145621195,
          47.5340443157023,
          47.53404449477588,
          47.534044682841966,
          47.53404488079978,
          47.53404508956639,
          47.534045306443886,
          47.53404553321316,
          47.53404576989192,
          47.5340460138001,
          47.53404626939857,
          47.534046534024974,
          47.53404680766162,
          47.53404709120771,
          47.53404738378181,
          47.53404768536606,
          47.53404799779456,
          47.53404831833402,
          47.53404864880067,
          47.53404898739605,
          47.53404933681789,
          47.53404969904155,
          47.53405006740083,
          47.53405044478807,
          47.534050831185475,
          47.53405122747466,
          47.534051632791815,
          47.534052048935465,
          47.53405247319006,
          47.53405290647259,
          47.53405334966458,
          47.53405380278384,
          47.534054264049516,
          47.53405473704091,
          47.53405521634479,
          47.534055706492865,
          47.534056205668875,
          47.53405671387286,
          47.53405723203952,
          47.53405775833489,
          47.53405829547448,
          47.534058840760494,
          47.534059377545965,
          47.53405994176941,
          47.53406051505635,
          47.53406109825274,
          47.53406169047711,
          47.53406229262866,
          47.53406290380826,
          47.53406352403346,
          47.53406415418592,
          47.53406479248483,
          47.53406544071095,
          47.534066098882036,
          47.53406676518179,
          47.534067440545016,
          47.53406812493621,
          47.53406881840855,
          47.534069520009595,
          47.534070232437145,
          47.53407095306432,
          47.53407168271946,
          47.53407244777222,
          47.53407320096754,
          47.53407397045587,
          47.53407475532025,
          47.534075556459875,
          47.53407636936071,
          47.53407719404052,
          47.5340780286653,
          47.53407887141881,
          47.53407972323575,
          47.53408058046586,
          47.534081443109166,
          47.534082308485566,
          47.53408317657743,
          47.53408404556836,
          47.53408491365993,
          47.534085779952875,
          47.53408664261309,
          47.53408750074142,
          47.53408835343862,
          47.5340891980245,
          47.5340900688433,
          47.53409099676415,
          47.534091925566415,
          47.534092855267836,
          47.53409378408761,
          47.53409471197251,
          47.53409564170903,
          47.5340965704929,
          47.53409749929443,
          47.53409842901279,
          47.534099357814064,
          47.534100286615164,
          47.5341012154162,
          47.53410214423479,
          47.534103073035546,
          47.534104002753175,
          47.53410493155366,
          47.534105860336304,
          47.534106789154265,
          47.534107718835884,
          47.53410864855288,
          47.53410957555417,
          47.534110505235425,
          47.53411143407051,
          47.53411236286997,
          47.53411329256858,
          47.53411422136777,
          47.53411514928537,
          47.53411607898357,
          47.53411700868167,
          47.53411793749813,
          47.53411886629667,
          47.534119795994414,
          47.534120723893444,
          47.53412165270939,
          47.5341225824067,
          47.53412351120465,
          47.53412444002018,
          47.5341253696994,
          47.53412629851472,
          47.53412722731214,
          47.53412815610943,
          47.53412908582357,
          47.53413001462066,
          47.53413094341753,
          47.53413187311361,
          47.53413280192802,
          47.53413373072453,
          47.53413465952096,
          47.534135589216476,
          47.53413651803037,
          47.53413744682638,
          47.53413837652155,
          47.53413930533506,
          47.5341402341307,
          47.5341411629262,
          47.53414209263857,
          47.53414302141611,
          47.53414395024671,
          47.53414487902399,
          47.534145808735815,
          47.53414673751285,
          47.53414766632518,
          47.53414859601894,
          47.53414952481335,
          47.5341504536253,
          47.53415138241944,
          47.53415231213038,
          47.53415324090651,
          47.53415416971795,
          47.53415509941083,
          47.5341560282043,
          47.534156957015384,
          47.534157885808604,
          47.53415881460166,
          47.534159744293916,
          47.53416067308672,
          47.534161602796445,
          47.534162531589025,
          47.534163460399185,
          47.53416438919153,
          47.53416531888296,
          47.53416624677575,
          47.53416717648469,
          47.534168106175784,
          47.534169034985226,
          47.53416996377676,
          47.53417089256817,
          47.53417182225873,
          47.53417275104992,
          47.5341736798587,
          47.53417460954887,
          47.53417553923892,
          47.53417646804732,
          47.53417739683788,
          47.53417832654528,
          47.5341792553178,
          47.53418018412567,
          47.534181112915704,
          47.53418204260488,
          47.53418297141236,
          47.53418390020205,
          47.534184829908526,
          47.53418575866244,
          47.534186687487164,
          47.53418761627631,
          47.53418854596459,
          47.53418947475345,
          47.53419040355996,
          47.53419133236628,
          47.534192262935555,
          47.534193191741686,
          47.534194120529904,
          47.53419504933577,
          47.53419597900524,
          47.53419690871008,
          47.53419783659855,
          47.53419876628544,
          47.53419969509064,
          47.53420062387797,
          47.534201552682966,
          47.53420248235154,
          47.53420341115624,
          47.53420434084236,
          47.53420526962904,
          47.534206198433374,
          47.534207127219815,
          47.53420805692314,
          47.534208985691556,
          47.534209915394655,
          47.53421084418061,
          47.534211772984136,
          47.53421270266909,
          47.53421363145463,
          47.534214560257816,
          47.53421548902534,
          47.53421641872754,
          47.53421734751259,
          47.53421827631525,
          47.53421920510006,
          47.534220134783936,
          47.53422106358623,
          47.53422199235288,
          47.53422292205417,
          47.53422385083834,
          47.53422477964008,
          47.53422570932325,
          47.53422663720776,
          47.5342275669084,
          47.53422849567416,
          47.534229425374555,
          47.534230355057076,
          47.53423128385792,
          47.53423221264096,
          47.5342331423231,
          47.53423407112356,
          47.53423499988842,
          47.53423592868867,
          47.53423685837031,
          47.53423778715253,
          47.53423871593465,
          47.534239645633626,
          47.53424057441549,
          47.53424150319717,
          47.534242431996546,
          47.53424336167729,
          47.53424429047634,
          47.53424521923984,
          47.53424614895566,
          47.53424707771889,
          47.534247988478946,
          47.534264843356354
         ],
         "line": {
          "color": "rgb(0.274128,0.199721,0.498911)",
          "width": 2
         },
         "lon": [
          -122.35053832007358,
          -122.35054643956909,
          -122.35055048847137,
          -122.35055453854449,
          -122.35055858713265,
          -122.35056263702243,
          -122.35056668683373,
          -122.3505707366712,
          -122.35057478653486,
          -122.35057883650327,
          -122.35058288524853,
          -122.35058693415091,
          -122.3505909819349,
          -122.35059502995452,
          -122.3505990756065,
          -122.35060312157262,
          -122.35060716522344,
          -122.35061120796537,
          -122.35061524985072,
          -122.3506192908272,
          -122.35062290223094,
          -122.35062694014029,
          -122.35063097831157,
          -122.35063501674466,
          -122.35063905546579,
          -122.35064309317333,
          -122.35064712978865,
          -122.35065116669209,
          -122.35065520255567,
          -122.3506592359731,
          -122.35066326973096,
          -122.35066730109496,
          -122.35067133139293,
          -122.35067536065121,
          -122.35067938751561,
          -122.350683413314,
          -122.35068743544312,
          -122.3506914564801,
          -122.3506954751494,
          -122.35069949139874,
          -122.35070350530658,
          -122.35070797522118,
          -122.3507119856954,
          -122.35071599377586,
          -122.3507200007904,
          -122.35072400809302,
          -122.3507280130018,
          -122.3507320155692,
          -122.35073601704443,
          -122.3507400161259,
          -122.35074401416755,
          -122.35074800984162,
          -122.35075200176787,
          -122.35075599137885,
          -122.35075997984536,
          -122.35076396464258,
          -122.35076794704605,
          -122.35077192705565,
          -122.350775902042,
          -122.35077987460836,
          -122.35078384350545,
          -122.35078780865476,
          -122.3507913325348,
          -122.35079529425053,
          -122.35079925091678,
          -122.35080320654333,
          -122.35080715977611,
          -122.35081111064132,
          -122.35081505911276,
          -122.35081900386257,
          -122.35082294624483,
          -122.35082688487927,
          -122.35083082114613,
          -122.35083475371758,
          -122.3508386838691,
          -122.3508426089711,
          -122.3508465316794,
          -122.3508504480103,
          -122.35085436192134,
          -122.35085827349099,
          -122.35086217732922,
          -122.35086607877378,
          -122.35087009150472,
          -122.35087398167958,
          -122.35087786435882,
          -122.35088174084397,
          -122.35088561116143,
          -122.35088947650793,
          -122.35089333555565,
          -122.35089719090804,
          -122.35090104384051,
          -122.35090489172354,
          -122.35090873843592,
          -122.35091258397772,
          -122.35091642694252,
          -122.35092026865811,
          -122.35092411040009,
          -122.35092795211594,
          -122.35093179377954,
          -122.35093563799425,
          -122.3509394847339,
          -122.35094333397224,
          -122.35094718430284,
          -122.35095109118951,
          -122.35095489878246,
          -122.35095870772965,
          -122.3509625167031,
          -122.35096632432268,
          -122.35097013457192,
          -122.35097394089003,
          -122.35097775116574,
          -122.35098156011372,
          -122.35098536776013,
          -122.3509891767084,
          -122.35099298565672,
          -122.35099679460527,
          -122.35100060222602,
          -122.35100441117477,
          -122.35100821882207,
          -122.35101202777108,
          -122.35101583804813,
          -122.35101964566958,
          -122.35102345597309,
          -122.35102726362099,
          -122.35103107251838,
          -122.3510348828223,
          -122.3510386891165,
          -122.35104249806669,
          -122.35104630704312,
          -122.35105011599356,
          -122.35105392359002,
          -122.3510577325669,
          -122.3510615415439,
          -122.35106534916697,
          -122.35106915811807,
          -122.35107296709552,
          -122.35107677602066,
          -122.35108058364426,
          -122.3510843926221,
          -122.35108820157386,
          -122.35109200919793,
          -122.35109581950398,
          -122.35109962712832,
          -122.35110343608059,
          -122.35110724503308,
          -122.35111105268396,
          -122.35111486163663,
          -122.35111867058954,
          -122.35112247956867,
          -122.35112628719398,
          -122.35113009614722,
          -122.35113390510062,
          -122.35113771408031,
          -122.35114152170611,
          -122.35114533065992,
          -122.3511491396401,
          -122.35115294726627,
          -122.35115675622045,
          -122.35116056517482,
          -122.35116437282761,
          -122.35116818311012,
          -122.35117198940914,
          -122.35117579969192,
          -122.35117960734523,
          -122.35118341762828,
          -122.3511872252557,
          -122.35119103423727,
          -122.35119484319287,
          -122.35119865082069,
          -122.35120245977657,
          -122.35120626743084,
          -122.35121007771484,
          -122.3512138853432,
          -122.35121769432574,
          -122.35122150328229,
          -122.35122531091106,
          -122.35122911986788,
          -122.35123292882477,
          -122.35123673780805,
          -122.35124054676523,
          -122.35124435442087,
          -122.35124816337834,
          -122.35125197100808,
          -122.35125577996584,
          -122.35125958894989,
          -122.35126339788172,
          -122.35126720553819,
          -122.3512710145227,
          -122.35127482215323,
          -122.35127863111175,
          -122.35128244007048,
          -122.35128624905546,
          -122.35129005801444,
          -122.35129386564566,
          -122.35129767463113,
          -122.35130148361665,
          -122.35130529124827,
          -122.35130910020794,
          -122.35131290786602,
          -122.35131671815381,
          -122.351320525786,
          -122.3513243347462,
          -122.35132814373269,
          -122.35133195136524,
          -122.35133576032588,
          -122.35133956798491,
          -122.3513433796015,
          -122.35134718590676,
          -122.35135099486793,
          -122.35135480385536,
          -122.35135861281678,
          -122.35136242045046,
          -122.35136622808425,
          -122.35137003842634,
          -122.3513738460604,
          -122.3513776550225,
          -122.35138146265685,
          -122.35138527297327,
          -122.35138908063408,
          -122.35139288957053,
          -122.35139669855947,
          -122.35140050619447,
          -122.35140431515755,
          -122.35140812279283,
          -122.35141193311021,
          -122.35141574074578,
          -122.35141954973558,
          -122.35142335869926,
          -122.35142716633524,
          -122.35143097529924,
          -122.35143478296166,
          -122.3514385932538,
          -122.35144240091653,
          -122.35144620988108,
          -122.35145001751786,
          -122.35145382650883,
          -122.35145763547379,
          -122.35146144311098,
          -122.35146525340407,
          -122.35146906106772,
          -122.35147287003322,
          -122.35147667767095,
          -122.35148048663672,
          -122.35148429562878,
          -122.35148810326692,
          -122.35149191356096,
          -122.35149572122556,
          -122.35149953019202,
          -122.35150333783072,
          -122.35150714682364,
          -122.35151095576423,
          -122.35151476342953,
          -122.3515185737245,
          -122.35152238139007,
          -122.35152619038368,
          -122.35152999802331,
          -122.351533806991,
          -122.35153761598494,
          -122.35154142362498,
          -122.35154523392092,
          -122.35154904156124,
          -122.35155285055579,
          -122.3515566595242,
          -122.35156046849283,
          -122.3515642761599,
          -122.3515680851288,
          -122.35157189409779,
          -122.35157570173905,
          -122.35157951073454,
          -122.35158331837609,
          -122.3515871286735,
          -122.35159093501366,
          -122.35159474531137,
          -122.35159855641304,
          -122.35167572715731
         ],
         "mode": "lines",
         "showlegend": false,
         "type": "scattermapbox"
        },
        {
         "hoverinfo": "text",
         "hovertext": "W SEA BR EB 4 AV OFF RP Flow: 16123.0",
         "lat": [
          47.534053306612805,
          47.53404276608291
         ],
         "line": {
          "color": "rgb(0.274128,0.199721,0.498911)",
          "width": 2
         },
         "lon": [
          -122.34927448620442,
          -122.35053832007358
         ],
         "mode": "lines",
         "showlegend": false,
         "type": "scattermapbox"
        },
        {
         "hoverinfo": "text",
         "hovertext": "W SEA BR EB 4 AV OFF RP Flow: 4500.0",
         "lat": [
          47.608820960102726,
          47.60904939895446,
          47.609285142681195
         ],
         "line": {
          "color": "rgb(0.277941,0.056324,0.381191)",
          "width": 2
         },
         "lon": [
          -122.3400134273668,
          -122.3394672986048,
          -122.338903694202
         ],
         "mode": "lines",
         "showlegend": false,
         "type": "scattermapbox"
        },
        {
         "hoverinfo": "text",
         "hovertext": "W SEA BR EB 4 AV OFF RP Flow: 3050.0",
         "lat": [
          47.62015488121763,
          47.62131965795235
         ],
         "line": {
          "color": "rgb(0.274952,0.037752,0.364543)",
          "width": 2
         },
         "lon": [
          -122.2912170530229,
          -122.29116330453704
         ],
         "mode": "lines",
         "showlegend": false,
         "type": "scattermapbox"
        },
        {
         "hoverinfo": "text",
         "hovertext": "W SEA BR EB 4 AV OFF RP Flow: 3050.0",
         "lat": [
          47.6236398358272,
          47.623729833290476,
          47.623962036935524,
          47.62408064839713,
          47.62410438454163,
          47.62435577498124,
          47.62478880533848,
          47.62495143169451
         ],
         "line": {
          "color": "rgb(0.274952,0.037752,0.364543)",
          "width": 2
         },
         "lon": [
          -122.29108458297495,
          -122.29108157340681,
          -122.29107382633705,
          -122.29106986608433,
          -122.2910690741537,
          -122.29106068166807,
          -122.29104622800294,
          -122.29105074656815
         ],
         "mode": "lines",
         "showlegend": false,
         "type": "scattermapbox"
        },
        {
         "hoverinfo": "text",
         "hovertext": "W SEA BR EB 4 AV OFF RP Flow: 3050.0",
         "lat": [
          47.62131965795235,
          47.621396825760115,
          47.62194878110722,
          47.62239070558061,
          47.62247316438276
         ],
         "line": {
          "color": "rgb(0.274952,0.037752,0.364543)",
          "width": 2
         },
         "lon": [
          -122.29116330453704,
          -122.29116068484139,
          -122.29114195968371,
          -122.29112696488193,
          -122.2911241686745
         ],
         "mode": "lines",
         "showlegend": false,
         "type": "scattermapbox"
        },
        {
         "hoverinfo": "text",
         "hovertext": "W SEA BR EB 4 AV OFF RP Flow: 3050.0",
         "lat": [
          47.62247316438276,
          47.622556233404524,
          47.62355659667521,
          47.6236388917206,
          47.62363927606899,
          47.6236398358272
         ],
         "line": {
          "color": "rgb(0.274952,0.037752,0.364543)",
          "width": 2
         },
         "lon": [
          -122.2911241686745,
          -122.29112134963958,
          -122.2910874106662,
          -122.29108461639797,
          -122.29108459922473,
          -122.29108458297495
         ],
         "mode": "lines",
         "showlegend": false,
         "type": "scattermapbox"
        },
        {
         "hoverinfo": "text",
         "hovertext": "W SEA BR EB 4 AV OFF RP Flow: 36000.0",
         "lat": [
          47.586909856961604,
          47.586880538816224,
          47.58661127817991
         ],
         "line": {
          "color": "rgb(0.192357,0.403199,0.555836)",
          "width": 2
         },
         "lon": [
          -122.30468333810435,
          -122.30466109446539,
          -122.30445474537831
         ],
         "mode": "lines",
         "showlegend": false,
         "type": "scattermapbox"
        },
        {
         "hoverinfo": "text",
         "hovertext": "W SEA BR EB 4 AV OFF RP Flow: 36000.0",
         "lat": [
          47.58841060090693,
          47.58773893406698
         ],
         "line": {
          "color": "rgb(0.192357,0.403199,0.555836)",
          "width": 2
         },
         "lon": [
          -122.30582739706331,
          -122.30524939952949
         ],
         "mode": "lines",
         "showlegend": false,
         "type": "scattermapbox"
        },
        {
         "hoverinfo": "text",
         "hovertext": "W SEA BR EB 4 AV OFF RP Flow: 36000.0",
         "lat": [
          47.586330275895236,
          47.585998977713935,
          47.585497564127685
         ],
         "line": {
          "color": "rgb(0.192357,0.403199,0.555836)",
          "width": 2
         },
         "lon": [
          -122.30423939970991,
          -122.30398687883678,
          -122.30360480483738
         ],
         "mode": "lines",
         "showlegend": false,
         "type": "scattermapbox"
        },
        {
         "hoverinfo": "text",
         "hovertext": "W SEA BR EB 4 AV OFF RP Flow: 36000.0",
         "lat": [
          47.585497564127685,
          47.584541863609736
         ],
         "line": {
          "color": "rgb(0.192357,0.403199,0.555836)",
          "width": 2
         },
         "lon": [
          -122.30360480483738,
          -122.30290950500806
         ],
         "mode": "lines",
         "showlegend": false,
         "type": "scattermapbox"
        },
        {
         "hoverinfo": "text",
         "hovertext": "W SEA BR EB 4 AV OFF RP Flow: 36000.0",
         "lat": [
          47.58773893406698,
          47.587391635436504
         ],
         "line": {
          "color": "rgb(0.192357,0.403199,0.555836)",
          "width": 2
         },
         "lon": [
          -122.30524939952949,
          -122.3050122752813
         ],
         "mode": "lines",
         "showlegend": false,
         "type": "scattermapbox"
        },
        {
         "hoverinfo": "text",
         "hovertext": "W SEA BR EB 4 AV OFF RP Flow: 36000.0",
         "lat": [
          47.587391635436504,
          47.586909856961604
         ],
         "line": {
          "color": "rgb(0.192357,0.403199,0.555836)",
          "width": 2
         },
         "lon": [
          -122.3050122752813,
          -122.30468333810435
         ],
         "mode": "lines",
         "showlegend": false,
         "type": "scattermapbox"
        },
        {
         "hoverinfo": "text",
         "hovertext": "W SEA BR EB 4 AV OFF RP Flow: 36000.0",
         "lat": [
          47.58661127817991,
          47.586330275895236
         ],
         "line": {
          "color": "rgb(0.192357,0.403199,0.555836)",
          "width": 2
         },
         "lon": [
          -122.30445474537831,
          -122.30423939970991
         ],
         "mode": "lines",
         "showlegend": false,
         "type": "scattermapbox"
        },
        {
         "hoverinfo": "text",
         "hovertext": "W SEA BR EB 4 AV OFF RP Flow: 3250.0",
         "lat": [
          47.63424405662324,
          47.63510146393439
         ],
         "line": {
          "color": "rgb(0.274952,0.037752,0.364543)",
          "width": 2
         },
         "lon": [
          -122.39153849116114,
          -122.3906005587816
         ],
         "mode": "lines",
         "showlegend": false,
         "type": "scattermapbox"
        },
        {
         "hoverinfo": "text",
         "hovertext": "W SEA BR EB 4 AV OFF RP Flow: 9910.0",
         "lat": [
          47.58059321954826,
          47.5794749421262
         ],
         "line": {
          "color": "rgb(0.283187,0.125848,0.444960)",
          "width": 2
         },
         "lon": [
          -122.31341202061986,
          -122.31338192203424
         ],
         "mode": "lines",
         "showlegend": false,
         "type": "scattermapbox"
        },
        {
         "hoverinfo": "text",
         "hovertext": "W SEA BR EB 4 AV OFF RP Flow: 9910.0",
         "lat": [
          47.5794749421262,
          47.57894280250923,
          47.57863325395961
         ],
         "line": {
          "color": "rgb(0.283187,0.125848,0.444960)",
          "width": 2
         },
         "lon": [
          -122.31338192203424,
          -122.31335044215103,
          -122.31335343302955
         ],
         "mode": "lines",
         "showlegend": false,
         "type": "scattermapbox"
        },
        {
         "hoverinfo": "text",
         "hovertext": "W SEA BR EB 4 AV OFF RP Flow: 2500.0",
         "lat": [
          47.610736382226605,
          47.61106822442296
         ],
         "line": {
          "color": "rgb(0.273809,0.031497,0.358853)",
          "width": 2
         },
         "lon": [
          -122.34304897049903,
          -122.34261249513114
         ],
         "mode": "lines",
         "showlegend": false,
         "type": "scattermapbox"
        },
        {
         "hoverinfo": "text",
         "hovertext": "W SEA BR EB 4 AV OFF RP Flow: 2500.0",
         "lat": [
          47.610403676866085,
          47.61062813651608,
          47.610736382226605
         ],
         "line": {
          "color": "rgb(0.273809,0.031497,0.358853)",
          "width": 2
         },
         "lon": [
          -122.34347179010727,
          -122.34318153023506,
          -122.34304897049903
         ],
         "mode": "lines",
         "showlegend": false,
         "type": "scattermapbox"
        },
        {
         "hoverinfo": "text",
         "hovertext": "W SEA BR EB 4 AV OFF RP Flow: 2500.0",
         "lat": [
          47.61032054262455,
          47.610403676866085
         ],
         "line": {
          "color": "rgb(0.273809,0.031497,0.358853)",
          "width": 2
         },
         "lon": [
          -122.34363652449112,
          -122.34347179010727
         ],
         "mode": "lines",
         "showlegend": false,
         "type": "scattermapbox"
        }
       ],
       "layout": {
        "mapbox": {
         "center": {
          "lat": 47.61506497849028,
          "lon": -122.3266736043623
         },
         "style": "stamen-terrain",
         "zoom": 10
        },
        "margin": {
         "b": 0,
         "l": 0,
         "r": 0,
         "t": 0
        },
        "template": {
         "data": {
          "bar": [
           {
            "error_x": {
             "color": "#2a3f5f"
            },
            "error_y": {
             "color": "#2a3f5f"
            },
            "marker": {
             "line": {
              "color": "#E5ECF6",
              "width": 0.5
             }
            },
            "type": "bar"
           }
          ],
          "barpolar": [
           {
            "marker": {
             "line": {
              "color": "#E5ECF6",
              "width": 0.5
             }
            },
            "type": "barpolar"
           }
          ],
          "carpet": [
           {
            "aaxis": {
             "endlinecolor": "#2a3f5f",
             "gridcolor": "white",
             "linecolor": "white",
             "minorgridcolor": "white",
             "startlinecolor": "#2a3f5f"
            },
            "baxis": {
             "endlinecolor": "#2a3f5f",
             "gridcolor": "white",
             "linecolor": "white",
             "minorgridcolor": "white",
             "startlinecolor": "#2a3f5f"
            },
            "type": "carpet"
           }
          ],
          "choropleth": [
           {
            "colorbar": {
             "outlinewidth": 0,
             "ticks": ""
            },
            "type": "choropleth"
           }
          ],
          "contour": [
           {
            "colorbar": {
             "outlinewidth": 0,
             "ticks": ""
            },
            "colorscale": [
             [
              0,
              "#0d0887"
             ],
             [
              0.1111111111111111,
              "#46039f"
             ],
             [
              0.2222222222222222,
              "#7201a8"
             ],
             [
              0.3333333333333333,
              "#9c179e"
             ],
             [
              0.4444444444444444,
              "#bd3786"
             ],
             [
              0.5555555555555556,
              "#d8576b"
             ],
             [
              0.6666666666666666,
              "#ed7953"
             ],
             [
              0.7777777777777778,
              "#fb9f3a"
             ],
             [
              0.8888888888888888,
              "#fdca26"
             ],
             [
              1,
              "#f0f921"
             ]
            ],
            "type": "contour"
           }
          ],
          "contourcarpet": [
           {
            "colorbar": {
             "outlinewidth": 0,
             "ticks": ""
            },
            "type": "contourcarpet"
           }
          ],
          "heatmap": [
           {
            "colorbar": {
             "outlinewidth": 0,
             "ticks": ""
            },
            "colorscale": [
             [
              0,
              "#0d0887"
             ],
             [
              0.1111111111111111,
              "#46039f"
             ],
             [
              0.2222222222222222,
              "#7201a8"
             ],
             [
              0.3333333333333333,
              "#9c179e"
             ],
             [
              0.4444444444444444,
              "#bd3786"
             ],
             [
              0.5555555555555556,
              "#d8576b"
             ],
             [
              0.6666666666666666,
              "#ed7953"
             ],
             [
              0.7777777777777778,
              "#fb9f3a"
             ],
             [
              0.8888888888888888,
              "#fdca26"
             ],
             [
              1,
              "#f0f921"
             ]
            ],
            "type": "heatmap"
           }
          ],
          "heatmapgl": [
           {
            "colorbar": {
             "outlinewidth": 0,
             "ticks": ""
            },
            "colorscale": [
             [
              0,
              "#0d0887"
             ],
             [
              0.1111111111111111,
              "#46039f"
             ],
             [
              0.2222222222222222,
              "#7201a8"
             ],
             [
              0.3333333333333333,
              "#9c179e"
             ],
             [
              0.4444444444444444,
              "#bd3786"
             ],
             [
              0.5555555555555556,
              "#d8576b"
             ],
             [
              0.6666666666666666,
              "#ed7953"
             ],
             [
              0.7777777777777778,
              "#fb9f3a"
             ],
             [
              0.8888888888888888,
              "#fdca26"
             ],
             [
              1,
              "#f0f921"
             ]
            ],
            "type": "heatmapgl"
           }
          ],
          "histogram": [
           {
            "marker": {
             "colorbar": {
              "outlinewidth": 0,
              "ticks": ""
             }
            },
            "type": "histogram"
           }
          ],
          "histogram2d": [
           {
            "colorbar": {
             "outlinewidth": 0,
             "ticks": ""
            },
            "colorscale": [
             [
              0,
              "#0d0887"
             ],
             [
              0.1111111111111111,
              "#46039f"
             ],
             [
              0.2222222222222222,
              "#7201a8"
             ],
             [
              0.3333333333333333,
              "#9c179e"
             ],
             [
              0.4444444444444444,
              "#bd3786"
             ],
             [
              0.5555555555555556,
              "#d8576b"
             ],
             [
              0.6666666666666666,
              "#ed7953"
             ],
             [
              0.7777777777777778,
              "#fb9f3a"
             ],
             [
              0.8888888888888888,
              "#fdca26"
             ],
             [
              1,
              "#f0f921"
             ]
            ],
            "type": "histogram2d"
           }
          ],
          "histogram2dcontour": [
           {
            "colorbar": {
             "outlinewidth": 0,
             "ticks": ""
            },
            "colorscale": [
             [
              0,
              "#0d0887"
             ],
             [
              0.1111111111111111,
              "#46039f"
             ],
             [
              0.2222222222222222,
              "#7201a8"
             ],
             [
              0.3333333333333333,
              "#9c179e"
             ],
             [
              0.4444444444444444,
              "#bd3786"
             ],
             [
              0.5555555555555556,
              "#d8576b"
             ],
             [
              0.6666666666666666,
              "#ed7953"
             ],
             [
              0.7777777777777778,
              "#fb9f3a"
             ],
             [
              0.8888888888888888,
              "#fdca26"
             ],
             [
              1,
              "#f0f921"
             ]
            ],
            "type": "histogram2dcontour"
           }
          ],
          "mesh3d": [
           {
            "colorbar": {
             "outlinewidth": 0,
             "ticks": ""
            },
            "type": "mesh3d"
           }
          ],
          "parcoords": [
           {
            "line": {
             "colorbar": {
              "outlinewidth": 0,
              "ticks": ""
             }
            },
            "type": "parcoords"
           }
          ],
          "scatter": [
           {
            "marker": {
             "colorbar": {
              "outlinewidth": 0,
              "ticks": ""
             }
            },
            "type": "scatter"
           }
          ],
          "scatter3d": [
           {
            "line": {
             "colorbar": {
              "outlinewidth": 0,
              "ticks": ""
             }
            },
            "marker": {
             "colorbar": {
              "outlinewidth": 0,
              "ticks": ""
             }
            },
            "type": "scatter3d"
           }
          ],
          "scattercarpet": [
           {
            "marker": {
             "colorbar": {
              "outlinewidth": 0,
              "ticks": ""
             }
            },
            "type": "scattercarpet"
           }
          ],
          "scattergeo": [
           {
            "marker": {
             "colorbar": {
              "outlinewidth": 0,
              "ticks": ""
             }
            },
            "type": "scattergeo"
           }
          ],
          "scattergl": [
           {
            "marker": {
             "colorbar": {
              "outlinewidth": 0,
              "ticks": ""
             }
            },
            "type": "scattergl"
           }
          ],
          "scattermapbox": [
           {
            "marker": {
             "colorbar": {
              "outlinewidth": 0,
              "ticks": ""
             }
            },
            "type": "scattermapbox"
           }
          ],
          "scatterpolar": [
           {
            "marker": {
             "colorbar": {
              "outlinewidth": 0,
              "ticks": ""
             }
            },
            "type": "scatterpolar"
           }
          ],
          "scatterpolargl": [
           {
            "marker": {
             "colorbar": {
              "outlinewidth": 0,
              "ticks": ""
             }
            },
            "type": "scatterpolargl"
           }
          ],
          "scatterternary": [
           {
            "marker": {
             "colorbar": {
              "outlinewidth": 0,
              "ticks": ""
             }
            },
            "type": "scatterternary"
           }
          ],
          "surface": [
           {
            "colorbar": {
             "outlinewidth": 0,
             "ticks": ""
            },
            "colorscale": [
             [
              0,
              "#0d0887"
             ],
             [
              0.1111111111111111,
              "#46039f"
             ],
             [
              0.2222222222222222,
              "#7201a8"
             ],
             [
              0.3333333333333333,
              "#9c179e"
             ],
             [
              0.4444444444444444,
              "#bd3786"
             ],
             [
              0.5555555555555556,
              "#d8576b"
             ],
             [
              0.6666666666666666,
              "#ed7953"
             ],
             [
              0.7777777777777778,
              "#fb9f3a"
             ],
             [
              0.8888888888888888,
              "#fdca26"
             ],
             [
              1,
              "#f0f921"
             ]
            ],
            "type": "surface"
           }
          ],
          "table": [
           {
            "cells": {
             "fill": {
              "color": "#EBF0F8"
             },
             "line": {
              "color": "white"
             }
            },
            "header": {
             "fill": {
              "color": "#C8D4E3"
             },
             "line": {
              "color": "white"
             }
            },
            "type": "table"
           }
          ]
         },
         "layout": {
          "annotationdefaults": {
           "arrowcolor": "#2a3f5f",
           "arrowhead": 0,
           "arrowwidth": 1
          },
          "colorscale": {
           "diverging": [
            [
             0,
             "#8e0152"
            ],
            [
             0.1,
             "#c51b7d"
            ],
            [
             0.2,
             "#de77ae"
            ],
            [
             0.3,
             "#f1b6da"
            ],
            [
             0.4,
             "#fde0ef"
            ],
            [
             0.5,
             "#f7f7f7"
            ],
            [
             0.6,
             "#e6f5d0"
            ],
            [
             0.7,
             "#b8e186"
            ],
            [
             0.8,
             "#7fbc41"
            ],
            [
             0.9,
             "#4d9221"
            ],
            [
             1,
             "#276419"
            ]
           ],
           "sequential": [
            [
             0,
             "#0d0887"
            ],
            [
             0.1111111111111111,
             "#46039f"
            ],
            [
             0.2222222222222222,
             "#7201a8"
            ],
            [
             0.3333333333333333,
             "#9c179e"
            ],
            [
             0.4444444444444444,
             "#bd3786"
            ],
            [
             0.5555555555555556,
             "#d8576b"
            ],
            [
             0.6666666666666666,
             "#ed7953"
            ],
            [
             0.7777777777777778,
             "#fb9f3a"
            ],
            [
             0.8888888888888888,
             "#fdca26"
            ],
            [
             1,
             "#f0f921"
            ]
           ],
           "sequentialminus": [
            [
             0,
             "#0d0887"
            ],
            [
             0.1111111111111111,
             "#46039f"
            ],
            [
             0.2222222222222222,
             "#7201a8"
            ],
            [
             0.3333333333333333,
             "#9c179e"
            ],
            [
             0.4444444444444444,
             "#bd3786"
            ],
            [
             0.5555555555555556,
             "#d8576b"
            ],
            [
             0.6666666666666666,
             "#ed7953"
            ],
            [
             0.7777777777777778,
             "#fb9f3a"
            ],
            [
             0.8888888888888888,
             "#fdca26"
            ],
            [
             1,
             "#f0f921"
            ]
           ]
          },
          "colorway": [
           "#636efa",
           "#EF553B",
           "#00cc96",
           "#ab63fa",
           "#FFA15A",
           "#19d3f3",
           "#FF6692",
           "#B6E880",
           "#FF97FF",
           "#FECB52"
          ],
          "font": {
           "color": "#2a3f5f"
          },
          "geo": {
           "bgcolor": "white",
           "lakecolor": "white",
           "landcolor": "#E5ECF6",
           "showlakes": true,
           "showland": true,
           "subunitcolor": "white"
          },
          "hoverlabel": {
           "align": "left"
          },
          "hovermode": "closest",
          "mapbox": {
           "style": "light"
          },
          "paper_bgcolor": "white",
          "plot_bgcolor": "#E5ECF6",
          "polar": {
           "angularaxis": {
            "gridcolor": "white",
            "linecolor": "white",
            "ticks": ""
           },
           "bgcolor": "#E5ECF6",
           "radialaxis": {
            "gridcolor": "white",
            "linecolor": "white",
            "ticks": ""
           }
          },
          "scene": {
           "xaxis": {
            "backgroundcolor": "#E5ECF6",
            "gridcolor": "white",
            "gridwidth": 2,
            "linecolor": "white",
            "showbackground": true,
            "ticks": "",
            "zerolinecolor": "white"
           },
           "yaxis": {
            "backgroundcolor": "#E5ECF6",
            "gridcolor": "white",
            "gridwidth": 2,
            "linecolor": "white",
            "showbackground": true,
            "ticks": "",
            "zerolinecolor": "white"
           },
           "zaxis": {
            "backgroundcolor": "#E5ECF6",
            "gridcolor": "white",
            "gridwidth": 2,
            "linecolor": "white",
            "showbackground": true,
            "ticks": "",
            "zerolinecolor": "white"
           }
          },
          "shapedefaults": {
           "line": {
            "color": "#2a3f5f"
           }
          },
          "ternary": {
           "aaxis": {
            "gridcolor": "white",
            "linecolor": "white",
            "ticks": ""
           },
           "baxis": {
            "gridcolor": "white",
            "linecolor": "white",
            "ticks": ""
           },
           "bgcolor": "#E5ECF6",
           "caxis": {
            "gridcolor": "white",
            "linecolor": "white",
            "ticks": ""
           }
          },
          "title": {
           "x": 0.05
          },
          "xaxis": {
           "automargin": true,
           "gridcolor": "white",
           "linecolor": "white",
           "ticks": "",
           "zerolinecolor": "white",
           "zerolinewidth": 2
          },
          "yaxis": {
           "automargin": true,
           "gridcolor": "white",
           "linecolor": "white",
           "ticks": "",
           "zerolinecolor": "white",
           "zerolinewidth": 2
          }
         }
        },
        "width": 500
       }
      },
      "text/html": [
       "<div>\n",
       "        \n",
       "        \n",
       "            <div id=\"10b0250b-d50c-4c9f-8e4a-040182a5db26\" class=\"plotly-graph-div\" style=\"height:525px; width:500px;\"></div>\n",
       "            <script type=\"text/javascript\">\n",
       "                require([\"plotly\"], function(Plotly) {\n",
       "                    window.PLOTLYENV=window.PLOTLYENV || {};\n",
       "                    \n",
       "                if (document.getElementById(\"10b0250b-d50c-4c9f-8e4a-040182a5db26\")) {\n",
       "                    Plotly.newPlot(\n",
       "                        '10b0250b-d50c-4c9f-8e4a-040182a5db26',\n",
       "                        [{\"hoverinfo\": \"text\", \"hovertext\": \"W SEA BR EB 4 AV OFF RP Flow: 8000.0\", \"lat\": [47.613063934517605, 47.61352793051799], \"line\": {\"color\": \"rgb(0.282910,0.105393,0.426902)\", \"width\": 2}, \"lon\": [-122.33315264168226, -122.33204186734616], \"mode\": \"lines\", \"showlegend\": false, \"type\": \"scattermapbox\"}, {\"hoverinfo\": \"text\", \"hovertext\": \"W SEA BR EB 4 AV OFF RP Flow: 11129.0\", \"lat\": [47.65358264247851, 47.653731006827115, 47.653820316476214, 47.65393223501055], \"line\": {\"color\": \"rgb(0.282623,0.140926,0.457517)\", \"width\": 2}, \"lon\": [-122.37523029779923, -122.37538819083188, -122.37550616307898, -122.37570239667313], \"mode\": \"lines\", \"showlegend\": false, \"type\": \"scattermapbox\"}, {\"hoverinfo\": \"text\", \"hovertext\": \"W SEA BR EB 4 AV OFF RP Flow: 20487.0\", \"lat\": [47.675776085725175, 47.67577532946047], \"line\": {\"color\": \"rgb(0.260571,0.246922,0.522828)\", \"width\": 2}, \"lon\": [-122.30381317237058, -122.3027420259575], \"mode\": \"lines\", \"showlegend\": false, \"type\": \"scattermapbox\"}, {\"hoverinfo\": \"text\", \"hovertext\": \"W SEA BR EB 4 AV OFF RP Flow: 20487.0\", \"lat\": [47.6757739682688, 47.67577396437299, 47.67577380718984, 47.675774220527806], \"line\": {\"color\": \"rgb(0.260571,0.246922,0.522828)\", \"width\": 2}, \"lon\": [-122.30167424734096, -122.3016709199339, -122.30110756206635, -122.30065154766508], \"mode\": \"lines\", \"showlegend\": false, \"type\": \"scattermapbox\"}, {\"hoverinfo\": \"text\", \"hovertext\": \"W SEA BR EB 4 AV OFF RP Flow: 20487.0\", \"lat\": [47.67577532946047, 47.6757739682688], \"line\": {\"color\": \"rgb(0.260571,0.246922,0.522828)\", \"width\": 2}, \"lon\": [-122.3027420259575, -122.30167424734096], \"mode\": \"lines\", \"showlegend\": false, \"type\": \"scattermapbox\"}, {\"hoverinfo\": \"text\", \"hovertext\": \"W SEA BR EB 4 AV OFF RP Flow: 20487.0\", \"lat\": [47.675777588508566, 47.67577727696799], \"line\": {\"color\": \"rgb(0.260571,0.246922,0.522828)\", \"width\": 2}, \"lon\": [-122.30546890743835, -122.30516611296365], \"mode\": \"lines\", \"showlegend\": false, \"type\": \"scattermapbox\"}, {\"hoverinfo\": \"text\", \"hovertext\": \"W SEA BR EB 4 AV OFF RP Flow: 20487.0\", \"lat\": [47.67577727696799, 47.675776719109244], \"line\": {\"color\": \"rgb(0.260571,0.246922,0.522828)\", \"width\": 2}, \"lon\": [-122.30516611296365, -122.30441887595502], \"mode\": \"lines\", \"showlegend\": false, \"type\": \"scattermapbox\"}, {\"hoverinfo\": \"text\", \"hovertext\": \"W SEA BR EB 4 AV OFF RP Flow: 20487.0\", \"lat\": [47.675776719109244, 47.675776085725175], \"line\": {\"color\": \"rgb(0.260571,0.246922,0.522828)\", \"width\": 2}, \"lon\": [-122.30441887595502, -122.30381317237058], \"mode\": \"lines\", \"showlegend\": false, \"type\": \"scattermapbox\"}, {\"hoverinfo\": \"text\", \"hovertext\": \"W SEA BR EB 4 AV OFF RP Flow: 20487.0\", \"lat\": [47.67577850060114, 47.675777588508566], \"line\": {\"color\": \"rgb(0.260571,0.246922,0.522828)\", \"width\": 2}, \"lon\": [-122.3065187153355, -122.30546890743835], \"mode\": \"lines\", \"showlegend\": false, \"type\": \"scattermapbox\"}, {\"hoverinfo\": \"text\", \"hovertext\": \"W SEA BR EB 4 AV OFF RP Flow: 1007.0\", \"lat\": [47.65409671312739, 47.65410006532881], \"line\": {\"color\": \"rgb(0.268510,0.009605,0.335427)\", \"width\": 2}, \"lon\": [-122.41211657616375, -122.41313718231213], \"mode\": \"lines\", \"showlegend\": false, \"type\": \"scattermapbox\"}, {\"hoverinfo\": \"text\", \"hovertext\": \"W SEA BR EB 4 AV OFF RP Flow: 1007.0\", \"lat\": [47.65410006532881, 47.65410311098524, 47.65410435206149], \"line\": {\"color\": \"rgb(0.268510,0.009605,0.335427)\", \"width\": 2}, \"lon\": [-122.41313718231213, -122.41432631940992, -122.4147118064739], \"mode\": \"lines\", \"showlegend\": false, \"type\": \"scattermapbox\"}, {\"hoverinfo\": \"text\", \"hovertext\": \"W SEA BR EB 4 AV OFF RP Flow: 1007.0\", \"lat\": [47.65410435206149, 47.65410903607206], \"line\": {\"color\": \"rgb(0.268510,0.009605,0.335427)\", \"width\": 2}, \"lon\": [-122.4147118064739, -122.41617071772109], \"mode\": \"lines\", \"showlegend\": false, \"type\": \"scattermapbox\"}, {\"hoverinfo\": \"text\", \"hovertext\": \"W SEA BR EB 4 AV OFF RP Flow: 4868.0\", \"lat\": [47.52610379775938, 47.5261046632721, 47.526109035826146, 47.52611404363346], \"line\": {\"color\": \"rgb(0.278791,0.062145,0.386592)\", \"width\": 2}, \"lon\": [-122.28080361718278, -122.28064459889211, -122.27984274441908, -122.27926535476276], \"mode\": \"lines\", \"showlegend\": false, \"type\": \"scattermapbox\"}, {\"hoverinfo\": \"text\", \"hovertext\": \"W SEA BR EB 4 AV OFF RP Flow: 4868.0\", \"lat\": [47.52611630743941, 47.52611203850897], \"line\": {\"color\": \"rgb(0.278791,0.062145,0.386592)\", \"width\": 2}, \"lon\": [-122.28595819192675, -122.28476888712825], \"mode\": \"lines\", \"showlegend\": false, \"type\": \"scattermapbox\"}, {\"hoverinfo\": \"text\", \"hovertext\": \"W SEA BR EB 4 AV OFF RP Flow: 4868.0\", \"lat\": [47.52610926148675, 47.52610914229615, 47.52610403851953, 47.52610379775938], \"line\": {\"color\": \"rgb(0.278791,0.062145,0.386592)\", \"width\": 2}, \"lon\": [-122.28367060824512, -122.28360820958231, -122.28092917283988, -122.28080361718278], \"mode\": \"lines\", \"showlegend\": false, \"type\": \"scattermapbox\"}, {\"hoverinfo\": \"text\", \"hovertext\": \"W SEA BR EB 4 AV OFF RP Flow: 4868.0\", \"lat\": [47.52611918139483, 47.52611630743941], \"line\": {\"color\": \"rgb(0.278791,0.062145,0.386592)\", \"width\": 2}, \"lon\": [-122.28712274005551, -122.28595819192675], \"mode\": \"lines\", \"showlegend\": false, \"type\": \"scattermapbox\"}, {\"hoverinfo\": \"text\", \"hovertext\": \"W SEA BR EB 4 AV OFF RP Flow: 4868.0\", \"lat\": [47.52611203850897, 47.52610945017123, 47.52610926148675], \"line\": {\"color\": \"rgb(0.278791,0.062145,0.386592)\", \"width\": 2}, \"lon\": [-122.28476888712825, -122.28373129552446, -122.28367060824512], \"mode\": \"lines\", \"showlegend\": false, \"type\": \"scattermapbox\"}, {\"hoverinfo\": \"text\", \"hovertext\": \"W SEA BR EB 4 AV OFF RP Flow: 4868.0\", \"lat\": [47.52612063936362, 47.52611932168687, 47.52611931491034, 47.52611918139483], \"line\": {\"color\": \"rgb(0.278791,0.062145,0.386592)\", \"width\": 2}, \"lon\": [-122.28767365181243, -122.28717996488741, -122.28717648758753, -122.28712274005551], \"mode\": \"lines\", \"showlegend\": false, \"type\": \"scattermapbox\"}, {\"hoverinfo\": \"text\", \"hovertext\": \"W SEA BR EB 4 AV OFF RP Flow: 31969.0\", \"lat\": [47.660607271708315, 47.661319003734754], \"line\": {\"color\": \"rgb(0.208623,0.367752,0.552675)\", \"width\": 2}, \"lon\": [-122.3207798495814, -122.32072786148697], \"mode\": \"lines\", \"showlegend\": false, \"type\": \"scattermapbox\"}, {\"hoverinfo\": \"text\", \"hovertext\": \"W SEA BR EB 4 AV OFF RP Flow: 4204.0\", \"lat\": [47.57267326121036, 47.5721345885508, 47.57204766541321, 47.5719493228995, 47.5718771088066, 47.57181372084763, 47.57178535549026], \"line\": {\"color\": \"rgb(0.277941,0.056324,0.381191)\", \"width\": 2}, \"lon\": [-122.35320443232689, -122.35249468484737, -122.35239212211762, -122.35226313156846, -122.35216099729405, -122.35205912338368, -122.35195443064212], \"mode\": \"lines\", \"showlegend\": false, \"type\": \"scattermapbox\"}, {\"hoverinfo\": \"text\", \"hovertext\": \"W SEA BR EB 4 AV OFF RP Flow: 4204.0\", \"lat\": [47.57444948296686, 47.574400707049115, 47.57438516250061, 47.57436866131989, 47.574327415153626, 47.57424504007068, 47.57411876727499, 47.57404850982074, 47.573969541531305, 47.57379418597911, 47.573715451177456, 47.573546793497094, 47.57345981296237, 47.573265898943504, 47.57267326121036], \"line\": {\"color\": \"rgb(0.277941,0.056324,0.381191)\", \"width\": 2}, \"lon\": [-122.35464684044256, -122.35467022347513, -122.35467420022681, -122.35467793366172, -122.35468107838061, -122.35467867160071, -122.35465758570582, -122.35462943821166, -122.35459233804822, -122.35450023007738, -122.35444574069294, -122.3542929433758, -122.3541947202288, -122.35394985448488, -122.35320443232689], \"mode\": \"lines\", \"showlegend\": false, \"type\": \"scattermapbox\"}, {\"hoverinfo\": \"text\", \"hovertext\": \"W SEA BR EB 4 AV OFF RP Flow: 12000.0\", \"lat\": [47.65572689058199, 47.65567171746161, 47.65564737658113, 47.655622865114736, 47.65559681537656, 47.65554884302643, 47.655470827450095], \"line\": {\"color\": \"rgb(0.281887,0.150881,0.465405)\", \"width\": 2}, \"lon\": [-122.31881045002959, -122.3185984552381, -122.31853418860089, -122.31848306944943, -122.31843629094584, -122.3183669649222, -122.31826624896897], \"mode\": \"lines\", \"showlegend\": false, \"type\": \"scattermapbox\"}, {\"hoverinfo\": \"text\", \"hovertext\": \"W SEA BR EB 4 AV OFF RP Flow: 25222.0\", \"lat\": [47.58115390078086, 47.581158697199015], \"line\": {\"color\": \"rgb(0.241237,0.296485,0.539709)\", \"width\": 2}, \"lon\": [-122.38021401747434, -122.38115119441814], \"mode\": \"lines\", \"showlegend\": false, \"type\": \"scattermapbox\"}, {\"hoverinfo\": \"text\", \"hovertext\": \"W SEA BR EB 4 AV OFF RP Flow: 25222.0\", \"lat\": [47.58109684426583, 47.58111291226014, 47.58112381778451, 47.58112636446655, 47.58113679081863], \"line\": {\"color\": \"rgb(0.241237,0.296485,0.539709)\", \"width\": 2}, \"lon\": [-122.37805702174497, -122.37817537716549, -122.37829501542342, -122.37846347947597, -122.37914917372875], \"mode\": \"lines\", \"showlegend\": false, \"type\": \"scattermapbox\"}, {\"hoverinfo\": \"text\", \"hovertext\": \"W SEA BR EB 4 AV OFF RP Flow: 25222.0\", \"lat\": [47.580274798978614, 47.58036546902722, 47.580367571964985, 47.58045721596755, 47.58048836664181, 47.58054318482918, 47.5806249503249, 47.58070033256739, 47.58072939107305, 47.58077077997401, 47.58083588666, 47.58089526517762, 47.58094857104889, 47.580995493503366], \"line\": {\"color\": \"rgb(0.241237,0.296485,0.539709)\", \"width\": 2}, \"lon\": [-122.37670733264116, -122.37675994844024, -122.37676116883652, -122.37682555036444, -122.3768525574164, -122.37690008480646, -122.37698431777622, -122.37707553880327, -122.37711656566309, -122.37717500341161, -122.37728212519143, -122.37739628502892, -122.3775168132201, -122.37764300914037], \"mode\": \"lines\", \"showlegend\": false, \"type\": \"scattermapbox\"}, {\"hoverinfo\": \"text\", \"hovertext\": \"W SEA BR EB 4 AV OFF RP Flow: 25222.0\", \"lat\": [47.581158697199015, 47.5811569957586, 47.58116262808807, 47.581163049245724, 47.58116753853387, 47.581169932065535], \"line\": {\"color\": \"rgb(0.241237,0.296485,0.539709)\", \"width\": 2}, \"lon\": [-122.38115119441814, -122.38154589806899, -122.38224885163308, -122.38230115300637, -122.38286172409165, -122.38326418435568], \"mode\": \"lines\", \"showlegend\": false, \"type\": \"scattermapbox\"}, {\"hoverinfo\": \"text\", \"hovertext\": \"W SEA BR EB 4 AV OFF RP Flow: 25222.0\", \"lat\": [47.575555219673475, 47.57608842916424], \"line\": {\"color\": \"rgb(0.241237,0.296485,0.539709)\", \"width\": 2}, \"lon\": [-122.37471762756417, -122.3751004813566], \"mode\": \"lines\", \"showlegend\": false, \"type\": \"scattermapbox\"}, {\"hoverinfo\": \"text\", \"hovertext\": \"W SEA BR EB 4 AV OFF RP Flow: 25222.0\", \"lat\": [47.57608842916424, 47.57626867079223, 47.57652553431024, 47.576848426261854, 47.57781414217413, 47.57877135991839, 47.579019671749734, 47.57927059125952, 47.5793611349954, 47.57954895037673, 47.57982770316276, 47.57982906794081, 47.57994562355794, 47.579945765369935, 47.58002941812749, 47.580112451699904, 47.58018416984457, 47.5801943646427, 47.580274798978614], \"line\": {\"color\": \"rgb(0.241237,0.296485,0.539709)\", \"width\": 2}, \"lon\": [-122.3751004813566, -122.3752044832875, -122.37534678640262, -122.37552243957863, -122.37594433095052, -122.37632895480898, -122.37642004519014, -122.37649391773192, -122.37651381764007, -122.37655510009718, -122.37659489559246, -122.37659509027495, -122.37660727637349, -122.37660730052039, -122.37662016533842, -122.37664120194977, -122.37666668166034, -122.37667030378866, -122.37670733264116], \"mode\": \"lines\", \"showlegend\": false, \"type\": \"scattermapbox\"}, {\"hoverinfo\": \"text\", \"hovertext\": \"W SEA BR EB 4 AV OFF RP Flow: 25222.0\", \"lat\": [47.580995493503366, 47.58103654021328, 47.58105531284301, 47.58107039135596, 47.58109684426583], \"line\": {\"color\": \"rgb(0.241237,0.296485,0.539709)\", \"width\": 2}, \"lon\": [-122.37764300914037, -122.37777696995194, -122.377853655012, -122.37791525538752, -122.37805702174497], \"mode\": \"lines\", \"showlegend\": false, \"type\": \"scattermapbox\"}, {\"hoverinfo\": \"text\", \"hovertext\": \"W SEA BR EB 4 AV OFF RP Flow: 25222.0\", \"lat\": [47.58117585625215, 47.581186086186655], \"line\": {\"color\": \"rgb(0.241237,0.296485,0.539709)\", \"width\": 2}, \"lon\": [-122.38388873989757, -122.38517250186422], \"mode\": \"lines\", \"showlegend\": false, \"type\": \"scattermapbox\"}, {\"hoverinfo\": \"text\", \"hovertext\": \"W SEA BR EB 4 AV OFF RP Flow: 25222.0\", \"lat\": [47.573666661249405, 47.57373379947563, 47.574941306067686, 47.575555219673475], \"line\": {\"color\": \"rgb(0.241237,0.296485,0.539709)\", \"width\": 2}, \"lon\": [-122.3732785313923, -122.37333321698036, -122.37431678435391, -122.37471762756417], \"mode\": \"lines\", \"showlegend\": false, \"type\": \"scattermapbox\"}, {\"hoverinfo\": \"text\", \"hovertext\": \"W SEA BR EB 4 AV OFF RP Flow: 25222.0\", \"lat\": [47.572083991965705, 47.57230933702053, 47.57240219898007, 47.572500274297866, 47.572800935977824, 47.57285677347478, 47.57291187309661, 47.57348327695898, 47.573585918686895, 47.573586465899474, 47.57363105046604, 47.573666661249405], \"line\": {\"color\": \"rgb(0.241237,0.296485,0.539709)\", \"width\": 2}, \"lon\": [-122.37199327027963, -122.37217342796369, -122.37224901609578, -122.37232884904287, -122.37257358491586, -122.3726190370978, -122.37266390390862, -122.3731291932703, -122.37321277389951, -122.37321322080614, -122.3732495263494, -122.3732785313923], \"mode\": \"lines\", \"showlegend\": false, \"type\": \"scattermapbox\"}, {\"hoverinfo\": \"text\", \"hovertext\": \"W SEA BR EB 4 AV OFF RP Flow: 25222.0\", \"lat\": [47.58113679081863, 47.58115390078086], \"line\": {\"color\": \"rgb(0.241237,0.296485,0.539709)\", \"width\": 2}, \"lon\": [-122.37914917372875, -122.38021401747434], \"mode\": \"lines\", \"showlegend\": false, \"type\": \"scattermapbox\"}, {\"hoverinfo\": \"text\", \"hovertext\": \"W SEA BR EB 4 AV OFF RP Flow: 25222.0\", \"lat\": [47.581169932065535, 47.58117585625215], \"line\": {\"color\": \"rgb(0.241237,0.296485,0.539709)\", \"width\": 2}, \"lon\": [-122.38326418435568, -122.38388873989757], \"mode\": \"lines\", \"showlegend\": false, \"type\": \"scattermapbox\"}, {\"hoverinfo\": \"text\", \"hovertext\": \"W SEA BR EB 4 AV OFF RP Flow: 25222.0\", \"lat\": [47.581186086186655, 47.581195342087696], \"line\": {\"color\": \"rgb(0.241237,0.296485,0.539709)\", \"width\": 2}, \"lon\": [-122.38517250186422, -122.38654575592841], \"mode\": \"lines\", \"showlegend\": false, \"type\": \"scattermapbox\"}, {\"hoverinfo\": \"text\", \"hovertext\": \"W SEA BR EB 4 AV OFF RP Flow: 23500.0\", \"lat\": [47.61850791447084, 47.61850463499015, 47.618491757599564], \"line\": {\"color\": \"rgb(0.248629,0.278775,0.534556)\", \"width\": 2}, \"lon\": [-122.33139505274875, -122.33098689198081, -122.330722961038], \"mode\": \"lines\", \"showlegend\": false, \"type\": \"scattermapbox\"}, {\"hoverinfo\": \"text\", \"hovertext\": \"W SEA BR EB 4 AV OFF RP Flow: 2000.0\", \"lat\": [47.5066686080539, 47.50662303691799, 47.5066219435235, 47.50658380623483, 47.50655114535138, 47.50652524634882, 47.50650762592695, 47.50650626494194, 47.506501769258286, 47.50649431091434, 47.50648945516777, 47.50648405679608], \"line\": {\"color\": \"rgb(0.271305,0.019942,0.347269)\", \"width\": 2}, \"lon\": [-122.38698311531195, -122.38686375999241, -122.38686030063865, -122.386739600349, -122.38661136278854, -122.38647980180976, -122.38635531453797, -122.38634570003092, -122.38629460675388, -122.38620984400798, -122.38607303506754, -122.38549945226751], \"mode\": \"lines\", \"showlegend\": false, \"type\": \"scattermapbox\"}, {\"hoverinfo\": \"text\", \"hovertext\": \"W SEA BR EB 4 AV OFF RP Flow: 2000.0\", \"lat\": [47.50648405679608, 47.506470256124814], \"line\": {\"color\": \"rgb(0.271305,0.019942,0.347269)\", \"width\": 2}, \"lon\": [-122.38549945226751, -122.38402301371178], \"mode\": \"lines\", \"showlegend\": false, \"type\": \"scattermapbox\"}, {\"hoverinfo\": \"text\", \"hovertext\": \"W SEA BR EB 4 AV OFF RP Flow: 2000.0\", \"lat\": [47.506470256124814, 47.50645447419728, 47.506449072138494, 47.50643783363608, 47.50641983023795, 47.506384153750226, 47.50631998125399], \"line\": {\"color\": \"rgb(0.271305,0.019942,0.347269)\", \"width\": 2}, \"lon\": [-122.38402301371178, -122.3823420711622, -122.38221628365238, -122.382097918492, -122.38195195167401, -122.38176507058465, -122.38153822073201], \"mode\": \"lines\", \"showlegend\": false, \"type\": \"scattermapbox\"}, {\"hoverinfo\": \"text\", \"hovertext\": \"W SEA BR EB 4 AV OFF RP Flow: 2000.0\", \"lat\": [47.50829303990641, 47.508240390909094, 47.50812717864236, 47.507764768562176, 47.5077645381896, 47.50766815383816, 47.50757172928646, 47.50747611387268, 47.50738191498701, 47.507289739716555, 47.50720017357276, 47.50712951423514, 47.50705052869067, 47.506975251451195, 47.50690410563169, 47.50683750192996, 47.50677582170456, 47.506719414386765, 47.5066686080539], \"line\": {\"color\": \"rgb(0.271305,0.019942,0.347269)\", \"width\": 2}, \"lon\": [-122.38778976919838, -122.38779085490702, -122.38780008092046, -122.3878296183163, -122.38782962339697, -122.3878317803303, -122.38782254690142, -122.38780198168968, -122.3877702050997, -122.38772742515201, -122.38767391427584, -122.38762260959956, -122.38755468892373, -122.3874781493578, -122.38739342839898, -122.38730101627358, -122.38720144348247, -122.38709527275812, -122.38698311531195], \"mode\": \"lines\", \"showlegend\": false, \"type\": \"scattermapbox\"}, {\"hoverinfo\": \"text\", \"hovertext\": \"W SEA BR EB 4 AV OFF RP Flow: 33500.0\", \"lat\": [47.702399564858524, 47.70246113542865, 47.70365251306463], \"line\": {\"color\": \"rgb(0.203063,0.379716,0.553925)\", \"width\": 2}, \"lon\": [-122.36074267927478, -122.36062133742121, -122.35827332448834], \"mode\": \"lines\", \"showlegend\": false, \"type\": \"scattermapbox\"}, {\"hoverinfo\": \"text\", \"hovertext\": \"W SEA BR EB 4 AV OFF RP Flow: 33500.0\", \"lat\": [47.70365251306463, 47.704368709409856], \"line\": {\"color\": \"rgb(0.203063,0.379716,0.553925)\", \"width\": 2}, \"lon\": [-122.35827332448834, -122.35686172820445], \"mode\": \"lines\", \"showlegend\": false, \"type\": \"scattermapbox\"}, {\"hoverinfo\": \"text\", \"hovertext\": \"W SEA BR EB 4 AV OFF RP Flow: 33500.0\", \"lat\": [47.704368709409856, 47.70476727816517, 47.70476735022925, 47.70502205381164, 47.70508354119985], \"line\": {\"color\": \"rgb(0.203063,0.379716,0.553925)\", \"width\": 2}, \"lon\": [-122.35686172820445, -122.35607613989735, -122.35607599807355, -122.35557394213473, -122.35545274568328], \"mode\": \"lines\", \"showlegend\": false, \"type\": \"scattermapbox\"}, {\"hoverinfo\": \"text\", \"hovertext\": \"W SEA BR EB 4 AV OFF RP Flow: 10835.0\", \"lat\": [47.56986732853454, 47.56916618573059], \"line\": {\"color\": \"rgb(0.282884,0.135920,0.453427)\", \"width\": 2}, \"lon\": [-122.3134271078186, -122.31343045791466], \"mode\": \"lines\", \"showlegend\": false, \"type\": \"scattermapbox\"}, {\"hoverinfo\": \"text\", \"hovertext\": \"W SEA BR EB 4 AV OFF RP Flow: 10835.0\", \"lat\": [47.57162901745434, 47.57106209389637], \"line\": {\"color\": \"rgb(0.282884,0.135920,0.453427)\", \"width\": 2}, \"lon\": [-122.31340770389647, -122.31341394804234], \"mode\": \"lines\", \"showlegend\": false, \"type\": \"scattermapbox\"}, {\"hoverinfo\": \"text\", \"hovertext\": \"W SEA BR EB 4 AV OFF RP Flow: 10835.0\", \"lat\": [47.57106209389637, 47.56986732853454], \"line\": {\"color\": \"rgb(0.282884,0.135920,0.453427)\", \"width\": 2}, \"lon\": [-122.31341394804234, -122.3134271078186], \"mode\": \"lines\", \"showlegend\": false, \"type\": \"scattermapbox\"}, {\"hoverinfo\": \"text\", \"hovertext\": \"W SEA BR EB 4 AV OFF RP Flow: 3202.0\", \"lat\": [47.53895778300035, 47.53697371238828], \"line\": {\"color\": \"rgb(0.274952,0.037752,0.364543)\", \"width\": 2}, \"lon\": [-122.29608148511059, -122.29309416151268], \"mode\": \"lines\", \"showlegend\": false, \"type\": \"scattermapbox\"}, {\"hoverinfo\": \"text\", \"hovertext\": \"W SEA BR EB 4 AV OFF RP Flow: 3202.0\", \"lat\": [47.53697371238828, 47.536633496939714, 47.53589456379166], \"line\": {\"color\": \"rgb(0.274952,0.037752,0.364543)\", \"width\": 2}, \"lon\": [-122.29309416151268, -122.29258362311217, -122.29148334115476], \"mode\": \"lines\", \"showlegend\": false, \"type\": \"scattermapbox\"}, {\"hoverinfo\": \"text\", \"hovertext\": \"W SEA BR EB 4 AV OFF RP Flow: 3202.0\", \"lat\": [47.53237069690926, 47.532299712323336, 47.53192265085591, 47.53168457589814], \"line\": {\"color\": \"rgb(0.274952,0.037752,0.364543)\", \"width\": 2}, \"lon\": [-122.2885071014472, -122.28847155680522, -122.28827101569134, -122.28817194465272], \"mode\": \"lines\", \"showlegend\": false, \"type\": \"scattermapbox\"}, {\"hoverinfo\": \"text\", \"hovertext\": \"W SEA BR EB 4 AV OFF RP Flow: 3202.0\", \"lat\": [47.53099725031689, 47.53099667897332, 47.53090689073068, 47.53080586513719, 47.53068803747959, 47.53054195980397, 47.52968873839819], \"line\": {\"color\": \"rgb(0.274952,0.037752,0.364543)\", \"width\": 2}, \"lon\": [-122.28790579379803, -122.28790566096235, -122.28789485709927, -122.28788373830061, -122.28786800239554, -122.28786392530185, -122.2878249234655], \"mode\": \"lines\", \"showlegend\": false, \"type\": \"scattermapbox\"}, {\"hoverinfo\": \"text\", \"hovertext\": \"W SEA BR EB 4 AV OFF RP Flow: 3202.0\", \"lat\": [47.52968873839819, 47.527884239709245], \"line\": {\"color\": \"rgb(0.274952,0.037752,0.364543)\", \"width\": 2}, \"lon\": [-122.2878249234655, -122.28774886114579], \"mode\": \"lines\", \"showlegend\": false, \"type\": \"scattermapbox\"}, {\"hoverinfo\": \"text\", \"hovertext\": \"W SEA BR EB 4 AV OFF RP Flow: 3202.0\", \"lat\": [47.53589456379166, 47.535562366210826], \"line\": {\"color\": \"rgb(0.274952,0.037752,0.364543)\", \"width\": 2}, \"lon\": [-122.29148334115476, -122.29098609451557], \"mode\": \"lines\", \"showlegend\": false, \"type\": \"scattermapbox\"}, {\"hoverinfo\": \"text\", \"hovertext\": \"W SEA BR EB 4 AV OFF RP Flow: 3202.0\", \"lat\": [47.533057997604665, 47.53298356934088, 47.532440367489095, 47.53237069690926], \"line\": {\"color\": \"rgb(0.274952,0.037752,0.364543)\", \"width\": 2}, \"lon\": [-122.28886358391881, -122.28883268294973, -122.28854198916943, -122.2885071014472], \"mode\": \"lines\", \"showlegend\": false, \"type\": \"scattermapbox\"}, {\"hoverinfo\": \"text\", \"hovertext\": \"W SEA BR EB 4 AV OFF RP Flow: 3202.0\", \"lat\": [47.527884239709245, 47.52612063936362], \"line\": {\"color\": \"rgb(0.274952,0.037752,0.364543)\", \"width\": 2}, \"lon\": [-122.28774886114579, -122.28767365181243], \"mode\": \"lines\", \"showlegend\": false, \"type\": \"scattermapbox\"}, {\"hoverinfo\": \"text\", \"hovertext\": \"W SEA BR EB 4 AV OFF RP Flow: 3202.0\", \"lat\": [47.53374610869841, 47.53313077847356, 47.533057997604665], \"line\": {\"color\": \"rgb(0.274952,0.037752,0.364543)\", \"width\": 2}, \"lon\": [-122.28922547562743, -122.28889380003314, -122.28886358391881], \"mode\": \"lines\", \"showlegend\": false, \"type\": \"scattermapbox\"}, {\"hoverinfo\": \"text\", \"hovertext\": \"W SEA BR EB 4 AV OFF RP Flow: 3202.0\", \"lat\": [47.53516680515759, 47.534821411561815, 47.53449714866074, 47.534433919832665, 47.534357224633524, 47.534114873181736, 47.53374610869841], \"line\": {\"color\": \"rgb(0.274952,0.037752,0.364543)\", \"width\": 2}, \"lon\": [-122.2904081695969, -122.29002416295451, -122.28972056174999, -122.28966298058194, -122.28959313567701, -122.28942484511133, -122.28922547562743], \"mode\": \"lines\", \"showlegend\": false, \"type\": \"scattermapbox\"}, {\"hoverinfo\": \"text\", \"hovertext\": \"W SEA BR EB 4 AV OFF RP Flow: 3202.0\", \"lat\": [47.53168457589814, 47.53144742134605, 47.53135789868456, 47.53125157302213, 47.53115637853397, 47.53107793297637, 47.53099725031689], \"line\": {\"color\": \"rgb(0.274952,0.037752,0.364543)\", \"width\": 2}, \"lon\": [-122.28817194465272, -122.28803857185015, -122.2880070258727, -122.28797086540152, -122.28794331223409, -122.28792452576374, -122.28790579379803], \"mode\": \"lines\", \"showlegend\": false, \"type\": \"scattermapbox\"}, {\"hoverinfo\": \"text\", \"hovertext\": \"W SEA BR EB 4 AV OFF RP Flow: 3202.0\", \"lat\": [47.535562366210826, 47.53529675748798, 47.53516680515759], \"line\": {\"color\": \"rgb(0.274952,0.037752,0.364543)\", \"width\": 2}, \"lon\": [-122.29098609451557, -122.29058852968951, -122.2904081695969], \"mode\": \"lines\", \"showlegend\": false, \"type\": \"scattermapbox\"}, {\"hoverinfo\": \"text\", \"hovertext\": \"W SEA BR EB 4 AV OFF RP Flow: 10842.0\", \"lat\": [47.71877840876523, 47.71879383056377, 47.71879583191189, 47.71879783504149, 47.71879983728875, 47.71880183772044, 47.7188038381181, 47.71880583759945, 47.71880783343278, 47.71880982648337, 47.71881181588594, 47.71881380070725, 47.71881578184656, 47.7188177565891, 47.718819726716426, 47.71882168951378, 47.71882360546423, 47.71882555909906, 47.71882750905194, 47.718829454423556, 47.718831397012416, 47.718833334120795, 47.71883526846339, 47.718837198241665, 47.71883912342176, 47.71884104493682, 47.71884296278681, 47.71884487607252, 47.71884678565931, 47.718848689799465, 47.718850590257624, 47.71885253785152, 47.71885443006337, 47.71885631859325, 47.71885820165952, 47.71886008102684, 47.71886195582985, 47.718863826950866, 47.718865693507595, 47.718867557315534, 47.71886941562594, 47.71887127117058, 47.7188731221679, 47.71887496856697, 47.71887681223421, 47.71887865043785, 47.71888048677504, 47.71888227682465, 47.71888409761956, 47.718885910185165, 47.71888771452152, 47.718889512461054, 47.71889130671862, 47.71889309549566, 47.718894882440075, 47.718896666652675, 47.7188984508313, 47.71890023685923, 47.7189020228871, 47.71890381168056, 47.718905608940716, 47.71890826332815, 47.71890997787192, 47.71891171454118, 47.718913453042816, 47.718915192460614, 47.71891693277757, 47.71891867129591, 47.71892041067951, 47.7189221455497, 47.71892388036889, 47.71892561065769, 47.71892733818073, 47.71892906024016, 47.71893077773529, 47.71893248883357, 47.718934193552066, 47.71893589187375, 47.718937608130084, 47.7189392927589, 47.71894097372263, 47.71894264920581, 47.71894432014161, 47.71894598737844, 47.71894764826936, 47.71894930639448, 47.71895095997228, 47.718952609868055, 47.71895425523341, 47.71895589695069, 47.718957535002886, 47.718959169424025, 47.718960800197046, 47.71896240453469, 47.71896402253106, 47.71896562776782, 47.71896722204354, 47.718968807207716, 47.71897038507574, 47.71897195837944, 47.71897352893433, 47.7189750986068, 47.718976670077744, 47.71897824519659, 47.71897984517253, 47.71898296210264, 47.71898455727654, 47.71898612969706, 47.718987676462795, 47.71898920240934, 47.71899072923808, 47.71899225604976, 47.718993780146526, 47.71899530331001, 47.718996824657914, 47.71899834237463, 47.718999856460236, 47.7190013686963, 47.71900287546874, 47.71900437769379, 47.71900587445526, 47.719007365753086, 47.71900884978876, 47.7190103274276, 47.71901185427211, 47.71901331553718, 47.71901476769065, 47.7190162134812, 47.71901765377423, 47.719019087721286, 47.71902051712103, 47.719021942872594, 47.71902336679165, 47.71902478891197, 47.719026210082085, 47.71902763128599, 47.719029053389065, 47.71903047914004, 47.719031906706405, 47.71903330306933, 47.719034659117554, 47.71903602208859, 47.719037388690495, 47.7190387571248, 47.719040125558976, 47.7190414957916, 47.71904286424254, 47.71904423176017, 47.719045596545946, 47.719046956801265, 47.71904831249226, 47.7190496627366, 47.719051006635, 47.71905234233799, 47.71905367076187, 47.71905501693414, 47.71905632718567, 47.719057630174994, 47.71905892496895, 47.71906021523247, 47.71906150001542, 47.7190627784524, 47.71906405414054, 47.71906532531523, 47.71906659375806, 47.71906785946901, 47.719069124280594, 47.71907038815883, 47.71907165113769, 47.719072913234115, 47.719074177111985, 47.71907539285261, 47.71907658317639, 47.719078164341575, 47.71907940083396, 47.71908060843021, 47.71908181962342, 47.71908303356524, 47.719084245691484, 47.71908545781756, 47.71908666719482, 47.719087870243065, 47.71908906694537, 47.719090256351556, 47.71909143308298, 47.71909259802189, 47.7190937103951, 47.719094859876414, 47.719096003928016, 47.719097145247744, 47.719098280221516, 47.7190994124634, 47.7191005392586, 47.7191016615234, 47.71910277832453, 47.7191038906122, 47.71910499835249, 47.719106099763785, 47.71910719571144, 47.71910828712864, 47.71910937219995, 47.719110453096484, 47.719111526392055, 47.71911259424103, 47.71911365844179, 47.71911471631365, 47.71911576873881, 47.71911681571724, 47.71911785816532, 47.71911889514967, 47.71911992673829, 47.719120952863264, 47.719121973558515, 47.71912298970636, 47.7191239995252, 47.719125003897396, 47.71912600375611, 47.719127040061416, 47.71912802451344, 47.71912899988774, 47.71912996530202, 47.71913092528659, 47.71913187800897, 47.719132826217844, 47.719133770795594, 47.71913471175913, 47.71913565177232, 47.71913659000386, 47.71913752823525, 47.71913846738277, 47.71913941012727, 47.719141248259874, 47.71914216555183, 47.71914304037498, 47.719143918829154, 47.71914479909864, 47.71914568118354, 47.719146563268346, 47.71914744443675, 47.71914832380645, 47.71914919956197, 47.719150072585634, 47.71915094017954, 47.7191518023437, 47.71915265727966, 47.7191535040711, 47.71915434090247, 47.71915509701981, 47.719155918461475, 47.71915673355715, 47.71915754413931, 47.719158348392554, 47.71915914719904, 47.71915994147514, 47.71916072943918, 47.719161511956536, 47.71916228994346, 47.719163061618374, 47.71916382696423, 47.71916458777967, 47.71916534314845, 47.71916609220518, 47.71916683586613, 47.71916760940742, 47.71916834307427, 47.71916907042908, 47.719169792371154, 47.71917050796731, 47.719171219032916, 47.719171924685824, 47.71917262489204, 47.71917331968548, 47.71917400816692, 47.719174689403104, 47.71917536794134, 47.71917604013363, 47.719176706013826, 47.7191773673636, 47.719178000155935, 47.71917864976396, 47.71917929305995, 47.71917993270779, 47.719180565144384, 47.71918119306744, 47.719181814644536, 47.719182430808885, 47.71918304156045, 47.71918364688234, 47.71918424497592, 47.71918484033758, 47.71918542852193, 47.719186010360296, 47.71918658768516, 47.719187158698006, 47.71918775642007, 47.71918831659045, 47.71918887133109, 47.71918941974276], \"line\": {\"color\": \"rgb(0.282884,0.135920,0.453427)\", \"width\": 2}, \"lon\": [-122.28486503066398, -122.28488770957337, -122.2848904850077, -122.2848932618251, -122.28489603728492, -122.28489881402736, -122.28490159343524, -122.28490437415071, -122.28490715876376, -122.28490994996459, -122.28491274506293, -122.28491554669884, -122.28491835489744, -122.28492117091592, -122.28492399613721, -122.28492683181841, -122.28492974350911, -122.28493259226542, -122.2849354475845, -122.28493830944116, -122.28494117788564, -122.2849440528425, -122.28494693305466, -122.28494981847167, -122.28495271175895, -122.28495561027628, -122.28495851402373, -122.28496142297608, -122.28496433982377, -122.2849672605187, -122.28497018777627, -122.28497329898424, -122.28497623800952, -122.28497918359749, -122.28498213436526, -122.28498509302831, -122.28498805689637, -122.28499102732708, -122.2849940029628, -122.28499698252108, -122.2849999699244, -122.28500296258302, -122.28500595911392, -122.28500896351498, -122.2850119705061, -122.28501498267696, -122.2850180001282, -122.28502076699883, -122.28502380401231, -122.28502685146057, -122.28502990934365, -122.28503297504662, -122.28503604731232, -122.28503912609042, -122.28504220748367, -122.28504529146691, -122.28504837811562, -122.28505146081697, -122.28505454351854, -122.2850576209653, -122.28506073997463, -122.28506507472578, -122.28506811943646, -122.28507126341428, -122.2850744047773, -122.28507754483309, -122.28508068491426, -122.28508382494532, -122.28508696766697, -122.28509011159571, -122.28509325952251, -122.285096409989, -122.28509956571077, -122.28510272661232, -122.28510589271879, -122.28510906664516, -122.28511224705883, -122.28511543529234, -122.28511905194814, -122.28512225579631, -122.28512546487454, -122.28512868046522, -122.28513189992816, -122.28513512728644, -122.2851383584668, -122.28514159490231, -122.28514483521018, -122.28514808208075, -122.28515133149108, -122.28515458479882, -122.28515784333663, -122.28516110443931, -122.28516436943946, -122.28516723777396, -122.28517051708128, -122.28517380936287, -122.28517711466904, -122.28518042905232, -122.2851837512303, -122.28518707861319, -122.28519040991875, -122.28519373986671, -122.28519706986518, -122.28520039596657, -122.28520388939903, -122.28521054333774, -122.2852138486713, -122.28521717469832, -122.28522046668095, -122.28522383940002, -122.28522721347706, -122.28523058888692, -122.28523396555414, -122.28523734486161, -122.28524072545166, -122.2852441086065, -122.2852474943262, -122.28525088399367, -122.2852542788409, -122.28525767756038, -122.28526108145977, -122.28526449053885, -122.28526790474741, -122.28527132677588, -122.28527448756208, -122.28527792379703, -122.28528136910903, -122.28528481957566, -122.28528827788729, -122.28529174002091, -122.28529520602689, -122.28529867593024, -122.28530214844878, -122.28530562091719, -122.28530909735848, -122.28531257113474, -122.28531604493638, -122.28531951484088, -122.28532298346329, -122.285326641845, -122.28533028710179, -122.28533381257436, -122.28533733548252, -122.28534085577591, -122.28534437606949, -122.28534789641354, -122.28535141537488, -122.28535493697647, -122.28535846116806, -122.28536198789935, -122.2853655198355, -122.28536905561877, -122.28537259522412, -122.28537614259893, -122.28537969643588, -122.28538291616395, -122.28538648415703, -122.28539005727957, -122.28539363817174, -122.28539722160343, -122.28540081154762, -122.28540440531373, -122.28540800300243, -122.28541160189816, -122.28541520338389, -122.28541880745958, -122.28542241151025, -122.28542601820119, -122.28542962486723, -122.28543323017558, -122.28543683686713, -122.28544069150038, -122.28544435212505, -122.28544925145549, -122.2854526774148, -122.28545632385908, -122.28545997040409, -122.28546361302692, -122.28546725693217, -122.28547090083764, -122.2854745486657, -122.28547819898307, -122.28548185312246, -122.2854855150565, -122.28548918330165, -122.28549285921574, -122.28549670696171, -122.28550039577473, -122.2855040871023, -122.28550778101983, -122.28551147875926, -122.28551517908866, -122.28551888326515, -122.28552258998134, -122.2855263018772, -122.2855300149801, -122.28553373195527, -122.2855374514198, -122.28554117606403, -122.28554490324787, -122.28554863425367, -122.28555255177557, -122.28555628911785, -122.28556003030722, -122.28556377539395, -122.28556752297003, -122.28557127439322, -122.28557502966352, -122.28557878747345, -122.28558255046309, -122.28558631330192, -122.28559008132049, -122.28559385185359, -122.28559762625885, -122.28560140315346, -122.28560518389517, -122.28560896584386, -122.28561257017793, -122.28561636102765, -122.28562015828913, -122.28562396060452, -122.28562776543436, -122.28563157539361, -122.28563538655985, -122.28563920029089, -122.28564301525407, -122.28564683419006, -122.28565065174331, -122.28565446929663, -122.2856582855427, -122.28566210188944, -122.28566970926323, -122.28567375818955, -122.28567760996373, -122.28568145917339, -122.2856853071009, -122.28568915374618, -122.28569300039166, -122.28569684834461, -122.2857006962475, -122.2857045453825, -122.28570839710741, -122.28571225134674, -122.28571610810052, -122.28571996731847, -122.28572383030799, -122.28572769835144, -122.28573154680718, -122.28573542241891, -122.28573930185257, -122.28574318249322, -122.28574706562314, -122.28575095260008, -122.28575484211666, -122.28575873278987, -122.28576262731012, -122.28576652436993, -122.28577042258645, -122.28577432329224, -122.28577822653757, -122.28578213362998, -122.285786041879, -122.2857899499772, -122.28579370160651, -122.28579761742392, -122.285801534398, -122.28580545255393, -122.28580937453168, -122.28581329904901, -122.28581722474817, -122.28582115429433, -122.28582508502231, -122.2858290169069, -122.28583295258817, -122.28583688819414, -122.28584082762197, -122.28584476820642, -122.28584871133039, -122.2858528482872, -122.28585679508221, -122.28586074303388, -122.28586469488289, -122.28586864786337, -122.28587260205074, -122.28587656005999, -122.28588051925104, -122.28588447962386, -122.28588844251102, -122.2858924078623, -122.28589637580346, -122.28590034221081, -122.28590431244, -122.28590828387615, -122.28591225646885, -122.2859158272149, -122.28591980350376, -122.28592378230705, -122.28592776359956], \"mode\": \"lines\", \"showlegend\": false, \"type\": \"scattermapbox\"}, {\"hoverinfo\": \"text\", \"hovertext\": \"W SEA BR EB 4 AV OFF RP Flow: 10842.0\", \"lat\": [47.71069943966174, 47.711857499382944, 47.71241194346208], \"line\": {\"color\": \"rgb(0.282884,0.135920,0.453427)\", \"width\": 2}, \"lon\": [-122.28102488243333, -122.28157317551009, -122.2818388885773], \"mode\": \"lines\", \"showlegend\": false, \"type\": \"scattermapbox\"}, {\"hoverinfo\": \"text\", \"hovertext\": \"W SEA BR EB 4 AV OFF RP Flow: 10842.0\", \"lat\": [47.70890460684204, 47.71069943966174], \"line\": {\"color\": \"rgb(0.282884,0.135920,0.453427)\", \"width\": 2}, \"lon\": [-122.2801723316583, -122.28102488243333], \"mode\": \"lines\", \"showlegend\": false, \"type\": \"scattermapbox\"}, {\"hoverinfo\": \"text\", \"hovertext\": \"W SEA BR EB 4 AV OFF RP Flow: 10842.0\", \"lat\": [47.71736901569193, 47.718410127216224, 47.718460510416, 47.718511852280265, 47.718563214516784, 47.71860491490816, 47.71863907548575, 47.71867857505764, 47.718711633399295, 47.71874361260238, 47.71877840876523], \"line\": {\"color\": \"rgb(0.282884,0.135920,0.453427)\", \"width\": 2}, \"lon\": [-122.28390740394714, -122.28453445719936, -122.28456629001576, -122.2846077584916, -122.28464762526164, -122.28468241898086, -122.28471539965099, -122.28475333401592, -122.2847878863323, -122.28482240852765, -122.28486503066398], \"mode\": \"lines\", \"showlegend\": false, \"type\": \"scattermapbox\"}, {\"hoverinfo\": \"text\", \"hovertext\": \"W SEA BR EB 4 AV OFF RP Flow: 10842.0\", \"lat\": [47.71601302235292, 47.71609398440697, 47.71610012296249, 47.71622706313838, 47.716383579887804, 47.716548883458046, 47.71671675121781, 47.716879108064035, 47.7170199759165, 47.71715143544122, 47.71715646233087, 47.71736901569193], \"line\": {\"color\": \"rgb(0.282884,0.135920,0.453427)\", \"width\": 2}, \"lon\": [-122.28310584666484, -122.28315370669749, -122.28315733591748, -122.28323236701357, -122.28332488708149, -122.28342259726618, -122.28352183002009, -122.28361780353791, -122.28370107348377, -122.28377878225463, -122.28378175537603, -122.28390740394714], \"mode\": \"lines\", \"showlegend\": false, \"type\": \"scattermapbox\"}, {\"hoverinfo\": \"text\", \"hovertext\": \"W SEA BR EB 4 AV OFF RP Flow: 10842.0\", \"lat\": [47.71241194346208, 47.713748495818976, 47.71396892545589, 47.714970034142084, 47.715776216465066, 47.715785598013326, 47.71585532410351, 47.71593192360444, 47.71601302235292], \"line\": {\"color\": \"rgb(0.282884,0.135920,0.453427)\", \"width\": 2}, \"lon\": [-122.2818388885773, -122.28247404180856, -122.28248036890511, -122.28248934540895, -122.28296587235202, -122.28297141560812, -122.28301263243462, -122.28305791098333, -122.28310584666484], \"mode\": \"lines\", \"showlegend\": false, \"type\": \"scattermapbox\"}, {\"hoverinfo\": \"text\", \"hovertext\": \"W SEA BR EB 4 AV OFF RP Flow: 10842.0\", \"lat\": [47.71923448051693, 47.7192243804858], \"line\": {\"color\": \"rgb(0.282884,0.135920,0.453427)\", \"width\": 2}, \"lon\": [-122.28852936463251, -122.28733350928516], \"mode\": \"lines\", \"showlegend\": false, \"type\": \"scattermapbox\"}, {\"hoverinfo\": \"text\", \"hovertext\": \"W SEA BR EB 4 AV OFF RP Flow: 10842.0\", \"lat\": [47.71925343734195, 47.71925332706572, 47.71925232303681, 47.71924129969465], \"line\": {\"color\": \"rgb(0.282884,0.135920,0.453427)\", \"width\": 2}, \"lon\": [-122.29078406193135, -122.29076481826183, -122.29064552065414, -122.28933758198548], \"mode\": \"lines\", \"showlegend\": false, \"type\": \"scattermapbox\"}, {\"hoverinfo\": \"text\", \"hovertext\": \"W SEA BR EB 4 AV OFF RP Flow: 10842.0\", \"lat\": [47.71924129969465, 47.71923448051693], \"line\": {\"color\": \"rgb(0.282884,0.135920,0.453427)\", \"width\": 2}, \"lon\": [-122.28933758198548, -122.28852936463251], \"mode\": \"lines\", \"showlegend\": false, \"type\": \"scattermapbox\"}, {\"hoverinfo\": \"text\", \"hovertext\": \"W SEA BR EB 4 AV OFF RP Flow: 10842.0\", \"lat\": [47.7192243804858, 47.71921558731817, 47.71921555947258, 47.71921555670961], \"line\": {\"color\": \"rgb(0.282884,0.135920,0.453427)\", \"width\": 2}, \"lon\": [-122.28733350928516, -122.28629356994341, -122.28629031908218, -122.28629004172139], \"mode\": \"lines\", \"showlegend\": false, \"type\": \"scattermapbox\"}, {\"hoverinfo\": \"text\", \"hovertext\": \"W SEA BR EB 4 AV OFF RP Flow: 10842.0\", \"lat\": [47.71921555670961, 47.71921545969039, 47.71921539089302, 47.719215324810335, 47.71921526050902, 47.71921519622454, 47.719215131023695, 47.71921506494043, 47.71921499614219, 47.71921492194816, 47.71921484415691, 47.71921475825508, 47.7192146660412, 47.71921456485141, 47.71921445463483, 47.719214331523304, 47.71921420420323, 47.71921407060507, 47.7192139306949, 47.719213785371984, 47.71921363465324, 47.719213477622525, 47.71921331519595, 47.71921314735666, 47.719212973239316, 47.71921279370917, 47.71921260874929, 47.719212417511336, 47.71921222084364, 47.719212017880885, 47.719211810404666, 47.71921152684541, 47.71921130676207, 47.719211081265996, 47.71921085037414, 47.71921061317026, 47.719210370570565, 47.71921012255813, 47.71920986913293, 47.71920960941264, 47.719209343380385, 47.719209071935325, 47.71920879599378, 47.719208513723196, 47.71920822515756, 47.71920793026293, 47.71920765800451, 47.71920735228433, 47.71920704116839, 47.719206724656686, 47.71920640183292, 47.719206074495695, 47.71920573994712, 47.71920540088509, 47.719205055527986, 47.71920470474117, 47.719204347659286, 47.71920398514767, 47.7192036172233, 47.71920324388613, 47.71920286425397, 47.71920247917506, 47.719202107297576, 47.71920171141012, 47.71920130831141, 47.719200900699185, 47.71920048767417, 47.719200069253375, 47.719199644486665, 47.71919921342484, 47.719198776967275, 47.719198335062956, 47.71919788776288, 47.71919743505001, 47.7191969760082, 47.719196512435936, 47.71919604166928, 47.71919556635526, 47.71919508664704, 47.71919459962514, 47.71919410717353, 47.71919360840994, 47.71919310514978, 47.71919259556065, 47.71919208055875, 47.71919155922782, 47.719191033383446, 47.719190501227054, 47.719189963640915, 47.71918941974276], \"line\": {\"color\": \"rgb(0.282884,0.135920,0.453427)\", \"width\": 2}, \"lon\": [-122.28629004172139, -122.2862830415987, -122.28627898040381, -122.28627491795184, -122.28627085688281, -122.28626679448118, -122.286262733387, -122.28625867093501, -122.28625460974027, -122.2862505483945, -122.2862464869481, -122.28624242660783, -122.28623836742412, -122.28623430665613, -122.2862302483018, -122.28622614292844, -122.28622208542868, -122.28621802642019, -122.28621396856828, -122.28620991189793, -122.28620585507669, -122.28620179941196, -122.28619774359628, -122.28619368896224, -122.28618963281954, -122.28618557785848, -122.28618152541172, -122.28617747145621, -122.28617342001502, -122.28616936839781, -122.28616531798735, -122.28616137876118, -122.28615732933122, -122.28615328108292, -122.2861492326837, -122.28614518544097, -122.28614113804733, -122.28613709183543, -122.28613304680519, -122.2861290015989, -122.28612495754908, -122.28612091468096, -122.28611687168716, -122.28611283118246, -122.2861087905017, -122.28610475231012, -122.28610049079221, -122.28609645496408, -122.28609241898496, -122.28608838285494, -122.2860843478815, -122.28608031411494, -122.28607628147974, -122.28607225005138, -122.28606821844703, -122.286064189357, -122.2860601600909, -122.28605613333913, -122.28605210776911, -122.28604808338075, -122.28604405881637, -122.28604003809902, -122.28603589910568, -122.28603187941913, -122.28602786086395, -122.28602384351566, -122.2860198273491, -122.28601581103165, -122.28601179853607, -122.28600778586436, -122.2860037730418, -122.28599976406629, -122.2859957549398, -122.28599174699507, -122.28598774153954, -122.28598373862357, -122.2859797355064, -122.28597573626132, -122.28597165824092, -122.28596766000162, -122.28596366427668, -122.2859596697083, -122.2859556750142, -122.28595168280935, -122.28594769178619, -122.28594370325233, -122.28593971592532, -122.28593572975494, -122.28593174609897, -122.28592776359956], \"mode\": \"lines\", \"showlegend\": false, \"type\": \"scattermapbox\"}, {\"hoverinfo\": \"text\", \"hovertext\": \"W SEA BR EB 4 AV OFF RP Flow: 15481.0\", \"lat\": [47.60829216504288, 47.609285142681195], \"line\": {\"color\": \"rgb(0.276194,0.190074,0.493001)\", \"width\": 2}, \"lon\": [-122.33799535939778, -122.338903694202], \"mode\": \"lines\", \"showlegend\": false, \"type\": \"scattermapbox\"}, {\"hoverinfo\": \"text\", \"hovertext\": \"W SEA BR EB 4 AV OFF RP Flow: 4170.0\", \"lat\": [47.662135581261545, 47.662875420917246], \"line\": {\"color\": \"rgb(0.277018,0.050344,0.375715)\", \"width\": 2}, \"lon\": [-122.35003391261932, -122.3500284346327], \"mode\": \"lines\", \"showlegend\": false, \"type\": \"scattermapbox\"}, {\"hoverinfo\": \"text\", \"hovertext\": \"W SEA BR EB 4 AV OFF RP Flow: 4170.0\", \"lat\": [47.66430127498408, 47.6650407493935], \"line\": {\"color\": \"rgb(0.277018,0.050344,0.375715)\", \"width\": 2}, \"lon\": [-122.35001752302645, -122.35000285167484], \"mode\": \"lines\", \"showlegend\": false, \"type\": \"scattermapbox\"}, {\"hoverinfo\": \"text\", \"hovertext\": \"W SEA BR EB 4 AV OFF RP Flow: 4170.0\", \"lat\": [47.66358801911211, 47.66430127498408], \"line\": {\"color\": \"rgb(0.277018,0.050344,0.375715)\", \"width\": 2}, \"lon\": [-122.35002298196028, -122.35001752302645], \"mode\": \"lines\", \"showlegend\": false, \"type\": \"scattermapbox\"}, {\"hoverinfo\": \"text\", \"hovertext\": \"W SEA BR EB 4 AV OFF RP Flow: 4170.0\", \"lat\": [47.662875420917246, 47.66358801911211], \"line\": {\"color\": \"rgb(0.277018,0.050344,0.375715)\", \"width\": 2}, \"lon\": [-122.3500284346327, -122.35002298196028], \"mode\": \"lines\", \"showlegend\": false, \"type\": \"scattermapbox\"}, {\"hoverinfo\": \"text\", \"hovertext\": \"W SEA BR EB 4 AV OFF RP Flow: 9513.0\", \"lat\": [47.712312298639105, 47.71230868640222, 47.71230532484446, 47.712304973817744, 47.71229825879332, 47.71229146210533, 47.712291145501645], \"line\": {\"color\": \"rgb(0.283229,0.120777,0.440584)\", \"width\": 2}, \"lon\": [-122.34212432902828, -122.340730766211, -122.33943502603704, -122.33930087739212, -122.33674572693549, -122.33417630340395, -122.33405642903674], \"mode\": \"lines\", \"showlegend\": false, \"type\": \"scattermapbox\"}, {\"hoverinfo\": \"text\", \"hovertext\": \"W SEA BR EB 4 AV OFF RP Flow: 9513.0\", \"lat\": [47.71231922297051, 47.71231920203536, 47.712318755671944, 47.712312298639105], \"line\": {\"color\": \"rgb(0.283229,0.120777,0.440584)\", \"width\": 2}, \"lon\": [-122.3448136651353, -122.34480574421988, -122.34463087668189, -122.34212432902828], \"mode\": \"lines\", \"showlegend\": false, \"type\": \"scattermapbox\"}, {\"hoverinfo\": \"text\", \"hovertext\": \"W SEA BR EB 4 AV OFF RP Flow: 9620.0\", \"lat\": [47.63230434123263, 47.63229967865707, 47.63229296756172], \"line\": {\"color\": \"rgb(0.283229,0.120777,0.440584)\", \"width\": 2}, \"lon\": [-122.39300801833957, -122.39375129397838, -122.39426507384842], \"mode\": \"lines\", \"showlegend\": false, \"type\": \"scattermapbox\"}, {\"hoverinfo\": \"text\", \"hovertext\": \"W SEA BR EB 4 AV OFF RP Flow: 9620.0\", \"lat\": [47.63229296756172, 47.632352754681094, 47.63269548068056, 47.63301347812149, 47.633139703454574, 47.63328815685723, 47.63374719884895], \"line\": {\"color\": \"rgb(0.283229,0.120777,0.440584)\", \"width\": 2}, \"lon\": [-122.39426507384842, -122.39467033571432, -122.39567231276492, -122.39655716689023, -122.39690091621883, -122.397094548023, -122.39739526070701], \"mode\": \"lines\", \"showlegend\": false, \"type\": \"scattermapbox\"}, {\"hoverinfo\": \"text\", \"hovertext\": \"W SEA BR EB 4 AV OFF RP Flow: 9620.0\", \"lat\": [47.63374719884895, 47.63446001080535, 47.63591109996367], \"line\": {\"color\": \"rgb(0.283229,0.120777,0.440584)\", \"width\": 2}, \"lon\": [-122.39739526070701, -122.39781768292293, -122.39788870468281], \"mode\": \"lines\", \"showlegend\": false, \"type\": \"scattermapbox\"}, {\"hoverinfo\": \"text\", \"hovertext\": \"W SEA BR EB 4 AV OFF RP Flow: 37000.0\", \"lat\": [47.5646795420245, 47.5646049492145, 47.56459783587398, 47.5643944058645, 47.56427078403178], \"line\": {\"color\": \"rgb(0.188923,0.410910,0.556326)\", \"width\": 2}, \"lon\": [-122.37688479761857, -122.37701048855634, -122.3770198344205, -122.37728708686154, -122.37744948970857], \"mode\": \"lines\", \"showlegend\": false, \"type\": \"scattermapbox\"}, {\"hoverinfo\": \"text\", \"hovertext\": \"W SEA BR EB 4 AV OFF RP Flow: 37000.0\", \"lat\": [47.56427078403178, 47.564148065868814, 47.56407771245929], \"line\": {\"color\": \"rgb(0.188923,0.410910,0.556326)\", \"width\": 2}, \"lon\": [-122.37744948970857, -122.37761104666131, -122.37770366806059], \"mode\": \"lines\", \"showlegend\": false, \"type\": \"scattermapbox\"}, {\"hoverinfo\": \"text\", \"hovertext\": \"W SEA BR EB 4 AV OFF RP Flow: 37000.0\", \"lat\": [47.565038523837146, 47.56495105538426, 47.56476172834913, 47.5646795420245], \"line\": {\"color\": \"rgb(0.188923,0.410910,0.556326)\", \"width\": 2}, \"lon\": [-122.37618826554016, -122.37637289662062, -122.37674598782036, -122.37688479761857], \"mode\": \"lines\", \"showlegend\": false, \"type\": \"scattermapbox\"}, {\"hoverinfo\": \"text\", \"hovertext\": \"W SEA BR EB 4 AV OFF RP Flow: 17084.0\", \"lat\": [47.67579369447353, 47.67578344004294], \"line\": {\"color\": \"rgb(0.271828,0.209303,0.504434)\", \"width\": 2}, \"lon\": [-122.31313120965503, -122.31192972136378], \"mode\": \"lines\", \"showlegend\": false, \"type\": \"scattermapbox\"}, {\"hoverinfo\": \"text\", \"hovertext\": \"W SEA BR EB 4 AV OFF RP Flow: 17084.0\", \"lat\": [47.67580395122383, 47.67579462800906, 47.67579369447353], \"line\": {\"color\": \"rgb(0.271828,0.209303,0.504434)\", \"width\": 2}, \"lon\": [-122.31434884655411, -122.31325298533467, -122.31313120965503], \"mode\": \"lines\", \"showlegend\": false, \"type\": \"scattermapbox\"}, {\"hoverinfo\": \"text\", \"hovertext\": \"W SEA BR EB 4 AV OFF RP Flow: 17084.0\", \"lat\": [47.675814927946405, 47.67580395122383], \"line\": {\"color\": \"rgb(0.271828,0.209303,0.504434)\", \"width\": 2}, \"lon\": [-122.31565804718758, -122.31434884655411], \"mode\": \"lines\", \"showlegend\": false, \"type\": \"scattermapbox\"}, {\"hoverinfo\": \"text\", \"hovertext\": \"W SEA BR EB 4 AV OFF RP Flow: 11603.0\", \"lat\": [47.67476810032588, 47.674797611197874, 47.67578344004294], \"line\": {\"color\": \"rgb(0.282290,0.145912,0.461510)\", \"width\": 2}, \"lon\": [-122.31192190815274, -122.31192305944428, -122.31192972136378], \"mode\": \"lines\", \"showlegend\": false, \"type\": \"scattermapbox\"}, {\"hoverinfo\": \"text\", \"hovertext\": \"W SEA BR EB 4 AV OFF RP Flow: 11603.0\", \"lat\": [47.67397842662639, 47.67476810032588], \"line\": {\"color\": \"rgb(0.282290,0.145912,0.461510)\", \"width\": 2}, \"lon\": [-122.31191775574152, -122.31192190815274], \"mode\": \"lines\", \"showlegend\": false, \"type\": \"scattermapbox\"}, {\"hoverinfo\": \"text\", \"hovertext\": \"W SEA BR EB 4 AV OFF RP Flow: 11603.0\", \"lat\": [47.67210552271683, 47.67397842662639], \"line\": {\"color\": \"rgb(0.282290,0.145912,0.461510)\", \"width\": 2}, \"lon\": [-122.31190524735987, -122.31191775574152], \"mode\": \"lines\", \"showlegend\": false, \"type\": \"scattermapbox\"}, {\"hoverinfo\": \"text\", \"hovertext\": \"W SEA BR EB 4 AV OFF RP Flow: 7103.0\", \"lat\": [47.602804366399994, 47.603454879287995, 47.6035175768823], \"line\": {\"color\": \"rgb(0.281924,0.089666,0.412415)\", \"width\": 2}, \"lon\": [-122.33604389042004, -122.33663916190065, -122.33669653594183], \"mode\": \"lines\", \"showlegend\": false, \"type\": \"scattermapbox\"}, {\"hoverinfo\": \"text\", \"hovertext\": \"W SEA BR EB 4 AV OFF RP Flow: 32333.0\", \"lat\": [47.52404587307956, 47.523688467242486, 47.52328833512976, 47.52284617428157, 47.52231856057646, 47.521685524752776, 47.52097034181837, 47.52021526536038, 47.519609576202086, 47.519225949571734, 47.518586257010504, 47.517882938149235, 47.51724230714571, 47.51674592701215, 47.51631504725842, 47.51572479014898, 47.514927591170846, 47.5143855190319, 47.514001331409396], \"line\": {\"color\": \"rgb(0.208623,0.367752,0.552675)\", \"width\": 2}, \"lon\": [-122.3333971193915, -122.33331273256464, -122.3332059461415, -122.33302385271439, -122.33279696100917, -122.33240826170481, -122.33192873464789, -122.33143975284652, -122.33106653409023, -122.33091318741451, -122.33068132727479, -122.33040020540463, -122.33023948846626, -122.33010663818983, -122.32988079380193, -122.32955550221092, -122.3290819663329, -122.32875807608663, -122.32856302040267], \"mode\": \"lines\", \"showlegend\": false, \"type\": \"scattermapbox\"}, {\"hoverinfo\": \"text\", \"hovertext\": \"W SEA BR EB 4 AV OFF RP Flow: 27506.0\", \"lat\": [47.706701200334344, 47.70680834903864, 47.706924636973326, 47.70704086408299, 47.70715701597889, 47.7072730809699, 47.70738904103567, 47.70750488353429, 47.70762059767353, 47.70773616270072, 47.70785156873999, 47.70796679860124, 47.70808183964183, 47.70819668018724, 47.70831130398057, 47.70837095733912, 47.70842569389987], \"line\": {\"color\": \"rgb(0.229739,0.322361,0.545706)\", \"width\": 2}, \"lon\": [-122.30163146570932, -122.30162676071663, -122.30161973380456, -122.3016107939262, -122.30159994066202, -122.30158717366871, -122.3015724950897, -122.30155590855333, -122.3015374137419, -122.30151701538733, -122.30149471186519, -122.30147051067397, -122.30144441544233, -122.30141642449514, -122.30138654269204, -122.30136997457734, -122.30135477220263], \"mode\": \"lines\", \"showlegend\": false, \"type\": \"scattermapbox\"}, {\"hoverinfo\": \"text\", \"hovertext\": \"W SEA BR EB 4 AV OFF RP Flow: 27506.0\", \"lat\": [47.704544380572656, 47.70477801986924, 47.7047883198502, 47.70516981540807, 47.70635900015292, 47.706360394330666, 47.70645927537366, 47.706575655666, 47.70669201923257, 47.706701200334344], \"line\": {\"color\": \"rgb(0.229739,0.322361,0.545706)\", \"width\": 2}, \"lon\": [-122.30161582687658, -122.3016181109061, -122.30161821282871, -122.30162250829864, -122.30163589903248, -122.30163591445634, -122.30163633618147, -122.30163506020406, -122.30163186988001, -122.30163146570932], \"mode\": \"lines\", \"showlegend\": false, \"type\": \"scattermapbox\"}, {\"hoverinfo\": \"text\", \"hovertext\": \"W SEA BR EB 4 AV OFF RP Flow: 7691.0\", \"lat\": [47.607763177282315, 47.607984061305835, 47.608165673759196, 47.60822792222814], \"line\": {\"color\": \"rgb(0.282656,0.100196,0.422160)\", \"width\": 2}, \"lon\": [-122.33597579412479, -122.33544849188326, -122.33501493714412, -122.33486632826093], \"mode\": \"lines\", \"showlegend\": false, \"type\": \"scattermapbox\"}, {\"hoverinfo\": \"text\", \"hovertext\": \"W SEA BR EB 4 AV OFF RP Flow: 608.0\", \"lat\": [47.656012208334964, 47.655999989337275], \"line\": {\"color\": \"rgb(0.267004,0.004874,0.329415)\", \"width\": 2}, \"lon\": [-122.31557218259633, -122.31442451462172], \"mode\": \"lines\", \"showlegend\": false, \"type\": \"scattermapbox\"}, {\"hoverinfo\": \"text\", \"hovertext\": \"W SEA BR EB 4 AV OFF RP Flow: 608.0\", \"lat\": [47.656020956, 47.656024251208684, 47.65602434907923, 47.656012208334964], \"line\": {\"color\": \"rgb(0.267004,0.004874,0.329415)\", \"width\": 2}, \"lon\": [-122.31729975856304, -122.31673048230432, -122.31671350602015, -122.31557218259633], \"mode\": \"lines\", \"showlegend\": false, \"type\": \"scattermapbox\"}, {\"hoverinfo\": \"text\", \"hovertext\": \"W SEA BR EB 4 AV OFF RP Flow: 4861.0\", \"lat\": [47.615616479629864, 47.6163853916884], \"line\": {\"color\": \"rgb(0.278791,0.062145,0.386592)\", \"width\": 2}, \"lon\": [-122.33443632002579, -122.33573579939043], \"mode\": \"lines\", \"showlegend\": false, \"type\": \"scattermapbox\"}, {\"hoverinfo\": \"text\", \"hovertext\": \"W SEA BR EB 4 AV OFF RP Flow: 10000.0\", \"lat\": [47.6568816040185, 47.65696281094489, 47.6572246053859, 47.65747764651545], \"line\": {\"color\": \"rgb(0.283187,0.125848,0.444960)\", \"width\": 2}, \"lon\": [-122.31717634454635, -122.31708887748685, -122.31680690738641, -122.31667471781356], \"mode\": \"lines\", \"showlegend\": false, \"type\": \"scattermapbox\"}, {\"hoverinfo\": \"text\", \"hovertext\": \"W SEA BR EB 4 AV OFF RP Flow: 10000.0\", \"lat\": [47.65601781689988, 47.65626556560437, 47.65656103954904, 47.6568816040185], \"line\": {\"color\": \"rgb(0.283187,0.125848,0.444960)\", \"width\": 2}, \"lon\": [-122.31784158809029, -122.3177034302078, -122.31750247933661, -122.31717634454635], \"mode\": \"lines\", \"showlegend\": false, \"type\": \"scattermapbox\"}, {\"hoverinfo\": \"text\", \"hovertext\": \"W SEA BR EB 4 AV OFF RP Flow: 10000.0\", \"lat\": [47.65835595397219, 47.659836514399856], \"line\": {\"color\": \"rgb(0.283187,0.125848,0.444960)\", \"width\": 2}, \"lon\": [-122.31665565954303, -122.31661695479056], \"mode\": \"lines\", \"showlegend\": false, \"type\": \"scattermapbox\"}, {\"hoverinfo\": \"text\", \"hovertext\": \"W SEA BR EB 4 AV OFF RP Flow: 10000.0\", \"lat\": [47.65747764651545, 47.65835595397219], \"line\": {\"color\": \"rgb(0.283187,0.125848,0.444960)\", \"width\": 2}, \"lon\": [-122.31667471781356, -122.31665565954303], \"mode\": \"lines\", \"showlegend\": false, \"type\": \"scattermapbox\"}, {\"hoverinfo\": \"text\", \"hovertext\": \"W SEA BR EB 4 AV OFF RP Flow: 15524.0\", \"lat\": [47.62347604836757, 47.623955823139184], \"line\": {\"color\": \"rgb(0.276194,0.190074,0.493001)\", \"width\": 2}, \"lon\": [-122.2961887861732, -122.29547786203861], \"mode\": \"lines\", \"showlegend\": false, \"type\": \"scattermapbox\"}, {\"hoverinfo\": \"text\", \"hovertext\": \"W SEA BR EB 4 AV OFF RP Flow: 15524.0\", \"lat\": [47.623955823139184, 47.62419741036941, 47.62420725237103], \"line\": {\"color\": \"rgb(0.276194,0.190074,0.493001)\", \"width\": 2}, \"lon\": [-122.29547786203861, -122.29513147207261, -122.29511736284967], \"mode\": \"lines\", \"showlegend\": false, \"type\": \"scattermapbox\"}, {\"hoverinfo\": \"text\", \"hovertext\": \"W SEA BR EB 4 AV OFF RP Flow: 15524.0\", \"lat\": [47.62420725237103, 47.624965054062606, 47.62601780027442], \"line\": {\"color\": \"rgb(0.276194,0.190074,0.493001)\", \"width\": 2}, \"lon\": [-122.29511736284967, -122.29399344794236, -122.29244003323126], \"mode\": \"lines\", \"showlegend\": false, \"type\": \"scattermapbox\"}, {\"hoverinfo\": \"text\", \"hovertext\": \"W SEA BR EB 4 AV OFF RP Flow: 15524.0\", \"lat\": [47.623317237309315, 47.62347604836757], \"line\": {\"color\": \"rgb(0.276194,0.190074,0.493001)\", \"width\": 2}, \"lon\": [-122.29642410562333, -122.2961887861732], \"mode\": \"lines\", \"showlegend\": false, \"type\": \"scattermapbox\"}, {\"hoverinfo\": \"text\", \"hovertext\": \"W SEA BR EB 4 AV OFF RP Flow: 3270.0\", \"lat\": [47.50828684391181, 47.50829303990641], \"line\": {\"color\": \"rgb(0.274952,0.037752,0.364543)\", \"width\": 2}, \"lon\": [-122.38705811799959, -122.38778976919838], \"mode\": \"lines\", \"showlegend\": false, \"type\": \"scattermapbox\"}, {\"hoverinfo\": \"text\", \"hovertext\": \"W SEA BR EB 4 AV OFF RP Flow: 3270.0\", \"lat\": [47.508274809327986, 47.508285769244075, 47.50828684391181], \"line\": {\"color\": \"rgb(0.274952,0.037752,0.364543)\", \"width\": 2}, \"lon\": [-122.3856757021227, -122.38693446722382, -122.38705811799959], \"mode\": \"lines\", \"showlegend\": false, \"type\": \"scattermapbox\"}, {\"hoverinfo\": \"text\", \"hovertext\": \"W SEA BR EB 4 AV OFF RP Flow: 3270.0\", \"lat\": [47.50823821423674, 47.50823930102808, 47.50825055709325], \"line\": {\"color\": \"rgb(0.274952,0.037752,0.364543)\", \"width\": 2}, \"lon\": [-122.38149730744317, -122.38162096481668, -122.38290245848712], \"mode\": \"lines\", \"showlegend\": false, \"type\": \"scattermapbox\"}, {\"hoverinfo\": \"text\", \"hovertext\": \"W SEA BR EB 4 AV OFF RP Flow: 3270.0\", \"lat\": [47.50826357107024, 47.508274809327986], \"line\": {\"color\": \"rgb(0.274952,0.037752,0.364543)\", \"width\": 2}, \"lon\": [-122.38428914464735, -122.3856757021227], \"mode\": \"lines\", \"showlegend\": false, \"type\": \"scattermapbox\"}, {\"hoverinfo\": \"text\", \"hovertext\": \"W SEA BR EB 4 AV OFF RP Flow: 3270.0\", \"lat\": [47.50825055709325, 47.50826357107024], \"line\": {\"color\": \"rgb(0.274952,0.037752,0.364543)\", \"width\": 2}, \"lon\": [-122.38290245848712, -122.38428914464735], \"mode\": \"lines\", \"showlegend\": false, \"type\": \"scattermapbox\"}, {\"hoverinfo\": \"text\", \"hovertext\": \"W SEA BR EB 4 AV OFF RP Flow: 6736.0\", \"lat\": [47.62206548104456, 47.62224204497304, 47.62321298440914], \"line\": {\"color\": \"rgb(0.281924,0.089666,0.412415)\", \"width\": 2}, \"lon\": [-122.30732440049708, -122.3073214847228, -122.30730543037511], \"mode\": \"lines\", \"showlegend\": false, \"type\": \"scattermapbox\"}, {\"hoverinfo\": \"text\", \"hovertext\": \"W SEA BR EB 4 AV OFF RP Flow: 6736.0\", \"lat\": [47.624419280496745, 47.62503352987767, 47.62523403699936], \"line\": {\"color\": \"rgb(0.281924,0.089666,0.412415)\", \"width\": 2}, \"lon\": [-122.3072849862093, -122.30732198105073, -122.30731924985275], \"mode\": \"lines\", \"showlegend\": false, \"type\": \"scattermapbox\"}, {\"hoverinfo\": \"text\", \"hovertext\": \"W SEA BR EB 4 AV OFF RP Flow: 6736.0\", \"lat\": [47.62523403699936, 47.62685184677705], \"line\": {\"color\": \"rgb(0.281924,0.089666,0.412415)\", \"width\": 2}, \"lon\": [-122.30731924985275, -122.30729721167032], \"mode\": \"lines\", \"showlegend\": false, \"type\": \"scattermapbox\"}, {\"hoverinfo\": \"text\", \"hovertext\": \"W SEA BR EB 4 AV OFF RP Flow: 6736.0\", \"lat\": [47.62321298440914, 47.624419280496745], \"line\": {\"color\": \"rgb(0.281924,0.089666,0.412415)\", \"width\": 2}, \"lon\": [-122.30730543037511, -122.3072849862093], \"mode\": \"lines\", \"showlegend\": false, \"type\": \"scattermapbox\"}, {\"hoverinfo\": \"text\", \"hovertext\": \"W SEA BR EB 4 AV OFF RP Flow: 6736.0\", \"lat\": [47.620487279345106, 47.6213969086015, 47.62206548104456], \"line\": {\"color\": \"rgb(0.281924,0.089666,0.412415)\", \"width\": 2}, \"lon\": [-122.30735048662397, -122.30733544922533, -122.30732440049708], \"mode\": \"lines\", \"showlegend\": false, \"type\": \"scattermapbox\"}, {\"hoverinfo\": \"text\", \"hovertext\": \"W SEA BR EB 4 AV OFF RP Flow: 15115.0\", \"lat\": [47.61161790725424, 47.61294055907178], \"line\": {\"color\": \"rgb(0.277134,0.185228,0.489898)\", \"width\": 2}, \"lon\": [-122.29622531791637, -122.29619919485114], \"mode\": \"lines\", \"showlegend\": false, \"type\": \"scattermapbox\"}, {\"hoverinfo\": \"text\", \"hovertext\": \"W SEA BR EB 4 AV OFF RP Flow: 15115.0\", \"lat\": [47.61001041612745, 47.610440478149876, 47.61046584050313, 47.61161790725424], \"line\": {\"color\": \"rgb(0.277134,0.185228,0.489898)\", \"width\": 2}, \"lon\": [-122.29623107313226, -122.29622607875594, -122.2962265031157, -122.29622531791637], \"mode\": \"lines\", \"showlegend\": false, \"type\": \"scattermapbox\"}, {\"hoverinfo\": \"text\", \"hovertext\": \"W SEA BR EB 4 AV OFF RP Flow: 15115.0\", \"lat\": [47.607996623641725, 47.60900689894993], \"line\": {\"color\": \"rgb(0.277134,0.185228,0.489898)\", \"width\": 2}, \"lon\": [-122.29625430666168, -122.29624649126144], \"mode\": \"lines\", \"showlegend\": false, \"type\": \"scattermapbox\"}, {\"hoverinfo\": \"text\", \"hovertext\": \"W SEA BR EB 4 AV OFF RP Flow: 15115.0\", \"lat\": [47.60900689894993, 47.61001041612745], \"line\": {\"color\": \"rgb(0.277134,0.185228,0.489898)\", \"width\": 2}, \"lon\": [-122.29624649126144, -122.29623107313226], \"mode\": \"lines\", \"showlegend\": false, \"type\": \"scattermapbox\"}, {\"hoverinfo\": \"text\", \"hovertext\": \"W SEA BR EB 4 AV OFF RP Flow: 13156.0\", \"lat\": [47.55389153333784, 47.552110328890095], \"line\": {\"color\": \"rgb(0.280255,0.165693,0.476498)\", \"width\": 2}, \"lon\": [-122.38698694177917, -122.38703845070059], \"mode\": \"lines\", \"showlegend\": false, \"type\": \"scattermapbox\"}, {\"hoverinfo\": \"text\", \"hovertext\": \"W SEA BR EB 4 AV OFF RP Flow: 13156.0\", \"lat\": [47.557497571570856, 47.55645626689218], \"line\": {\"color\": \"rgb(0.280255,0.165693,0.476498)\", \"width\": 2}, \"lon\": [-122.38688295273714, -122.38691320408444], \"mode\": \"lines\", \"showlegend\": false, \"type\": \"scattermapbox\"}, {\"hoverinfo\": \"text\", \"hovertext\": \"W SEA BR EB 4 AV OFF RP Flow: 13156.0\", \"lat\": [47.555701167177155, 47.55389153333784], \"line\": {\"color\": \"rgb(0.280255,0.165693,0.476498)\", \"width\": 2}, \"lon\": [-122.38693512907356, -122.38698694177917], \"mode\": \"lines\", \"showlegend\": false, \"type\": \"scattermapbox\"}, {\"hoverinfo\": \"text\", \"hovertext\": \"W SEA BR EB 4 AV OFF RP Flow: 13156.0\", \"lat\": [47.55645626689218, 47.555701167177155], \"line\": {\"color\": \"rgb(0.280255,0.165693,0.476498)\", \"width\": 2}, \"lon\": [-122.38691320408444, -122.38693512907356], \"mode\": \"lines\", \"showlegend\": false, \"type\": \"scattermapbox\"}, {\"hoverinfo\": \"text\", \"hovertext\": \"W SEA BR EB 4 AV OFF RP Flow: 13156.0\", \"lat\": [47.55030084126607, 47.54849160275342], \"line\": {\"color\": \"rgb(0.280255,0.165693,0.476498)\", \"width\": 2}, \"lon\": [-122.38709093962947, -122.3871434283574], \"mode\": \"lines\", \"showlegend\": false, \"type\": \"scattermapbox\"}, {\"hoverinfo\": \"text\", \"hovertext\": \"W SEA BR EB 4 AV OFF RP Flow: 13156.0\", \"lat\": [47.54849160275342, 47.546707644536916, 47.54668273851088], \"line\": {\"color\": \"rgb(0.280255,0.165693,0.476498)\", \"width\": 2}, \"lon\": [-122.3871434283574, -122.38719498663232, -122.38719538248922], \"mode\": \"lines\", \"showlegend\": false, \"type\": \"scattermapbox\"}, {\"hoverinfo\": \"text\", \"hovertext\": \"W SEA BR EB 4 AV OFF RP Flow: 13156.0\", \"lat\": [47.552110328890095, 47.55030084126607], \"line\": {\"color\": \"rgb(0.280255,0.165693,0.476498)\", \"width\": 2}, \"lon\": [-122.38703845070059, -122.38709093962947], \"mode\": \"lines\", \"showlegend\": false, \"type\": \"scattermapbox\"}, {\"hoverinfo\": \"text\", \"hovertext\": \"W SEA BR EB 4 AV OFF RP Flow: 13156.0\", \"lat\": [47.55932475889391, 47.557497571570856], \"line\": {\"color\": \"rgb(0.280255,0.165693,0.476498)\", \"width\": 2}, \"lon\": [-122.38682987016786, -122.38688295273714], \"mode\": \"lines\", \"showlegend\": false, \"type\": \"scattermapbox\"}, {\"hoverinfo\": \"text\", \"hovertext\": \"W SEA BR EB 4 AV OFF RP Flow: 20746.0\", \"lat\": [47.56466115595086, 47.56458890082342, 47.564519669326735, 47.564453960933015, 47.564392254304764, 47.56433499472389, 47.56428259585478, 47.5642354396366, 47.564193864504055, 47.56415817355276, 47.5641286225616, 47.56412032260339, 47.56410542727735, 47.564088757947246, 47.56407873093834, 47.56407541987058, 47.56407658980774, 47.56407659791716], \"line\": {\"color\": \"rgb(0.258965,0.251537,0.524736)\", \"width\": 2}, \"lon\": [-122.37256226084999, -122.37261027339201, -122.37266718619475, -122.37273258600668, -122.37280600181505, -122.37288690314622, -122.37297470277579, -122.37306876470096, -122.37316841043769, -122.37327291394486, -122.37338152253618, -122.37342157304171, -122.37349345044834, -122.37360788399539, -122.37372400258542, -122.37384095379473, -122.37617413801303, -122.37618931718269], \"mode\": \"lines\", \"showlegend\": false, \"type\": \"scattermapbox\"}, {\"hoverinfo\": \"text\", \"hovertext\": \"W SEA BR EB 4 AV OFF RP Flow: 7141.0\", \"lat\": [47.639565452761296, 47.63956180016457], \"line\": {\"color\": \"rgb(0.282327,0.094955,0.417331)\", \"width\": 2}, \"lon\": [-122.31237237106204, -122.31077139432722], \"mode\": \"lines\", \"showlegend\": false, \"type\": \"scattermapbox\"}, {\"hoverinfo\": \"text\", \"hovertext\": \"W SEA BR EB 4 AV OFF RP Flow: 7141.0\", \"lat\": [47.63967956577174, 47.639618508243025, 47.63960697782378, 47.63959931742359, 47.63959681935176, 47.63958806020158, 47.639580725067596, 47.63957483143276, 47.63957039579449, 47.639567432886395, 47.639565452761296], \"line\": {\"color\": \"rgb(0.282327,0.094955,0.417331)\", \"width\": 2}, \"lon\": [-122.31366770670607, -122.31352777778963, -122.31348918290078, -122.313459449906, -122.31344975256887, -122.31340959538642, -122.31336881853817, -122.31332753033469, -122.31328584571331, -122.31324387689922, -122.31237237106204], \"mode\": \"lines\", \"showlegend\": false, \"type\": \"scattermapbox\"}, {\"hoverinfo\": \"text\", \"hovertext\": \"W SEA BR EB 4 AV OFF RP Flow: 7141.0\", \"lat\": [47.643194556287696, 47.64319502124791], \"line\": {\"color\": \"rgb(0.282327,0.094955,0.417331)\", \"width\": 2}, \"lon\": [-122.32005642857416, -122.31959559432313], \"mode\": \"lines\", \"showlegend\": false, \"type\": \"scattermapbox\"}, {\"hoverinfo\": \"text\", \"hovertext\": \"W SEA BR EB 4 AV OFF RP Flow: 7141.0\", \"lat\": [47.64319502124791, 47.64319570587997], \"line\": {\"color\": \"rgb(0.282327,0.094955,0.417331)\", \"width\": 2}, \"lon\": [-122.31959559432313, -122.3190029952829], \"mode\": \"lines\", \"showlegend\": false, \"type\": \"scattermapbox\"}, {\"hoverinfo\": \"text\", \"hovertext\": \"W SEA BR EB 4 AV OFF RP Flow: 7141.0\", \"lat\": [47.63967956577174, 47.63969552087677, 47.63971450325565, 47.63971612697767, 47.63973149666684, 47.63973456847703, 47.639755659144946, 47.639777719610166, 47.639800690487846, 47.639824508830806, 47.63984663800406, 47.63986935503117, 47.63989260915634, 47.639916351958036, 47.63995403124701, 47.640021160992866, 47.64023381244909, 47.64026511007375, 47.64027829607451, 47.64029585241284, 47.64032599038615, 47.640355469639026, 47.64038424482679, 47.640403147689746, 47.64041226164653, 47.640439477555134, 47.640465842797965, 47.640491314901006, 47.640515850508436, 47.64052174119507, 47.64053940808014, 47.640561947009935, 47.64056880778931, 47.64058342949334, 47.64060382033722, 47.640623083553024, 47.640641187683315, 47.64065610861367, 47.6406700928787, 47.64068312136894, 47.6406951734533, 47.64069782448216, 47.64070041961703, 47.640702957076655, 47.64072940480416, 47.64077590892947, 47.640785833513895, 47.64079714782341, 47.640799846079254, 47.64080981023528, 47.64082377464777, 47.64083899041096, 47.64084934385069, 47.640855398625725, 47.640872942191535, 47.64089155406395, 47.640911167060025, 47.640931707632596, 47.64095310126604, 47.64097526796229, 47.640998126685616, 47.64102159368492, 47.64102466623517, 47.64104558050485, 47.64107000047123, 47.641423187197766, 47.64145012779036, 47.64147668324242, 47.64150278474271, 47.641528366177695, 47.64155336062096, 47.64157770389586, 47.64160133277704, 47.641624186875376, 47.64164620663171, 47.64166733629192, 47.64168751999775, 47.64170670659537, 47.641724847559445, 47.641741894485826, 47.64175780343227, 47.64177253424411, 47.64178604752757, 47.641787779717, 47.64179831122155, 47.6418092915013, 47.64181896171896, 47.641955186990565, 47.64198939276051, 47.64206750130272], \"line\": {\"color\": \"rgb(0.282327,0.094955,0.417331)\", \"width\": 2}, \"lon\": [-122.31366770670607, -122.31370467196933, -122.31373616224303, -122.31373858840902, -122.31376155953818, -122.3137661513092, -122.31379455633889, -122.31382129854586, -122.3138463096854, -122.31386951874896, -122.31388883162515, -122.31390659059274, -122.31392275560425, -122.31393731463085, -122.31395880335205, -122.31399708883482, -122.31411836556123, -122.31413735275895, -122.3141463043706, -122.31415822494995, -122.3141809514557, -122.31420549212932, -122.31423180574939, -122.31425072495827, -122.3142598481767, -122.31428957028243, -122.3143209240629, -122.31435385506603, -122.31438830748333, -122.31439729102892, -122.31442422422644, -122.31446154557095, -122.31447389246642, -122.31450020388547, -122.31454013826799, -122.3145812798069, -122.31462355705722, -122.31466157735434, -122.31470037097705, -122.31473988546693, -122.31478004702475, -122.31478945748239, -122.31479887699743, -122.31480830418799, -122.3149080415644, -122.31508341478443, -122.31511775623771, -122.3151511416462, -122.31515802707297, -122.3151834513586, -122.31521456426445, -122.31524436311658, -122.31526227119258, -122.31527274241205, -122.31529959669896, -122.3153248242346, -122.31534833392078, -122.3153700398017, -122.31538986121811, -122.3154077240094, -122.31542356463382, -122.31543732080296, -122.3154388100181, -122.31544894606712, -122.31545839535829, -122.315578166118, -122.31558837956176, -122.31560060532645, -122.31561480817577, -122.31563095295003, -122.31564899781057, -122.31566889700349, -122.31569060080821, -122.3157140489359, -122.31573918644558, -122.31576594253063, -122.31579425436807, -122.31582404329518, -122.31585523604817, -122.3158877500485, -122.31592150550678, -122.31595640809887, -122.31599237417073, -122.31599758962923, -122.31602930962842, -122.31606711766489, -122.3161057030086, -122.3166943909178, -122.31684220825754, -122.31717975519199], \"mode\": \"lines\", \"showlegend\": false, \"type\": \"scattermapbox\"}, {\"hoverinfo\": \"text\", \"hovertext\": \"W SEA BR EB 4 AV OFF RP Flow: 7141.0\", \"lat\": [47.642571543743344, 47.64271499529921, 47.64276183385339, 47.64279334205842, 47.64285866566997, 47.64319570587997], \"line\": {\"color\": \"rgb(0.282327,0.094955,0.417331)\", \"width\": 2}, \"lon\": [-122.31794935963539, -122.3181915153859, -122.31827403132321, -122.31832696818776, -122.31843672040688, -122.3190029952829], \"mode\": \"lines\", \"showlegend\": false, \"type\": \"scattermapbox\"}, {\"hoverinfo\": \"text\", \"hovertext\": \"W SEA BR EB 4 AV OFF RP Flow: 7141.0\", \"lat\": [47.64206750130272, 47.64206762645463, 47.64241486562294, 47.64249274879759, 47.642571543743344], \"line\": {\"color\": \"rgb(0.282327,0.094955,0.417331)\", \"width\": 2}, \"lon\": [-122.31717975519199, -122.31718029920037, -122.31767857434251, -122.31781733751997, -122.31794935963539], \"mode\": \"lines\", \"showlegend\": false, \"type\": \"scattermapbox\"}, {\"hoverinfo\": \"text\", \"hovertext\": \"W SEA BR EB 4 AV OFF RP Flow: 7500.0\", \"lat\": [47.60373279300229, 47.60390072822275, 47.60419712084825], \"line\": {\"color\": \"rgb(0.282327,0.094955,0.417331)\", \"width\": 2}, \"lon\": [-122.33382457176455, -122.3334230938715, -122.33271437905664], \"mode\": \"lines\", \"showlegend\": false, \"type\": \"scattermapbox\"}, {\"hoverinfo\": \"text\", \"hovertext\": \"W SEA BR EB 4 AV OFF RP Flow: 19007.0\", \"lat\": [47.617609533846476, 47.61781263089148, 47.6182737632661], \"line\": {\"color\": \"rgb(0.265145,0.232956,0.516599)\", \"width\": 2}, \"lon\": [-122.33185856063047, -122.33159585883983, -122.33099941082699], \"mode\": \"lines\", \"showlegend\": false, \"type\": \"scattermapbox\"}, {\"hoverinfo\": \"text\", \"hovertext\": \"W SEA BR EB 4 AV OFF RP Flow: 19007.0\", \"lat\": [47.616944942602444, 47.617541434170356, 47.617609533846476], \"line\": {\"color\": \"rgb(0.265145,0.232956,0.516599)\", \"width\": 2}, \"lon\": [-122.33271816521791, -122.33194664366783, -122.33185856063047], \"mode\": \"lines\", \"showlegend\": false, \"type\": \"scattermapbox\"}, {\"hoverinfo\": \"text\", \"hovertext\": \"W SEA BR EB 4 AV OFF RP Flow: 14000.0\", \"lat\": [47.60301939318505, 47.60327393577226, 47.60373279300229], \"line\": {\"color\": \"rgb(0.278826,0.175490,0.483397)\", \"width\": 2}, \"lon\": [-122.33317224655578, -122.33340504384074, -122.33382457176455], \"mode\": \"lines\", \"showlegend\": false, \"type\": \"scattermapbox\"}, {\"hoverinfo\": \"text\", \"hovertext\": \"W SEA BR EB 4 AV OFF RP Flow: 9500.0\", \"lat\": [47.54533689635002, 47.54389035398108], \"line\": {\"color\": \"rgb(0.283229,0.120777,0.440584)\", \"width\": 2}, \"lon\": [-122.3295882140894, -122.32962073819483], \"mode\": \"lines\", \"showlegend\": false, \"type\": \"scattermapbox\"}, {\"hoverinfo\": \"text\", \"hovertext\": \"W SEA BR EB 4 AV OFF RP Flow: 11443.0\", \"lat\": [47.553368116773676, 47.553368006273345, 47.55336650336047, 47.55336622925533, 47.55335719960206, 47.55335408817992], \"line\": {\"color\": \"rgb(0.282290,0.145912,0.461510)\", \"width\": 2}, \"lon\": [-122.32390855616686, -122.32388830778937, -122.3236122109573, -122.32356635604603, -122.3220435891513, -122.3215196817765], \"mode\": \"lines\", \"showlegend\": false, \"type\": \"scattermapbox\"}, {\"hoverinfo\": \"text\", \"hovertext\": \"W SEA BR EB 4 AV OFF RP Flow: 11443.0\", \"lat\": [47.55337626793497, 47.553368116773676], \"line\": {\"color\": \"rgb(0.282290,0.145912,0.461510)\", \"width\": 2}, \"lon\": [-122.32539190245643, -122.32390855616686], \"mode\": \"lines\", \"showlegend\": false, \"type\": \"scattermapbox\"}, {\"hoverinfo\": \"text\", \"hovertext\": \"W SEA BR EB 4 AV OFF RP Flow: 11443.0\", \"lat\": [47.553384396179005, 47.55337626793497], \"line\": {\"color\": \"rgb(0.282290,0.145912,0.461510)\", \"width\": 2}, \"lon\": [-122.32687538332283, -122.32539190245643], \"mode\": \"lines\", \"showlegend\": false, \"type\": \"scattermapbox\"}, {\"hoverinfo\": \"text\", \"hovertext\": \"W SEA BR EB 4 AV OFF RP Flow: 11443.0\", \"lat\": [47.55335408817992, 47.553353388776316, 47.553351870067196, 47.55335102332343], \"line\": {\"color\": \"rgb(0.282290,0.145912,0.461510)\", \"width\": 2}, \"lon\": [-122.3215196817765, -122.32140200975732, -122.32114672674354, -122.32100440415626], \"mode\": \"lines\", \"showlegend\": false, \"type\": \"scattermapbox\"}, {\"hoverinfo\": \"text\", \"hovertext\": \"W SEA BR EB 4 AV OFF RP Flow: 19500.0\", \"lat\": [47.68311118230693, 47.683106452816986, 47.683104824806044], \"line\": {\"color\": \"rgb(0.263663,0.237631,0.518762)\", \"width\": 2}, \"lon\": [-122.31748950733657, -122.3170962746447, -122.31696097751686], \"mode\": \"lines\", \"showlegend\": false, \"type\": \"scattermapbox\"}, {\"hoverinfo\": \"text\", \"hovertext\": \"W SEA BR EB 4 AV OFF RP Flow: 19500.0\", \"lat\": [47.683104824806044, 47.68310245319081, 47.683098536579315], \"line\": {\"color\": \"rgb(0.263663,0.237631,0.518762)\", \"width\": 2}, \"lon\": [-122.31696097751686, -122.31676213696524, -122.31643391793273], \"mode\": \"lines\", \"showlegend\": false, \"type\": \"scattermapbox\"}, {\"hoverinfo\": \"text\", \"hovertext\": \"W SEA BR EB 4 AV OFF RP Flow: 19500.0\", \"lat\": [47.683098536579315, 47.68309800017488, 47.68308626439181], \"line\": {\"color\": \"rgb(0.263663,0.237631,0.518762)\", \"width\": 2}, \"lon\": [-122.31643391793273, -122.31638914813647, -122.31527968832211], \"mode\": \"lines\", \"showlegend\": false, \"type\": \"scattermapbox\"}, {\"hoverinfo\": \"text\", \"hovertext\": \"W SEA BR EB 4 AV OFF RP Flow: 4947.0\", \"lat\": [47.56110646749045, 47.56113800494825], \"line\": {\"color\": \"rgb(0.278791,0.062145,0.386592)\", \"width\": 2}, \"lon\": [-122.38677811082577, -122.38813082369442], \"mode\": \"lines\", \"showlegend\": false, \"type\": \"scattermapbox\"}, {\"hoverinfo\": \"text\", \"hovertext\": \"W SEA BR EB 4 AV OFF RP Flow: 11923.0\", \"lat\": [47.588475302716425, 47.58776800242881], \"line\": {\"color\": \"rgb(0.281887,0.150881,0.465405)\", \"width\": 2}, \"lon\": [-122.3137806710172, -122.31378331452606], \"mode\": \"lines\", \"showlegend\": false, \"type\": \"scattermapbox\"}, {\"hoverinfo\": \"text\", \"hovertext\": \"W SEA BR EB 4 AV OFF RP Flow: 11923.0\", \"lat\": [47.5899890019081, 47.589534165463185, 47.58853127756897, 47.588475302716425], \"line\": {\"color\": \"rgb(0.281887,0.150881,0.465405)\", \"width\": 2}, \"lon\": [-122.3138279750077, -122.31373925477243, -122.31377848241407, -122.3137806710172], \"mode\": \"lines\", \"showlegend\": false, \"type\": \"scattermapbox\"}, {\"hoverinfo\": \"text\", \"hovertext\": \"W SEA BR EB 4 AV OFF RP Flow: 11923.0\", \"lat\": [47.58553166427728, 47.58454434950764], \"line\": {\"color\": \"rgb(0.281887,0.150881,0.465405)\", \"width\": 2}, \"lon\": [-122.31337047349965, -122.31337901145656], \"mode\": \"lines\", \"showlegend\": false, \"type\": \"scattermapbox\"}, {\"hoverinfo\": \"text\", \"hovertext\": \"W SEA BR EB 4 AV OFF RP Flow: 11923.0\", \"lat\": [47.58298194537833, 47.58249799396029, 47.581014995190316], \"line\": {\"color\": \"rgb(0.281887,0.150881,0.465405)\", \"width\": 2}, \"lon\": [-122.31339442964682, -122.31339799490725, -122.31340891376556], \"mode\": \"lines\", \"showlegend\": false, \"type\": \"scattermapbox\"}, {\"hoverinfo\": \"text\", \"hovertext\": \"W SEA BR EB 4 AV OFF RP Flow: 11923.0\", \"lat\": [47.58454434950764, 47.583694684528815], \"line\": {\"color\": \"rgb(0.281887,0.150881,0.465405)\", \"width\": 2}, \"lon\": [-122.31337901145656, -122.31338667968235], \"mode\": \"lines\", \"showlegend\": false, \"type\": \"scattermapbox\"}, {\"hoverinfo\": \"text\", \"hovertext\": \"W SEA BR EB 4 AV OFF RP Flow: 11923.0\", \"lat\": [47.581014995190316, 47.58059321954826], \"line\": {\"color\": \"rgb(0.281887,0.150881,0.465405)\", \"width\": 2}, \"lon\": [-122.31340891376556, -122.31341202061986], \"mode\": \"lines\", \"showlegend\": false, \"type\": \"scattermapbox\"}, {\"hoverinfo\": \"text\", \"hovertext\": \"W SEA BR EB 4 AV OFF RP Flow: 11923.0\", \"lat\": [47.58776800242881, 47.58745019964081, 47.587350094184934, 47.587176862000526, 47.58715050470235, 47.58700440479769, 47.58700327305081], \"line\": {\"color\": \"rgb(0.281887,0.150881,0.465405)\", \"width\": 2}, \"lon\": [-122.31378331452606, -122.31377658895903, -122.31374571278945, -122.31365108869767, -122.3136346232233, -122.31352808584292, -122.31352725982191], \"mode\": \"lines\", \"showlegend\": false, \"type\": \"scattermapbox\"}, {\"hoverinfo\": \"text\", \"hovertext\": \"W SEA BR EB 4 AV OFF RP Flow: 11923.0\", \"lat\": [47.586362679386276, 47.58553166427728], \"line\": {\"color\": \"rgb(0.281887,0.150881,0.465405)\", \"width\": 2}, \"lon\": [-122.31336274789277, -122.31337047349965], \"mode\": \"lines\", \"showlegend\": false, \"type\": \"scattermapbox\"}, {\"hoverinfo\": \"text\", \"hovertext\": \"W SEA BR EB 4 AV OFF RP Flow: 11923.0\", \"lat\": [47.59290468341842, 47.592681629992015, 47.59241516969457, 47.59236924925587, 47.59232280949155, 47.59227589244358, 47.59222853918541, 47.5921807926928, 47.59213269230958, 47.59208428196251, 47.59163700050473, 47.59154664187754, 47.59149953918556, 47.5899890019081], \"line\": {\"color\": \"rgb(0.281887,0.150881,0.465405)\", \"width\": 2}, \"lon\": [-122.3148722135777, -122.31469643638013, -122.31453377200386, -122.31450690947467, -122.31448206955108, -122.31445927071277, -122.314438536731, -122.31441988345178, -122.31440332927721, -122.31438888609054, -122.31426563567702, -122.31424073836133, -122.31422825695867, -122.3138279750077], \"mode\": \"lines\", \"showlegend\": false, \"type\": \"scattermapbox\"}, {\"hoverinfo\": \"text\", \"hovertext\": \"W SEA BR EB 4 AV OFF RP Flow: 11923.0\", \"lat\": [47.583694684528815, 47.58298194537833], \"line\": {\"color\": \"rgb(0.281887,0.150881,0.465405)\", \"width\": 2}, \"lon\": [-122.31338667968235, -122.31339442964682], \"mode\": \"lines\", \"showlegend\": false, \"type\": \"scattermapbox\"}, {\"hoverinfo\": \"text\", \"hovertext\": \"W SEA BR EB 4 AV OFF RP Flow: 11923.0\", \"lat\": [47.58700327305081, 47.58695973429825, 47.5867724391411, 47.586362679386276], \"line\": {\"color\": \"rgb(0.281887,0.150881,0.465405)\", \"width\": 2}, \"lon\": [-122.31352725982191, -122.31349551018715, -122.31335893699801, -122.31336274789277], \"mode\": \"lines\", \"showlegend\": false, \"type\": \"scattermapbox\"}, {\"hoverinfo\": \"text\", \"hovertext\": \"W SEA BR EB 4 AV OFF RP Flow: 18000.0\", \"lat\": [47.62469578119397, 47.6250730788404, 47.62550870374764, 47.625795769601766], \"line\": {\"color\": \"rgb(0.269308,0.218818,0.509577)\", \"width\": 2}, \"lon\": [-122.33843433530853, -122.33843155230747, -122.33842834371879, -122.3386345498782], \"mode\": \"lines\", \"showlegend\": false, \"type\": \"scattermapbox\"}, {\"hoverinfo\": \"text\", \"hovertext\": \"W SEA BR EB 4 AV OFF RP Flow: 13000.0\", \"lat\": [47.61295826729049, 47.61372706974304], \"line\": {\"color\": \"rgb(0.280868,0.160771,0.472899)\", \"width\": 2}, \"lon\": [-122.33787347698471, -122.33917357066088], \"mode\": \"lines\", \"showlegend\": false, \"type\": \"scattermapbox\"}, {\"hoverinfo\": \"text\", \"hovertext\": \"W SEA BR EB 4 AV OFF RP Flow: 13624.0\", \"lat\": [47.73412951295893, 47.73412904094926, 47.73412904002781, 47.73412903824196, 47.73412900686401], \"line\": {\"color\": \"rgb(0.279574,0.170599,0.479997)\", \"width\": 2}, \"lon\": [-122.35050597008852, -122.34797334578731, -122.34796521809564, -122.34795708771176, -122.34780152903004], \"mode\": \"lines\", \"showlegend\": false, \"type\": \"scattermapbox\"}, {\"hoverinfo\": \"text\", \"hovertext\": \"W SEA BR EB 4 AV OFF RP Flow: 13624.0\", \"lat\": [47.734130319047324, 47.73413029172356, 47.734130134343104], \"line\": {\"color\": \"rgb(0.279574,0.170599,0.479997)\", \"width\": 2}, \"lon\": [-122.35557134106583, -122.35537358359394, -122.35425860007476], \"mode\": \"lines\", \"showlegend\": false, \"type\": \"scattermapbox\"}, {\"hoverinfo\": \"text\", \"hovertext\": \"W SEA BR EB 4 AV OFF RP Flow: 13624.0\", \"lat\": [47.73412994961194, 47.73412974336671], \"line\": {\"color\": \"rgb(0.279574,0.170599,0.479997)\", \"width\": 2}, \"lon\": [-122.35303864838406, -122.35177230137782], \"mode\": \"lines\", \"showlegend\": false, \"type\": \"scattermapbox\"}, {\"hoverinfo\": \"text\", \"hovertext\": \"W SEA BR EB 4 AV OFF RP Flow: 13624.0\", \"lat\": [47.734130134343104, 47.73412994961194], \"line\": {\"color\": \"rgb(0.279574,0.170599,0.479997)\", \"width\": 2}, \"lon\": [-122.35425860007476, -122.35303864838406], \"mode\": \"lines\", \"showlegend\": false, \"type\": \"scattermapbox\"}, {\"hoverinfo\": \"text\", \"hovertext\": \"W SEA BR EB 4 AV OFF RP Flow: 13624.0\", \"lat\": [47.73412974336671, 47.73412951295893], \"line\": {\"color\": \"rgb(0.279574,0.170599,0.479997)\", \"width\": 2}, \"lon\": [-122.35177230137782, -122.35050597008852], \"mode\": \"lines\", \"showlegend\": false, \"type\": \"scattermapbox\"}, {\"hoverinfo\": \"text\", \"hovertext\": \"W SEA BR EB 4 AV OFF RP Flow: 10000.0\", \"lat\": [47.69756885599573, 47.69756434094156], \"line\": {\"color\": \"rgb(0.283187,0.125848,0.444960)\", \"width\": 2}, \"lon\": [-122.30546672497256, -122.3048908046714], \"mode\": \"lines\", \"showlegend\": false, \"type\": \"scattermapbox\"}, {\"hoverinfo\": \"text\", \"hovertext\": \"W SEA BR EB 4 AV OFF RP Flow: 18210.0\", \"lat\": [47.66626671856123, 47.66633745590687, 47.66650388560132, 47.6665581945678, 47.66666748717745, 47.66677675363908, 47.666886018387466, 47.66699528306678, 47.66710455049491, 47.66721381517331, 47.667323079003424, 47.66743234368087, 47.66754160840931, 47.66765087578365, 47.66776013776192, 47.66786940248894, 47.667978352881484], \"line\": {\"color\": \"rgb(0.267968,0.223549,0.512008)\", \"width\": 2}, \"lon\": [-122.3006049806637, -122.3006053940335, -122.30060642049042, -122.30060675631937, -122.30060742971203, -122.30060810769633, -122.3006087789764, -122.30060945558435, -122.30061012827748, -122.30061080489114, -122.30061147748837, -122.3006121541077, -122.300612826736, -122.30061350343716, -122.30061417998887, -122.30061485262566, -122.30061611303108], \"mode\": \"lines\", \"showlegend\": false, \"type\": \"scattermapbox\"}, {\"hoverinfo\": \"text\", \"hovertext\": \"W SEA BR EB 4 AV OFF RP Flow: 18210.0\", \"lat\": [47.667978352881484, 47.66799050577532, 47.66807836506288, 47.668429529696404, 47.66851511139131, 47.66852574746237], \"line\": {\"color\": \"rgb(0.267968,0.223549,0.512008)\", \"width\": 2}, \"lon\": [-122.30061611303108, -122.30061560775617, -122.30061617022285, -122.30061841507923, -122.30061896253564, -122.30061895381458], \"mode\": \"lines\", \"showlegend\": false, \"type\": \"scattermapbox\"}, {\"hoverinfo\": \"text\", \"hovertext\": \"W SEA BR EB 4 AV OFF RP Flow: 20000.0\", \"lat\": [47.562897887698135, 47.56080844656606], \"line\": {\"color\": \"rgb(0.262138,0.242286,0.520837)\", \"width\": 2}, \"lon\": [-122.29455093494371, -122.29324025303698], \"mode\": \"lines\", \"showlegend\": false, \"type\": \"scattermapbox\"}, {\"hoverinfo\": \"text\", \"hovertext\": \"W SEA BR EB 4 AV OFF RP Flow: 14195.0\", \"lat\": [47.51919629835409, 47.51884270224293], \"line\": {\"color\": \"rgb(0.278826,0.175490,0.483397)\", \"width\": 2}, \"lon\": [-122.35681116905934, -122.35649409059859], \"mode\": \"lines\", \"showlegend\": false, \"type\": \"scattermapbox\"}, {\"hoverinfo\": \"text\", \"hovertext\": \"W SEA BR EB 4 AV OFF RP Flow: 14195.0\", \"lat\": [47.52286134378828, 47.52180710681435], \"line\": {\"color\": \"rgb(0.278826,0.175490,0.483397)\", \"width\": 2}, \"lon\": [-122.36009936150636, -122.35915384722927], \"mode\": \"lines\", \"showlegend\": false, \"type\": \"scattermapbox\"}, {\"hoverinfo\": \"text\", \"hovertext\": \"W SEA BR EB 4 AV OFF RP Flow: 14195.0\", \"lat\": [47.52032519128829, 47.51919629835409], \"line\": {\"color\": \"rgb(0.278826,0.175490,0.483397)\", \"width\": 2}, \"lon\": [-122.35782375599348, -122.35681116905934], \"mode\": \"lines\", \"showlegend\": false, \"type\": \"scattermapbox\"}, {\"hoverinfo\": \"text\", \"hovertext\": \"W SEA BR EB 4 AV OFF RP Flow: 14195.0\", \"lat\": [47.521029953493276, 47.52032519128829], \"line\": {\"color\": \"rgb(0.278826,0.175490,0.483397)\", \"width\": 2}, \"lon\": [-122.35845620775892, -122.35782375599348], \"mode\": \"lines\", \"showlegend\": false, \"type\": \"scattermapbox\"}, {\"hoverinfo\": \"text\", \"hovertext\": \"W SEA BR EB 4 AV OFF RP Flow: 14195.0\", \"lat\": [47.52180710681435, 47.521029953493276], \"line\": {\"color\": \"rgb(0.278826,0.175490,0.483397)\", \"width\": 2}, \"lon\": [-122.35915384722927, -122.35845620775892], \"mode\": \"lines\", \"showlegend\": false, \"type\": \"scattermapbox\"}, {\"hoverinfo\": \"text\", \"hovertext\": \"W SEA BR EB 4 AV OFF RP Flow: 23819.0\", \"lat\": [47.60323265410482, 47.60394844008186], \"line\": {\"color\": \"rgb(0.246811,0.283237,0.535941)\", \"width\": 2}, \"lon\": [-122.33029745897032, -122.33095206227533], \"mode\": \"lines\", \"showlegend\": false, \"type\": \"scattermapbox\"}, {\"hoverinfo\": \"text\", \"hovertext\": \"W SEA BR EB 4 AV OFF RP Flow: 6037.0\", \"lat\": [47.6648543295362, 47.66637560555822, 47.66642598450292], \"line\": {\"color\": \"rgb(0.280894,0.078907,0.402329)\", \"width\": 2}, \"lon\": [-122.30650659882558, -122.30649835359426, -122.3064970686662], \"mode\": \"lines\", \"showlegend\": false, \"type\": \"scattermapbox\"}, {\"hoverinfo\": \"text\", \"hovertext\": \"W SEA BR EB 4 AV OFF RP Flow: 6037.0\", \"lat\": [47.66642598450292, 47.66800627369891], \"line\": {\"color\": \"rgb(0.280894,0.078907,0.402329)\", \"width\": 2}, \"lon\": [-122.3064970686662, -122.3064874017591], \"mode\": \"lines\", \"showlegend\": false, \"type\": \"scattermapbox\"}, {\"hoverinfo\": \"text\", \"hovertext\": \"W SEA BR EB 4 AV OFF RP Flow: 7636.0\", \"lat\": [47.5714094068177, 47.57151137655423], \"line\": {\"color\": \"rgb(0.282656,0.100196,0.422160)\", \"width\": 2}, \"lon\": [-122.34114496544535, -122.34018638784663], \"mode\": \"lines\", \"showlegend\": false, \"type\": \"scattermapbox\"}, {\"hoverinfo\": \"text\", \"hovertext\": \"W SEA BR EB 4 AV OFF RP Flow: 7636.0\", \"lat\": [47.571562900713126, 47.571389276862085, 47.571289347551094, 47.57124288664098, 47.57123553204599, 47.57123814063684, 47.57131685305715, 47.5714094068177], \"line\": {\"color\": \"rgb(0.282656,0.100196,0.422160)\", \"width\": 2}, \"lon\": [-122.34420594883082, -122.34362860726999, -122.34320360276703, -122.34301712588322, -122.34297290271464, -122.34292603590069, -122.34201494821059, -122.34114496544535], \"mode\": \"lines\", \"showlegend\": false, \"type\": \"scattermapbox\"}, {\"hoverinfo\": \"text\", \"hovertext\": \"W SEA BR EB 4 AV OFF RP Flow: 8174.0\", \"lat\": [47.60829216504288, 47.608756224431964], \"line\": {\"color\": \"rgb(0.282910,0.105393,0.426902)\", \"width\": 2}, \"lon\": [-122.33799535939778, -122.33688460284449], \"mode\": \"lines\", \"showlegend\": false, \"type\": \"scattermapbox\"}, {\"hoverinfo\": \"text\", \"hovertext\": \"W SEA BR EB 4 AV OFF RP Flow: 10611.0\", \"lat\": [47.604625179048284, 47.605340176543045], \"line\": {\"color\": \"rgb(0.282884,0.135920,0.453427)\", \"width\": 2}, \"lon\": [-122.32697031462867, -122.32762425461159], \"mode\": \"lines\", \"showlegend\": false, \"type\": \"scattermapbox\"}, {\"hoverinfo\": \"text\", \"hovertext\": \"W SEA BR EB 4 AV OFF RP Flow: 2310.0\", \"lat\": [47.706116136375115, 47.70615747428101, 47.70619326269309, 47.706681204862484, 47.70668669737641], \"line\": {\"color\": \"rgb(0.272594,0.025563,0.353093)\", \"width\": 2}, \"lon\": [-122.29623113722114, -122.29622415437194, -122.29622108812848, -122.29623341480593, -122.2962333775902], \"mode\": \"lines\", \"showlegend\": false, \"type\": \"scattermapbox\"}, {\"hoverinfo\": \"text\", \"hovertext\": \"W SEA BR EB 4 AV OFF RP Flow: 2310.0\", \"lat\": [47.70668669737641, 47.70669217366926, 47.708400023878404], \"line\": {\"color\": \"rgb(0.272594,0.025563,0.353093)\", \"width\": 2}, \"lon\": [-122.2962333775902, -122.29623334258315, -122.29622158844644], \"mode\": \"lines\", \"showlegend\": false, \"type\": \"scattermapbox\"}, {\"hoverinfo\": \"text\", \"hovertext\": \"W SEA BR EB 4 AV OFF RP Flow: 2310.0\", \"lat\": [47.70115732895886, 47.70308084207549], \"line\": {\"color\": \"rgb(0.272594,0.025563,0.353093)\", \"width\": 2}, \"lon\": [-122.29992148439516, -122.29885380369484], \"mode\": \"lines\", \"showlegend\": false, \"type\": \"scattermapbox\"}, {\"hoverinfo\": \"text\", \"hovertext\": \"W SEA BR EB 4 AV OFF RP Flow: 2310.0\", \"lat\": [47.704787147510096, 47.705869679291574, 47.70596841624976, 47.70603760892892, 47.70607625092673, 47.706116136375115], \"line\": {\"color\": \"rgb(0.272594,0.025563,0.353093)\", \"width\": 2}, \"lon\": [-122.29752991507571, -122.29636474782329, -122.29627790119198, -122.29624318460759, -122.29623205159932, -122.29623113722114], \"mode\": \"lines\", \"showlegend\": false, \"type\": \"scattermapbox\"}, {\"hoverinfo\": \"text\", \"hovertext\": \"W SEA BR EB 4 AV OFF RP Flow: 2310.0\", \"lat\": [47.70308084207549, 47.70399911974159, 47.704027930485104, 47.70405705763619, 47.70408563495038, 47.704113616101665, 47.704140955543416, 47.70416760615296, 47.70418468107513, 47.704193525895015, 47.704787147510096], \"line\": {\"color\": \"rgb(0.272594,0.025563,0.353093)\", \"width\": 2}, \"lon\": [-122.29885380369484, -122.29834406755921, -122.29832710852345, -122.2983079287719, -122.29828701296347, -122.29826439577263, -122.29824012122495, -122.29821421597667, -122.29819611021213, -122.29818673081668, -122.29752991507571], \"mode\": \"lines\", \"showlegend\": false, \"type\": \"scattermapbox\"}, {\"hoverinfo\": \"text\", \"hovertext\": \"W SEA BR EB 4 AV OFF RP Flow: 2310.0\", \"lat\": [47.70025636465499, 47.70115732895886], \"line\": {\"color\": \"rgb(0.272594,0.025563,0.353093)\", \"width\": 2}, \"lon\": [-122.30131815132346, -122.29992148439516], \"mode\": \"lines\", \"showlegend\": false, \"type\": \"scattermapbox\"}, {\"hoverinfo\": \"text\", \"hovertext\": \"W SEA BR EB 4 AV OFF RP Flow: 6434.0\", \"lat\": [47.57863325395961, 47.578629738182926], \"line\": {\"color\": \"rgb(0.281446,0.084320,0.407414)\", \"width\": 2}, \"lon\": [-122.31335343302955, -122.31204895624346], \"mode\": \"lines\", \"showlegend\": false, \"type\": \"scattermapbox\"}, {\"hoverinfo\": \"text\", \"hovertext\": \"W SEA BR EB 4 AV OFF RP Flow: 6434.0\", \"lat\": [47.578629738182926, 47.578626297635644], \"line\": {\"color\": \"rgb(0.281446,0.084320,0.407414)\", \"width\": 2}, \"lon\": [-122.31204895624346, -122.31159702170261], \"mode\": \"lines\", \"showlegend\": false, \"type\": \"scattermapbox\"}, {\"hoverinfo\": \"text\", \"hovertext\": \"W SEA BR EB 4 AV OFF RP Flow: 2300.0\", \"lat\": [47.623214065070755, 47.62320915628543], \"line\": {\"color\": \"rgb(0.272594,0.025563,0.353093)\", \"width\": 2}, \"lon\": [-122.33975127144419, -122.33844628878816], \"mode\": \"lines\", \"showlegend\": false, \"type\": \"scattermapbox\"}, {\"hoverinfo\": \"text\", \"hovertext\": \"W SEA BR EB 4 AV OFF RP Flow: 4801.0\", \"lat\": [47.52019340836753, 47.51914814306623, 47.51889490687387, 47.5186434885675, 47.518028011303585], \"line\": {\"color\": \"rgb(0.278791,0.062145,0.386592)\", \"width\": 2}, \"lon\": [-122.3904130832443, -122.39103693708422, -122.39111609882737, -122.39120032467818, -122.39119494174649], \"mode\": \"lines\", \"showlegend\": false, \"type\": \"scattermapbox\"}, {\"hoverinfo\": \"text\", \"hovertext\": \"W SEA BR EB 4 AV OFF RP Flow: 4801.0\", \"lat\": [47.518028011303585, 47.51753893903585], \"line\": {\"color\": \"rgb(0.278791,0.062145,0.386592)\", \"width\": 2}, \"lon\": [-122.39119494174649, -122.39116246931644], \"mode\": \"lines\", \"showlegend\": false, \"type\": \"scattermapbox\"}, {\"hoverinfo\": \"text\", \"hovertext\": \"W SEA BR EB 4 AV OFF RP Flow: 4801.0\", \"lat\": [47.51753893903585, 47.51733607580484, 47.51712253105078, 47.51688347480664, 47.51676949864769, 47.51651785067031, 47.51614573860667, 47.51576599153624, 47.51562422752731, 47.51545236738551, 47.515292238336094, 47.515288647006805, 47.51513970433676, 47.51513066303914, 47.515121570848216], \"line\": {\"color\": \"rgb(0.278791,0.062145,0.386592)\", \"width\": 2}, \"lon\": [-122.39116246931644, -122.39115186234979, -122.39122090607948, -122.39133041313742, -122.3913510969593, -122.39139676376699, -122.39145936199729, -122.39148896584562, -122.39148658750409, -122.39148369733715, -122.39146919863585, -122.39146887351227, -122.39145538915126, -122.39145441245995, -122.3914534076895], \"mode\": \"lines\", \"showlegend\": false, \"type\": \"scattermapbox\"}, {\"hoverinfo\": \"text\", \"hovertext\": \"W SEA BR EB 4 AV OFF RP Flow: 7500.0\", \"lat\": [47.61260043829661, 47.613595528398456], \"line\": {\"color\": \"rgb(0.282327,0.094955,0.417331)\", \"width\": 2}, \"lon\": [-122.33426239985211, -122.33517270255165], \"mode\": \"lines\", \"showlegend\": false, \"type\": \"scattermapbox\"}, {\"hoverinfo\": \"text\", \"hovertext\": \"W SEA BR EB 4 AV OFF RP Flow: 13836.0\", \"lat\": [47.686916158301024, 47.68691358092468], \"line\": {\"color\": \"rgb(0.279574,0.170599,0.479997)\", \"width\": 2}, \"lon\": [-122.33556581348827, -122.3345625992683], \"mode\": \"lines\", \"showlegend\": false, \"type\": \"scattermapbox\"}, {\"hoverinfo\": \"text\", \"hovertext\": \"W SEA BR EB 4 AV OFF RP Flow: 13836.0\", \"lat\": [47.6869183104867, 47.686916158301024], \"line\": {\"color\": \"rgb(0.279574,0.170599,0.479997)\", \"width\": 2}, \"lon\": [-122.33640554080313, -122.33556581348827], \"mode\": \"lines\", \"showlegend\": false, \"type\": \"scattermapbox\"}, {\"hoverinfo\": \"text\", \"hovertext\": \"W SEA BR EB 4 AV OFF RP Flow: 13776.0\", \"lat\": [47.72321837745099, 47.72321794899639, 47.72321193912687, 47.723211565680124, 47.723211547459854], \"line\": {\"color\": \"rgb(0.279574,0.170599,0.479997)\", \"width\": 2}, \"lon\": [-122.34819529854697, -122.34799153316793, -122.34515960249416, -122.34498500701832, -122.3449768805381], \"mode\": \"lines\", \"showlegend\": false, \"type\": \"scattermapbox\"}, {\"hoverinfo\": \"text\", \"hovertext\": \"W SEA BR EB 4 AV OFF RP Flow: 1142.0\", \"lat\": [47.57116431596694, 47.57115358711726, 47.571132587003206, 47.57111789397698, 47.57110291904494, 47.57109860064731, 47.571108204969164, 47.571116130551715, 47.57113932898183, 47.57116226011766], \"line\": {\"color\": \"rgb(0.268510,0.009605,0.335427)\", \"width\": 2}, \"lon\": [-122.34867654655237, -122.34867965735036, -122.34869407025866, -122.34872212476782, -122.34877132989324, -122.34897139627935, -122.35028696701562, -122.35037785912154, -122.35049813163558, -122.35058065028186], \"mode\": \"lines\", \"showlegend\": false, \"type\": \"scattermapbox\"}, {\"hoverinfo\": \"text\", \"hovertext\": \"W SEA BR EB 4 AV OFF RP Flow: 1142.0\", \"lat\": [47.57141301756033, 47.57129333738187, 47.571280197623054, 47.57125841801327, 47.571239231969315, 47.5712077713637, 47.57118300931531, 47.57116431596694], \"line\": {\"color\": \"rgb(0.268510,0.009605,0.335427)\", \"width\": 2}, \"lon\": [-122.34880038746707, -122.34870388738405, -122.34869329178191, -122.34868141187461, -122.34867655318176, -122.34867265865016, -122.3486711231934, -122.34867654655237], \"mode\": \"lines\", \"showlegend\": false, \"type\": \"scattermapbox\"}, {\"hoverinfo\": \"text\", \"hovertext\": \"W SEA BR EB 4 AV OFF RP Flow: 3659.0\", \"lat\": [47.679027863570944, 47.67979893819865], \"line\": {\"color\": \"rgb(0.276022,0.044167,0.370164)\", \"width\": 2}, \"lon\": [-122.32482839886644, -122.32453975253583], \"mode\": \"lines\", \"showlegend\": false, \"type\": \"scattermapbox\"}, {\"hoverinfo\": \"text\", \"hovertext\": \"W SEA BR EB 4 AV OFF RP Flow: 12607.0\", \"lat\": [47.69402003793373, 47.69405510672505, 47.6940913643278, 47.69412879321355, 47.694167369660306, 47.694207074324495, 47.6942478843497, 47.694289776845814, 47.6943328535666], \"line\": {\"color\": \"rgb(0.280868,0.160771,0.472899)\", \"width\": 2}, \"lon\": [-122.27449704817033, -122.27457238738513, -122.27464647787298, -122.27471928317395, -122.2747907586612, -122.27486086915603, -122.27492957271959, -122.27499683007662, -122.27506242019982], \"mode\": \"lines\", \"showlegend\": false, \"type\": \"scattermapbox\"}, {\"hoverinfo\": \"text\", \"hovertext\": \"W SEA BR EB 4 AV OFF RP Flow: 12607.0\", \"lat\": [47.68212406487597, 47.68222466331314, 47.682926203150636], \"line\": {\"color\": \"rgb(0.280868,0.160771,0.472899)\", \"width\": 2}, \"lon\": [-122.26366810493457, -122.26367706713106, -122.26369135066663], \"mode\": \"lines\", \"showlegend\": false, \"type\": \"scattermapbox\"}, {\"hoverinfo\": \"text\", \"hovertext\": \"W SEA BR EB 4 AV OFF RP Flow: 12607.0\", \"lat\": [47.687449192949266, 47.68754309733818, 47.68763561579166, 47.68772776269841, 47.68781951840614, 47.68791085961514, 47.688001768454875, 47.68809222075958, 47.68818219865849, 47.68827167891842, 47.68831059911884, 47.68836064278591, 47.68844906877596, 47.6885369373026, 47.688624226914165, 47.688710918873525, 47.688796992661764, 47.68888242775972, 47.688967205480346, 47.68905130528764, 47.68913470941048, 47.689217399111314, 47.689689411687574, 47.690120458626275, 47.69020325758671, 47.69021387939821, 47.69029517448421, 47.6903482390765, 47.69037572249125, 47.69045550474886, 47.69051716218079, 47.69053450258654, 47.69061269823302, 47.6906866857256, 47.690690073900235, 47.69076661186714, 47.69084078886019, 47.690842293429625, 47.69085923980196, 47.690917102665196, 47.69099102181914, 47.691064034052886, 47.69113612252794, 47.69120727042239, 47.69127746176335, 47.69134668067864, 47.69141491032974, 47.691482135693235, 47.69154834266208, 47.691748930762365, 47.69178422140241, 47.69234142176246, 47.69238656076448, 47.692430748696644, 47.69247397050375, 47.692516210433105, 47.69255744991651, 47.69259767040273, 47.69263686335006, 47.692675009224054, 47.692696576874866], \"line\": {\"color\": \"rgb(0.280868,0.160771,0.472899)\", \"width\": 2}, \"lon\": [-122.26546966382311, -122.26550454516912, -122.26553968553581, -122.26557690213484, -122.26561618377656, -122.26565752316738, -122.26570091049852, -122.2657463357875, -122.26579378922503, -122.26584325818924, -122.26586577587393, -122.26589473151378, -122.26594820062122, -122.26600364899261, -122.2660610653862, -122.26612043730269, -122.26618175086097, -122.26624499217954, -122.2663101447626, -122.26637719605985, -122.26644612826765, -122.26651692888476, -122.26693011056575, -122.26730743896665, -122.2673796682706, -122.26738893478488, -122.26746106954393, -122.2675097886575, -122.26753502121424, -122.26761077196514, -122.26767128409183, -122.2676883039656, -122.26776759940911, -122.26784509347111, -122.26784864182058, -122.26793140939719, -122.26801420795218, -122.26801588697005, -122.26803540501963, -122.2681020527851, -122.26818988770201, -122.26827937127285, -122.26837048304945, -122.26846320125128, -122.26855750811781, -122.26865337789694, -122.26875079013863, -122.26884972311053, -122.2689501537726, -122.26925906162279, -122.26931349227186, -122.2701715822765, -122.2702424192613, -122.27031455313853, -122.2703879648376, -122.27046261927944, -122.2705384906335, -122.270615551737, -122.27069376637706, -122.270773114025, -122.27081947898851], \"mode\": \"lines\", \"showlegend\": false, \"type\": \"scattermapbox\"}, {\"hoverinfo\": \"text\", \"hovertext\": \"W SEA BR EB 4 AV OFF RP Flow: 12607.0\", \"lat\": [47.693483867629986, 47.69373832908189, 47.69386320200504, 47.69389204361129, 47.69392216481381, 47.693953548168096, 47.693986178961296, 47.69402003793373], \"line\": {\"color\": \"rgb(0.280868,0.160771,0.472899)\", \"width\": 2}, \"lon\": [-122.2730085450191, -122.27374286405069, -122.27410315882152, -122.27418408496395, -122.27426398073675, -122.27434280302188, -122.27442050611194, -122.27449704817033], \"mode\": \"lines\", \"showlegend\": false, \"type\": \"scattermapbox\"}, {\"hoverinfo\": \"text\", \"hovertext\": \"W SEA BR EB 4 AV OFF RP Flow: 12607.0\", \"lat\": [47.67936562595091, 47.68157743764605, 47.68212406487597], \"line\": {\"color\": \"rgb(0.280868,0.160771,0.472899)\", \"width\": 2}, \"lon\": [-122.2636188504331, -122.26366388870754, -122.26366810493457], \"mode\": \"lines\", \"showlegend\": false, \"type\": \"scattermapbox\"}, {\"hoverinfo\": \"text\", \"hovertext\": \"W SEA BR EB 4 AV OFF RP Flow: 12607.0\", \"lat\": [47.682926203150636, 47.68337294485683, 47.68342041260861, 47.68346781679347, 47.683515113346395, 47.68356225918521, 47.68360920944572, 47.68365592372673, 47.68370235721398, 47.68374846780772, 47.683794214273846, 47.68383955369672, 47.68388444400977, 47.683928845011586, 47.6839727173667, 47.68401601825935, 47.68405870932001, 47.68410075316194, 47.68451188961379, 47.68455130041952, 47.68459127182407, 47.684631772621515, 47.68467276975714, 47.68471423115908, 47.684756175579444], \"line\": {\"color\": \"rgb(0.280868,0.160771,0.472899)\", \"width\": 2}, \"lon\": [-122.26369135066663, -122.26369975430518, -122.26370183495942, -122.26370604134183, -122.26371237224525, -122.26372081982855, -122.26373137486945, -122.26374403093257, -122.26375877480035, -122.26377559199724, -122.26379447073603, -122.26381538985761, -122.26383833222259, -122.26386327541395, -122.26389019970267, -122.26391907593836, -122.26394987908925, -122.26398257748937, -122.26431562817965, -122.26434587800881, -122.26437446741822, -122.26440137423027, -122.26442658021284, -122.26445006049961, -122.26447182626121], \"mode\": \"lines\", \"showlegend\": false, \"type\": \"scattermapbox\"}, {\"hoverinfo\": \"text\", \"hovertext\": \"W SEA BR EB 4 AV OFF RP Flow: 12607.0\", \"lat\": [47.684756175579444, 47.684798411727535, 47.684841065683415, 47.684884048870934, 47.686101587162206], \"line\": {\"color\": \"rgb(0.280868,0.160771,0.472899)\", \"width\": 2}, \"lon\": [-122.26447182626121, -122.26449178030309, -122.2645099833788, -122.26452639707506, -122.26496910783248], \"mode\": \"lines\", \"showlegend\": false, \"type\": \"scattermapbox\"}, {\"hoverinfo\": \"text\", \"hovertext\": \"W SEA BR EB 4 AV OFF RP Flow: 12607.0\", \"lat\": [47.69615724158573, 47.69618229559756, 47.69632105503442, 47.696517995647305, 47.69652153393015, 47.69663922909464, 47.69676332285496, 47.697189727088556, 47.69735921213703], \"line\": {\"color\": \"rgb(0.280868,0.160771,0.472899)\", \"width\": 2}, \"lon\": [-122.27668722080233, -122.27670672780371, -122.27681477293565, -122.27696812305352, -122.27697087840318, -122.2770625239579, -122.27715915148424, -122.27749118346381, -122.27762238694197], \"mode\": \"lines\", \"showlegend\": false, \"type\": \"scattermapbox\"}, {\"hoverinfo\": \"text\", \"hovertext\": \"W SEA BR EB 4 AV OFF RP Flow: 12607.0\", \"lat\": [47.686101587162206, 47.687449192949266], \"line\": {\"color\": \"rgb(0.280868,0.160771,0.472899)\", \"width\": 2}, \"lon\": [-122.26496910783248, -122.26546966382311], \"mode\": \"lines\", \"showlegend\": false, \"type\": \"scattermapbox\"}, {\"hoverinfo\": \"text\", \"hovertext\": \"W SEA BR EB 4 AV OFF RP Flow: 12607.0\", \"lat\": [47.6943328535666, 47.69433811174865, 47.694365130635504, 47.694407259533314, 47.69445026613924, 47.694494139186055, 47.69453885106802, 47.694584378692504, 47.6946307009341, 47.69467779466645, 47.69472563946103, 47.694774209696014, 47.69482348119399, 47.69487342743379, 47.694924027851876, 47.69497525312805, 47.695347814529846, 47.69581574351159, 47.69589604385671], \"line\": {\"color\": \"rgb(0.280868,0.160771,0.472899)\", \"width\": 2}, \"lon\": [-122.27506242019982, -122.2750705221932, -122.27511023293044, -122.27516974626765, -122.27522785833696, -122.27528453551356, -122.2753397557111, -122.27539349563561, -122.27544571872282, -122.27549640434209, -122.27554553193745, -122.27559306481879, -122.2756389943176, -122.27568328371818, -122.27572592311927, -122.27576688372167, -122.27605696467822, -122.27642131356002, -122.27648383548726], \"mode\": \"lines\", \"showlegend\": false, \"type\": \"scattermapbox\"}, {\"hoverinfo\": \"text\", \"hovertext\": \"W SEA BR EB 4 AV OFF RP Flow: 12607.0\", \"lat\": [47.692696576874866, 47.69273476403771, 47.692771760012526, 47.69280755082837, 47.69284211716901, 47.69287544869445, 47.69290752883697, 47.69303396466738, 47.69346762365723, 47.693483867629986], \"line\": {\"color\": \"rgb(0.280868,0.160771,0.472899)\", \"width\": 2}, \"lon\": [-122.27081947898851, -122.27090446139066, -122.27099059013894, -122.27107783153313, -122.2711661477273, -122.27125550245611, -122.27134585395191, -122.27171063320026, -122.27296168771124, -122.2730085450191], \"mode\": \"lines\", \"showlegend\": false, \"type\": \"scattermapbox\"}, {\"hoverinfo\": \"text\", \"hovertext\": \"W SEA BR EB 4 AV OFF RP Flow: 12607.0\", \"lat\": [47.69589604385671, 47.69615724158573], \"line\": {\"color\": \"rgb(0.280868,0.160771,0.472899)\", \"width\": 2}, \"lon\": [-122.27648383548726, -122.27668722080233], \"mode\": \"lines\", \"showlegend\": false, \"type\": \"scattermapbox\"}, {\"hoverinfo\": \"text\", \"hovertext\": \"W SEA BR EB 4 AV OFF RP Flow: 2501.0\", \"lat\": [47.572864097406274, 47.57238630765056, 47.57233863301423, 47.57225260942459, 47.572196622520224, 47.57214101564221], \"line\": {\"color\": \"rgb(0.273809,0.031497,0.358853)\", \"width\": 2}, \"lon\": [-122.35306191869824, -122.3524373673127, -122.35238050911857, -122.3522939033945, -122.3522572989696, -122.35223393141963], \"mode\": \"lines\", \"showlegend\": false, \"type\": \"scattermapbox\"}, {\"hoverinfo\": \"text\", \"hovertext\": \"W SEA BR EB 4 AV OFF RP Flow: 2501.0\", \"lat\": [47.57214101564221, 47.57209021153099, 47.57204936918673, 47.571963006125436, 47.57178535549026], \"line\": {\"color\": \"rgb(0.273809,0.031497,0.358853)\", \"width\": 2}, \"lon\": [-122.35223393141963, -122.3522140180783, -122.35218956582106, -122.35212001315489, -122.35195443064212], \"mode\": \"lines\", \"showlegend\": false, \"type\": \"scattermapbox\"}, {\"hoverinfo\": \"text\", \"hovertext\": \"W SEA BR EB 4 AV OFF RP Flow: 2501.0\", \"lat\": [47.57444948296686, 47.57439727484747, 47.574363154859256, 47.57417634952826, 47.573968680620084, 47.57375374583256, 47.57350282295703, 47.572864097406274], \"line\": {\"color\": \"rgb(0.273809,0.031497,0.358853)\", \"width\": 2}, \"lon\": [-122.35464684044256, -122.35460972015939, -122.3545954239082, -122.35451598762232, -122.35439584246443, -122.35419569722102, -122.35388372091893, -122.35306191869824], \"mode\": \"lines\", \"showlegend\": false, \"type\": \"scattermapbox\"}, {\"hoverinfo\": \"text\", \"hovertext\": \"W SEA BR EB 4 AV OFF RP Flow: 8854.0\", \"lat\": [47.681793014205105, 47.68253408965184], \"line\": {\"color\": \"rgb(0.283197,0.115680,0.436115)\", \"width\": 2}, \"lon\": [-122.36048905062677, -122.3606548193125], \"mode\": \"lines\", \"showlegend\": false, \"type\": \"scattermapbox\"}, {\"hoverinfo\": \"text\", \"hovertext\": \"W SEA BR EB 4 AV OFF RP Flow: 8854.0\", \"lat\": [47.67956028609848, 47.67963990656979, 47.6807299113255], \"line\": {\"color\": \"rgb(0.283197,0.115680,0.436115)\", \"width\": 2}, \"lon\": [-122.36046915466235, -122.36046879704571, -122.36046386154936], \"mode\": \"lines\", \"showlegend\": false, \"type\": \"scattermapbox\"}, {\"hoverinfo\": \"text\", \"hovertext\": \"W SEA BR EB 4 AV OFF RP Flow: 8854.0\", \"lat\": [47.68253408965184, 47.68327596093253], \"line\": {\"color\": \"rgb(0.283197,0.115680,0.436115)\", \"width\": 2}, \"lon\": [-122.3606548193125, -122.36065382245475], \"mode\": \"lines\", \"showlegend\": false, \"type\": \"scattermapbox\"}, {\"hoverinfo\": \"text\", \"hovertext\": \"W SEA BR EB 4 AV OFF RP Flow: 8854.0\", \"lat\": [47.6807299113255, 47.68145526444315, 47.6816617495011, 47.681793014205105], \"line\": {\"color\": \"rgb(0.283197,0.115680,0.436115)\", \"width\": 2}, \"lon\": [-122.36046386154936, -122.36046061278026, -122.36045968869958, -122.36048905062677], \"mode\": \"lines\", \"showlegend\": false, \"type\": \"scattermapbox\"}, {\"hoverinfo\": \"text\", \"hovertext\": \"W SEA BR EB 4 AV OFF RP Flow: 8854.0\", \"lat\": [47.67599645369229, 47.67603664359646, 47.67605997944623, 47.67608149481959, 47.67610111134712, 47.676132952454196, 47.676164048016055, 47.676183035766066, 47.676200642850034, 47.67622005454497, 47.67623966185983, 47.67625945026403, 47.676279400784004, 47.67629949802549, 47.67631973051245, 47.677777841429574], \"line\": {\"color\": \"rgb(0.283197,0.115680,0.436115)\", \"width\": 2}, \"lon\": [-122.36069501537536, -122.36066074509957, -122.36063914371637, -122.36061805358517, -122.3606009050022, -122.36057565471663, -122.36055387636377, -122.36054189078855, -122.36053163221476, -122.36052124018421, -122.3605116904007, -122.3605029930942, -122.36049515436817, -122.36048818176319, -122.36048205895875, -122.36047625419606], \"mode\": \"lines\", \"showlegend\": false, \"type\": \"scattermapbox\"}, {\"hoverinfo\": \"text\", \"hovertext\": \"W SEA BR EB 4 AV OFF RP Flow: 8854.0\", \"lat\": [47.677777841429574, 47.67956028609848], \"line\": {\"color\": \"rgb(0.283197,0.115680,0.436115)\", \"width\": 2}, \"lon\": [-122.36047625419606, -122.36046915466235], \"mode\": \"lines\", \"showlegend\": false, \"type\": \"scattermapbox\"}, {\"hoverinfo\": \"text\", \"hovertext\": \"W SEA BR EB 4 AV OFF RP Flow: 8854.0\", \"lat\": [47.68400826721353, 47.684739611700415], \"line\": {\"color\": \"rgb(0.283197,0.115680,0.436115)\", \"width\": 2}, \"lon\": [-122.36065304932445, -122.36065228253969], \"mode\": \"lines\", \"showlegend\": false, \"type\": \"scattermapbox\"}, {\"hoverinfo\": \"text\", \"hovertext\": \"W SEA BR EB 4 AV OFF RP Flow: 8854.0\", \"lat\": [47.684739611700415, 47.68547095614579], \"line\": {\"color\": \"rgb(0.283197,0.115680,0.436115)\", \"width\": 2}, \"lon\": [-122.36065228253969, -122.36065151706504], \"mode\": \"lines\", \"showlegend\": false, \"type\": \"scattermapbox\"}, {\"hoverinfo\": \"text\", \"hovertext\": \"W SEA BR EB 4 AV OFF RP Flow: 8854.0\", \"lat\": [47.68327596093253, 47.68400826721353], \"line\": {\"color\": \"rgb(0.283197,0.115680,0.436115)\", \"width\": 2}, \"lon\": [-122.36065382245475, -122.36065304932445], \"mode\": \"lines\", \"showlegend\": false, \"type\": \"scattermapbox\"}, {\"hoverinfo\": \"text\", \"hovertext\": \"W SEA BR EB 4 AV OFF RP Flow: 8854.0\", \"lat\": [47.68620230060315, 47.68693915340461], \"line\": {\"color\": \"rgb(0.283197,0.115680,0.436115)\", \"width\": 2}, \"lon\": [-122.36065074890533, -122.36064997744238], \"mode\": \"lines\", \"showlegend\": false, \"type\": \"scattermapbox\"}, {\"hoverinfo\": \"text\", \"hovertext\": \"W SEA BR EB 4 AV OFF RP Flow: 8854.0\", \"lat\": [47.68547095614579, 47.68620230060315], \"line\": {\"color\": \"rgb(0.283197,0.115680,0.436115)\", \"width\": 2}, \"lon\": [-122.36065151706504, -122.36065074890533], \"mode\": \"lines\", \"showlegend\": false, \"type\": \"scattermapbox\"}, {\"hoverinfo\": \"text\", \"hovertext\": \"W SEA BR EB 4 AV OFF RP Flow: 13474.0\", \"lat\": [47.67947022085003, 47.68017196793811], \"line\": {\"color\": \"rgb(0.279574,0.170599,0.479997)\", \"width\": 2}, \"lon\": [-122.31741341550969, -122.31742808076093], \"mode\": \"lines\", \"showlegend\": false, \"type\": \"scattermapbox\"}, {\"hoverinfo\": \"text\", \"hovertext\": \"W SEA BR EB 4 AV OFF RP Flow: 13474.0\", \"lat\": [47.68017196793811, 47.68086288850791], \"line\": {\"color\": \"rgb(0.279574,0.170599,0.479997)\", \"width\": 2}, \"lon\": [-122.31742808076093, -122.31744252245326], \"mode\": \"lines\", \"showlegend\": false, \"type\": \"scattermapbox\"}, {\"hoverinfo\": \"text\", \"hovertext\": \"W SEA BR EB 4 AV OFF RP Flow: 13474.0\", \"lat\": [47.68086288850791, 47.68155393056055], \"line\": {\"color\": \"rgb(0.279574,0.170599,0.479997)\", \"width\": 2}, \"lon\": [-122.31744252245326, -122.31745696000714], \"mode\": \"lines\", \"showlegend\": false, \"type\": \"scattermapbox\"}, {\"hoverinfo\": \"text\", \"hovertext\": \"W SEA BR EB 4 AV OFF RP Flow: 6597.0\", \"lat\": [47.6098362681487, 47.610300933420824], \"line\": {\"color\": \"rgb(0.281446,0.084320,0.407414)\", \"width\": 2}, \"lon\": [-122.32866572265394, -122.32755514135692], \"mode\": \"lines\", \"showlegend\": false, \"type\": \"scattermapbox\"}, {\"hoverinfo\": \"text\", \"hovertext\": \"W SEA BR EB 4 AV OFF RP Flow: 6597.0\", \"lat\": [47.610300933420824, 47.61067243886031, 47.61076543483241], \"line\": {\"color\": \"rgb(0.281446,0.084320,0.407414)\", \"width\": 2}, \"lon\": [-122.32755514135692, -122.32666659402851, -122.32644427243154], \"mode\": \"lines\", \"showlegend\": false, \"type\": \"scattermapbox\"}, {\"hoverinfo\": \"text\", \"hovertext\": \"W SEA BR EB 4 AV OFF RP Flow: 4719.0\", \"lat\": [47.57873784901869, 47.578353961073674], \"line\": {\"color\": \"rgb(0.278791,0.062145,0.386592)\", \"width\": 2}, \"lon\": [-122.30536719397712, -122.3053692659354], \"mode\": \"lines\", \"showlegend\": false, \"type\": \"scattermapbox\"}, {\"hoverinfo\": \"text\", \"hovertext\": \"W SEA BR EB 4 AV OFF RP Flow: 4719.0\", \"lat\": [47.57873954183562, 47.5787387657907], \"line\": {\"color\": \"rgb(0.278791,0.062145,0.386592)\", \"width\": 2}, \"lon\": [-122.30931448116996, -122.30800986419733], \"mode\": \"lines\", \"showlegend\": false, \"type\": \"scattermapbox\"}, {\"hoverinfo\": \"text\", \"hovertext\": \"W SEA BR EB 4 AV OFF RP Flow: 4719.0\", \"lat\": [47.578353961073674, 47.57835307229044], \"line\": {\"color\": \"rgb(0.278791,0.062145,0.386592)\", \"width\": 2}, \"lon\": [-122.3053692659354, -122.30433688381525], \"mode\": \"lines\", \"showlegend\": false, \"type\": \"scattermapbox\"}, {\"hoverinfo\": \"text\", \"hovertext\": \"W SEA BR EB 4 AV OFF RP Flow: 4719.0\", \"lat\": [47.57835307229044, 47.578351079279294], \"line\": {\"color\": \"rgb(0.278791,0.062145,0.386592)\", \"width\": 2}, \"lon\": [-122.30433688381525, -122.30332510454973], \"mode\": \"lines\", \"showlegend\": false, \"type\": \"scattermapbox\"}, {\"hoverinfo\": \"text\", \"hovertext\": \"W SEA BR EB 4 AV OFF RP Flow: 4719.0\", \"lat\": [47.578737064422185, 47.57873784901869], \"line\": {\"color\": \"rgb(0.278791,0.062145,0.386592)\", \"width\": 2}, \"lon\": [-122.30670552197037, -122.30536719397712], \"mode\": \"lines\", \"showlegend\": false, \"type\": \"scattermapbox\"}, {\"hoverinfo\": \"text\", \"hovertext\": \"W SEA BR EB 4 AV OFF RP Flow: 4719.0\", \"lat\": [47.578669824098434, 47.57871333077023, 47.578724868842066, 47.578737090299974, 47.57873954183562], \"line\": {\"color\": \"rgb(0.278791,0.062145,0.386592)\", \"width\": 2}, \"lon\": [-122.31070242599573, -122.3105823445321, -122.3105144257552, -122.3103940294983, -122.30931448116996], \"mode\": \"lines\", \"showlegend\": false, \"type\": \"scattermapbox\"}, {\"hoverinfo\": \"text\", \"hovertext\": \"W SEA BR EB 4 AV OFF RP Flow: 4719.0\", \"lat\": [47.5787387657907, 47.578737384089095, 47.578737064422185], \"line\": {\"color\": \"rgb(0.278791,0.062145,0.386592)\", \"width\": 2}, \"lon\": [-122.30800986419733, -122.3069492596649, -122.30670552197037], \"mode\": \"lines\", \"showlegend\": false, \"type\": \"scattermapbox\"}, {\"hoverinfo\": \"text\", \"hovertext\": \"W SEA BR EB 4 AV OFF RP Flow: 9773.0\", \"lat\": [47.69934135069634, 47.69941870894256, 47.701068000961975, 47.70111426384522, 47.70114759638762], \"line\": {\"color\": \"rgb(0.283187,0.125848,0.444960)\", \"width\": 2}, \"lon\": [-122.27772708223927, -122.27772576721628, -122.27769776146859, -122.27769694631952, -122.27769638329929], \"mode\": \"lines\", \"showlegend\": false, \"type\": \"scattermapbox\"}, {\"hoverinfo\": \"text\", \"hovertext\": \"W SEA BR EB 4 AV OFF RP Flow: 9773.0\", \"lat\": [47.70507904269507, 47.70514852473549, 47.705219502434424, 47.70529105332326, 47.705363149695636, 47.70543576211408, 47.70550886555303, 47.70702678814865], \"line\": {\"color\": \"rgb(0.283187,0.125848,0.444960)\", \"width\": 2}, \"lon\": [-122.2783125832431, -122.27835834175049, -122.27840263733908, -122.27844486193618, -122.27848500143642, -122.2785230363548, -122.27855895399259, -122.27928012249889], \"mode\": \"lines\", \"showlegend\": false, \"type\": \"scattermapbox\"}, {\"hoverinfo\": \"text\", \"hovertext\": \"W SEA BR EB 4 AV OFF RP Flow: 9773.0\", \"lat\": [47.70702678814865, 47.70864386054143, 47.70890460684204], \"line\": {\"color\": \"rgb(0.283187,0.125848,0.444960)\", \"width\": 2}, \"lon\": [-122.27928012249889, -122.28004843933988, -122.2801723316583], \"mode\": \"lines\", \"showlegend\": false, \"type\": \"scattermapbox\"}, {\"hoverinfo\": \"text\", \"hovertext\": \"W SEA BR EB 4 AV OFF RP Flow: 9773.0\", \"lat\": [47.70114759638762, 47.701231540072044, 47.702955956491344], \"line\": {\"color\": \"rgb(0.283187,0.125848,0.444960)\", \"width\": 2}, \"lon\": [-122.27769638329929, -122.27769496345432, -122.27766563974092], \"mode\": \"lines\", \"showlegend\": false, \"type\": \"scattermapbox\"}, {\"hoverinfo\": \"text\", \"hovertext\": \"W SEA BR EB 4 AV OFF RP Flow: 9773.0\", \"lat\": [47.69735921213703, 47.697380847936294, 47.69740288950765, 47.69742506513402, 47.69744736682323, 47.69746978828061, 47.69749232234582, 47.69751496367397, 47.69753770330625, 47.69756053406536, 47.69758345147202, 47.69760644658416, 47.697629513106946, 47.697652643880076, 47.69767583082696, 47.69769906945132, 47.69772234986123, 47.6977456667454, 47.697769011942924, 47.69779237917578, 47.69781576128352, 47.69783915015585, 47.697862539497784, 47.697885921198996, 47.697929459652315, 47.69934135069634], \"line\": {\"color\": \"rgb(0.283187,0.125848,0.444960)\", \"width\": 2}, \"lon\": [-122.27762238694197, -122.2776350478807, -122.27764663942922, -122.27765766172622, -122.27766810655366, -122.2776779737359, -122.277687260408, -122.2776959624232, -122.27770407686643, -122.27771160220499, -122.27771853698103, -122.27772487694756, -122.27773062192877, -122.2777357690597, -122.2777403167825, -122.27774426497139, -122.27774761335047, -122.27775035510855, -122.27775249534808, -122.27775403256116, -122.27775496388277, -122.27775529041912, -122.27775501199439, -122.27775412971482, -122.2777510801887, -122.27772708223927], \"mode\": \"lines\", \"showlegend\": false, \"type\": \"scattermapbox\"}, {\"hoverinfo\": \"text\", \"hovertext\": \"W SEA BR EB 4 AV OFF RP Flow: 9773.0\", \"lat\": [47.702955956491344, 47.702960217701374, 47.70300990749093, 47.703827033286, 47.70383373954191, 47.70383649323277, 47.703839235085816, 47.7038419761071, 47.70384471807827, 47.70384745916709, 47.70385020117204, 47.703852943193894, 47.70385568518193, 47.70385842623698, 47.70386116815756, 47.70386391001056, 47.703866650879924, 47.703869392581055, 47.70387213414711, 47.70387487471265, 47.703877616924835, 47.703880357203374, 47.703883086517195, 47.703885827408115, 47.70388856819773, 47.70389130890292, 47.703894049506886, 47.703896790026434, 47.703899530478466, 47.70390227081235, 47.7039050110618, 47.703907751226865, 47.7039104904083, 47.703913231286954, 47.70391597026579, 47.70391870917713, 47.70392144888642, 47.7039241876121, 47.70392692625333, 47.703929663894066, 47.70393238315341, 47.70393512062535, 47.70393785889523, 47.70394059528218, 47.70394333246712, 47.70394606958452, 47.703948805684526, 47.70395154261626, 47.70395427856434, 47.70395701439426, 47.70395975017355, 47.703962484935396, 47.70396521961281, 47.70396795330658, 47.70397068779835, 47.703973421306436, 47.703976153830844, 47.70397888627087, 47.70398164544819, 47.70398437680326, 47.703987107157765, 47.703989839226416, 47.7039925703283, 47.7039953004127, 47.703998030429595, 47.7040007594291, 47.704003489260316, 47.704006217191726, 47.704008945937986, 47.7040116728013, 47.70401440046261, 47.704017127140276, 47.704019853733506, 47.704022578443784, 47.70402530395206, 47.70402802756054, 47.70403073481031, 47.704033458266835, 47.70403618072282, 47.704038903094386, 47.704041624448514, 47.704044345752, 47.70404706695422, 47.704049787155896, 47.70405250637386, 47.70405522550742, 47.70405794275806, 47.70406066080668, 47.70406337697236, 47.70406609395288, 47.70406880993288, 47.70407152402989, 47.70407423804253, 47.704076951953866, 47.70407965863725, 47.70408237056434, 47.70408508152466, 47.70408779240057, 47.704090502275925, 47.70409321294927, 47.704095920857256, 47.704098628680846, 47.70410133550387, 47.70410404222563, 47.7041067470813, 47.70410945273493, 47.70411215648878, 47.7041148592927, 47.70411756196159, 47.704120263680544, 47.70412296349964, 47.704125664116766, 47.70412837194788, 47.70413107059761, 47.7041337673644, 47.70413646404679, 47.704139159728605, 47.70414185352746, 47.704144548141244, 47.7041472408551, 47.70414993350149, 47.70415262513042, 47.70415531489328, 47.70415800457172, 47.70416069324961, 47.70416338094381, 47.70416606675504, 47.70416875248189, 47.704171437208174, 47.7041741433529, 47.70417682521252, 47.704179506071604, 47.704182186880026, 47.704184866654145, 47.70418754546143, 47.704190222385776, 47.70419289922572, 47.704195575048196, 47.70419824992074, 47.704200922876595, 47.70420359576494, 47.704206266770306, 47.70420893677505, 47.70421160667857, 47.70421427381673, 47.70421694087048, 47.70421960604125, 47.70422223131391, 47.70422489450044, 47.70422755668639, 47.70423021880482, 47.70423287810728, 47.704235536476666, 47.704238194727864, 47.704240851079234, 47.70424350644695, 47.70424616084784, 47.70424881424811, 47.70425146576548, 47.70425411629914, 47.70425676494982, 47.704259413499244, 47.70426206018257, 47.70426470586533, 47.70426734966509, 47.704270017877334, 47.70427265881048, 47.704275299659166, 47.70427793772565, 47.70428057567398, 47.70428321265543, 47.70428584777086, 47.704288481868836, 47.70429111501685, 47.70429374623129, 47.704296375596506, 47.70429900486043, 47.70430163224141, 47.70430425684011, 47.704306881354405, 47.70430950398576, 47.704312125633386, 47.70431474539809, 47.704317335115256, 47.7043199510971, 47.704322568793074, 47.70432518190826, 47.704327795821456, 47.7043304078854, 47.70433301715025, 47.70433562633069, 47.70433823361123, 47.70434083900884, 47.70434344343963, 47.7043460459537, 47.704348647517804, 47.70435124626594, 47.704353844963364, 47.704356440844826, 47.70435903667559, 47.70436162969038, 47.7043642261749, 47.70436681632304, 47.704369405521234, 47.70437199190338, 47.70437457821802, 47.70437716261591, 47.704379744282186, 47.704382325813405, 47.70438490459617, 47.704387482361405, 47.70439005827747, 47.704392632293676, 47.7043952053262, 47.704397776475744, 47.704400345742286, 47.70440291312589, 47.70440547862649, 47.70440804224408, 47.704410598343564, 47.704413159111375, 47.70441571797936, 47.70441827496439, 47.704420830948806, 47.70442338418472, 47.70442593730247, 47.70442848763791, 47.704431037006586, 47.70443358360988, 47.704436128296386, 47.704438672033035, 47.7044412129705, 47.70444375290738, 47.70444629099504, 47.704448827182844, 47.70445136148765, 47.70445393309582, 47.70445646365155, 47.70445899140817, 47.7044615181811, 47.70446404308789, 47.70446656609481, 47.70446908811804, 47.70447160737591, 47.70447412476765, 47.70447664112507, 47.70447915473393, 47.70448166644297, 47.70448417628596, 47.70448668424589, 47.7044891894236, 47.70449169451688, 47.70449419594549, 47.704496695474255, 47.70449918305913, 47.704501678838795, 47.70450417273543, 47.70450666474914, 47.70450915486295, 47.70451164309374, 47.704514128576086, 47.704516613957075, 47.70451909565652, 47.70452157640606, 47.70452405344028, 47.70452653039007, 47.70452900369207, 47.704531475976594, 47.70453394551264, 47.70453641316563, 47.7045388780364, 47.70454134100732, 47.70454378636406, 47.704546244669714, 47.70454870109236, 47.704551154732705, 47.704553606473226, 47.70455605543149, 47.704558503389116, 47.70456094859821, 47.70456339102511, 47.70456583246823, 47.70456827204528, 47.704570708873796, 47.704573144718616, 47.70457557869732, 47.704578010843626, 47.70458044112391, 47.7045828704373, 47.704585297935246, 47.70458771410718, 47.70459013135844], \"line\": {\"color\": \"rgb(0.283187,0.125848,0.444960)\", \"width\": 2}, \"lon\": [-122.27766563974092, -122.27766551035394, -122.27766466649899, -122.2776507633174, -122.27765070857967, -122.27765063455666, -122.27765064283167, -122.27765064575277, -122.27765064470212, -122.2776506422943, -122.27765063857927, -122.27765063353193, -122.27765063114914, -122.27765063140575, -122.2776506343518, -122.2776506426268, -122.27765065753789, -122.27765067780291, -122.27765070872577, -122.27765074761703, -122.2776507985483, -122.2776508600874, -122.27765086401564, -122.27765094822759, -122.27765104043299, -122.2776511392995, -122.27765124615941, -122.27765135968043, -122.27765147853043, -122.27765160670604, -122.27765174154278, -122.2776518830407, -122.27765203117472, -122.27765218735217, -122.27765235147298, -122.27765252092273, -122.27765269839091, -122.27765288249526, -122.2776530732607, -122.27765327199461, -122.27765364346813, -122.27765385552436, -122.27765407559897, -122.27765430228473, -122.27765453698893, -122.27765477702206, -122.27765502635582, -122.27765528104352, -122.27765554236741, -122.27765581301686, -122.2776560876631, -122.27765637160998, -122.27765666221799, -122.27765695946222, -122.27765726472481, -122.27765757662367, -122.27765789515861, -122.27765822035478, -122.27765849431921, -122.27765883414497, -122.27765918193913, -122.27765953644455, -122.27765989625388, -122.27766026536386, -122.27766063980278, -122.27766102354238, -122.2776614126359, -122.27766180967292, -122.27766221339606, -122.27766262373045, -122.27766304208326, -122.27766346707223, -122.27766389872241, -122.27766433698383, -122.27766478326365, -122.27766523748689, -122.27766591781447, -122.27766638402791, -122.27766685820981, -122.2776673390529, -122.27766782919664, -122.27766832333714, -122.27766882547108, -122.27766933557348, -122.27766985231206, -122.2776703757119, -122.27767090572289, -122.27767144375237, -122.27767198839307, -122.27767253971996, -122.2776730990153, -122.27767366492186, -122.27767423748963, -122.27767481805084, -122.2776754010766, -122.27767599624251, -122.27767659671241, -122.27767720384348, -122.27767781894312, -122.27767844206114, -122.27767907043314, -122.27767970546643, -122.27768034846815, -122.27768099946337, -122.27768165573752, -122.27768232003021, -122.27768299226629, -122.27768366847415, -122.27768435534, -122.27768504617757, -122.27768574495866, -122.27768645175816, -122.2776869441931, -122.27768766426512, -122.2776883909483, -122.27768912429279, -122.27768986560574, -122.27769061352997, -122.27769136814041, -122.27769213069429, -122.27769289857724, -122.27769367576089, -122.27769445822355, -122.27769524734745, -122.2776960444399, -122.27769684816855, -122.2776976585084, -122.27769847550957, -122.27769930047923, -122.27770021000497, -122.27770104822208, -122.27770189440774, -122.27770274459016, -122.27770360540556, -122.277704471525, -122.2777053442557, -122.27770622364764, -122.27770711234031, -122.27770800500478, -122.27770890694498, -122.27770981421426, -122.27771072809477, -122.27771164994374, -122.2777125797863, -122.27771351488279, -122.27771445664065, -122.27771540500969, -122.27771623632397, -122.27771719929784, -122.27771817024022, -122.27771914651163, -122.27772013203378, -122.27772112019545, -122.27772211768294, -122.27772312311396, -122.27772413518122, -122.27772515255252, -122.27772617789236, -122.27772720984348, -122.27772824843089, -122.27772929362952, -122.27773034682168, -122.27773140529295, -122.2777324717327, -122.27773354478377, -122.27773482108535, -122.27773590738393, -122.27773700034392, -122.27773809989014, -122.27773920876213, -122.27774032293817, -122.27774144239325, -122.27774257114915, -122.27774370387684, -122.27774484721256, -122.277745994495, -122.27774714977112, -122.27774831165848, -122.27774948013212, -122.27775065526707, -122.27775183701328, -122.27775302539585, -122.27775422038974, -122.2777554438677, -122.27775665341642, -122.27775786967644, -122.27775909247269, -122.27776032328761, -122.27776155804926, -122.27776280072956, -122.27776405007106, -122.2777653073562, -122.2777665712526, -122.27776784045308, -122.27776911892931, -122.2777704013775, -122.27777169307636, -122.2777729887721, -122.27777429371868, -122.27777560266205, -122.27777692085618, -122.27777810720876, -122.27777943865053, -122.27778077406417, -122.27778211872858, -122.27778346872215, -122.2777848279915, -122.27778618985042, -122.27778756236734, -122.27778893880618, -122.27779032454585, -122.27779171423228, -122.2777931118623, -122.2777945161287, -122.27779592700635, -122.27779734449541, -122.27779876859574, -122.27780019930742, -122.2778016366305, -122.2778033122998, -122.27780476153823, -122.27780621872023, -122.27780768251363, -122.27780915427556, -122.27781062995935, -122.27781211496898, -122.27781360656489, -122.27781510346496, -122.2778166056191, -122.27781811704907, -122.27781963245091, -122.27782115577132, -122.27782268706034, -122.27782422229616, -122.2778257654756, -122.27782731526638, -122.27782847694286, -122.27783003862409, -122.27783160822388, -122.27783318446004, -122.27783476597529, -122.27783635543415, -122.27783795152934, -122.27783955287862, -122.27784115950705, -122.27784277676854, -122.2778443979519, -122.27784602707887, -122.27784766148493, -122.27784930250232, -122.2778509501061, -122.27785260437128, -122.27785426386546, -122.27785593130335, -122.27785761839985, -122.27785929772817, -122.2778609836678, -122.27786267621887, -122.27786437671352, -122.27786608381948, -122.27786779484734, -122.27786951386888, -122.27787123945167, -122.27787296900642, -122.27787470778694, -122.27787645322888, -122.27787820256775, -122.2778799612074, -122.27788172376894, -122.27788349294183, -122.27788526870108, -122.27788705240398, -122.27788880629743, -122.27789060319805, -122.27789240671008, -122.27789421680838, -122.27789603485039, -122.27789785947873, -122.27789969207568, -122.27790152859454, -122.27790337169975, -122.27790522144134, -122.27790707646209, -122.2779089354047, -122.27791080098368, -122.27791267184183, -122.27791454531462, -122.27791642406656, -122.27791830812261, -122.27792019346107, -122.27792247563394, -122.2779243886748], \"mode\": \"lines\", \"showlegend\": false, \"type\": \"scattermapbox\"}, {\"hoverinfo\": \"text\", \"hovertext\": \"W SEA BR EB 4 AV OFF RP Flow: 9773.0\", \"lat\": [47.70459013135844, 47.704634497056006, 47.70466599708332, 47.70466997649431, 47.70473619560875, 47.70480317238973, 47.704870881930525, 47.704939299290636, 47.7050083959493, 47.70507814698272, 47.70507904269507], \"line\": {\"color\": \"rgb(0.283187,0.125848,0.444960)\", \"width\": 2}, \"lon\": [-122.2779243886748, -122.27796076633837, -122.27798824616481, -122.27799182591137, -122.27805009506139, -122.27810642900175, -122.27816080571107, -122.27821320583185, -122.27826360857411, -122.27831199324737, -122.2783125832431], \"mode\": \"lines\", \"showlegend\": false, \"type\": \"scattermapbox\"}, {\"hoverinfo\": \"text\", \"hovertext\": \"W SEA BR EB 4 AV OFF RP Flow: 9327.0\", \"lat\": [47.661261953231964, 47.6630836472227], \"line\": {\"color\": \"rgb(0.283229,0.120777,0.440584)\", \"width\": 2}, \"lon\": [-122.31199331008652, -122.31196569346487], \"mode\": \"lines\", \"showlegend\": false, \"type\": \"scattermapbox\"}, {\"hoverinfo\": \"text\", \"hovertext\": \"W SEA BR EB 4 AV OFF RP Flow: 12949.0\", \"lat\": [47.59278182392992, 47.59253052846148, 47.59229784944447, 47.59159722687374, 47.59150682064445, 47.591495361074756], \"line\": {\"color\": \"rgb(0.280868,0.160771,0.472899)\", \"width\": 2}, \"lon\": [-122.3227694208266, -122.32249159538276, -122.322470261077, -122.32247648986238, -122.32247685972872, -122.32248149350556], \"mode\": \"lines\", \"showlegend\": false, \"type\": \"scattermapbox\"}, {\"hoverinfo\": \"text\", \"hovertext\": \"W SEA BR EB 4 AV OFF RP Flow: 4108.0\", \"lat\": [47.501478154206474, 47.49964167989674], \"line\": {\"color\": \"rgb(0.277018,0.050344,0.375715)\", \"width\": 2}, \"lon\": [-122.24140211925854, -122.24142621595426], \"mode\": \"lines\", \"showlegend\": false, \"type\": \"scattermapbox\"}, {\"hoverinfo\": \"text\", \"hovertext\": \"W SEA BR EB 4 AV OFF RP Flow: 4108.0\", \"lat\": [47.49964167989674, 47.49958378300435, 47.49952632755827, 47.499469703167435, 47.49935217905558, 47.499303931889905, 47.499258822586505], \"line\": {\"color\": \"rgb(0.277018,0.050344,0.375715)\", \"width\": 2}, \"lon\": [-122.24142621595426, -122.24143051995584, -122.24144188071696, -122.24146021846818, -122.24151405129632, -122.2415396931401, -122.2415743932836], \"mode\": \"lines\", \"showlegend\": false, \"type\": \"scattermapbox\"}, {\"hoverinfo\": \"text\", \"hovertext\": \"W SEA BR EB 4 AV OFF RP Flow: 4108.0\", \"lat\": [47.50289285400507, 47.502801351663734, 47.50275723775753, 47.50271350037381, 47.50267045340109, 47.50262839853194, 47.50258763983279, 47.50253837145094, 47.50248751775768, 47.50243545150117, 47.502382562038086, 47.502330037669104, 47.502329238981226, 47.501478154206474], \"line\": {\"color\": \"rgb(0.277018,0.050344,0.375715)\", \"width\": 2}, \"lon\": [-122.24124096287333, -122.24123064640118, -122.24123448402655, -122.24124379598534, -122.24125851506938, -122.24127854188134, -122.24130373062513, -122.24133410856386, -122.24135812056923, -122.24137559617792, -122.24138640387598, -122.24139040319228, -122.2413904639318, -122.24140211925854], \"mode\": \"lines\", \"showlegend\": false, \"type\": \"scattermapbox\"}, {\"hoverinfo\": \"text\", \"hovertext\": \"W SEA BR EB 4 AV OFF RP Flow: 9607.0\", \"lat\": [47.60869259714119, 47.60877352762025, 47.60915693114065, 47.609160220260854], \"line\": {\"color\": \"rgb(0.283229,0.120777,0.440584)\", \"width\": 2}, \"lon\": [-122.33375683023245, -122.33356355143914, -122.33264805848451, -122.332640195462], \"mode\": \"lines\", \"showlegend\": false, \"type\": \"scattermapbox\"}, {\"hoverinfo\": \"text\", \"hovertext\": \"W SEA BR EB 4 AV OFF RP Flow: 20781.0\", \"lat\": [47.60329714212646, 47.603445806334236], \"line\": {\"color\": \"rgb(0.258965,0.251537,0.524736)\", \"width\": 2}, \"lon\": [-122.32728726165084, -122.32742361247828], \"mode\": \"lines\", \"showlegend\": false, \"type\": \"scattermapbox\"}, {\"hoverinfo\": \"text\", \"hovertext\": \"W SEA BR EB 4 AV OFF RP Flow: 20781.0\", \"lat\": [47.603445806334236, 47.60416123476074], \"line\": {\"color\": \"rgb(0.258965,0.251537,0.524736)\", \"width\": 2}, \"lon\": [-122.32742361247828, -122.32807857788542], \"mode\": \"lines\", \"showlegend\": false, \"type\": \"scattermapbox\"}, {\"hoverinfo\": \"text\", \"hovertext\": \"W SEA BR EB 4 AV OFF RP Flow: 3534.0\", \"lat\": [47.58841253916677, 47.58841060090693], \"line\": {\"color\": \"rgb(0.276022,0.044167,0.370164)\", \"width\": 2}, \"lon\": [-122.306233944722, -122.30582739706331], \"mode\": \"lines\", \"showlegend\": false, \"type\": \"scattermapbox\"}, {\"hoverinfo\": \"text\", \"hovertext\": \"W SEA BR EB 4 AV OFF RP Flow: 3534.0\", \"lat\": [47.58842792522588, 47.58842305753242, 47.58842298601833], \"line\": {\"color\": \"rgb(0.276022,0.044167,0.370164)\", \"width\": 2}, \"lon\": [-122.30946700651816, -122.3084062835847, -122.30839064101777], \"mode\": \"lines\", \"showlegend\": false, \"type\": \"scattermapbox\"}, {\"hoverinfo\": \"text\", \"hovertext\": \"W SEA BR EB 4 AV OFF RP Flow: 3534.0\", \"lat\": [47.588417670988896, 47.58841253916677], \"line\": {\"color\": \"rgb(0.276022,0.044167,0.370164)\", \"width\": 2}, \"lon\": [-122.30731229334758, -122.306233944722], \"mode\": \"lines\", \"showlegend\": false, \"type\": \"scattermapbox\"}, {\"hoverinfo\": \"text\", \"hovertext\": \"W SEA BR EB 4 AV OFF RP Flow: 3534.0\", \"lat\": [47.58842298601833, 47.588417670988896], \"line\": {\"color\": \"rgb(0.276022,0.044167,0.370164)\", \"width\": 2}, \"lon\": [-122.30839064101777, -122.30731229334758], \"mode\": \"lines\", \"showlegend\": false, \"type\": \"scattermapbox\"}, {\"hoverinfo\": \"text\", \"hovertext\": \"W SEA BR EB 4 AV OFF RP Flow: 3534.0\", \"lat\": [47.58843349325051, 47.58842800550256, 47.58842792522588], \"line\": {\"color\": \"rgb(0.276022,0.044167,0.370164)\", \"width\": 2}, \"lon\": [-122.31054494350686, -122.30948223977704, -122.30946700651816], \"mode\": \"lines\", \"showlegend\": false, \"type\": \"scattermapbox\"}, {\"hoverinfo\": \"text\", \"hovertext\": \"W SEA BR EB 4 AV OFF RP Flow: 4445.0\", \"lat\": [47.66613927426433, 47.66706031985614, 47.66730844357513, 47.66747078308735], \"line\": {\"color\": \"rgb(0.277941,0.056324,0.381191)\", \"width\": 2}, \"lon\": [-122.2848003072927, -122.28480912464984, -122.28480764344977, -122.28481305576999], \"mode\": \"lines\", \"showlegend\": false, \"type\": \"scattermapbox\"}, {\"hoverinfo\": \"text\", \"hovertext\": \"W SEA BR EB 4 AV OFF RP Flow: 4445.0\", \"lat\": [47.663027173886036, 47.66326317609829, 47.663623883588805, 47.663809104567804, 47.664251589070155, 47.66480433660395, 47.66488803557405], \"line\": {\"color\": \"rgb(0.277941,0.056324,0.381191)\", \"width\": 2}, \"lon\": [-122.28477360265707, -122.28477547030398, -122.28478328896172, -122.28477978765123, -122.2847791911369, -122.28478766214889, -122.28478832136442], \"mode\": \"lines\", \"showlegend\": false, \"type\": \"scattermapbox\"}, {\"hoverinfo\": \"text\", \"hovertext\": \"W SEA BR EB 4 AV OFF RP Flow: 4445.0\", \"lat\": [47.66747078308735, 47.66850930138852], \"line\": {\"color\": \"rgb(0.277941,0.056324,0.381191)\", \"width\": 2}, \"lon\": [-122.28481305576999, -122.28482300460723], \"mode\": \"lines\", \"showlegend\": false, \"type\": \"scattermapbox\"}, {\"hoverinfo\": \"text\", \"hovertext\": \"W SEA BR EB 4 AV OFF RP Flow: 4445.0\", \"lat\": [47.66488803557405, 47.66613927426433], \"line\": {\"color\": \"rgb(0.277941,0.056324,0.381191)\", \"width\": 2}, \"lon\": [-122.28478832136442, -122.2848003072927], \"mode\": \"lines\", \"showlegend\": false, \"type\": \"scattermapbox\"}, {\"hoverinfo\": \"text\", \"hovertext\": \"W SEA BR EB 4 AV OFF RP Flow: 9471.0\", \"lat\": [47.60170347692825, 47.60170035475722], \"line\": {\"color\": \"rgb(0.283229,0.120777,0.440584)\", \"width\": 2}, \"lon\": [-122.32244685326992, -122.32073735194703], \"mode\": \"lines\", \"showlegend\": false, \"type\": \"scattermapbox\"}, {\"hoverinfo\": \"text\", \"hovertext\": \"W SEA BR EB 4 AV OFF RP Flow: 12413.0\", \"lat\": [47.648051483476095, 47.64804508933823], \"line\": {\"color\": \"rgb(0.281412,0.155834,0.469201)\", \"width\": 2}, \"lon\": [-122.33754433477084, -122.33635091555874], \"mode\": \"lines\", \"showlegend\": false, \"type\": \"scattermapbox\"}, {\"hoverinfo\": \"text\", \"hovertext\": \"W SEA BR EB 4 AV OFF RP Flow: 12413.0\", \"lat\": [47.64825061895457, 47.64807093676157, 47.648061721432555, 47.64805888339787], \"line\": {\"color\": \"rgb(0.281412,0.155834,0.469201)\", \"width\": 2}, \"lon\": [-122.34090172163188, -122.33959358468775, -122.33950923229976, -122.33939243348583], \"mode\": \"lines\", \"showlegend\": false, \"type\": \"scattermapbox\"}, {\"hoverinfo\": \"text\", \"hovertext\": \"W SEA BR EB 4 AV OFF RP Flow: 12413.0\", \"lat\": [47.64805888339787, 47.64805878765629, 47.64805786944184], \"line\": {\"color\": \"rgb(0.281412,0.155834,0.469201)\", \"width\": 2}, \"lon\": [-122.33939243348583, -122.33933083738421, -122.33873763059192], \"mode\": \"lines\", \"showlegend\": false, \"type\": \"scattermapbox\"}, {\"hoverinfo\": \"text\", \"hovertext\": \"W SEA BR EB 4 AV OFF RP Flow: 12413.0\", \"lat\": [47.64854072789802, 47.64825061895457], \"line\": {\"color\": \"rgb(0.281412,0.155834,0.469201)\", \"width\": 2}, \"lon\": [-122.34277540189352, -122.34090172163188], \"mode\": \"lines\", \"showlegend\": false, \"type\": \"scattermapbox\"}, {\"hoverinfo\": \"text\", \"hovertext\": \"W SEA BR EB 4 AV OFF RP Flow: 12413.0\", \"lat\": [47.64805786944184, 47.648051483476095], \"line\": {\"color\": \"rgb(0.281412,0.155834,0.469201)\", \"width\": 2}, \"lon\": [-122.33873763059192, -122.33754433477084], \"mode\": \"lines\", \"showlegend\": false, \"type\": \"scattermapbox\"}, {\"hoverinfo\": \"text\", \"hovertext\": \"W SEA BR EB 4 AV OFF RP Flow: 7500.0\", \"lat\": [47.609285142681195, 47.60974973281673], \"line\": {\"color\": \"rgb(0.282327,0.094955,0.417331)\", \"width\": 2}, \"lon\": [-122.338903694202, -122.3377929156983], \"mode\": \"lines\", \"showlegend\": false, \"type\": \"scattermapbox\"}, {\"hoverinfo\": \"text\", \"hovertext\": \"W SEA BR EB 4 AV OFF RP Flow: 2396.0\", \"lat\": [47.69823627533876, 47.698978707940675], \"line\": {\"color\": \"rgb(0.272594,0.025563,0.353093)\", \"width\": 2}, \"lon\": [-122.38756298022817, -122.38756135534815], \"mode\": \"lines\", \"showlegend\": false, \"type\": \"scattermapbox\"}, {\"hoverinfo\": \"text\", \"hovertext\": \"W SEA BR EB 4 AV OFF RP Flow: 2396.0\", \"lat\": [47.690575453393976, 47.692359443544305], \"line\": {\"color\": \"rgb(0.272594,0.025563,0.353093)\", \"width\": 2}, \"lon\": [-122.38759810513447, -122.38757647889783], \"mode\": \"lines\", \"showlegend\": false, \"type\": \"scattermapbox\"}, {\"hoverinfo\": \"text\", \"hovertext\": \"W SEA BR EB 4 AV OFF RP Flow: 2396.0\", \"lat\": [47.692359443544305, 47.69336708692612, 47.694143475290076], \"line\": {\"color\": \"rgb(0.272594,0.025563,0.353093)\", \"width\": 2}, \"lon\": [-122.38757647889783, -122.38757415852693, -122.38757237193143], \"mode\": \"lines\", \"showlegend\": false, \"type\": \"scattermapbox\"}, {\"hoverinfo\": \"text\", \"hovertext\": \"W SEA BR EB 4 AV OFF RP Flow: 2396.0\", \"lat\": [47.69517940531623, 47.69604141296411, 47.69605087184828, 47.697247790801846, 47.697867744822105], \"line\": {\"color\": \"rgb(0.272594,0.025563,0.353093)\", \"width\": 2}, \"lon\": [-122.38756998226856, -122.38756799619979, -122.3875679740516, -122.38756547315367, -122.38756379372163], \"mode\": \"lines\", \"showlegend\": false, \"type\": \"scattermapbox\"}, {\"hoverinfo\": \"text\", \"hovertext\": \"W SEA BR EB 4 AV OFF RP Flow: 2396.0\", \"lat\": [47.697867744822105, 47.69787601891978, 47.69823627533876], \"line\": {\"color\": \"rgb(0.272594,0.025563,0.353093)\", \"width\": 2}, \"lon\": [-122.38756379372163, -122.38756377077004, -122.38756298022817], \"mode\": \"lines\", \"showlegend\": false, \"type\": \"scattermapbox\"}, {\"hoverinfo\": \"text\", \"hovertext\": \"W SEA BR EB 4 AV OFF RP Flow: 2396.0\", \"lat\": [47.694143475290076, 47.69517940531623], \"line\": {\"color\": \"rgb(0.272594,0.025563,0.353093)\", \"width\": 2}, \"lon\": [-122.38757237193143, -122.38756998226856], \"mode\": \"lines\", \"showlegend\": false, \"type\": \"scattermapbox\"}, {\"hoverinfo\": \"text\", \"hovertext\": \"W SEA BR EB 4 AV OFF RP Flow: 1500.0\", \"lat\": [47.51105158587278, 47.51098208132378, 47.51092549946021, 47.51088143463413, 47.51082711019193, 47.510762841366095, 47.51068899506764, 47.51060606145632, 47.51060600183996, 47.51060575628717, 47.510510038544325, 47.510405221602085, 47.510292209768906, 47.510171713052706, 47.51009551067026, 47.51001567883337, 47.509932824840426, 47.509847574162755], \"line\": {\"color\": \"rgb(0.269944,0.014625,0.341379)\", \"width\": 2}, \"lon\": [-122.2470311533502, -122.24682072449787, -122.24665869268487, -122.24645672176872, -122.24626027410409, -122.24607047895289, -122.24588843376593, -122.24571530835605, -122.24571518326056, -122.24571474641824, -122.24554471678935, -122.24538601526942, -122.24524007509304, -122.24510782231444, -122.2450413146089, -122.24498483277954, -122.24493880615859, -122.24490357693178], \"mode\": \"lines\", \"showlegend\": false, \"type\": \"scattermapbox\"}, {\"hoverinfo\": \"text\", \"hovertext\": \"W SEA BR EB 4 AV OFF RP Flow: 1500.0\", \"lat\": [47.509847574162755, 47.50971587581824], \"line\": {\"color\": \"rgb(0.269944,0.014625,0.341379)\", \"width\": 2}, \"lon\": [-122.24490357693178, -122.24488275742324], \"mode\": \"lines\", \"showlegend\": false, \"type\": \"scattermapbox\"}, {\"hoverinfo\": \"text\", \"hovertext\": \"W SEA BR EB 4 AV OFF RP Flow: 17040.0\", \"lat\": [47.6693443205591, 47.66984458426236], \"line\": {\"color\": \"rgb(0.271828,0.209303,0.504434)\", \"width\": 2}, \"lon\": [-122.3399637911987, -122.33991618485187], \"mode\": \"lines\", \"showlegend\": false, \"type\": \"scattermapbox\"}, {\"hoverinfo\": \"text\", \"hovertext\": \"W SEA BR EB 4 AV OFF RP Flow: 17040.0\", \"lat\": [47.67020367568444, 47.67082507537148, 47.67083252339594, 47.670839973269175, 47.6708474241825, 47.67085487220308, 47.67086231792952, 47.67086974373857, 47.67087718320147, 47.670884619206916, 47.67089205265406, 47.67089948084523, 47.670906901829824, 47.67091432128985, 47.67092173371287, 47.67092914267845, 47.67093654547105, 47.670943959495, 47.67095134726164, 47.670958728872925, 47.670966103429684, 47.67097347091422, 47.67098082774712, 47.6709881882057, 47.67099552819644, 47.671002859334, 47.671010180684014, 47.67101749136474, 47.67102476101121, 47.67103205033579, 47.671039328109444, 47.6710465951962, 47.67105384981517, 47.67106111866381, 47.67106834741262, 47.671075563676055, 47.67108276658995, 47.67108995516709, 47.67109712857854, 47.67110425845821, 47.67111140326654, 47.6711185329268, 47.671125646469314, 47.67113274391166, 47.67113984413569, 47.671146906680015, 47.67115395492263, 47.671160985248946, 47.67116799677731, 47.6711749781342, 47.67118195204901, 47.67118890802991, 47.67119584521278, 47.67120276174631, 47.67120965856496, 47.67121654658444, 47.67122340215721, 47.67123023709813, 47.67123705050805, 47.67124384235171, 47.6712506148177, 47.6712573618007, 47.67126408633576, 47.67127078750594, 47.671277465346556, 47.671284089733305, 47.671290718146416, 47.67129732319468, 47.67130390309711, 47.67131045871777, 47.67131698734129, 47.67132351085212, 47.67132998824953, 47.671336439566616, 47.67134286300487, 47.67134925941072, 47.67135562890883, 47.671361969556884, 47.67136828229089, 47.67137456712836, 47.67138082225319, 47.671387037296746, 47.67139323296104, 47.67139940072882, 47.671405538801444, 47.67141164441084, 47.67141771939066, 47.67142374128426, 47.671429754987265, 47.671435737161396, 47.671441687753855, 47.67144760410203, 47.67145351608536, 47.67145936660751, 47.671465186464744, 47.671470972060014, 47.671476724275045, 47.67148242350051, 47.671488106239515, 47.671493754698965, 47.67149937064213, 47.67150494780937, 47.6715104897449, 47.67151602522826, 47.67152149585394, 47.67152693124791, 47.671532328747524, 47.67153769006337, 47.671543001378225, 47.671548287716654, 47.67155353705996, 47.67155874932013, 47.67156392183458, 47.671569037543016, 47.67157413056594, 47.671579182943866, 47.671584198238634, 47.67158917636221, 47.67159412175804, 47.67159902845303, 47.671603860660504, 47.67160863093977, 47.67161334184788, 47.67161800867212, 47.671622602689034, 47.67162713557132, 47.67163160634931, 47.671636019324076, 47.6716403668807, 47.6716446505169, 47.67164887113187, 47.67165300210143, 47.67165709579228, 47.67166112461056, 47.671665103792606, 47.671669001049594, 47.67167283433322, 47.671676600028796, 47.67168030111739, 47.671683933347396, 47.671687497954146, 47.671690993985536, 47.67169439689579, 47.67169775755738, 47.67170104786265, 47.67170426955736, 47.67170742303217, 47.67171047350962, 47.671713443721224, 47.67171891213469, 47.67199223031558, 47.671992917232565, 47.67201233359625, 47.672032878046544, 47.672054537432274, 47.67207729770333, 47.672184092572685], \"line\": {\"color\": \"rgb(0.271828,0.209303,0.504434)\", \"width\": 2}, \"lon\": [-122.33990391241898, -122.33991832506753, -122.33991817603516, -122.33991788720995, -122.33991758775981, -122.33991723495087, -122.33991678351681, -122.33991579742487, -122.33991513936881, -122.33991440263195, -122.33991358724028, -122.3399126931155, -122.33991207181545, -122.33991102160803, -122.33990989128395, -122.33990868227883, -122.33990739584578, -122.33990607644112, -122.33990463374256, -122.33990311228459, -122.33990151204118, -122.33989983434354, -122.33989807775615, -122.33989597898154, -122.33989406740741, -122.33989207699548, -122.33989001038242, -122.33988786621074, -122.33988555969202, -122.33988326173434, -122.33988088486055, -122.33987843175933, -122.33987590104724, -122.3398733827338, -122.3398706994365, -122.33986793985956, -122.33986510131412, -122.33986219043094, -122.33985920185853, -122.33985637584435, -122.3398532372709, -122.33985001967667, -122.33984672836114, -122.3398433619928, -122.33983978526744, -122.33983626871527, -122.33983267716242, -122.33982901183592, -122.33982527137833, -122.33982143148611, -122.33981754209759, -122.33981358026675, -122.33980954330467, -122.33980543515335, -122.33980125317612, -122.33979705629201, -122.33979272794204, -122.33978832707137, -122.33978385365391, -122.33977931035233, -122.33977480378059, -122.3397701153332, -122.33976535564416, -122.33976052601892, -122.33975562379457, -122.33975027383912, -122.33974523166385, -122.33974011955218, -122.33973493612059, -122.33972968405794, -122.33972436461731, -122.33971909164303, -122.33971363219916, -122.33970810407202, -122.33970250720935, -122.33969684563142, -122.33969117794464, -122.33968537889577, -122.33967951377403, -122.33967358124818, -122.3396675825974, -122.33966148555592, -122.33965535731797, -122.3396491616758, -122.33964289857727, -122.33963657326973, -122.33963018314246, -122.33962406584358, -122.33961754740828, -122.33961096412719, -122.33960431999446, -122.33959761226907, -122.3395904862034, -122.33958365403369, -122.33957675970692, -122.33956980311886, -122.339562785627, -122.33955562541786, -122.3395484873715, -122.33954128839513, -122.33953403120374, -122.3395267129521, -122.33951933773862, -122.33951204224991, -122.33950454909248, -122.33949699897317, -122.33948938915108, -122.33948172633517, -122.33947430713614, -122.33946653159755, -122.33945869638227, -122.33945080814705, -122.33944286415101, -122.33943445367795, -122.33942639816027, -122.33941828685573, -122.33941012253138, -122.33940191184404, -122.33939365891817, -122.33938554338592, -122.33937714200098, -122.3393686615704, -122.33936011282334, -122.3393514962028, -122.33934280688078, -122.33933404652748, -122.3393252204423, -122.33931627547435, -122.33930731129468, -122.33929828266248, -122.33928918960386, -122.33928007263599, -122.33927084936704, -122.33926156561377, -122.33925229373973, -122.33924289029707, -122.33923342639615, -122.33922390326414, -122.33921436760367, -122.33920473271866, -122.33919504126537, -122.339185297212, -122.33917545189925, -122.33916560402919, -122.33915570217567, -122.3391457503849, -122.33913585521967, -122.33912578925062, -122.339115670343, -122.33909677205249, -122.33813104533101, -122.33812862251587, -122.33806227535675, -122.33799667603925, -122.33793186680022, -122.33786788985046, -122.33762007195428], \"mode\": \"lines\", \"showlegend\": false, \"type\": \"scattermapbox\"}, {\"hoverinfo\": \"text\", \"hovertext\": \"W SEA BR EB 4 AV OFF RP Flow: 17040.0\", \"lat\": [47.67460101159732, 47.67477299978135, 47.67480874839873, 47.674867495471965, 47.674947466168604, 47.67526482812457], \"line\": {\"color\": \"rgb(0.271828,0.209303,0.504434)\", \"width\": 2}, \"lon\": [-122.33458721767224, -122.33437217916378, -122.33431529628132, -122.33423164157766, -122.33409982803855, -122.33353290793077], \"mode\": \"lines\", \"showlegend\": false, \"type\": \"scattermapbox\"}, {\"hoverinfo\": \"text\", \"hovertext\": \"W SEA BR EB 4 AV OFF RP Flow: 17040.0\", \"lat\": [47.672184092572685, 47.672256500638376, 47.672288245332076, 47.67232106078654, 47.67235492484129, 47.67238981355513, 47.67242570125853, 47.67246256131249, 47.67250036891165, 47.672539096640755, 47.67257871787848, 47.67258255872225, 47.673708651431205], \"line\": {\"color\": \"rgb(0.271828,0.209303,0.504434)\", \"width\": 2}, \"lon\": [-122.33762007195428, -122.33748288498086, -122.33742283700875, -122.33736406395312, -122.3373066091244, -122.33725051444992, -122.33719581647973, -122.33714255706397, -122.33709077544218, -122.33704050411947, -122.33699178361543, -122.33698718509031, -122.33565361207765], \"mode\": \"lines\", \"showlegend\": false, \"type\": \"scattermapbox\"}, {\"hoverinfo\": \"text\", \"hovertext\": \"W SEA BR EB 4 AV OFF RP Flow: 17040.0\", \"lat\": [47.66984458426236, 47.67020367568444], \"line\": {\"color\": \"rgb(0.271828,0.209303,0.504434)\", \"width\": 2}, \"lon\": [-122.33991618485187, -122.33990391241898], \"mode\": \"lines\", \"showlegend\": false, \"type\": \"scattermapbox\"}, {\"hoverinfo\": \"text\", \"hovertext\": \"W SEA BR EB 4 AV OFF RP Flow: 17040.0\", \"lat\": [47.673708651431205, 47.67460101159732], \"line\": {\"color\": \"rgb(0.271828,0.209303,0.504434)\", \"width\": 2}, \"lon\": [-122.33565361207765, -122.33458721767224], \"mode\": \"lines\", \"showlegend\": false, \"type\": \"scattermapbox\"}, {\"hoverinfo\": \"text\", \"hovertext\": \"W SEA BR EB 4 AV OFF RP Flow: 15729.0\", \"lat\": [47.61617112381272, 47.61618690205154, 47.61684046574373], \"line\": {\"color\": \"rgb(0.275191,0.194905,0.496005)\", \"width\": 2}, \"lon\": [-122.3314165991048, -122.33140436473495, -122.33055885331203], \"mode\": \"lines\", \"showlegend\": false, \"type\": \"scattermapbox\"}, {\"hoverinfo\": \"text\", \"hovertext\": \"W SEA BR EB 4 AV OFF RP Flow: 15729.0\", \"lat\": [47.61684046574373, 47.617501618617254, 47.61750461817339], \"line\": {\"color\": \"rgb(0.275191,0.194905,0.496005)\", \"width\": 2}, \"lon\": [-122.33055885331203, -122.32970284586246, -122.32969878895042], \"mode\": \"lines\", \"showlegend\": false, \"type\": \"scattermapbox\"}, {\"hoverinfo\": \"text\", \"hovertext\": \"W SEA BR EB 4 AV OFF RP Flow: 9355.0\", \"lat\": [47.650543276282285, 47.650591568798724, 47.65060615472174, 47.650612072699985, 47.650606478129454, 47.65059525971611, 47.65058553796557, 47.650577316615525, 47.65057060215325, 47.650565400080964, 47.650561712372706, 47.65055954190198, 47.65055889147375, 47.65055975946544, 47.65056214508518, 47.65056604761021, 47.650571463619904, 47.65057839142382, 47.650586827601686, 47.65059676148781, 47.65060819056164, 47.650621105091425, 47.65063549894272, 47.65065136148479, 47.650668680323, 47.650687445726255, 47.650707644400896, 47.65072926393557, 47.650752288339035, 47.650776702553955, 47.65080249147155, 47.650829636437564, 47.65085812063085, 47.65088792353018, 47.65091902658475, 47.65096287212336, 47.650995696919324, 47.65102560634559, 47.65105551641353, 47.65108341988581], \"line\": {\"color\": \"rgb(0.283229,0.120777,0.440584)\", \"width\": 2}, \"lon\": [-122.30761623219239, -122.30754041035159, -122.30746370727933, -122.30735658223344, -122.30721722654165, -122.30713183183177, -122.30704603624521, -122.30695989845984, -122.30687347323708, -122.30678682196722, -122.30670000061497, -122.30661306517047, -122.30652607694734, -122.30643909180813, -122.30635217096462, -122.30626537030487, -122.30617874564076, -122.30609235815848, -122.3060062636701, -122.30592052177649, -122.3058351883154, -122.30575032025165, -122.30566597465241, -122.30558220845754, -122.30549907589456, -122.30541663392924, -122.30533493676427, -122.30525403995861, -122.30517399763922, -122.30509486129682, -122.30501668641523, -122.30493952438417, -122.30486342398281, -122.30478844187418, -122.30471462146406, -122.30460775132778, -122.30446213575142, -122.3043026979704, -122.3041432626932, -122.30390736015777], \"mode\": \"lines\", \"showlegend\": false, \"type\": \"scattermapbox\"}, {\"hoverinfo\": \"text\", \"hovertext\": \"W SEA BR EB 4 AV OFF RP Flow: 8688.0\", \"lat\": [47.646921925822646, 47.64782677362257], \"line\": {\"color\": \"rgb(0.283091,0.110553,0.431554)\", \"width\": 2}, \"lon\": [-122.32210299278914, -122.32210082780068], \"mode\": \"lines\", \"showlegend\": false, \"type\": \"scattermapbox\"}, {\"hoverinfo\": \"text\", \"hovertext\": \"W SEA BR EB 4 AV OFF RP Flow: 8688.0\", \"lat\": [47.64561992138458, 47.64683647744274, 47.646921925822646], \"line\": {\"color\": \"rgb(0.283091,0.110553,0.431554)\", \"width\": 2}, \"lon\": [-122.32210550948848, -122.32210315685782, -122.32210299278914], \"mode\": \"lines\", \"showlegend\": false, \"type\": \"scattermapbox\"}, {\"hoverinfo\": \"text\", \"hovertext\": \"W SEA BR EB 4 AV OFF RP Flow: 8688.0\", \"lat\": [47.648710640170826, 47.64890047386041, 47.64955379487711, 47.64964288297975, 47.649980979152204, 47.65008913501129, 47.65020225399197, 47.65029651844546, 47.65051917315982], \"line\": {\"color\": \"rgb(0.283091,0.110553,0.431554)\", \"width\": 2}, \"lon\": [-122.32209905647332, -122.32209857025724, -122.32209688889276, -122.32209666127466, -122.32209579387812, -122.3220955171197, -122.32209524001716, -122.32209501016779, -122.32209446518969], \"mode\": \"lines\", \"showlegend\": false, \"type\": \"scattermapbox\"}, {\"hoverinfo\": \"text\", \"hovertext\": \"W SEA BR EB 4 AV OFF RP Flow: 8688.0\", \"lat\": [47.64782677362257, 47.64867776248011, 47.648710640170826], \"line\": {\"color\": \"rgb(0.283091,0.110553,0.431554)\", \"width\": 2}, \"lon\": [-122.32210082780068, -122.32209911357866, -122.32209905647332], \"mode\": \"lines\", \"showlegend\": false, \"type\": \"scattermapbox\"}, {\"hoverinfo\": \"text\", \"hovertext\": \"W SEA BR EB 4 AV OFF RP Flow: 11274.0\", \"lat\": [47.61327122308668, 47.613587998916195, 47.61403982291637], \"line\": {\"color\": \"rgb(0.282623,0.140926,0.457517)\", \"width\": 2}, \"lon\": [-122.34435339866259, -122.34488929693428, -122.34565345644711], \"mode\": \"lines\", \"showlegend\": false, \"type\": \"scattermapbox\"}, {\"hoverinfo\": \"text\", \"hovertext\": \"W SEA BR EB 4 AV OFF RP Flow: 11274.0\", \"lat\": [47.61403982291637, 47.61473907132101, 47.6147679238496, 47.61480883668842], \"line\": {\"color\": \"rgb(0.282623,0.140926,0.457517)\", \"width\": 2}, \"lon\": [-122.34565345644711, -122.34685466373632, -122.34689556918426, -122.34695357575437], \"mode\": \"lines\", \"showlegend\": false, \"type\": \"scattermapbox\"}, {\"hoverinfo\": \"text\", \"hovertext\": \"W SEA BR EB 4 AV OFF RP Flow: 11274.0\", \"lat\": [47.61250190168383, 47.61327122308668], \"line\": {\"color\": \"rgb(0.282623,0.140926,0.457517)\", \"width\": 2}, \"lon\": [-122.34305260445157, -122.34435339866259], \"mode\": \"lines\", \"showlegend\": false, \"type\": \"scattermapbox\"}, {\"hoverinfo\": \"text\", \"hovertext\": \"W SEA BR EB 4 AV OFF RP Flow: 11405.0\", \"lat\": [47.56407659791716, 47.56407664181458, 47.56407684198959, 47.56407686927236, 47.56407706814208, 47.56407713595904], \"line\": {\"color\": \"rgb(0.282290,0.145912,0.461510)\", \"width\": 2}, \"lon\": [-122.37618931718269, -122.37629068236569, -122.37675648874759, -122.37682153699495, -122.37728761056658, -122.37744947025904], \"mode\": \"lines\", \"showlegend\": false, \"type\": \"scattermapbox\"}, {\"hoverinfo\": \"text\", \"hovertext\": \"W SEA BR EB 4 AV OFF RP Flow: 11405.0\", \"lat\": [47.56407713595904, 47.564077182028186, 47.5640775030553, 47.56407771245929], \"line\": {\"color\": \"rgb(0.282290,0.145912,0.461510)\", \"width\": 2}, \"lon\": [-122.37744947025904, -122.37746972393914, -122.37761126838784, -122.37770366806059], \"mode\": \"lines\", \"showlegend\": false, \"type\": \"scattermapbox\"}, {\"hoverinfo\": \"text\", \"hovertext\": \"W SEA BR EB 4 AV OFF RP Flow: 12045.0\", \"lat\": [47.71550622531062, 47.71731678234961], \"line\": {\"color\": \"rgb(0.281887,0.150881,0.465405)\", \"width\": 2}, \"lon\": [-122.2915031059354, -122.29136481285235], \"mode\": \"lines\", \"showlegend\": false, \"type\": \"scattermapbox\"}, {\"hoverinfo\": \"text\", \"hovertext\": \"W SEA BR EB 4 AV OFF RP Flow: 12045.0\", \"lat\": [47.714350597560205, 47.714377109276214, 47.714417599291146, 47.71445830866357, 47.714499192583624, 47.71454021426679, 47.71458133051426, 47.714622505491526, 47.71466369235144, 47.714704852459356, 47.71550622531062], \"line\": {\"color\": \"rgb(0.281887,0.150881,0.465405)\", \"width\": 2}, \"lon\": [-122.29151962729513, -122.29152822826781, -122.29153940117016, -122.29154868609477, -122.29155606978226, -122.29156154453028, -122.29156511178742, -122.29156675987889, -122.29156649414969, -122.29156431084434, -122.2915031059354], \"mode\": \"lines\", \"showlegend\": false, \"type\": \"scattermapbox\"}, {\"hoverinfo\": \"text\", \"hovertext\": \"W SEA BR EB 4 AV OFF RP Flow: 12045.0\", \"lat\": [47.71195941552655, 47.71265564742992, 47.71270835228512, 47.71276100157267, 47.712813558473286, 47.712865986082406, 47.71291824496786, 47.71297029920922, 47.71302211025641, 47.71307364134065, 47.71312485392857, 47.713175712235675, 47.71322618042625, 47.713278944601406], \"line\": {\"color\": \"rgb(0.281887,0.150881,0.465405)\", \"width\": 2}, \"lon\": [-122.29065019955922, -122.29066207157774, -122.29066401978704, -122.29066806313881, -122.2906741966073, -122.29068242182903, -122.29069272704028, -122.29070510724038, -122.29071955202305, -122.29073605236476, -122.2907545965265, -122.29077516884726, -122.29079775766351, -122.29083011078576], \"mode\": \"lines\", \"showlegend\": false, \"type\": \"scattermapbox\"}, {\"hoverinfo\": \"text\", \"hovertext\": \"W SEA BR EB 4 AV OFF RP Flow: 12045.0\", \"lat\": [47.713278944601406, 47.714350597560205], \"line\": {\"color\": \"rgb(0.281887,0.150881,0.465405)\", \"width\": 2}, \"lon\": [-122.29083011078576, -122.29151962729513], \"mode\": \"lines\", \"showlegend\": false, \"type\": \"scattermapbox\"}, {\"hoverinfo\": \"text\", \"hovertext\": \"W SEA BR EB 4 AV OFF RP Flow: 12045.0\", \"lat\": [47.71731678234961, 47.71781032603773, 47.71788583368078, 47.71905712270515, 47.71909600080668, 47.71913509404877, 47.719174383445015, 47.71921383921756, 47.719242694182846, 47.71925343734195], \"line\": {\"color\": \"rgb(0.281887,0.150881,0.465405)\", \"width\": 2}, \"lon\": [-122.29136481285235, -122.29132711479981, -122.29129741339555, -122.29083668252133, -122.29082321509777, -122.29081121476266, -122.29080068898482, -122.29079164493021, -122.29078611863676, -122.29078406193135], \"mode\": \"lines\", \"showlegend\": false, \"type\": \"scattermapbox\"}, {\"hoverinfo\": \"text\", \"hovertext\": \"W SEA BR EB 4 AV OFF RP Flow: 17719.0\", \"lat\": [47.71935298747316, 47.71934080743252, 47.71934073027049], \"line\": {\"color\": \"rgb(0.269308,0.218818,0.509577)\", \"width\": 2}, \"lon\": [-122.30592004842725, -122.30457658306952, -122.3045682703205], \"mode\": \"lines\", \"showlegend\": false, \"type\": \"scattermapbox\"}, {\"hoverinfo\": \"text\", \"hovertext\": \"W SEA BR EB 4 AV OFF RP Flow: 17719.0\", \"lat\": [47.71938179840533, 47.719374707558075, 47.719365232177246], \"line\": {\"color\": \"rgb(0.269308,0.218818,0.509577)\", \"width\": 2}, \"lon\": [-122.3091036078881, -122.30831908068667, -122.30727176328271], \"mode\": \"lines\", \"showlegend\": false, \"type\": \"scattermapbox\"}, {\"hoverinfo\": \"text\", \"hovertext\": \"W SEA BR EB 4 AV OFF RP Flow: 17719.0\", \"lat\": [47.71934073027049, 47.719340657354955, 47.71933409174953], \"line\": {\"color\": \"rgb(0.269308,0.218818,0.509577)\", \"width\": 2}, \"lon\": [-122.3045682703205, -122.30456032562826, -122.30383686618453], \"mode\": \"lines\", \"showlegend\": false, \"type\": \"scattermapbox\"}, {\"hoverinfo\": \"text\", \"hovertext\": \"W SEA BR EB 4 AV OFF RP Flow: 17719.0\", \"lat\": [47.719389669994094, 47.7193895965983, 47.71938179840533], \"line\": {\"color\": \"rgb(0.269308,0.218818,0.509577)\", \"width\": 2}, \"lon\": [-122.3099752587927, -122.3099669634542, -122.3091036078881], \"mode\": \"lines\", \"showlegend\": false, \"type\": \"scattermapbox\"}, {\"hoverinfo\": \"text\", \"hovertext\": \"W SEA BR EB 4 AV OFF RP Flow: 17719.0\", \"lat\": [47.71931616484707, 47.719308368808555, 47.719308343116914], \"line\": {\"color\": \"rgb(0.269308,0.218818,0.509577)\", \"width\": 2}, \"lon\": [-122.30186480525784, -122.3004771267707, -122.30039347265073], \"mode\": \"lines\", \"showlegend\": false, \"type\": \"scattermapbox\"}, {\"hoverinfo\": \"text\", \"hovertext\": \"W SEA BR EB 4 AV OFF RP Flow: 17719.0\", \"lat\": [47.719414042614254, 47.71941294623613, 47.71940188780009], \"line\": {\"color\": \"rgb(0.269308,0.218818,0.509577)\", \"width\": 2}, \"lon\": [-122.3126787728095, -122.31255698755099, -122.31132700815375], \"mode\": \"lines\", \"showlegend\": false, \"type\": \"scattermapbox\"}, {\"hoverinfo\": \"text\", \"hovertext\": \"W SEA BR EB 4 AV OFF RP Flow: 17719.0\", \"lat\": [47.71929175517323, 47.71928489143583], \"line\": {\"color\": \"rgb(0.269308,0.218818,0.509577)\", \"width\": 2}, \"lon\": [-122.29780321785043, -122.29631399550578], \"mode\": \"lines\", \"showlegend\": false, \"type\": \"scattermapbox\"}, {\"hoverinfo\": \"text\", \"hovertext\": \"W SEA BR EB 4 AV OFF RP Flow: 17719.0\", \"lat\": [47.719308343116914, 47.71930332875877, 47.719300553700485], \"line\": {\"color\": \"rgb(0.269308,0.218818,0.509577)\", \"width\": 2}, \"lon\": [-122.30039347265073, -122.29955382973327, -122.29908940864597], \"mode\": \"lines\", \"showlegend\": false, \"type\": \"scattermapbox\"}, {\"hoverinfo\": \"text\", \"hovertext\": \"W SEA BR EB 4 AV OFF RP Flow: 17719.0\", \"lat\": [47.71933409174953, 47.719325545209195, 47.71932547399912], \"line\": {\"color\": \"rgb(0.269308,0.218818,0.509577)\", \"width\": 2}, \"lon\": [-122.30383686618453, -122.302896472639, -122.30288859599116], \"mode\": \"lines\", \"showlegend\": false, \"type\": \"scattermapbox\"}, {\"hoverinfo\": \"text\", \"hovertext\": \"W SEA BR EB 4 AV OFF RP Flow: 17719.0\", \"lat\": [47.71939793360336, 47.719389742308024, 47.719389669994094], \"line\": {\"color\": \"rgb(0.269308,0.218818,0.509577)\", \"width\": 2}, \"lon\": [-122.3108911911009, -122.30998322082404, -122.3099752587927], \"mode\": \"lines\", \"showlegend\": false, \"type\": \"scattermapbox\"}, {\"hoverinfo\": \"text\", \"hovertext\": \"W SEA BR EB 4 AV OFF RP Flow: 17719.0\", \"lat\": [47.719357689032414, 47.71935298747316], \"line\": {\"color\": \"rgb(0.269308,0.218818,0.509577)\", \"width\": 2}, \"lon\": [-122.3064388950942, -122.30592004842725], \"mode\": \"lines\", \"showlegend\": false, \"type\": \"scattermapbox\"}, {\"hoverinfo\": \"text\", \"hovertext\": \"W SEA BR EB 4 AV OFF RP Flow: 17719.0\", \"lat\": [47.71940188780009, 47.71939793360336], \"line\": {\"color\": \"rgb(0.269308,0.218818,0.509577)\", \"width\": 2}, \"lon\": [-122.31132700815375, -122.3108911911009], \"mode\": \"lines\", \"showlegend\": false, \"type\": \"scattermapbox\"}, {\"hoverinfo\": \"text\", \"hovertext\": \"W SEA BR EB 4 AV OFF RP Flow: 17719.0\", \"lat\": [47.71932547399912, 47.71932539848919, 47.71931616484707], \"line\": {\"color\": \"rgb(0.269308,0.218818,0.509577)\", \"width\": 2}, \"lon\": [-122.30288859599116, -122.30288021530922, -122.30186480525784], \"mode\": \"lines\", \"showlegend\": false, \"type\": \"scattermapbox\"}, {\"hoverinfo\": \"text\", \"hovertext\": \"W SEA BR EB 4 AV OFF RP Flow: 17719.0\", \"lat\": [47.719300553700485, 47.71929175517323], \"line\": {\"color\": \"rgb(0.269308,0.218818,0.509577)\", \"width\": 2}, \"lon\": [-122.29908940864597, -122.29780321785043], \"mode\": \"lines\", \"showlegend\": false, \"type\": \"scattermapbox\"}, {\"hoverinfo\": \"text\", \"hovertext\": \"W SEA BR EB 4 AV OFF RP Flow: 17719.0\", \"lat\": [47.719365232177246, 47.719357689032414], \"line\": {\"color\": \"rgb(0.269308,0.218818,0.509577)\", \"width\": 2}, \"lon\": [-122.30727176328271, -122.3064388950942], \"mode\": \"lines\", \"showlegend\": false, \"type\": \"scattermapbox\"}, {\"hoverinfo\": \"text\", \"hovertext\": \"W SEA BR EB 4 AV OFF RP Flow: 12706.0\", \"lat\": [47.56075893579347, 47.56075368433127, 47.560753654414974, 47.56075359761472], \"line\": {\"color\": \"rgb(0.280868,0.160771,0.472899)\", \"width\": 2}, \"lon\": [-122.28992442411737, -122.28884122327929, -122.28883498792126, -122.28882157765938], \"mode\": \"lines\", \"showlegend\": false, \"type\": \"scattermapbox\"}, {\"hoverinfo\": \"text\", \"hovertext\": \"W SEA BR EB 4 AV OFF RP Flow: 12706.0\", \"lat\": [47.56076577863016, 47.56076420165715], \"line\": {\"color\": \"rgb(0.280868,0.160771,0.472899)\", \"width\": 2}, \"lon\": [-122.29149426215376, -122.29101390557952], \"mode\": \"lines\", \"showlegend\": false, \"type\": \"scattermapbox\"}, {\"hoverinfo\": \"text\", \"hovertext\": \"W SEA BR EB 4 AV OFF RP Flow: 12706.0\", \"lat\": [47.56079381928822, 47.560765929559174, 47.56076577863016], \"line\": {\"color\": \"rgb(0.280868,0.160771,0.472899)\", \"width\": 2}, \"lon\": [-122.29257951680529, -122.29154042527462, -122.29149426215376], \"mode\": \"lines\", \"showlegend\": false, \"type\": \"scattermapbox\"}, {\"hoverinfo\": \"text\", \"hovertext\": \"W SEA BR EB 4 AV OFF RP Flow: 12706.0\", \"lat\": [47.56076420165715, 47.56075893579347], \"line\": {\"color\": \"rgb(0.280868,0.160771,0.472899)\", \"width\": 2}, \"lon\": [-122.29101390557952, -122.28992442411737], \"mode\": \"lines\", \"showlegend\": false, \"type\": \"scattermapbox\"}, {\"hoverinfo\": \"text\", \"hovertext\": \"W SEA BR EB 4 AV OFF RP Flow: 12706.0\", \"lat\": [47.56080844656606, 47.56079381928822], \"line\": {\"color\": \"rgb(0.280868,0.160771,0.472899)\", \"width\": 2}, \"lon\": [-122.29324025303698, -122.29257951680529], \"mode\": \"lines\", \"showlegend\": false, \"type\": \"scattermapbox\"}, {\"hoverinfo\": \"text\", \"hovertext\": \"W SEA BR EB 4 AV OFF RP Flow: 12706.0\", \"lat\": [47.56075359761472, 47.56075015087126, 47.56074860209163, 47.56074767622128], \"line\": {\"color\": \"rgb(0.280868,0.160771,0.472899)\", \"width\": 2}, \"lon\": [-122.28882157765938, -122.28769170006561, -122.28727519730595, -122.28702675958009], \"mode\": \"lines\", \"showlegend\": false, \"type\": \"scattermapbox\"}, {\"hoverinfo\": \"text\", \"hovertext\": \"W SEA BR EB 4 AV OFF RP Flow: 7502.0\", \"lat\": [47.615587941762925, 47.61625303950115], \"line\": {\"color\": \"rgb(0.282327,0.094955,0.417331)\", \"width\": 2}, \"lon\": [-122.35422426782041, -122.3533656023891], \"mode\": \"lines\", \"showlegend\": false, \"type\": \"scattermapbox\"}, {\"hoverinfo\": \"text\", \"hovertext\": \"W SEA BR EB 4 AV OFF RP Flow: 10968.0\", \"lat\": [47.613946973126694, 47.61439140343087], \"line\": {\"color\": \"rgb(0.282623,0.140926,0.457517)\", \"width\": 2}, \"lon\": [-122.33756320253126, -122.33831434293712], \"mode\": \"lines\", \"showlegend\": false, \"type\": \"scattermapbox\"}, {\"hoverinfo\": \"text\", \"hovertext\": \"W SEA BR EB 4 AV OFF RP Flow: 3210.0\", \"lat\": [47.662366424390164, 47.66291688237491], \"line\": {\"color\": \"rgb(0.274952,0.037752,0.364543)\", \"width\": 2}, \"lon\": [-122.36079016784987, -122.36079223517349], \"mode\": \"lines\", \"showlegend\": false, \"type\": \"scattermapbox\"}, {\"hoverinfo\": \"text\", \"hovertext\": \"W SEA BR EB 4 AV OFF RP Flow: 3210.0\", \"lat\": [47.656944122040784, 47.65776836793622], \"line\": {\"color\": \"rgb(0.274952,0.037752,0.364543)\", \"width\": 2}, \"lon\": [-122.36081648713034, -122.36081114118006], \"mode\": \"lines\", \"showlegend\": false, \"type\": \"scattermapbox\"}, {\"hoverinfo\": \"text\", \"hovertext\": \"W SEA BR EB 4 AV OFF RP Flow: 3210.0\", \"lat\": [47.66021100696723, 47.66048478128798], \"line\": {\"color\": \"rgb(0.274952,0.037752,0.364543)\", \"width\": 2}, \"lon\": [-122.36079424188628, -122.36079219137413], \"mode\": \"lines\", \"showlegend\": false, \"type\": \"scattermapbox\"}, {\"hoverinfo\": \"text\", \"hovertext\": \"W SEA BR EB 4 AV OFF RP Flow: 3210.0\", \"lat\": [47.65493809309281, 47.65557045238558], \"line\": {\"color\": \"rgb(0.274952,0.037752,0.364543)\", \"width\": 2}, \"lon\": [-122.3608312879547, -122.36082628427073], \"mode\": \"lines\", \"showlegend\": false, \"type\": \"scattermapbox\"}, {\"hoverinfo\": \"text\", \"hovertext\": \"W SEA BR EB 4 AV OFF RP Flow: 3210.0\", \"lat\": [47.66642110315098, 47.66651181944306, 47.66678764321587, 47.66686411695011, 47.666920389938575], \"line\": {\"color\": \"rgb(0.274952,0.037752,0.364543)\", \"width\": 2}, \"lon\": [-122.36080079090836, -122.3608008398679, -122.36080098820055, -122.36080102879856, -122.36080133341679], \"mode\": \"lines\", \"showlegend\": false, \"type\": \"scattermapbox\"}, {\"hoverinfo\": \"text\", \"hovertext\": \"W SEA BR EB 4 AV OFF RP Flow: 3210.0\", \"lat\": [47.665012280473924, 47.66505570598221, 47.66532929691855, 47.665598243213594, 47.66568967738451], \"line\": {\"color\": \"rgb(0.274952,0.037752,0.364543)\", \"width\": 2}, \"lon\": [-122.36080007530862, -122.36080005298217, -122.36080020227791, -122.36080034692829, -122.36080039700597], \"mode\": \"lines\", \"showlegend\": false, \"type\": \"scattermapbox\"}, {\"hoverinfo\": \"text\", \"hovertext\": \"W SEA BR EB 4 AV OFF RP Flow: 3210.0\", \"lat\": [47.65557045238558, 47.656066861755505], \"line\": {\"color\": \"rgb(0.274952,0.037752,0.364543)\", \"width\": 2}, \"lon\": [-122.36082628427073, -122.36082271723889], \"mode\": \"lines\", \"showlegend\": false, \"type\": \"scattermapbox\"}, {\"hoverinfo\": \"text\", \"hovertext\": \"W SEA BR EB 4 AV OFF RP Flow: 3210.0\", \"lat\": [47.65776836793622, 47.65894988747395], \"line\": {\"color\": \"rgb(0.274952,0.037752,0.364543)\", \"width\": 2}, \"lon\": [-122.36081114118006, -122.36080334588658], \"mode\": \"lines\", \"showlegend\": false, \"type\": \"scattermapbox\"}, {\"hoverinfo\": \"text\", \"hovertext\": \"W SEA BR EB 4 AV OFF RP Flow: 3210.0\", \"lat\": [47.66433620763114, 47.665012280473924], \"line\": {\"color\": \"rgb(0.274952,0.037752,0.364543)\", \"width\": 2}, \"lon\": [-122.36079728225326, -122.36080007530862], \"mode\": \"lines\", \"showlegend\": false, \"type\": \"scattermapbox\"}, {\"hoverinfo\": \"text\", \"hovertext\": \"W SEA BR EB 4 AV OFF RP Flow: 3210.0\", \"lat\": [47.66146898988877, 47.66218608895499], \"line\": {\"color\": \"rgb(0.274952,0.037752,0.364543)\", \"width\": 2}, \"lon\": [-122.36078980055994, -122.36078949231735], \"mode\": \"lines\", \"showlegend\": false, \"type\": \"scattermapbox\"}, {\"hoverinfo\": \"text\", \"hovertext\": \"W SEA BR EB 4 AV OFF RP Flow: 3210.0\", \"lat\": [47.66218608895499, 47.662366424390164], \"line\": {\"color\": \"rgb(0.274952,0.037752,0.364543)\", \"width\": 2}, \"lon\": [-122.36078949231735, -122.36079016784987], \"mode\": \"lines\", \"showlegend\": false, \"type\": \"scattermapbox\"}, {\"hoverinfo\": \"text\", \"hovertext\": \"W SEA BR EB 4 AV OFF RP Flow: 3210.0\", \"lat\": [47.66291688237491, 47.66319226432623], \"line\": {\"color\": \"rgb(0.274952,0.037752,0.364543)\", \"width\": 2}, \"lon\": [-122.36079223517349, -122.3607932666881], \"mode\": \"lines\", \"showlegend\": false, \"type\": \"scattermapbox\"}, {\"hoverinfo\": \"text\", \"hovertext\": \"W SEA BR EB 4 AV OFF RP Flow: 3210.0\", \"lat\": [47.656066861755505, 47.65633896215766], \"line\": {\"color\": \"rgb(0.274952,0.037752,0.364543)\", \"width\": 2}, \"lon\": [-122.36082271723889, -122.36082125431652], \"mode\": \"lines\", \"showlegend\": false, \"type\": \"scattermapbox\"}, {\"hoverinfo\": \"text\", \"hovertext\": \"W SEA BR EB 4 AV OFF RP Flow: 3210.0\", \"lat\": [47.66568967738451, 47.665782894599296, 47.666060006599885, 47.666334234468344, 47.66642110315098], \"line\": {\"color\": \"rgb(0.274952,0.037752,0.364543)\", \"width\": 2}, \"lon\": [-122.36080039700597, -122.3608004462115, -122.36080059643922, -122.36080074448208, -122.36080079090836], \"mode\": \"lines\", \"showlegend\": false, \"type\": \"scattermapbox\"}, {\"hoverinfo\": \"text\", \"hovertext\": \"W SEA BR EB 4 AV OFF RP Flow: 3210.0\", \"lat\": [47.65633896215766, 47.656944122040784], \"line\": {\"color\": \"rgb(0.274952,0.037752,0.364543)\", \"width\": 2}, \"lon\": [-122.36082125431652, -122.36081648713034], \"mode\": \"lines\", \"showlegend\": false, \"type\": \"scattermapbox\"}, {\"hoverinfo\": \"text\", \"hovertext\": \"W SEA BR EB 4 AV OFF RP Flow: 3210.0\", \"lat\": [47.66319226432623, 47.66361514995323], \"line\": {\"color\": \"rgb(0.274952,0.037752,0.364543)\", \"width\": 2}, \"lon\": [-122.3607932666881, -122.3607982890703], \"mode\": \"lines\", \"showlegend\": false, \"type\": \"scattermapbox\"}, {\"hoverinfo\": \"text\", \"hovertext\": \"W SEA BR EB 4 AV OFF RP Flow: 3210.0\", \"lat\": [47.66361514995323, 47.66433620763114], \"line\": {\"color\": \"rgb(0.274952,0.037752,0.364543)\", \"width\": 2}, \"lon\": [-122.3607982890703, -122.36079728225326], \"mode\": \"lines\", \"showlegend\": false, \"type\": \"scattermapbox\"}, {\"hoverinfo\": \"text\", \"hovertext\": \"W SEA BR EB 4 AV OFF RP Flow: 3210.0\", \"lat\": [47.65894988747395, 47.66021100696723], \"line\": {\"color\": \"rgb(0.274952,0.037752,0.364543)\", \"width\": 2}, \"lon\": [-122.36080334588658, -122.36079424188628], \"mode\": \"lines\", \"showlegend\": false, \"type\": \"scattermapbox\"}, {\"hoverinfo\": \"text\", \"hovertext\": \"W SEA BR EB 4 AV OFF RP Flow: 3210.0\", \"lat\": [47.66048478128798, 47.66146898988877], \"line\": {\"color\": \"rgb(0.274952,0.037752,0.364543)\", \"width\": 2}, \"lon\": [-122.36079219137413, -122.36078980055994], \"mode\": \"lines\", \"showlegend\": false, \"type\": \"scattermapbox\"}, {\"hoverinfo\": \"text\", \"hovertext\": \"W SEA BR EB 4 AV OFF RP Flow: 9392.0\", \"lat\": [47.52330978872168, 47.523310403970456], \"line\": {\"color\": \"rgb(0.283229,0.120777,0.440584)\", \"width\": 2}, \"lon\": [-122.27424225790604, -122.27283355453145], \"mode\": \"lines\", \"showlegend\": false, \"type\": \"scattermapbox\"}, {\"hoverinfo\": \"text\", \"hovertext\": \"W SEA BR EB 4 AV OFF RP Flow: 9392.0\", \"lat\": [47.523310403970456, 47.52331038851234, 47.523308877980696], \"line\": {\"color\": \"rgb(0.283229,0.120777,0.440584)\", \"width\": 2}, \"lon\": [-122.27283355453145, -122.27281809127876, -122.27140117397585], \"mode\": \"lines\", \"showlegend\": false, \"type\": \"scattermapbox\"}, {\"hoverinfo\": \"text\", \"hovertext\": \"W SEA BR EB 4 AV OFF RP Flow: 9392.0\", \"lat\": [47.52331233930024, 47.52331186181453, 47.52330978872168], \"line\": {\"color\": \"rgb(0.283229,0.120777,0.440584)\", \"width\": 2}, \"lon\": [-122.27640325407125, -122.2753200533358, -122.27424225790604], \"mode\": \"lines\", \"showlegend\": false, \"type\": \"scattermapbox\"}, {\"hoverinfo\": \"text\", \"hovertext\": \"W SEA BR EB 4 AV OFF RP Flow: 9392.0\", \"lat\": [47.523308877980696, 47.5233076073928, 47.52330726785948], \"line\": {\"color\": \"rgb(0.283229,0.120777,0.440584)\", \"width\": 2}, \"lon\": [-122.27140117397585, -122.27002057882628, -122.26998603943467], \"mode\": \"lines\", \"showlegend\": false, \"type\": \"scattermapbox\"}, {\"hoverinfo\": \"text\", \"hovertext\": \"W SEA BR EB 4 AV OFF RP Flow: 9500.0\", \"lat\": [47.61295826729049, 47.613300608730924], \"line\": {\"color\": \"rgb(0.283229,0.120777,0.440584)\", \"width\": 2}, \"lon\": [-122.33787347698471, -122.33743123401423], \"mode\": \"lines\", \"showlegend\": false, \"type\": \"scattermapbox\"}, {\"hoverinfo\": \"text\", \"hovertext\": \"W SEA BR EB 4 AV OFF RP Flow: 4159.0\", \"lat\": [47.66795924378061, 47.66822771160516, 47.6686993705619], \"line\": {\"color\": \"rgb(0.277018,0.050344,0.375715)\", \"width\": 2}, \"lon\": [-122.30373895004544, -122.30383078079093, -122.30389407821379], \"mode\": \"lines\", \"showlegend\": false, \"type\": \"scattermapbox\"}, {\"hoverinfo\": \"text\", \"hovertext\": \"W SEA BR EB 4 AV OFF RP Flow: 4159.0\", \"lat\": [47.6686993705619, 47.66940651224776], \"line\": {\"color\": \"rgb(0.277018,0.050344,0.375715)\", \"width\": 2}, \"lon\": [-122.30389407821379, -122.30399814500065], \"mode\": \"lines\", \"showlegend\": false, \"type\": \"scattermapbox\"}, {\"hoverinfo\": \"text\", \"hovertext\": \"W SEA BR EB 4 AV OFF RP Flow: 95580.0\", \"lat\": [47.57151842665821, 47.571518391261385, 47.57152391749084, 47.571519851920726, 47.57151840100638, 47.57151428872463, 47.571513776617444, 47.571511940155595, 47.57151043273848, 47.57150955725178, 47.571506017326115, 47.57150701089187, 47.57150691690421, 47.57150664041103, 47.57151137655423, 47.571517530593425, 47.571505308134185, 47.5714943471482, 47.57147345626606, 47.571428527426335, 47.571289347551094, 47.57126146388157, 47.57122073642776], \"line\": {\"color\": \"rgb(0.699415,0.867117,0.175971)\", \"width\": 2}, \"lon\": [-122.33091572215828, -122.33095481400872, -122.3317019037091, -122.33201045270441, -122.3321218923857, -122.33419374623583, -122.33678956823215, -122.33692463889554, -122.3373658530261, -122.33796225411706, -122.33923413315486, -122.33938842002442, -122.33946105456951, -122.3396739747102, -122.34018638784663, -122.34085258197327, -122.3411118477528, -122.34127595393933, -122.34152631319795, -122.34201865294354, -122.34320360276703, -122.34344098278255, -122.3437876991764], \"mode\": \"lines\", \"showlegend\": false, \"type\": \"scattermapbox\"}, {\"hoverinfo\": \"text\", \"hovertext\": \"W SEA BR EB 4 AV OFF RP Flow: 38500.0\", \"lat\": [47.689112765894386, 47.689835991400464], \"line\": {\"color\": \"rgb(0.182256,0.426184,0.557120)\", \"width\": 2}, \"lon\": [-122.34451443487308, -122.34451816908913], \"mode\": \"lines\", \"showlegend\": false, \"type\": \"scattermapbox\"}, {\"hoverinfo\": \"text\", \"hovertext\": \"W SEA BR EB 4 AV OFF RP Flow: 38500.0\", \"lat\": [47.689835991400464, 47.69056258657467], \"line\": {\"color\": \"rgb(0.182256,0.426184,0.557120)\", \"width\": 2}, \"lon\": [-122.34451816908913, -122.34452192148156], \"mode\": \"lines\", \"showlegend\": false, \"type\": \"scattermapbox\"}, {\"hoverinfo\": \"text\", \"hovertext\": \"W SEA BR EB 4 AV OFF RP Flow: 11444.0\", \"lat\": [47.539007881329, 47.53900778305323, 47.53900330289287, 47.53897364496539, 47.53897100404222, 47.53896390971108], \"line\": {\"color\": \"rgb(0.282290,0.145912,0.461510)\", \"width\": 2}, \"lon\": [-122.29869566053793, -122.29869323594117, -122.2985821852244, -122.29700560949395, -122.2968652697579, -122.29647359095115], \"mode\": \"lines\", \"showlegend\": false, \"type\": \"scattermapbox\"}, {\"hoverinfo\": \"text\", \"hovertext\": \"W SEA BR EB 4 AV OFF RP Flow: 11444.0\", \"lat\": [47.54092232775317, 47.54092130752708, 47.54084144026849, 47.539732859758466], \"line\": {\"color\": \"rgb(0.282290,0.145912,0.461510)\", \"width\": 2}, \"lon\": [-122.30181967940196, -122.30181843237922, -122.30172067035099, -122.30036374130502], \"mode\": \"lines\", \"showlegend\": false, \"type\": \"scattermapbox\"}, {\"hoverinfo\": \"text\", \"hovertext\": \"W SEA BR EB 4 AV OFF RP Flow: 11444.0\", \"lat\": [47.54698097761781, 47.54697704265304, 47.546536610743814, 47.54573946036498], \"line\": {\"color\": \"rgb(0.282290,0.145912,0.461510)\", \"width\": 2}, \"lon\": [-122.30793669796242, -122.30792956443774, -122.307324702599, -122.30642626099208], \"mode\": \"lines\", \"showlegend\": false, \"type\": \"scattermapbox\"}, {\"hoverinfo\": \"text\", \"hovertext\": \"W SEA BR EB 4 AV OFF RP Flow: 11444.0\", \"lat\": [47.54573946036498, 47.54572551070405, 47.54540983012704], \"line\": {\"color\": \"rgb(0.282290,0.145912,0.461510)\", \"width\": 2}, \"lon\": [-122.30642626099208, -122.30641053912836, -122.30609417634479], \"mode\": \"lines\", \"showlegend\": false, \"type\": \"scattermapbox\"}, {\"hoverinfo\": \"text\", \"hovertext\": \"W SEA BR EB 4 AV OFF RP Flow: 11444.0\", \"lat\": [47.54388532322378, 47.543231062782816, 47.5428542905258], \"line\": {\"color\": \"rgb(0.282290,0.145912,0.461510)\", \"width\": 2}, \"lon\": [-122.30451508876112, -122.30381909242855, -122.30347679943873], \"mode\": \"lines\", \"showlegend\": false, \"type\": \"scattermapbox\"}, {\"hoverinfo\": \"text\", \"hovertext\": \"W SEA BR EB 4 AV OFF RP Flow: 11444.0\", \"lat\": [47.5428542905258, 47.542401905927306, 47.54210555345807, 47.54183989828565, 47.54154455544686, 47.54123080030637, 47.54092232775317], \"line\": {\"color\": \"rgb(0.282290,0.145912,0.461510)\", \"width\": 2}, \"lon\": [-122.30347679943873, -122.30319702158957, -122.3029930335501, -122.3027563767251, -122.30247417007793, -122.30215232324991, -122.30181967940196], \"mode\": \"lines\", \"showlegend\": false, \"type\": \"scattermapbox\"}, {\"hoverinfo\": \"text\", \"hovertext\": \"W SEA BR EB 4 AV OFF RP Flow: 11444.0\", \"lat\": [47.54540983012704, 47.54388532322378], \"line\": {\"color\": \"rgb(0.282290,0.145912,0.461510)\", \"width\": 2}, \"lon\": [-122.30609417634479, -122.30451508876112], \"mode\": \"lines\", \"showlegend\": false, \"type\": \"scattermapbox\"}, {\"hoverinfo\": \"text\", \"hovertext\": \"W SEA BR EB 4 AV OFF RP Flow: 11444.0\", \"lat\": [47.539203063208795, 47.539201723281316, 47.53920037620271, 47.53919902457621, 47.53919766933536, 47.539196311362325, 47.5391949497407, 47.53919358630323, 47.539192220150724, 47.539190853081685, 47.53918948329758, 47.53918811349626, 47.53918674371192, 47.53918537301109, 47.53918400322658, 47.53918263434124, 47.53918126635503, 47.539179900201496, 47.539178534047934, 47.53917717242488, 47.53917581171807, 47.539174455558985, 47.53917310301402, 47.53917175321818, 47.539170408852144, 47.539169068134484, 47.539167732863774, 47.53916640215787, 47.53916507957958, 47.53916376248253, 47.539162450849545, 47.539161147361305, 47.539159852052116, 47.539158563123394, 47.539157282373715, 47.5391560116016, 47.5391547489914, 47.539153493259064, 47.53915224612483, 47.539151002621765, 47.53914976548202, 47.539148532890025, 47.539147303963496, 47.539146080466764, 47.53914486241696, 47.53914364803271, 47.53914243907821, 47.53914123468854, 47.53914003572865, 47.539138841333546, 47.539137651469, 47.53913646705138, 47.539135287181395, 47.53913411275836, 47.53913294288296, 47.53913177662167, 47.53913061672371, 47.539129462272705, 47.53912831145291, 47.53912716697934, 47.539126027036296, 47.539124891640924, 47.53912376167533, 47.53912263715666, 47.53912151716849, 47.53912040262729, 47.539119293515824, 47.539118188035644, 47.53911708890164, 47.53911599519745, 47.539114906023784, 47.539113822279894, 47.53911274306651, 47.53911167019934, 47.53911061192639, 47.539109554449446, 47.53910850606793, 47.53910746674751, 47.5391064364883, 47.53910541349169, 47.53910439865689, 47.53910339108473, 47.53910239165734, 47.53910139677755, 47.53910040916042, 47.539099426973024, 47.53909845023256, 47.53909747892192, 47.53909651124247, 47.53909554719426, 47.539094587693704, 47.53909363089085, 47.53909267681994, 47.53909172548098, 47.53909077594045, 47.53908982819837, 47.53908888140681, 47.53908793549729, 47.53908698957048, 47.53908604366072, 47.53908509775078, 47.539084150042186, 47.539083201399905, 47.53908225185827, 47.53908129960152, 47.53908034461253, 47.53907938600927, 47.53907842557299, 47.539077459723835, 47.5390764902432, 47.53907549733815, 47.53907471120669, 47.53907392731039, 47.53907313710192, 47.53907234327909, 47.53907154675825, 47.53907074568958, 47.53906994192292, 47.539069135458334, 47.53906832716076, 47.539067517064524, 47.53906670605176, 47.539065893257465, 47.53906508044586, 47.53906426763417, 47.539063454822305, 47.53906264292676, 47.5390618328296, 47.53906102363157, 47.539060215349835, 47.539059410682185, 47.53905860781297, 47.53905780765859, 47.539057012017544, 47.539056220007765, 47.539055431594925, 47.539054648611874, 47.53905386926002, 47.53905309711937, 47.539052329526356, 47.53905156911026, 47.53905081597394, 47.539050068267336, 47.5390493286541, 47.53904859720266, 47.539047873878864, 47.539047158699795, 47.53904645254761, 47.539045756372936, 47.53904507010729, 47.539044384098425, 47.53904371592076, 47.5390430522736, 47.53904239495548, 47.53904174216789, 47.539041094810024, 47.53904045198268, 47.539039815484394, 47.539039183516564, 47.53903855787781, 47.53903793673528, 47.539037321056774, 47.53903671077377, 47.539036105920566, 47.53903550649708, 47.53903491160413, 47.53903432212379, 47.53903373897253, 47.53903316033462, 47.53903258800857, 47.53903202021308, 47.53903145783021, 47.539030900877115, 47.53903034843736, 47.53902980229241, 47.53902926159434, 47.53902872540963, 47.539028195519684, 47.53902767105953, 47.53902715111274, 47.53902663747787, 47.539026129238465, 47.53902562464744, 47.53902512723333, 47.53902463433262, 47.53902414776088, 47.539023665702565, 47.53902318992187, 47.53902271867168, 47.539022252834116, 47.539021793556714, 47.539021342124386, 47.53902090065247, 47.539020469988806, 47.53902004835201, 47.53901963664135, 47.53901923395758, 47.53901883940137, 47.53901845295562, 47.53901807553674, 47.539017702648316, 47.53901733875254, 47.53901698032076, 47.53901662816666, 47.53901628144225, 47.53901593921414, 47.53901560331502, 47.53901527013073, 47.539014941442645, 47.53901461728509, 47.53901429400951, 47.53901397526441, 47.53901365741846, 47.53901334138802, 47.539013028038184, 47.53901271468817, 47.53901240225443, 47.53901208892123, 47.53901177648722, 47.53901146315375, 47.53901114802158, 47.53901083197292, 47.53901051320914, 47.53901019264666, 47.5390098693862, 47.5390095425114, 47.53900921112295, 47.53900887701943, 47.53900853843651, 47.539008070747734, 47.539007881329], \"line\": {\"color\": \"rgb(0.282290,0.145912,0.461510)\", \"width\": 2}, \"lon\": [-122.29957249475147, -122.29956904149107, -122.29956551496242, -122.29956199229153, -122.29955847084757, -122.29955495198388, -122.29955143700326, -122.29954792330021, -122.29954441084939, -122.29954089970146, -122.29953738980585, -122.29953388123836, -122.29953037134311, -122.29952686275075, -122.2995233528559, -122.29951984298643, -122.29951633314256, -122.29951282069341, -122.29950930824444, -122.29950579326614, -122.29950227698541, -122.29949875684729, -122.29949523548255, -122.29949171020986, -122.29948818243317, -122.29948465077388, -122.29948111528252, -122.29947757460587, -122.29947403150108, -122.29947048190824, -122.29946692715538, -122.29946336864637, -122.29945980372524, -122.29945623234136, -122.29945265454538, -122.2994490703878, -122.29944548114611, -122.29944170743782, -122.2994381040185, -122.29943449804463, -122.29943088693595, -122.29942727196995, -122.29942365179323, -122.29942002911258, -122.29941640259983, -122.29941277087642, -122.29940913664902, -122.29940549723621, -122.29940185531939, -122.29939820821718, -122.29939455858567, -122.2993909051221, -122.29938724780123, -122.29938358664825, -122.29937992163792, -122.29937625540096, -122.29937258402926, -122.2993689088255, -122.29936523106707, -122.29936154950192, -122.29935786540743, -122.29935417745558, -122.29935048699963, -122.29934679271163, -122.2993430958943, -122.29933939524494, -122.29933569209153, -122.2993319863834, -122.29932827686855, -122.29932456484968, -122.29932085030138, -122.29931713324908, -122.29931341366742, -122.29930969027895, -122.2993058118679, -122.29930208094184, -122.29929834230083, -122.29929459860101, -122.2992908498423, -122.29928709597408, -122.29928333702169, -122.2992795729598, -122.29927580514175, -122.29927203346638, -122.29926825668146, -122.29926447739244, -122.29926069427135, -122.29925690864621, -122.29925312046643, -122.29924932973191, -122.29924553514002, -122.2992417406242, -122.29923794352835, -122.29923414385257, -122.29923034422747, -122.29922654465317, -122.2992227411202, -122.29921893894074, -122.29921513808945, -122.29921133591027, -122.29920753373122, -122.2992037315017, -122.29919993190302, -122.29919613227922, -122.29919233390767, -122.29918853811631, -122.29918474355196, -122.29918095159314, -122.29917716081073, -122.29917337258321, -122.29916979625521, -122.29916588166554, -122.29916200300808, -122.29915812550163, -122.29915424922211, -122.2991503728668, -122.29914650036916, -122.29914262779579, -122.2991387551466, -122.29913488510296, -122.29913101500881, -122.29912714621751, -122.29912327604774, -122.29911940720609, -122.29911553836456, -122.29911166952317, -122.2991077993792, -122.2991039292859, -122.29910005921806, -122.2990961878476, -122.29909231525049, -122.29908844270406, -122.29908456890563, -122.29908069390574, -122.2990768163512, -122.29907293889795, -122.29906905894065, -122.29906517642854, -122.29906129279098, -122.29905740529593, -122.29905351933142, -122.29904962692936, -122.29904573202312, -122.29904183734473, -122.29903793758209, -122.29903403539117, -122.299030129444, -122.29902622109385, -122.2990223063821, -122.29901839062067, -122.29901459443057, -122.29901067120721, -122.29900674545442, -122.29900281722279, -122.29899888646172, -122.29899495319648, -122.2989910174018, -122.2989870791283, -122.29898313832537, -122.29897919504356, -122.29897525188832, -122.29897130357293, -122.29896735540942, -122.29896340474171, -122.29895945156989, -122.29895549586858, -122.29895153899118, -122.29894757963486, -122.29894361907712, -122.29893965736855, -122.29893569313049, -122.29893172771625, -122.29892775979793, -122.29892379067805, -122.29891982173538, -122.29891584896053, -122.29891187498426, -122.29890790118503, -122.2989039248817, -122.29889994737691, -122.29889596872124, -122.29889199021743, -122.29888800783081, -122.29888402697465, -122.29888004491704, -122.29887606038055, -122.29887207464252, -122.29886809040968, -122.29886410364735, -122.29886011570883, -122.29885603761777, -122.29885204875612, -122.29884805486064, -122.29884405994082, -122.29884006261797, -122.29883606291737, -122.29883206081374, -122.29882805628182, -122.29882405064963, -122.29882004261434, -122.29881603204956, -122.29881202173775, -122.29880800626573, -122.29880399229886, -122.29879997582778, -122.29879595948314, -122.29879194065965, -122.29878792058409, -122.29878390063494, -122.29877987815642, -122.29877585703113, -122.29877183337639, -122.29876780974699, -122.29876378484023, -122.2987597613374, -122.2987557378346, -122.29875171302916, -122.29874768819846, -122.29874366339304, -122.29873963856245, -122.29873561368132, -122.29873159010296, -122.29872756777675, -122.29872354539998, -122.29871952294748, -122.2987155017218, -122.29871148169775, -122.29870746292586, -122.29870344269959, -122.2986978538841, -122.29869566053793], \"mode\": \"lines\", \"showlegend\": false, \"type\": \"scattermapbox\"}, {\"hoverinfo\": \"text\", \"hovertext\": \"W SEA BR EB 4 AV OFF RP Flow: 11444.0\", \"lat\": [47.539732859758466, 47.53973075463715, 47.53972864332539, 47.53972653291286, 47.539724421618125, 47.53972231122263, 47.53972019991063, 47.53971808953215, 47.539715978220045, 47.539713866925, 47.539711755629945, 47.53970964519977, 47.53970753482101, 47.53970542350859, 47.53970331221327, 47.53970120091794, 47.53969909050461, 47.53969698012557, 47.53969486881286, 47.539692757517244, 47.53969064620444, 47.53968853580798, 47.53968642449504, 47.539684314098494, 47.53968220280259, 47.53968009150664, 47.53967798021061, 47.539675868897376, 47.5396737584834, 47.539671648086454, 47.53966953767234, 47.539667425493896, 47.53966531416322, 47.539663203766096, 47.53966109246959, 47.53965898295445, 47.53965687075856, 47.539654759444744, 47.53965264814807, 47.539650537733394, 47.53964842643653, 47.53964631513966, 47.539644204741954, 47.539642093427815, 47.53963998213073, 47.539637871715705, 47.53963576041855, 47.53963364910414, 47.539631537806805, 47.53962942740873, 47.53962731701056, 47.53962520569596, 47.539623094398394, 47.53962098308364, 47.53961887178602, 47.53961676137039, 47.539614650971906, 47.53961253967405, 47.539610428359, 47.539608317061074, 47.53960620576306, 47.53960409536422, 47.53960198493111, 47.53959987365003, 47.53959776233467, 47.53959565193562, 47.53959354062009, 47.53959143022095, 47.539589318922474, 47.539587208523216, 47.53958509722458, 47.53958298592592, 47.53958087549221, 47.53957876421058, 47.53957665381101, 47.53957454339423, 47.539572432095305, 47.539570320796265, 47.539568210379336, 47.53956609997948, 47.539563987781, 47.53956187738103, 47.53955976698099, 47.53955765568164, 47.53955554528148, 47.539553433982014, 47.53955132356459, 47.53954921228212, 47.53954710276387, 47.5395449914642, 47.539542881063674, 47.53954076976381, 47.53953865936322, 47.53953654806324, 47.53953443766251, 47.53953232634531, 47.53953021596161, 47.53952810556065, 47.53952599426045, 47.5395238838594, 47.53952177345831, 47.539519663057135, 47.53951755265595, 47.539515441355405, 47.53951333097125, 47.53951122056982, 47.53950910926914, 47.539506998867616, 47.53950488846607, 47.53950277806442, 47.539500667662764, 47.53949860690968, 47.539496547257556, 47.53949450402836, 47.53949245804978, 47.53949040932195, 47.53948835784478, 47.53948630268472, 47.53948424660827, 47.5394821877824, 47.5394801280401, 47.539478066464916, 47.539476003056784, 47.53947394054794, 47.539471876223296, 47.539469811898606, 47.539467747573816, 47.539465683249034, 47.53946362073984, 47.5394615582477, 47.5394594957898, 47.539457437828226, 47.539455379935134, 47.53945332387481, 47.53945126964728, 47.53944921906818, 47.53944717215466, 47.539445127091085, 47.53944308659234, 47.53944104797781, 47.53943901574388, 47.539436986276215, 47.53943496142487, 47.539432942936905, 47.539430928183144, 47.53942891979277, 47.539426916935135, 47.53942492049231, 47.53942292956505, 47.53942094686828, 47.539418968805, 47.53941699898937, 47.539415037404254, 47.539413061128926, 47.539411108742115, 47.53940915912158, 47.53940721408309, 47.53940527182803, 47.53940333325572, 47.539401398348986, 47.53939946802421, 47.539397540482895, 47.53939561569078, 47.53939369639709, 47.539391779852544, 47.53938986699074, 47.53938795872807, 47.5393860531974, 47.539384152265875, 47.53938225589927, 47.53938036139963, 47.539378471464836, 47.539376586129215, 47.539374704424866, 47.539372827319674, 47.539370953880066, 47.539369084088875, 47.53936721887971, 47.53936535733608, 47.53936349945807, 47.53936164704413, 47.53935979741369, 47.53935795233091, 47.53935611181302, 47.53935427587709, 47.53935244360678, 47.539350614984855, 47.5393487918271, 47.53934697233486, 47.53934515740756, 47.53934334704501, 47.53934154124735, 47.53933973909815, 47.53933794151373, 47.539336147319666, 47.53933435886499, 47.53933257409303, 47.53933079298659, 47.53932901466363, 47.539327242704026, 47.53932547261149, 47.539323707100934, 47.53932194615516, 47.53932018885784, 47.539318435260434, 47.53931668622777, 47.53931494174283, 47.53931320004139, 47.539311462887596, 47.53930973121507, 47.53930800232595, 47.53930627886666, 47.53930455819082, 47.539302842979104, 47.53930113053362, 47.53929942353519, 47.53929772110156, 47.539296022350584, 47.539294328147385, 47.53929263849182, 47.53929095251896, 47.539289271093814, 47.53928759425067, 47.53928592283733, 47.53928425508952, 47.53928259102446, 47.53928093237204, 47.539279278318766, 47.53927762881317, 47.539275983855234, 47.53927434254576, 47.539272706717526, 47.539271075402745, 47.53926944868702, 47.539267826484696, 47.539266209780784, 47.539264617726936, 47.53926301649901, 47.53926142258509, 47.539259836884575, 47.53925825756452, 47.5392566864407, 47.53925512263094, 47.53925356520167, 47.53925201325365, 47.5392504685854, 47.53924892939839, 47.5392473947762, 47.53924586653451, 47.53924434104193, 47.53924282011422, 47.539241303751304, 47.53923979191896, 47.539238282835676, 47.539236776501625, 47.53923527381591, 47.53923377292865, 47.53923227479057, 47.53923077758589, 47.53922928219681, 47.539227787706885, 47.5392262950497, 47.53922480239242, 47.53922330883578, 47.53922181707753, 47.53922032350354, 47.539218829946584, 47.539217335455945, 47.539215838233126, 47.539214341010215, 47.539212841037966, 47.53921133836779, 47.539209832931164, 47.53920832476232, 47.539206814743416, 47.539205298395196, 47.539203063208795], \"line\": {\"color\": \"rgb(0.282290,0.145912,0.461510)\", \"width\": 2}, \"lon\": [-122.30036374130502, -122.30036130666497, -122.30035872438651, -122.30035614213368, -122.30035355852766, -122.30035097494724, -122.30034839266965, -122.30034580776162, -122.30034322548447, -122.30034064187954, -122.30033805827479, -122.30033547735161, -122.3003328924446, -122.30033031016853, -122.3003277265646, -122.30032514296089, -122.30032256071077, -122.3003199758048, -122.30031739352975, -122.30031480992689, -122.30031222765228, -122.30030964407514, -122.30030706180096, -122.30030447822423, -122.30030189462246, -122.30029931102085, -122.3002967274195, -122.30029414514631, -122.30029156289869, -122.30028897932324, -122.30028639707602, -122.30028381212234, -122.30028123117825, -122.30027864760369, -122.30027606400395, -122.30027348178314, -122.30027089815849, -122.30026831588744, -122.30026573228855, -122.30026315004325, -122.30026056644476, -122.30025798284656, -122.3002553992738, -122.30025281700402, -122.30025023340637, -122.30024765116232, -122.30024506756509, -122.30024248529615, -122.30023990169934, -122.30023731812805, -122.30023473455705, -122.30023215228893, -122.30022956869296, -122.30022698642524, -122.30022440282971, -122.30022182058775, -122.30021923701794, -122.300216653423, -122.30021407115636, -122.3002114875619, -122.30020890396762, -122.30020632039884, -122.30020373948635, -122.30020115456469, -122.30019857229928, -122.30019598873136, -122.30019340646639, -122.30019082289893, -122.30018823930631, -122.30018565573923, -122.30018307214708, -122.30018048855509, -122.30017790764467, -122.30017532272511, -122.30017273915912, -122.30017015692127, -122.3001675733304, -122.30016498973964, -122.30016240750251, -122.30015982393752, -122.30015724032208, -122.30015465675757, -122.30015207319317, -122.30014948960375, -122.3001469060398, -122.30014432245075, -122.30014174021527, -122.30013915529861, -122.30013657308888, -122.30013398950065, -122.30013140593802, -122.30012882235022, -122.30012623878791, -122.30012365520061, -122.30012107163873, -122.30011848937981, -122.30011590449038, -122.30011332092916, -122.30011073734288, -122.30010815378205, -122.30010557022145, -122.3001029866611, -122.30010040310091, -122.30009781951568, -122.3000952346279, -122.30009265106835, -122.30009006748368, -122.30008748392461, -122.30008490036566, -122.300082316807, -122.3000797332485, -122.30007713647429, -122.3000740362296, -122.30007133632606, -122.30006864033088, -122.30006594824398, -122.30006326006547, -122.30006057842596, -122.30005789808938, -122.30005522166111, -122.30005254653572, -122.30004987401601, -122.30004720410193, -122.30004453421336, -122.30004186560231, -122.30003919699155, -122.30003652838101, -122.30003385977065, -122.30003118988316, -122.30002851866779, -122.30002584479666, -122.30002317105226, -122.30002049199604, -122.30001781033461, -122.30001512606796, -122.3000124379188, -122.30000974455895, -122.30000704726592, -122.30000434478758, -122.30000163572004, -122.29999892018981, -122.29999619942363, -122.29999346948813, -122.29999073441795, -122.29998798882508, -122.29998523809759, -122.29998247689807, -122.29997970657983, -122.29997692711753, -122.29997413725916, -122.29997133690343, -122.2999685248235, -122.29996570234758, -122.29996311194553, -122.29996027378692, -122.29995743039241, -122.29995458048455, -122.2999517240128, -122.29994886100238, -122.2999459927814, -122.29994311804708, -122.29994023674885, -122.29993735154277, -122.29993445852061, -122.29993156159057, -122.29992865812191, -122.29992574681195, -122.29992283292214, -122.29991991119097, -122.29991698427447, -122.29991405209681, -122.29991111473383, -122.29990816952952, -122.29990522177064, -122.29990226617046, -122.29989930535962, -122.29989634066625, -122.2998933694596, -122.2998903930423, -122.2998874114144, -122.29988442462648, -122.29988143127473, -122.29987843406563, -122.29987543167125, -122.2998724227636, -122.29986940864529, -122.29986639064442, -122.29986336748357, -122.29986033911209, -122.29985730555535, -122.2998542668133, -122.29985122288599, -122.29984817507604, -122.29984512208082, -122.29984222461529, -122.29983916124947, -122.29983609134503, -122.29983301622997, -122.29982993455101, -122.29982684773738, -122.29982375566247, -122.29982065707428, -122.29981755330081, -122.29981444564474, -122.29981133012203, -122.29980820941404, -122.29980508484874, -122.2998019537195, -122.29979881873301, -122.29979567725849, -122.29979252922001, -122.29978937867763, -122.29978622157132, -122.29978305930499, -122.29977989180274, -122.29977672046851, -122.29977354394902, -122.2997703608909, -122.29976717397544, -122.29976398320277, -122.2997607858914, -122.29975758472283, -122.29975437704083, -122.29975116685499, -122.29974795145844, -122.29974472952327, -122.29974150641219, -122.29973827545977, -122.29973504065002, -122.29973180198304, -122.29972855943338, -122.2997253103958, -122.29972206015688, -122.29971880207671, -122.29971554279516, -122.29971227569766, -122.29970877149357, -122.29970549021854, -122.29970219985012, -122.29969890041356, -122.2996955945143, -122.29969228087499, -122.29968895814221, -122.29968562894668, -122.29968229326316, -122.29967895114228, -122.29967560253334, -122.2996722487391, -122.29966888848213, -122.29966552431729, -122.2996621549671, -122.29965878043157, -122.29965540336681, -122.29965202239406, -122.29964863751344, -122.29964524875021, -122.2996418600378, -122.29963846741744, -122.29963507216654, -122.29963167563845, -122.29962827913589, -122.29962488002806, -122.29962148092051, -122.29961808178777, -122.29961468270591, -122.29961128490156, -122.29960788576946, -122.29960448926825, -122.2996010953473, -122.29959770142659, -122.29959431141421, -122.29959092132606, -122.29958753647425, -122.29958415420273, -122.29958077586483, -122.29957740000603, -122.29957249475147], \"mode\": \"lines\", \"showlegend\": false, \"type\": \"scattermapbox\"}, {\"hoverinfo\": \"text\", \"hovertext\": \"W SEA BR EB 4 AV OFF RP Flow: 25000.0\", \"lat\": [47.72313601253775, 47.72312741602586, 47.7231259694436, 47.72312451209861, 47.72311933729234], \"line\": {\"color\": \"rgb(0.241237,0.296485,0.539709)\", \"width\": 2}, \"lon\": [-122.32548354428133, -122.32449381914239, -122.32432739341787, -122.32415977684718, -122.32356466632584], \"mode\": \"lines\", \"showlegend\": false, \"type\": \"scattermapbox\"}, {\"hoverinfo\": \"text\", \"hovertext\": \"W SEA BR EB 4 AV OFF RP Flow: 8907.0\", \"lat\": [47.53475091237357, 47.53449219913138, 47.534270871684356], \"line\": {\"color\": \"rgb(0.283197,0.115680,0.436115)\", \"width\": 2}, \"lon\": [-122.33692597948556, -122.33683535494136, -122.33670190562951], \"mode\": \"lines\", \"showlegend\": false, \"type\": \"scattermapbox\"}, {\"hoverinfo\": \"text\", \"hovertext\": \"W SEA BR EB 4 AV OFF RP Flow: 8907.0\", \"lat\": [47.534270871684356, 47.534144994501986, 47.53396558032984, 47.53382752657389], \"line\": {\"color\": \"rgb(0.283197,0.115680,0.436115)\", \"width\": 2}, \"lon\": [-122.33670190562951, -122.33658062380016, -122.336410736735, -122.33628109507622], \"mode\": \"lines\", \"showlegend\": false, \"type\": \"scattermapbox\"}, {\"hoverinfo\": \"text\", \"hovertext\": \"W SEA BR EB 4 AV OFF RP Flow: 4443.0\", \"lat\": [47.7277701621179, 47.72785240809321, 47.72862419358257, 47.72867902390087], \"line\": {\"color\": \"rgb(0.277941,0.056324,0.381191)\", \"width\": 2}, \"lon\": [-122.34772451310619, -122.34772550687603, -122.3477348559012, -122.34773552064856], \"mode\": \"lines\", \"showlegend\": false, \"type\": \"scattermapbox\"}, {\"hoverinfo\": \"text\", \"hovertext\": \"W SEA BR EB 4 AV OFF RP Flow: 4443.0\", \"lat\": [47.72959341105563, 47.72967018913677, 47.73044505886253, 47.73049697132515, 47.731034270485125, 47.73103975090653], \"line\": {\"color\": \"rgb(0.277941,0.056324,0.381191)\", \"width\": 2}, \"lon\": [-122.34774659375653, -122.34774752542752, -122.34775690774667, -122.347757536757, -122.34776404643904, -122.34776411297707], \"mode\": \"lines\", \"showlegend\": false, \"type\": \"scattermapbox\"}, {\"hoverinfo\": \"text\", \"hovertext\": \"W SEA BR EB 4 AV OFF RP Flow: 4443.0\", \"lat\": [47.72867902390087, 47.72873385878603, 47.729505648731816, 47.72958244389928, 47.729587910832294, 47.72959341105563], \"line\": {\"color\": \"rgb(0.277941,0.056324,0.381191)\", \"width\": 2}, \"lon\": [-122.34773552064856, -122.34773618019707, -122.34774552967076, -122.34774646183703, -122.34774652797789, -122.34774659375653], \"mode\": \"lines\", \"showlegend\": false, \"type\": \"scattermapbox\"}, {\"hoverinfo\": \"text\", \"hovertext\": \"W SEA BR EB 4 AV OFF RP Flow: 4443.0\", \"lat\": [47.73103975090653, 47.731045236741224, 47.732314180067966], \"line\": {\"color\": \"rgb(0.277941,0.056324,0.381191)\", \"width\": 2}, \"lon\": [-122.34776411297707, -122.34776417833962, -122.34777954753106], \"mode\": \"lines\", \"showlegend\": false, \"type\": \"scattermapbox\"}, {\"hoverinfo\": \"text\", \"hovertext\": \"W SEA BR EB 4 AV OFF RP Flow: 4443.0\", \"lat\": [47.732314180067966, 47.73404674476804, 47.73412900686401], \"line\": {\"color\": \"rgb(0.277941,0.056324,0.381191)\", \"width\": 2}, \"lon\": [-122.34777954753106, -122.34780053188146, -122.34780152903004], \"mode\": \"lines\", \"showlegend\": false, \"type\": \"scattermapbox\"}, {\"hoverinfo\": \"text\", \"hovertext\": \"W SEA BR EB 4 AV OFF RP Flow: 4443.0\", \"lat\": [47.72321837745099, 47.72619015232945, 47.72629045227776, 47.72635927588732, 47.72639086536545, 47.72649136639619, 47.72659194188151, 47.72669257916143, 47.726793256707055, 47.72686127147506], \"line\": {\"color\": \"rgb(0.277941,0.056324,0.381191)\", \"width\": 2}, \"lon\": [-122.34819529854697, -122.34776726853163, -122.34775378406043, -122.3477458532189, -122.34774221212061, -122.3477325533214, -122.3477248072805, -122.34771897897281, -122.34771506378162, -122.34771350777534], \"mode\": \"lines\", \"showlegend\": false, \"type\": \"scattermapbox\"}, {\"hoverinfo\": \"text\", \"hovertext\": \"W SEA BR EB 4 AV OFF RP Flow: 4443.0\", \"lat\": [47.72686127147506, 47.726867099964046, 47.72694353720299, 47.7271024587241, 47.72768786130508, 47.7277701621179], \"line\": {\"color\": \"rgb(0.277941,0.056324,0.381191)\", \"width\": 2}, \"lon\": [-122.34771350777534, -122.34771358045556, -122.34771450475306, -122.34771642974545, -122.34772351640653, -122.34772451310619], \"mode\": \"lines\", \"showlegend\": false, \"type\": \"scattermapbox\"}, {\"hoverinfo\": \"text\", \"hovertext\": \"W SEA BR EB 4 AV OFF RP Flow: 622.0\", \"lat\": [47.66004205339197, 47.6600674789477], \"line\": {\"color\": \"rgb(0.267004,0.004874,0.329415)\", \"width\": 2}, \"lon\": [-122.39759664972885, -122.39826335138956], \"mode\": \"lines\", \"showlegend\": false, \"type\": \"scattermapbox\"}, {\"hoverinfo\": \"text\", \"hovertext\": \"W SEA BR EB 4 AV OFF RP Flow: 622.0\", \"lat\": [47.65406963883957, 47.65601451576207], \"line\": {\"color\": \"rgb(0.267004,0.004874,0.329415)\", \"width\": 2}, \"lon\": [-122.39561029716297, -122.39566078920826], \"mode\": \"lines\", \"showlegend\": false, \"type\": \"scattermapbox\"}, {\"hoverinfo\": \"text\", \"hovertext\": \"W SEA BR EB 4 AV OFF RP Flow: 622.0\", \"lat\": [47.65601451576207, 47.65628866380353, 47.656980623026755, 47.65769008659105, 47.65839868092849], \"line\": {\"color\": \"rgb(0.267004,0.004874,0.329415)\", \"width\": 2}, \"lon\": [-122.39566078920826, -122.39565972857672, -122.39584391223141, -122.39616789146959, -122.39658260403849], \"mode\": \"lines\", \"showlegend\": false, \"type\": \"scattermapbox\"}, {\"hoverinfo\": \"text\", \"hovertext\": \"W SEA BR EB 4 AV OFF RP Flow: 622.0\", \"lat\": [47.65839868092849, 47.65881230054673, 47.66004205339197], \"line\": {\"color\": \"rgb(0.267004,0.004874,0.329415)\", \"width\": 2}, \"lon\": [-122.39658260403849, -122.3970078045961, -122.39759664972885], \"mode\": \"lines\", \"showlegend\": false, \"type\": \"scattermapbox\"}, {\"hoverinfo\": \"text\", \"hovertext\": \"W SEA BR EB 4 AV OFF RP Flow: 7995.0\", \"lat\": [47.6376201157893, 47.638107334250364, 47.63816397996639, 47.63822110176379, 47.638278672825166, 47.63833666188947, 47.638395040322905, 47.63845377592976, 47.638512840093675, 47.63957729720074], \"line\": {\"color\": \"rgb(0.282910,0.105393,0.426902)\", \"width\": 2}, \"lon\": [-122.34335745513222, -122.34366625002639, -122.34369832522728, -122.34372848698371, -122.34375672253202, -122.34378301498595, -122.34380735285981, -122.34382972190187, -122.34385010929536, -122.34415301574943], \"mode\": \"lines\", \"showlegend\": false, \"type\": \"scattermapbox\"}, {\"hoverinfo\": \"text\", \"hovertext\": \"W SEA BR EB 4 AV OFF RP Flow: 7995.0\", \"lat\": [47.63957729720074, 47.64032507270142], \"line\": {\"color\": \"rgb(0.282910,0.105393,0.426902)\", \"width\": 2}, \"lon\": [-122.34415301574943, -122.34439622963248], \"mode\": \"lines\", \"showlegend\": false, \"type\": \"scattermapbox\"}, {\"hoverinfo\": \"text\", \"hovertext\": \"W SEA BR EB 4 AV OFF RP Flow: 22200.0\", \"lat\": [47.57438557834872, 47.573700014412786], \"line\": {\"color\": \"rgb(0.253935,0.265254,0.529983)\", \"width\": 2}, \"lon\": [-122.33420366061453, -122.33420386883668], \"mode\": \"lines\", \"showlegend\": false, \"type\": \"scattermapbox\"}, {\"hoverinfo\": \"text\", \"hovertext\": \"W SEA BR EB 4 AV OFF RP Flow: 22200.0\", \"lat\": [47.57557557378351, 47.57544200432243, 47.57438557834872], \"line\": {\"color\": \"rgb(0.253935,0.265254,0.529983)\", \"width\": 2}, \"lon\": [-122.3342030257217, -122.33420309877853, -122.33420366061453], \"mode\": \"lines\", \"showlegend\": false, \"type\": \"scattermapbox\"}, {\"hoverinfo\": \"text\", \"hovertext\": \"W SEA BR EB 4 AV OFF RP Flow: 11316.0\", \"lat\": [47.58839962259822, 47.58837465259308], \"line\": {\"color\": \"rgb(0.282623,0.140926,0.457517)\", \"width\": 2}, \"lon\": [-122.30387171572288, -122.30259364695866], \"mode\": \"lines\", \"showlegend\": false, \"type\": \"scattermapbox\"}, {\"hoverinfo\": \"text\", \"hovertext\": \"W SEA BR EB 4 AV OFF RP Flow: 11316.0\", \"lat\": [47.58840682478684, 47.58839962259822], \"line\": {\"color\": \"rgb(0.282623,0.140926,0.457517)\", \"width\": 2}, \"lon\": [-122.30515359481005, -122.30387171572288], \"mode\": \"lines\", \"showlegend\": false, \"type\": \"scattermapbox\"}, {\"hoverinfo\": \"text\", \"hovertext\": \"W SEA BR EB 4 AV OFF RP Flow: 11316.0\", \"lat\": [47.58841060090693, 47.58840682478684], \"line\": {\"color\": \"rgb(0.282623,0.140926,0.457517)\", \"width\": 2}, \"lon\": [-122.30582739706331, -122.30515359481005], \"mode\": \"lines\", \"showlegend\": false, \"type\": \"scattermapbox\"}, {\"hoverinfo\": \"text\", \"hovertext\": \"W SEA BR EB 4 AV OFF RP Flow: 27000.0\", \"lat\": [47.661344087635904, 47.66134347616933, 47.66134139372278, 47.661339316767275, 47.66133870433816], \"line\": {\"color\": \"rgb(0.231674,0.318106,0.544834)\", \"width\": 2}, \"lon\": [-122.32510772917854, -122.32498599201851, -122.32457116254378, -122.32415813498766, -122.32403639385659], \"mode\": \"lines\", \"showlegend\": false, \"type\": \"scattermapbox\"}, {\"hoverinfo\": \"text\", \"hovertext\": \"W SEA BR EB 4 AV OFF RP Flow: 27000.0\", \"lat\": [47.66133870433816, 47.661338100684475, 47.66133587938324, 47.66133492063743, 47.6613336430638, 47.66133334696649], \"line\": {\"color\": \"rgb(0.231674,0.318106,0.544834)\", \"width\": 2}, \"lon\": [-122.32403639385659, -122.32391465964183, -122.323466413332, -122.32327316221935, -122.32301567255361, -122.32295632168815], \"mode\": \"lines\", \"showlegend\": false, \"type\": \"scattermapbox\"}, {\"hoverinfo\": \"text\", \"hovertext\": \"W SEA BR EB 4 AV OFF RP Flow: 6000.0\", \"lat\": [47.65226690650073, 47.65274500113009], \"line\": {\"color\": \"rgb(0.280894,0.078907,0.402329)\", \"width\": 2}, \"lon\": [-122.34662936691294, -122.3459637059469], \"mode\": \"lines\", \"showlegend\": false, \"type\": \"scattermapbox\"}, {\"hoverinfo\": \"text\", \"hovertext\": \"W SEA BR EB 4 AV OFF RP Flow: 10000.0\", \"lat\": [47.6008490394015, 47.6000109139239], \"line\": {\"color\": \"rgb(0.283187,0.125848,0.444960)\", \"width\": 2}, \"lon\": [-122.31413108847703, -122.31413300214497], \"mode\": \"lines\", \"showlegend\": false, \"type\": \"scattermapbox\"}, {\"hoverinfo\": \"text\", \"hovertext\": \"W SEA BR EB 4 AV OFF RP Flow: 10000.0\", \"lat\": [47.6000109139239, 47.599290347746326, 47.5992100870423], \"line\": {\"color\": \"rgb(0.283187,0.125848,0.444960)\", \"width\": 2}, \"lon\": [-122.31413300214497, -122.31413464022056, -122.31413725513323], \"mode\": \"lines\", \"showlegend\": false, \"type\": \"scattermapbox\"}, {\"hoverinfo\": \"text\", \"hovertext\": \"W SEA BR EB 4 AV OFF RP Flow: 10000.0\", \"lat\": [47.60168875729078, 47.60159828331433, 47.600939630267916, 47.6008490394015], \"line\": {\"color\": \"rgb(0.283187,0.125848,0.444960)\", \"width\": 2}, \"lon\": [-122.3141619257043, -122.31415860252368, -122.31413441621783, -122.31413108847703], \"mode\": \"lines\", \"showlegend\": false, \"type\": \"scattermapbox\"}, {\"hoverinfo\": \"text\", \"hovertext\": \"W SEA BR EB 4 AV OFF RP Flow: 1141.0\", \"lat\": [47.52062225198288, 47.52019340836753], \"line\": {\"color\": \"rgb(0.268510,0.009605,0.335427)\", \"width\": 2}, \"lon\": [-122.38911335307286, -122.3904130832443], \"mode\": \"lines\", \"showlegend\": false, \"type\": \"scattermapbox\"}, {\"hoverinfo\": \"text\", \"hovertext\": \"W SEA BR EB 4 AV OFF RP Flow: 28649.0\", \"lat\": [47.66866536814708, 47.66866690848004], \"line\": {\"color\": \"rgb(0.223925,0.334994,0.548053)\", \"width\": 2}, \"lon\": [-122.37358850400103, -122.37621447442353], \"mode\": \"lines\", \"showlegend\": false, \"type\": \"scattermapbox\"}, {\"hoverinfo\": \"text\", \"hovertext\": \"W SEA BR EB 4 AV OFF RP Flow: 29000.0\", \"lat\": [47.588227007067616, 47.586170116926255], \"line\": {\"color\": \"rgb(0.223925,0.334994,0.548053)\", \"width\": 2}, \"lon\": [-122.32905138747371, -122.32906226397816], \"mode\": \"lines\", \"showlegend\": false, \"type\": \"scattermapbox\"}, {\"hoverinfo\": \"text\", \"hovertext\": \"W SEA BR EB 4 AV OFF RP Flow: 29000.0\", \"lat\": [47.58933809818978, 47.588227007067616], \"line\": {\"color\": \"rgb(0.223925,0.334994,0.548053)\", \"width\": 2}, \"lon\": [-122.32904512413121, -122.32905138747371], \"mode\": \"lines\", \"showlegend\": false, \"type\": \"scattermapbox\"}, {\"hoverinfo\": \"text\", \"hovertext\": \"W SEA BR EB 4 AV OFF RP Flow: 2000.0\", \"lat\": [47.539432124129895, 47.539431933335806], \"line\": {\"color\": \"rgb(0.271305,0.019942,0.347269)\", \"width\": 2}, \"lon\": [-122.32154471518784, -122.32038272679212], \"mode\": \"lines\", \"showlegend\": false, \"type\": \"scattermapbox\"}, {\"hoverinfo\": \"text\", \"hovertext\": \"W SEA BR EB 4 AV OFF RP Flow: 2000.0\", \"lat\": [47.53943421244721, 47.539432124129895], \"line\": {\"color\": \"rgb(0.271305,0.019942,0.347269)\", \"width\": 2}, \"lon\": [-122.32190039068865, -122.32154471518784], \"mode\": \"lines\", \"showlegend\": false, \"type\": \"scattermapbox\"}, {\"hoverinfo\": \"text\", \"hovertext\": \"W SEA BR EB 4 AV OFF RP Flow: 4175.0\", \"lat\": [47.67415590764737, 47.674178500758785, 47.67420976192179, 47.67424346814278, 47.67427770147235, 47.67432688604985, 47.674374957016425, 47.674428213050795, 47.67447154710958, 47.67450890366365, 47.67453997812239, 47.67458714475746, 47.67463293142721, 47.674665136030434, 47.67470228701869, 47.674749232077986, 47.67481106469537, 47.67487133809745, 47.67491764419142, 47.675004027878806, 47.6750464865643, 47.67509177899379, 47.675129766752114, 47.675170537220595, 47.6752346964974, 47.675270885447276, 47.6753202673411, 47.67536731744962, 47.675422553780265, 47.67546747633847, 47.67552054758748, 47.67556591078632, 47.67561407113036, 47.67566781812817, 47.6757190900248, 47.67574347233933, 47.67578421456959, 47.67581693306072, 47.67583875887616, 47.675887390274504, 47.675936115286234, 47.6759848520595], \"line\": {\"color\": \"rgb(0.277018,0.050344,0.375715)\", \"width\": 2}, \"lon\": [-122.34559099279053, -122.34562505706302, -122.34567034628391, -122.3457178764763, -122.3457648000451, -122.34582983393881, -122.34589024959561, -122.34595413953208, -122.34600388036478, -122.34604491737393, -122.34607817137363, -122.346127144882, -122.34617265914171, -122.34620338614955, -122.34623821980766, -122.3462801636716, -122.34633247623304, -122.34638087280128, -122.34641619305246, -122.34647813171941, -122.3465065923092, -122.34653552839136, -122.34655883065705, -122.3465827933976, -122.34661821166091, -122.3466371473668, -122.3466615554681, -122.34668359270444, -122.34670794893906, -122.34672632659465, -122.34674639478924, -122.3467624143956, -122.34677841425759, -122.34679447561561, -122.34680825513972, -122.34681386031954, -122.34682186403296, -122.34682710061524, -122.3468301858062, -122.34683537568242, -122.3468383944647, -122.3468350426157], \"mode\": \"lines\", \"showlegend\": false, \"type\": \"scattermapbox\"}, {\"hoverinfo\": \"text\", \"hovertext\": \"W SEA BR EB 4 AV OFF RP Flow: 19000.0\", \"lat\": [47.51161897611113, 47.51137582729781, 47.511315330677135, 47.511260135364566, 47.51121065897455, 47.51116727879379, 47.51113032388689, 47.51110007163173, 47.511076755764094, 47.51106055388741, 47.51105158587278], \"line\": {\"color\": \"rgb(0.265145,0.232956,0.516599)\", \"width\": 2}, \"lon\": [-122.2483239035873, -122.24800743514447, -122.24792149901224, -122.2478281160885, -122.24772799079108, -122.24762188751046, -122.24751061446291, -122.24739501297537, -122.2472759616884, -122.24715436825187, -122.2470311533502], \"mode\": \"lines\", \"showlegend\": false, \"type\": \"scattermapbox\"}, {\"hoverinfo\": \"text\", \"hovertext\": \"W SEA BR EB 4 AV OFF RP Flow: 19000.0\", \"lat\": [47.51932465815904, 47.51930401579478, 47.51928304432222, 47.518758637967444, 47.51875863531949, 47.51762332402608, 47.51756449277496], \"line\": {\"color\": \"rgb(0.265145,0.232956,0.516599)\", \"width\": 2}, \"lon\": [-122.25734254446323, -122.25731200157011, -122.2572819490283, -122.25654241913512, -122.25654241507894, -122.25495854763984, -122.25492280749917], \"mode\": \"lines\", \"showlegend\": false, \"type\": \"scattermapbox\"}, {\"hoverinfo\": \"text\", \"hovertext\": \"W SEA BR EB 4 AV OFF RP Flow: 19000.0\", \"lat\": [47.513277978601224, 47.513247813922746, 47.51189653439397, 47.51189375488473, 47.51171455660131, 47.51161897611113], \"line\": {\"color\": \"rgb(0.265145,0.232956,0.516599)\", \"width\": 2}, \"lon\": [-122.2504865408557, -122.25044721686054, -122.24868555345745, -122.24868192618415, -122.24844830929902, -122.2483239035873], \"mode\": \"lines\", \"showlegend\": false, \"type\": \"scattermapbox\"}, {\"hoverinfo\": \"text\", \"hovertext\": \"W SEA BR EB 4 AV OFF RP Flow: 19000.0\", \"lat\": [47.5147516326926, 47.513277978601224], \"line\": {\"color\": \"rgb(0.265145,0.232956,0.516599)\", \"width\": 2}, \"lon\": [-122.25240047110923, -122.2504865408557], \"mode\": \"lines\", \"showlegend\": false, \"type\": \"scattermapbox\"}, {\"hoverinfo\": \"text\", \"hovertext\": \"W SEA BR EB 4 AV OFF RP Flow: 19000.0\", \"lat\": [47.52026439609339, 47.5203208709865, 47.52032933583517, 47.52033674898608, 47.520340268735865, 47.52034413984522, 47.52034681941569, 47.52035091032438], \"line\": {\"color\": \"rgb(0.265145,0.232956,0.516599)\", \"width\": 2}, \"lon\": [-122.26158231791807, -122.2611160218259, -122.26103610095717, -122.26095174362892, -122.26090345568917, -122.260839161689, -122.2607825626808, -122.26071000655716], \"mode\": \"lines\", \"showlegend\": false, \"type\": \"scattermapbox\"}, {\"hoverinfo\": \"text\", \"hovertext\": \"W SEA BR EB 4 AV OFF RP Flow: 19000.0\", \"lat\": [47.52035091032438, 47.52035002571888, 47.52035060995433, 47.52035052386207, 47.520349605951196, 47.52034715073202, 47.52034331738149, 47.52033862571734, 47.52033312874545, 47.52032619604097, 47.520317673377576, 47.52030782529506, 47.52029679047458, 47.520283741048154, 47.520270871158125, 47.52025684872059, 47.520240884576324, 47.520228330167086, 47.52020627488474, 47.52018778779118, 47.52016695785351, 47.52014704452969, 47.520126162769515, 47.52010432206632, 47.52008153191343, 47.520057806334066, 47.51980316460091, 47.519591281521386, 47.5195645583776, 47.51953662729881, 47.519507510136336, 47.519477230573635, 47.51944581141133, 47.51941327636636, 47.51937965363521, 47.51934496790064, 47.51932465815904], \"line\": {\"color\": \"rgb(0.265145,0.232956,0.516599)\", \"width\": 2}, \"lon\": [-122.26071000655716, -122.26066943849779, -122.26061299059823, -122.26056406871106, -122.26049686272424, -122.26041596945497, -122.26033535453013, -122.26026283551069, -122.26019448031494, -122.26012210980569, -122.26004625628103, -122.2599709255937, -122.25989560495323, -122.25981737667338, -122.25974698322067, -122.25967702970458, -122.25960366459343, -122.25955012020898, -122.25946313459939, -122.2593953870806, -122.25932436442602, -122.25926058189665, -122.25919747941832, -122.25913508912524, -122.25907344315142, -122.25901257109858, -122.25837993808018, -122.25785354554921, -122.2577892608269, -122.25772610381627, -122.25766412557995, -122.25760337457453, -122.257543897904, -122.25748574136898, -122.25742895222014, -122.2573735709718, -122.25734254446323], \"mode\": \"lines\", \"showlegend\": false, \"type\": \"scattermapbox\"}, {\"hoverinfo\": \"text\", \"hovertext\": \"W SEA BR EB 4 AV OFF RP Flow: 19000.0\", \"lat\": [47.51675958299864, 47.51632848693727, 47.516248314416465, 47.516198633684645, 47.51615060692577, 47.516104521213705, 47.51606065153253, 47.51601926259195, 47.515997206755465, 47.51542889945865, 47.5147516326926], \"line\": {\"color\": \"rgb(0.265145,0.232956,0.516599)\", \"width\": 2}, \"lon\": [-122.25450762923141, -122.25428612068946, -122.2542449218059, -122.2542161506402, -122.25418179966559, -122.25414207590222, -122.25409721790712, -122.254047494496, -122.25401884311036, -122.25328042957568, -122.25240047110923], \"mode\": \"lines\", \"showlegend\": false, \"type\": \"scattermapbox\"}, {\"hoverinfo\": \"text\", \"hovertext\": \"W SEA BR EB 4 AV OFF RP Flow: 19000.0\", \"lat\": [47.51756449277496, 47.51675958299864], \"line\": {\"color\": \"rgb(0.265145,0.232956,0.516599)\", \"width\": 2}, \"lon\": [-122.25492280749917, -122.25450762923141], \"mode\": \"lines\", \"showlegend\": false, \"type\": \"scattermapbox\"}, {\"hoverinfo\": \"text\", \"hovertext\": \"W SEA BR EB 4 AV OFF RP Flow: 5772.0\", \"lat\": [47.532065298156596, 47.53183341833683, 47.531688736772615, 47.53165284070124, 47.531545609184, 47.53149986080489, 47.5314565994881, 47.531396901573004, 47.531339752028835, 47.53128249869193, 47.53122234814728, 47.531140198022136, 47.53109910343576, 47.53105523737362, 47.53096473758544, 47.530770070796486, 47.530326156248314, 47.52999912228058, 47.529976885588795, 47.52938184820254, 47.528324474331995, 47.52826442024804, 47.52826148345834, 47.528235758292475, 47.52807288195729, 47.52803231503314, 47.527994574691206, 47.527935492823644, 47.52787925603443, 47.52782053793784, 47.527748740580314, 47.52769867624352, 47.52760709951265, 47.52751780902481, 47.52722969558946, 47.527159524302355, 47.527135859093, 47.5271172495231, 47.527098510006006, 47.527074274501445, 47.52705256749877, 47.52703076672782, 47.52700342009278, 47.52699442583219, 47.526978740109556, 47.52695680086646, 47.5269348858347, 47.526910308908064, 47.52688310150261, 47.52686146065628, 47.5268372867648, 47.5268159825752, 47.52679225097253, 47.52676623916694, 47.52674571270378, 47.52673055516394, 47.52670060602293, 47.52665964430275, 47.526645566832535, 47.52662946384582, 47.526611474803154, 47.526598306590515, 47.52658328998413, 47.52656445133818, 47.52652791326205, 47.526507738887176, 47.526486404799705, 47.52645148994186, 47.52623508651426], \"line\": {\"color\": \"rgb(0.280267,0.073417,0.397163)\", \"width\": 2}, \"lon\": [-122.33519136352838, -122.33509500753127, -122.33503437555697, -122.33502177422017, -122.3349876682045, -122.33497464223841, -122.33496409352401, -122.33495115048217, -122.33494067450388, -122.3349320618233, -122.33492504996764, -122.33491862361461, -122.33491729606646, -122.33491717711193, -122.33491819970611, -122.33491816149682, -122.33489915447433, -122.33485797408903, -122.33485819013852, -122.334851316157, -122.33483909802578, -122.33483840118383, -122.3348383683736, -122.33483836437865, -122.33487446413552, -122.33488433020207, -122.33489446762701, -122.33491223572379, -122.33493057719342, -122.33495111040826, -122.3349776208943, -122.33499873407447, -122.33504121204405, -122.33508128129343, -122.3352268539411, -122.33526155644617, -122.33527190646348, -122.33527886650805, -122.33528504049515, -122.335291847695, -122.33529656811181, -122.33530014755961, -122.33530268924238, -122.33530316320036, -122.33530399020489, -122.33530368600307, -122.33530223095669, -122.33529900309833, -122.33529421186215, -122.33528889304888, -122.33528164974526, -122.33527393396513, -122.33526392485034, -122.33525096653837, -122.33523954098736, -122.33523008446677, -122.33520989364682, -122.33517721667383, -122.3351646567946, -122.33514920819458, -122.33513066504374, -122.33511580972456, -122.33509814118725, -122.33507472572343, -122.3350228340948, -122.33498973893042, -122.33495209190794, -122.33485708801263, -122.33440526697807], \"mode\": \"lines\", \"showlegend\": false, \"type\": \"scattermapbox\"}, {\"hoverinfo\": \"text\", \"hovertext\": \"W SEA BR EB 4 AV OFF RP Flow: 5772.0\", \"lat\": [47.53382752657389, 47.53333465672893, 47.532901391892814, 47.532708525901676, 47.532065298156596], \"line\": {\"color\": \"rgb(0.280267,0.073417,0.397163)\", \"width\": 2}, \"lon\": [-122.33628109507622, -122.33584319316543, -122.33552768178352, -122.33541048585839, -122.33519136352838], \"mode\": \"lines\", \"showlegend\": false, \"type\": \"scattermapbox\"}, {\"hoverinfo\": \"text\", \"hovertext\": \"W SEA BR EB 4 AV OFF RP Flow: 8231.0\", \"lat\": [47.702399564858524, 47.70293675797207, 47.70348590380648], \"line\": {\"color\": \"rgb(0.282910,0.105393,0.426902)\", \"width\": 2}, \"lon\": [-122.36074267927478, -122.36074703370494, -122.36075148517119], \"mode\": \"lines\", \"showlegend\": false, \"type\": \"scattermapbox\"}, {\"hoverinfo\": \"text\", \"hovertext\": \"W SEA BR EB 4 AV OFF RP Flow: 5395.0\", \"lat\": [47.67756550344018, 47.67785516976408], \"line\": {\"color\": \"rgb(0.279566,0.067836,0.391917)\", \"width\": 2}, \"lon\": [-122.32722706583522, -122.32618602303907], \"mode\": \"lines\", \"showlegend\": false, \"type\": \"scattermapbox\"}, {\"hoverinfo\": \"text\", \"hovertext\": \"W SEA BR EB 4 AV OFF RP Flow: 5395.0\", \"lat\": [47.6783231051808, 47.6785321319599, 47.67875757084303], \"line\": {\"color\": \"rgb(0.279566,0.067836,0.391917)\", \"width\": 2}, \"lon\": [-122.32537522159859, -122.3251743964185, -122.32498923031012], \"mode\": \"lines\", \"showlegend\": false, \"type\": \"scattermapbox\"}, {\"hoverinfo\": \"text\", \"hovertext\": \"W SEA BR EB 4 AV OFF RP Flow: 5395.0\", \"lat\": [47.67785516976408, 47.6783231051808], \"line\": {\"color\": \"rgb(0.279566,0.067836,0.391917)\", \"width\": 2}, \"lon\": [-122.32618602303907, -122.32537522159859], \"mode\": \"lines\", \"showlegend\": false, \"type\": \"scattermapbox\"}, {\"hoverinfo\": \"text\", \"hovertext\": \"W SEA BR EB 4 AV OFF RP Flow: 8300.0\", \"lat\": [47.60168276287388, 47.601680552971544], \"line\": {\"color\": \"rgb(0.282910,0.105393,0.426902)\", \"width\": 2}, \"lon\": [-122.3115690626143, -122.31026488387366], \"mode\": \"lines\", \"showlegend\": false, \"type\": \"scattermapbox\"}, {\"hoverinfo\": \"text\", \"hovertext\": \"W SEA BR EB 4 AV OFF RP Flow: 8300.0\", \"lat\": [47.60167608763888, 47.60167412892825, 47.6016738344058], \"line\": {\"color\": \"rgb(0.282910,0.105393,0.426902)\", \"width\": 2}, \"lon\": [-122.30765671824015, -122.30652185000844, -122.30635179768792], \"mode\": \"lines\", \"showlegend\": false, \"type\": \"scattermapbox\"}, {\"hoverinfo\": \"text\", \"hovertext\": \"W SEA BR EB 4 AV OFF RP Flow: 8300.0\", \"lat\": [47.601680552971544, 47.60167832862999], \"line\": {\"color\": \"rgb(0.282910,0.105393,0.426902)\", \"width\": 2}, \"lon\": [-122.31026488387366, -122.3089594868956], \"mode\": \"lines\", \"showlegend\": false, \"type\": \"scattermapbox\"}, {\"hoverinfo\": \"text\", \"hovertext\": \"W SEA BR EB 4 AV OFF RP Flow: 8300.0\", \"lat\": [47.60166927622328, 47.601667298913014], \"line\": {\"color\": \"rgb(0.282910,0.105393,0.426902)\", \"width\": 2}, \"lon\": [-122.30373893477018, -122.30233880127626], \"mode\": \"lines\", \"showlegend\": false, \"type\": \"scattermapbox\"}, {\"hoverinfo\": \"text\", \"hovertext\": \"W SEA BR EB 4 AV OFF RP Flow: 8300.0\", \"lat\": [47.60167832862999, 47.60167608763888], \"line\": {\"color\": \"rgb(0.282910,0.105393,0.426902)\", \"width\": 2}, \"lon\": [-122.3089594868956, -122.30765671824015], \"mode\": \"lines\", \"showlegend\": false, \"type\": \"scattermapbox\"}, {\"hoverinfo\": \"text\", \"hovertext\": \"W SEA BR EB 4 AV OFF RP Flow: 8300.0\", \"lat\": [47.6016738344058, 47.60167156061117], \"line\": {\"color\": \"rgb(0.282910,0.105393,0.426902)\", \"width\": 2}, \"lon\": [-122.30635179768792, -122.30504404134074], \"mode\": \"lines\", \"showlegend\": false, \"type\": \"scattermapbox\"}, {\"hoverinfo\": \"text\", \"hovertext\": \"W SEA BR EB 4 AV OFF RP Flow: 8300.0\", \"lat\": [47.60167156061117, 47.60166927622328], \"line\": {\"color\": \"rgb(0.282910,0.105393,0.426902)\", \"width\": 2}, \"lon\": [-122.30504404134074, -122.30373893477018], \"mode\": \"lines\", \"showlegend\": false, \"type\": \"scattermapbox\"}, {\"hoverinfo\": \"text\", \"hovertext\": \"W SEA BR EB 4 AV OFF RP Flow: 8300.0\", \"lat\": [47.60168635886487, 47.60168276287388], \"line\": {\"color\": \"rgb(0.282910,0.105393,0.426902)\", \"width\": 2}, \"lon\": [-122.31287736467849, -122.3115690626143], \"mode\": \"lines\", \"showlegend\": false, \"type\": \"scattermapbox\"}, {\"hoverinfo\": \"text\", \"hovertext\": \"W SEA BR EB 4 AV OFF RP Flow: 8300.0\", \"lat\": [47.60168875729078, 47.60168869509636, 47.60168661094869, 47.60168635886487], \"line\": {\"color\": \"rgb(0.282910,0.105393,0.426902)\", \"width\": 2}, \"lon\": [-122.3141619257043, -122.31412917439448, -122.31301112724192, -122.31287736467849], \"mode\": \"lines\", \"showlegend\": false, \"type\": \"scattermapbox\"}, {\"hoverinfo\": \"text\", \"hovertext\": \"W SEA BR EB 4 AV OFF RP Flow: 4403.0\", \"lat\": [47.55089034433846, 47.55088714802839, 47.55088690947318, 47.55082063156513, 47.55081850157366], \"line\": {\"color\": \"rgb(0.277941,0.056324,0.381191)\", \"width\": 2}, \"lon\": [-122.29688087254223, -122.2967593791795, -122.29675030880199, -122.29423209621096, -122.29415116648165], \"mode\": \"lines\", \"showlegend\": false, \"type\": \"scattermapbox\"}, {\"hoverinfo\": \"text\", \"hovertext\": \"W SEA BR EB 4 AV OFF RP Flow: 4403.0\", \"lat\": [47.5509545803839, 47.551040148400006], \"line\": {\"color\": \"rgb(0.277941,0.056324,0.381191)\", \"width\": 2}, \"lon\": [-122.291555695717, -122.29043731608365], \"mode\": \"lines\", \"showlegend\": false, \"type\": \"scattermapbox\"}, {\"hoverinfo\": \"text\", \"hovertext\": \"W SEA BR EB 4 AV OFF RP Flow: 4403.0\", \"lat\": [47.550925175723016, 47.550910530563826], \"line\": {\"color\": \"rgb(0.277941,0.056324,0.381191)\", \"width\": 2}, \"lon\": [-122.298254440553, -122.29768622705946], \"mode\": \"lines\", \"showlegend\": false, \"type\": \"scattermapbox\"}, {\"hoverinfo\": \"text\", \"hovertext\": \"W SEA BR EB 4 AV OFF RP Flow: 4403.0\", \"lat\": [47.550910530563826, 47.550909921419716, 47.55089855316117, 47.55089309000632, 47.55089034433846], \"line\": {\"color\": \"rgb(0.277941,0.056324,0.381191)\", \"width\": 2}, \"lon\": [-122.29768622705946, -122.2976625654329, -122.29720444169578, -122.2970013035176, -122.29688087254223], \"mode\": \"lines\", \"showlegend\": false, \"type\": \"scattermapbox\"}, {\"hoverinfo\": \"text\", \"hovertext\": \"W SEA BR EB 4 AV OFF RP Flow: 4403.0\", \"lat\": [47.551040148400006, 47.55112603366924], \"line\": {\"color\": \"rgb(0.277941,0.056324,0.381191)\", \"width\": 2}, \"lon\": [-122.29043731608365, -122.28931465659208], \"mode\": \"lines\", \"showlegend\": false, \"type\": \"scattermapbox\"}, {\"hoverinfo\": \"text\", \"hovertext\": \"W SEA BR EB 4 AV OFF RP Flow: 4403.0\", \"lat\": [47.55098571742585, 47.55095956940177, 47.5509584963641, 47.550925175723016], \"line\": {\"color\": \"rgb(0.277941,0.056324,0.381191)\", \"width\": 2}, \"lon\": [-122.30059938898751, -122.29958638740331, -122.29954481116977, -122.298254440553], \"mode\": \"lines\", \"showlegend\": false, \"type\": \"scattermapbox\"}, {\"hoverinfo\": \"text\", \"hovertext\": \"W SEA BR EB 4 AV OFF RP Flow: 4403.0\", \"lat\": [47.55115976010149, 47.55123027098698], \"line\": {\"color\": \"rgb(0.277941,0.056324,0.381191)\", \"width\": 2}, \"lon\": [-122.28887374586162, -122.2880957353539], \"mode\": \"lines\", \"showlegend\": false, \"type\": \"scattermapbox\"}, {\"hoverinfo\": \"text\", \"hovertext\": \"W SEA BR EB 4 AV OFF RP Flow: 4403.0\", \"lat\": [47.55101515319967, 47.55098571742585], \"line\": {\"color\": \"rgb(0.277941,0.056324,0.381191)\", \"width\": 2}, \"lon\": [-122.30174019099127, -122.30059938898751], \"mode\": \"lines\", \"showlegend\": false, \"type\": \"scattermapbox\"}, {\"hoverinfo\": \"text\", \"hovertext\": \"W SEA BR EB 4 AV OFF RP Flow: 4403.0\", \"lat\": [47.55112603366924, 47.55115976010149], \"line\": {\"color\": \"rgb(0.277941,0.056324,0.381191)\", \"width\": 2}, \"lon\": [-122.28931465659208, -122.28887374586162], \"mode\": \"lines\", \"showlegend\": false, \"type\": \"scattermapbox\"}, {\"hoverinfo\": \"text\", \"hovertext\": \"W SEA BR EB 4 AV OFF RP Flow: 4403.0\", \"lat\": [47.55081850157366, 47.55080018974376, 47.550943831073745, 47.5509545803839], \"line\": {\"color\": \"rgb(0.277941,0.056324,0.381191)\", \"width\": 2}, \"lon\": [-122.29415116648165, -122.29345579983672, -122.29168800138677, -122.291555695717], \"mode\": \"lines\", \"showlegend\": false, \"type\": \"scattermapbox\"}, {\"hoverinfo\": \"text\", \"hovertext\": \"W SEA BR EB 4 AV OFF RP Flow: 8717.0\", \"lat\": [47.611672010011134, 47.61213645836599], \"line\": {\"color\": \"rgb(0.283091,0.110553,0.431554)\", \"width\": 2}, \"lon\": [-122.33648396619822, -122.33537313701125], \"mode\": \"lines\", \"showlegend\": false, \"type\": \"scattermapbox\"}, {\"hoverinfo\": \"text\", \"hovertext\": \"W SEA BR EB 4 AV OFF RP Flow: 13492.0\", \"lat\": [47.62512069334247, 47.625768775811544], \"line\": {\"color\": \"rgb(0.279574,0.170599,0.479997)\", \"width\": 2}, \"lon\": [-122.33433582845706, -122.33435291476934], \"mode\": \"lines\", \"showlegend\": false, \"type\": \"scattermapbox\"}, {\"hoverinfo\": \"text\", \"hovertext\": \"W SEA BR EB 4 AV OFF RP Flow: 13492.0\", \"lat\": [47.62469377685833, 47.62512069334247], \"line\": {\"color\": \"rgb(0.279574,0.170599,0.479997)\", \"width\": 2}, \"lon\": [-122.33428796867133, -122.33433582845706], \"mode\": \"lines\", \"showlegend\": false, \"type\": \"scattermapbox\"}, {\"hoverinfo\": \"text\", \"hovertext\": \"W SEA BR EB 4 AV OFF RP Flow: 13492.0\", \"lat\": [47.625768775811544, 47.62596862231247], \"line\": {\"color\": \"rgb(0.279574,0.170599,0.479997)\", \"width\": 2}, \"lon\": [-122.33435291476934, -122.3343441513103], \"mode\": \"lines\", \"showlegend\": false, \"type\": \"scattermapbox\"}, {\"hoverinfo\": \"text\", \"hovertext\": \"W SEA BR EB 4 AV OFF RP Flow: 6591.0\", \"lat\": [47.72290005119496, 47.72380211185595, 47.72470420577748], \"line\": {\"color\": \"rgb(0.281446,0.084320,0.407414)\", \"width\": 2}, \"lon\": [-122.29635851816877, -122.29637022168977, -122.29638192388953], \"mode\": \"lines\", \"showlegend\": false, \"type\": \"scattermapbox\"}, {\"hoverinfo\": \"text\", \"hovertext\": \"W SEA BR EB 4 AV OFF RP Flow: 6591.0\", \"lat\": [47.726510697431905, 47.72790792583988], \"line\": {\"color\": \"rgb(0.281446,0.084320,0.407414)\", \"width\": 2}, \"lon\": [-122.2964048317892, -122.29642586349586], \"mode\": \"lines\", \"showlegend\": false, \"type\": \"scattermapbox\"}, {\"hoverinfo\": \"text\", \"hovertext\": \"W SEA BR EB 4 AV OFF RP Flow: 6591.0\", \"lat\": [47.7319766703727, 47.73271413351336], \"line\": {\"color\": \"rgb(0.281446,0.084320,0.407414)\", \"width\": 2}, \"lon\": [-122.29654264158657, -122.29653288418794], \"mode\": \"lines\", \"showlegend\": false, \"type\": \"scattermapbox\"}, {\"hoverinfo\": \"text\", \"hovertext\": \"W SEA BR EB 4 AV OFF RP Flow: 6591.0\", \"lat\": [47.72790792583988, 47.730065111190875, 47.73015084065016], \"line\": {\"color\": \"rgb(0.281446,0.084320,0.407414)\", \"width\": 2}, \"lon\": [-122.29642586349586, -122.2964641101854, -122.29650970377949], \"mode\": \"lines\", \"showlegend\": false, \"type\": \"scattermapbox\"}, {\"hoverinfo\": \"text\", \"hovertext\": \"W SEA BR EB 4 AV OFF RP Flow: 6591.0\", \"lat\": [47.73271413351336, 47.73378027275547, 47.73378577048598], \"line\": {\"color\": \"rgb(0.281446,0.084320,0.407414)\", \"width\": 2}, \"lon\": [-122.29653288418794, -122.29651877605083, -122.29651875232784], \"mode\": \"lines\", \"showlegend\": false, \"type\": \"scattermapbox\"}, {\"hoverinfo\": \"text\", \"hovertext\": \"W SEA BR EB 4 AV OFF RP Flow: 6591.0\", \"lat\": [47.73015084065016, 47.73022871361765, 47.73023419989816, 47.73023968254742, 47.7319766703727], \"line\": {\"color\": \"rgb(0.281446,0.084320,0.407414)\", \"width\": 2}, \"lon\": [-122.29650970377949, -122.29655532142868, -122.29655527872109, -122.29655523857795, -122.29654264158657], \"mode\": \"lines\", \"showlegend\": false, \"type\": \"scattermapbox\"}, {\"hoverinfo\": \"text\", \"hovertext\": \"W SEA BR EB 4 AV OFF RP Flow: 6591.0\", \"lat\": [47.71928489143583, 47.719367518992584, 47.72100509871532, 47.72101603217854, 47.721092430061795], \"line\": {\"color\": \"rgb(0.281446,0.084320,0.407414)\", \"width\": 2}, \"lon\": [-122.29631399550578, -122.29631500241517, -122.2963347407731, -122.29633510882653, -122.29633604292738], \"mode\": \"lines\", \"showlegend\": false, \"type\": \"scattermapbox\"}, {\"hoverinfo\": \"text\", \"hovertext\": \"W SEA BR EB 4 AV OFF RP Flow: 6591.0\", \"lat\": [47.72470420577748, 47.726510697431905], \"line\": {\"color\": \"rgb(0.281446,0.084320,0.407414)\", \"width\": 2}, \"lon\": [-122.29638192388953, -122.2964048317892], \"mode\": \"lines\", \"showlegend\": false, \"type\": \"scattermapbox\"}, {\"hoverinfo\": \"text\", \"hovertext\": \"W SEA BR EB 4 AV OFF RP Flow: 6591.0\", \"lat\": [47.721092430061795, 47.72290005119496], \"line\": {\"color\": \"rgb(0.281446,0.084320,0.407414)\", \"width\": 2}, \"lon\": [-122.29633604292738, -122.29635851816877], \"mode\": \"lines\", \"showlegend\": false, \"type\": \"scattermapbox\"}, {\"hoverinfo\": \"text\", \"hovertext\": \"W SEA BR EB 4 AV OFF RP Flow: 996.0\", \"lat\": [47.6789052747492, 47.678969766701705, 47.67898464027625, 47.679006884792514, 47.679014930335455, 47.6790193569583, 47.67902554182381, 47.67900779288136, 47.67893395211864, 47.67884618400386, 47.67875757084303], \"line\": {\"color\": \"rgb(0.268510,0.009605,0.335427)\", \"width\": 2}, \"lon\": [-122.32626439925046, -122.32610138386958, -122.32602959669224, -122.32592707308797, -122.3258447727769, -122.3257726867653, -122.32569472749613, -122.32559181848795, -122.32537821276755, -122.32516420917028, -122.32498923031012], \"mode\": \"lines\", \"showlegend\": false, \"type\": \"scattermapbox\"}, {\"hoverinfo\": \"text\", \"hovertext\": \"W SEA BR EB 4 AV OFF RP Flow: 2000.0\", \"lat\": [47.65688930471804, 47.6568816040185], \"line\": {\"color\": \"rgb(0.271305,0.019942,0.347269)\", \"width\": 2}, \"lon\": [-122.31781902922495, -122.31717634454635], \"mode\": \"lines\", \"showlegend\": false, \"type\": \"scattermapbox\"}, {\"hoverinfo\": \"text\", \"hovertext\": \"W SEA BR EB 4 AV OFF RP Flow: 14631.0\", \"lat\": [47.686937790222736, 47.686936361011874, 47.68693635784806], \"line\": {\"color\": \"rgb(0.278012,0.180367,0.486697)\", \"width\": 2}, \"lon\": [-122.36332585157895, -122.36599581010006, -122.36600173071334], \"mode\": \"lines\", \"showlegend\": false, \"type\": \"scattermapbox\"}, {\"hoverinfo\": \"text\", \"hovertext\": \"W SEA BR EB 4 AV OFF RP Flow: 14631.0\", \"lat\": [47.68693915340461, 47.686937790222736], \"line\": {\"color\": \"rgb(0.278012,0.180367,0.486697)\", \"width\": 2}, \"lon\": [-122.36064997744238, -122.36332585157895], \"mode\": \"lines\", \"showlegend\": false, \"type\": \"scattermapbox\"}, {\"hoverinfo\": \"text\", \"hovertext\": \"W SEA BR EB 4 AV OFF RP Flow: 49254.0\", \"lat\": [47.7282882731601, 47.72850890394167, 47.72851438547294, 47.72873252542333, 47.72873800342558, 47.72874348772276, 47.73011394379994], \"line\": {\"color\": \"rgb(0.143343,0.522773,0.556295)\", \"width\": 2}, \"lon\": [-122.29225017824697, -122.29225757562523, -122.29225776299832, -122.29226507844407, -122.29226526038626, -122.29226544250541, -122.29231140546831], \"mode\": \"lines\", \"showlegend\": false, \"type\": \"scattermapbox\"}, {\"hoverinfo\": \"text\", \"hovertext\": \"W SEA BR EB 4 AV OFF RP Flow: 49254.0\", \"lat\": [47.73011394379994, 47.73020281983999, 47.73186889958546, 47.73187438111544, 47.73194292782349], \"line\": {\"color\": \"rgb(0.143343,0.522773,0.556295)\", \"width\": 2}, \"lon\": [-122.29231140546831, -122.29231438188275, -122.29237026282438, -122.29237045022157, -122.29237274612787], \"mode\": \"lines\", \"showlegend\": false, \"type\": \"scattermapbox\"}, {\"hoverinfo\": \"text\", \"hovertext\": \"W SEA BR EB 4 AV OFF RP Flow: 49254.0\", \"lat\": [47.73194292782349, 47.73200598485673, 47.73201146728587, 47.733678760773444, 47.73368424233688, 47.73375280882039], \"line\": {\"color\": \"rgb(0.143343,0.522773,0.556295)\", \"width\": 2}, \"lon\": [-122.29237274612787, -122.29237485841347, -122.29237504583688, -122.2924309701272, -122.29243115487132, -122.2924334514939], \"mode\": \"lines\", \"showlegend\": false, \"type\": \"scattermapbox\"}, {\"hoverinfo\": \"text\", \"hovertext\": \"W SEA BR EB 4 AV OFF RP Flow: 10000.0\", \"lat\": [47.619773260395824, 47.62094100460828], \"line\": {\"color\": \"rgb(0.283187,0.125848,0.444960)\", \"width\": 2}, \"lon\": [-122.35674674337113, -122.35673850595904], \"mode\": \"lines\", \"showlegend\": false, \"type\": \"scattermapbox\"}, {\"hoverinfo\": \"text\", \"hovertext\": \"W SEA BR EB 4 AV OFF RP Flow: 10000.0\", \"lat\": [47.62094100460828, 47.62208094203719, 47.62210835612727], \"line\": {\"color\": \"rgb(0.283187,0.125848,0.444960)\", \"width\": 2}, \"lon\": [-122.35673850595904, -122.35672950712019, -122.35672929197274], \"mode\": \"lines\", \"showlegend\": false, \"type\": \"scattermapbox\"}, {\"hoverinfo\": \"text\", \"hovertext\": \"W SEA BR EB 4 AV OFF RP Flow: 10000.0\", \"lat\": [47.618607061179986, 47.619773260395824], \"line\": {\"color\": \"rgb(0.283187,0.125848,0.444960)\", \"width\": 2}, \"lon\": [-122.35675629498985, -122.35674674337113], \"mode\": \"lines\", \"showlegend\": false, \"type\": \"scattermapbox\"}, {\"hoverinfo\": \"text\", \"hovertext\": \"W SEA BR EB 4 AV OFF RP Flow: 16500.0\", \"lat\": [47.60658579070875, 47.607299058545095], \"line\": {\"color\": \"rgb(0.273006,0.204520,0.501721)\", \"width\": 2}, \"lon\": [-122.33643418811634, -122.33708679767423], \"mode\": \"lines\", \"showlegend\": false, \"type\": \"scattermapbox\"}, {\"hoverinfo\": \"text\", \"hovertext\": \"W SEA BR EB 4 AV OFF RP Flow: 4687.0\", \"lat\": [47.6369895242295, 47.637705055524314], \"line\": {\"color\": \"rgb(0.278791,0.062145,0.386592)\", \"width\": 2}, \"lon\": [-122.38901980871825, -122.38848491560545], \"mode\": \"lines\", \"showlegend\": false, \"type\": \"scattermapbox\"}, {\"hoverinfo\": \"text\", \"hovertext\": \"W SEA BR EB 4 AV OFF RP Flow: 4687.0\", \"lat\": [47.637705055524314, 47.63842056934865], \"line\": {\"color\": \"rgb(0.278791,0.062145,0.386592)\", \"width\": 2}, \"lon\": [-122.38848491560545, -122.3879501138136], \"mode\": \"lines\", \"showlegend\": false, \"type\": \"scattermapbox\"}, {\"hoverinfo\": \"text\", \"hovertext\": \"W SEA BR EB 4 AV OFF RP Flow: 4687.0\", \"lat\": [47.639136095366695, 47.639350812062204], \"line\": {\"color\": \"rgb(0.278791,0.062145,0.386592)\", \"width\": 2}, \"lon\": [-122.3874144165757, -122.38725301174672], \"mode\": \"lines\", \"showlegend\": false, \"type\": \"scattermapbox\"}, {\"hoverinfo\": \"text\", \"hovertext\": \"W SEA BR EB 4 AV OFF RP Flow: 4687.0\", \"lat\": [47.642154460053185, 47.64283459730548, 47.64292778462468], \"line\": {\"color\": \"rgb(0.278791,0.062145,0.386592)\", \"width\": 2}, \"lon\": [-122.38515224214274, -122.38464273221919, -122.38457291944529], \"mode\": \"lines\", \"showlegend\": false, \"type\": \"scattermapbox\"}, {\"hoverinfo\": \"text\", \"hovertext\": \"W SEA BR EB 4 AV OFF RP Flow: 4687.0\", \"lat\": [47.63842056934865, 47.63878935817402, 47.639136095366695], \"line\": {\"color\": \"rgb(0.278791,0.062145,0.386592)\", \"width\": 2}, \"lon\": [-122.3879501138136, -122.38767401518578, -122.3874144165757], \"mode\": \"lines\", \"showlegend\": false, \"type\": \"scattermapbox\"}, {\"hoverinfo\": \"text\", \"hovertext\": \"W SEA BR EB 4 AV OFF RP Flow: 4687.0\", \"lat\": [47.64078482226748, 47.641380448983924, 47.641968081059886, 47.642154460053185], \"line\": {\"color\": \"rgb(0.278791,0.062145,0.386592)\", \"width\": 2}, \"lon\": [-122.3861782398097, -122.3857320623225, -122.38529186318094, -122.38515224214274], \"mode\": \"lines\", \"showlegend\": false, \"type\": \"scattermapbox\"}, {\"hoverinfo\": \"text\", \"hovertext\": \"W SEA BR EB 4 AV OFF RP Flow: 4687.0\", \"lat\": [47.63627388221133, 47.6369895242295], \"line\": {\"color\": \"rgb(0.278791,0.062145,0.386592)\", \"width\": 2}, \"lon\": [-122.38955608675407, -122.38901980871825], \"mode\": \"lines\", \"showlegend\": false, \"type\": \"scattermapbox\"}, {\"hoverinfo\": \"text\", \"hovertext\": \"W SEA BR EB 4 AV OFF RP Flow: 4687.0\", \"lat\": [47.63510146393439, 47.63562985325567, 47.63608660925359], \"line\": {\"color\": \"rgb(0.278791,0.062145,0.386592)\", \"width\": 2}, \"lon\": [-122.3906005587816, -122.39009310947034, -122.38971289537855], \"mode\": \"lines\", \"showlegend\": false, \"type\": \"scattermapbox\"}, {\"hoverinfo\": \"text\", \"hovertext\": \"W SEA BR EB 4 AV OFF RP Flow: 4687.0\", \"lat\": [47.63608660925359, 47.63627388221133], \"line\": {\"color\": \"rgb(0.278791,0.062145,0.386592)\", \"width\": 2}, \"lon\": [-122.38971289537855, -122.38955608675407], \"mode\": \"lines\", \"showlegend\": false, \"type\": \"scattermapbox\"}, {\"hoverinfo\": \"text\", \"hovertext\": \"W SEA BR EB 4 AV OFF RP Flow: 4687.0\", \"lat\": [47.639350812062204, 47.63958254576343, 47.63986784269506, 47.640606174980405, 47.64078482226748], \"line\": {\"color\": \"rgb(0.278791,0.062145,0.386592)\", \"width\": 2}, \"lon\": [-122.38725301174672, -122.38707881513125, -122.3868651156076, -122.38631206114155, -122.3861782398097], \"mode\": \"lines\", \"showlegend\": false, \"type\": \"scattermapbox\"}, {\"hoverinfo\": \"text\", \"hovertext\": \"W SEA BR EB 4 AV OFF RP Flow: 20404.0\", \"lat\": [47.66866690848004, 47.66867108849374, 47.66867103128512], \"line\": {\"color\": \"rgb(0.260571,0.246922,0.522828)\", \"width\": 2}, \"lon\": [-122.37621447442353, -122.37742163406372, -122.37888427948384], \"mode\": \"lines\", \"showlegend\": false, \"type\": \"scattermapbox\"}, {\"hoverinfo\": \"text\", \"hovertext\": \"W SEA BR EB 4 AV OFF RP Flow: 20404.0\", \"lat\": [47.66867103128512, 47.66867320080751], \"line\": {\"color\": \"rgb(0.260571,0.246922,0.522828)\", \"width\": 2}, \"lon\": [-122.37888427948384, -122.38035281582516], \"mode\": \"lines\", \"showlegend\": false, \"type\": \"scattermapbox\"}, {\"hoverinfo\": \"text\", \"hovertext\": \"W SEA BR EB 4 AV OFF RP Flow: 20404.0\", \"lat\": [47.66867320080751, 47.6686750734318], \"line\": {\"color\": \"rgb(0.260571,0.246922,0.522828)\", \"width\": 2}, \"lon\": [-122.38035281582516, -122.38157414843805], \"mode\": \"lines\", \"showlegend\": false, \"type\": \"scattermapbox\"}, {\"hoverinfo\": \"text\", \"hovertext\": \"W SEA BR EB 4 AV OFF RP Flow: 20404.0\", \"lat\": [47.6686750734318, 47.66867579926], \"line\": {\"color\": \"rgb(0.260571,0.246922,0.522828)\", \"width\": 2}, \"lon\": [-122.38157414843805, -122.38212999719583], \"mode\": \"lines\", \"showlegend\": false, \"type\": \"scattermapbox\"}, {\"hoverinfo\": \"text\", \"hovertext\": \"W SEA BR EB 4 AV OFF RP Flow: 15261.0\", \"lat\": [47.57125968091867, 47.57019136365447], \"line\": {\"color\": \"rgb(0.276194,0.190074,0.493001)\", \"width\": 2}, \"lon\": [-122.38676588611027, -122.38676709670872], \"mode\": \"lines\", \"showlegend\": false, \"type\": \"scattermapbox\"}, {\"hoverinfo\": \"text\", \"hovertext\": \"W SEA BR EB 4 AV OFF RP Flow: 15261.0\", \"lat\": [47.575626251335464, 47.57382122776218], \"line\": {\"color\": \"rgb(0.276194,0.190074,0.493001)\", \"width\": 2}, \"lon\": [-122.38676064809265, -122.38676255614496], \"mode\": \"lines\", \"showlegend\": false, \"type\": \"scattermapbox\"}, {\"hoverinfo\": \"text\", \"hovertext\": \"W SEA BR EB 4 AV OFF RP Flow: 15261.0\", \"lat\": [47.57318178783193, 47.57201585182379], \"line\": {\"color\": \"rgb(0.276194,0.190074,0.493001)\", \"width\": 2}, \"lon\": [-122.38676342721487, -122.38676503315489], \"mode\": \"lines\", \"showlegend\": false, \"type\": \"scattermapbox\"}, {\"hoverinfo\": \"text\", \"hovertext\": \"W SEA BR EB 4 AV OFF RP Flow: 15261.0\", \"lat\": [47.57201585182379, 47.57193213898574, 47.57125968091867], \"line\": {\"color\": \"rgb(0.276194,0.190074,0.493001)\", \"width\": 2}, \"lon\": [-122.38676503315489, -122.3867651293814, -122.38676588611027], \"mode\": \"lines\", \"showlegend\": false, \"type\": \"scattermapbox\"}, {\"hoverinfo\": \"text\", \"hovertext\": \"W SEA BR EB 4 AV OFF RP Flow: 15261.0\", \"lat\": [47.57382122776218, 47.57318178783193], \"line\": {\"color\": \"rgb(0.276194,0.190074,0.493001)\", \"width\": 2}, \"lon\": [-122.38676255614496, -122.38676342721487], \"mode\": \"lines\", \"showlegend\": false, \"type\": \"scattermapbox\"}, {\"hoverinfo\": \"text\", \"hovertext\": \"W SEA BR EB 4 AV OFF RP Flow: 2212.0\", \"lat\": [47.65769660824808, 47.65895636435938], \"line\": {\"color\": \"rgb(0.272594,0.025563,0.353093)\", \"width\": 2}, \"lon\": [-122.32623232888601, -122.3262140398658], \"mode\": \"lines\", \"showlegend\": false, \"type\": \"scattermapbox\"}, {\"hoverinfo\": \"text\", \"hovertext\": \"W SEA BR EB 4 AV OFF RP Flow: 2212.0\", \"lat\": [47.65895636435938, 47.66021769208865], \"line\": {\"color\": \"rgb(0.272594,0.025563,0.353093)\", \"width\": 2}, \"lon\": [-122.3262140398658, -122.3261954701852], \"mode\": \"lines\", \"showlegend\": false, \"type\": \"scattermapbox\"}, {\"hoverinfo\": \"text\", \"hovertext\": \"W SEA BR EB 4 AV OFF RP Flow: 2212.0\", \"lat\": [47.66021769208865, 47.66134940378393], \"line\": {\"color\": \"rgb(0.272594,0.025563,0.353093)\", \"width\": 2}, \"lon\": [-122.3261954701852, -122.32617895788493], \"mode\": \"lines\", \"showlegend\": false, \"type\": \"scattermapbox\"}, {\"hoverinfo\": \"text\", \"hovertext\": \"W SEA BR EB 4 AV OFF RP Flow: 2212.0\", \"lat\": [47.657700081477664, 47.65769660824808], \"line\": {\"color\": \"rgb(0.272594,0.025563,0.353093)\", \"width\": 2}, \"lon\": [-122.32679170435595, -122.32623232888601], \"mode\": \"lines\", \"showlegend\": false, \"type\": \"scattermapbox\"}, {\"hoverinfo\": \"text\", \"hovertext\": \"W SEA BR EB 4 AV OFF RP Flow: 2212.0\", \"lat\": [47.65554290728783, 47.657700081477664], \"line\": {\"color\": \"rgb(0.272594,0.025563,0.353093)\", \"width\": 2}, \"lon\": [-122.32682256939565, -122.32679170435595], \"mode\": \"lines\", \"showlegend\": false, \"type\": \"scattermapbox\"}, {\"hoverinfo\": \"text\", \"hovertext\": \"W SEA BR EB 4 AV OFF RP Flow: 3505.0\", \"lat\": [47.616137689280876, 47.616690635504796], \"line\": {\"color\": \"rgb(0.276022,0.044167,0.370164)\", \"width\": 2}, \"lon\": [-122.34523488427746, -122.3461706249785], \"mode\": \"lines\", \"showlegend\": false, \"type\": \"scattermapbox\"}, {\"hoverinfo\": \"text\", \"hovertext\": \"W SEA BR EB 4 AV OFF RP Flow: 16123.0\", \"lat\": [47.53368597769557, 47.5336804279642], \"line\": {\"color\": \"rgb(0.274128,0.199721,0.498911)\", \"width\": 2}, \"lon\": [-122.35391492075715, -122.35503244845935], \"mode\": \"lines\", \"showlegend\": false, \"type\": \"scattermapbox\"}, {\"hoverinfo\": \"text\", \"hovertext\": \"W SEA BR EB 4 AV OFF RP Flow: 16123.0\", \"lat\": [47.534264843356354, 47.53426550177579, 47.53426616263303, 47.53426682893894, 47.53426750247432, 47.53426817958889, 47.534268860353585, 47.53426954289893, 47.534270227278135, 47.53427091074021, 47.53427159328517, 47.53427227404918, 47.534272951162755, 47.53427362379765, 47.53427429010207, 47.53427495009379, 47.534275601920996, 47.53427624473772, 47.534276877609194, 47.53427749965384, 47.53427810903773, 47.53427870489703, 47.534279284480775, 47.534279850539875, 47.53428038541529, 47.53428092163877, 47.53428144881622, 47.53428196696549, 47.53428247606869, 47.53428297610814, 47.53428346805411, 47.534283950936334, 47.53428442389102, 47.53428488961595, 47.534285345395666, 47.53428579126554, 47.534286229006476, 47.53428665861839, 47.53428707740351, 47.53428748807741, 47.53428788974078, 47.53428828235811, 47.5342886659827, 47.53428903967976, 47.53428940528331, 47.53428976095934, 47.53429010852414, 47.53429044619692, 47.53429078822938, 47.53429110786338, 47.53429141846908, 47.53429172004658, 47.53429201261348, 47.534292295235154, 47.53429256974559, 47.53429283522772, 47.534293091699325, 47.534293338243465, 47.53429357669404, 47.53429380519934, 47.53429402561122, 47.53429423611324, 47.53429443760475, 47.534294630085725, 47.534294813573965, 47.534294988033906, 47.53429515260184, 47.534295309094006, 47.53429545565865, 47.53429559324828, 47.53429572184514, 47.534295840549945, 47.53429594570657, 47.534296046390324, 47.53429613808134, 47.53429622074405, 47.53429629439629, 47.534296359038024, 47.534296413769916, 47.53429646040832, 47.53429649711923, 47.534296525754314, 47.534296544461945, 47.5342965541945, 47.53429655403504, 47.534296545746564, 47.53429652758383, 47.534296501327525, 47.534296465196995, 47.534296420055895, 47.534296365022854, 47.534296301931725, 47.53429622984785, 47.534296147871956, 47.53429605692102, 47.53429595701278, 47.534295859819984, 47.53429574192625, 47.53429561412271, 47.534295478207945, 47.534295331519594, 47.53429517580299, 47.53429501292765, 47.53429484016024, 47.53429465748308, 47.534294465830904, 47.53429426518599, 47.53429405556601, 47.534293836935504, 47.534293609347756, 47.53429337186797, 47.5342931254309, 47.53429287090034, 47.53429260651323, 47.53429233313333, 47.534292050796196, 47.534291759484034, 47.5342914592146, 47.534291150005664, 47.53429083088692, 47.53429048898478, 47.53429015193373, 47.53428980588998, 47.53428945087116, 47.53428908685961, 47.53428871299148, 47.53428833191141, 47.534287939158524, 47.53428753924686, 47.53428712946097, 47.53428671070004, 47.534286282964075, 47.534285846253134, 47.53428540060264, 47.53428494595941, 47.53428448145963, 47.53428400980112, 47.534283528286075, 47.534283037813786, 47.534282537484934, 47.53428202909815, 47.53428151175405, 47.53428098547044, 47.53428045112886, 47.53427991922427, 47.53427936605111, 47.534278803920756, 47.53427823281532, 47.53427765183564, 47.534277062815676, 47.53427646482074, 47.53427585785077, 47.53427524100653, 47.53427461612206, 47.53427398228033, 47.53427333948133, 47.53427268684356, 47.53427202702933, 47.534271356477035, 47.534270678766006, 47.53426999121624, 47.53426929562621, 47.53426859017969, 47.53426787669286, 47.53426715518361, 47.53426642381783, 47.53426568441179, 47.53426493700104, 47.53426418843678, 47.53426342221226, 47.53426264791202, 47.53426186377296, 47.53426107157594, 47.53426027042166, 47.53425945941087, 47.53425864037757, 47.534257812369326, 47.53425697632077, 47.534256131332775, 47.534255277423, 47.53425441453823, 47.534253542731754, 47.534252662902794, 47.53425177501578, 47.53425087729007, 47.53424997155962, 47.534249056889664, 47.534248135078734, 47.53424720346455, 47.534246264709424, 47.534245316133294, 47.534244361333215, 47.53424336175429, 47.53424238815825, 47.53424140475891, 47.53424041420088, 47.53423941470334, 47.534238406266326, 47.53423738888982, 47.534236362573786, 47.53423532825312, 47.53423428587441, 47.534233234573975, 47.534232174351786, 47.53423110608942, 47.53423002980458, 47.534228944615755, 47.53422785228598, 47.53422675013521, 47.53422563997967, 47.534224521783976, 47.5342233956013, 47.53422226139619, 47.534221119168556, 47.53421996893628, 47.534218811349945, 47.53421764241044, 47.53421646364993, 47.53421527420468, 47.534214074938475, 47.53421286676827, 47.534211647877825, 47.534210420982724, 47.53420918606507, 47.53420794222576, 47.53420669036401, 47.534205431379014, 47.53420416435383, 47.53420289202172, 47.534201611631644, 47.534200325916935, 47.53419903396051, 47.5341977375787, 47.534196434955184, 47.5341951278885, 47.534193816378696, 47.53419250040794, 47.534191181792565, 47.53418985963334, 47.53418855441682, 47.534187226015774, 47.53418589585158, 47.53418456390653, 47.53418322926356, 47.534181892875225, 47.534180554706026, 47.53417921473818, 47.53417787210793, 47.53417652857832, 47.53417518328565, 47.534173836194284, 47.53417248823906, 47.53417113758596, 47.53416978605121, 47.53416843363487, 47.53416707943763, 47.534165723441774, 47.53416436656431, 47.53416300880522, 47.53416165014677, 47.534160290606664, 47.534158930185, 47.534157567946906, 47.53415620662575, 47.53415484352371, 47.53415347952228, 47.53415211553853, 47.53415075155465, 47.5341493857544, 47.53414802088875, 47.53414665510606, 47.53414528934097, 47.53414392265879, 47.53414255599424, 47.534141190211045, 47.534139823546255, 47.53413888723884, 47.53413845776291, 47.534137092014895, 47.53413572621358, 47.5341343604476, 47.53413299556306, 47.53413163066065, 47.53413026667514, 47.534128903571016, 47.53412754046685, 47.53412617824402, 47.53412481602108, 47.53412345559659, 47.53412209605346, 47.534120737391746, 47.534118068392296], \"line\": {\"color\": \"rgb(0.274128,0.199721,0.498911)\", \"width\": 2}, \"lon\": [-122.35167572715731, -122.35167950434165, -122.3516834356896, -122.35168736321128, -122.35169128828699, -122.35169521479548, -122.3516991374252, -122.35170306143534, -122.35170698284232, -122.351710905551, -122.35171482956146, -122.35171875219176, -122.3517226787009, -122.35172660375133, -122.35173053127414, -122.3517344599415, -122.35173839368463, -122.3517423284936, -122.35174626699813, -122.35175020784402, -122.35175415363467, -122.35175810168803, -122.35176205590923, -122.35176601239313, -122.35177028279571, -122.35177425036589, -122.35177822165774, -122.35178219534333, -122.35178617275056, -122.35179015520735, -122.35179413742833, -122.35179812469887, -122.35180211433692, -122.35180610642117, -122.35181010220084, -122.3518140990202, -122.35181809825956, -122.35182209991883, -122.35182610391948, -122.35183010901217, -122.35183411517083, -122.35183812505103, -122.3518421346693, -122.35184614665506, -122.35185015840507, -122.35185417252255, -122.35185818773218, -122.35186220265358, -122.35186595866693, -122.35186997704793, -122.35187399782265, -122.35187802099112, -122.35188204522547, -122.35188607315514, -122.35189010217688, -122.35189413359244, -122.35189816607375, -122.3519022009226, -122.35190623553562, -122.35191027384401, -122.35191431191662, -122.35191835102883, -122.35192239120687, -122.35192643245077, -122.35193047343263, -122.35193451680816, -122.3519385598955, -122.35194260141911, -122.35194664531018, -122.35195068761139, -122.3519547296505, -122.3519587714014, -122.35196288449026, -122.35196692837278, -122.35197097199324, -122.35197501800738, -122.35197906508733, -122.35198311323306, -122.3519871624184, -122.35199121136792, -122.35199526268485, -122.35199931243808, -122.35200336455871, -122.35200741508945, -122.35201146533187, -122.35201551799422, -122.35201956904035, -122.35202361985064, -122.35202766904476, -122.35203171930463, -122.35203576927621, -122.35203981635622, -122.3520438631741, -122.3520479097037, -122.3520519546433, -122.35205599666509, -122.35206003743762, -122.3520640789352, -122.35206812147231, -122.35207216510139, -122.35207620708806, -122.3520802514684, -122.35208429298328, -122.3520883342099, -122.35209237647597, -122.35209641715207, -122.35210045756605, -122.35210449639006, -122.35210853627984, -122.35211257325167, -122.35211660993524, -122.35212064370089, -122.35212467723062, -122.35212870781625, -122.35213273813974, -122.35213676554538, -122.35214079136105, -122.35214481425879, -122.35214883291077, -122.35215285260225, -122.35215689421216, -122.35216090939578, -122.35216492431718, -122.35216893764859, -122.3521729507178, -122.35217696084297, -122.35218097208617, -122.35218498166078, -122.35218898836987, -122.35219299346271, -122.35219699696556, -122.35220099887833, -122.352204999201, -122.35220899527798, -122.35221299109274, -122.35221698396334, -122.35222097396851, -122.35222496102949, -122.35222894517256, -122.3522329263715, -122.3522369046787, -122.352240880068, -122.35224485121145, -122.3522488194632, -122.35225294187859, -122.35225690559619, -122.35226086639577, -122.35226482560527, -122.3522687831985, -122.35227273657213, -122.3522766883557, -122.3522806385492, -122.35228458712636, -122.35228853148391, -122.35229247292355, -122.35229641144517, -122.35230034569477, -122.35230427840672, -122.35230820682041, -122.35231213236858, -122.35231605364466, -122.35231997070115, -122.35232388481344, -122.3523277947061, -122.35233169905126, -122.35233560045222, -122.35233949763354, -122.35234338793953, -122.3523471626423, -122.3523510470861, -122.35235492996598, -122.35235880857383, -122.3523626842899, -122.35236655708793, -122.35237042694179, -122.3523742912481, -122.35237815396428, -122.35238201246088, -122.35238586671154, -122.35238971538848, -122.35239356247529, -122.35239740398836, -122.35240123995389, -122.35240507302764, -122.3524089018293, -122.35241272375559, -122.35241654143593, -122.35242035492288, -122.35242416148193, -122.35242796384763, -122.35243176061329, -122.35243555188384, -122.35243905890303, -122.35244284298344, -122.35244662013602, -122.35245039442299, -122.35245416446412, -122.35245793025929, -122.35246169180859, -122.35246544911197, -122.35246919953995, -122.35247294707611, -122.35247668903844, -122.352480425427, -122.35248415759594, -122.35248788421728, -122.35249160393693, -122.35249531946315, -122.35249902938939, -122.35250273244016, -122.35250643127121, -122.35251012189897, -122.35251380697915, -122.35251748651179, -122.35252115916899, -122.35252484356707, -122.35252850239469, -122.35253215562231, -122.35253580056799, -122.35253943991364, -122.35254307235765, -122.35254669917536, -122.35255031911767, -122.35255393351241, -122.35255754233333, -122.3525611456066, -122.35256474335861, -122.35256833689078, -122.35257192362621, -122.35257550746974, -122.35257908584433, -122.35258266005164, -122.35258622881622, -122.35258979341349, -122.35259335389588, -122.35259691026349, -122.352600463844, -122.35260401336214, -122.35260755879162, -122.35261131725615, -122.35261485851814, -122.35261839707177, -122.35262193424491, -122.35262547133924, -122.35262900439734, -122.35263253607498, -122.3526360677, -122.35263959659044, -122.35264312545445, -122.35264665161016, -122.35265017771326, -122.3526537011342, -122.35265722447629, -122.35266074646415, -122.35266426709768, -122.35266778635075, -122.3526713055512, -122.35267482339742, -122.35267833988937, -122.35268185635486, -122.35268537146617, -122.35268888522316, -122.35269240025538, -122.35269591398578, -122.35269942633568, -122.3527029386592, -122.35270644965465, -122.35270996064997, -122.35271347292046, -122.35271698256135, -122.35272049350361, -122.35272400311786, -122.35272751403353, -122.3527310236212, -122.35273453456279, -122.35273804415007, -122.35274045177316, -122.35274155509124, -122.35274506337653, -122.35274857564522, -122.35275208525799, -122.35275559622464, -122.35275910851901, -122.35276261951152, -122.35276613185798, -122.35276964420417, -122.35277315790431, -122.35277667160427, -122.3527801853565, -122.3527837004626, -122.35278721692265, -122.35279413435367], \"mode\": \"lines\", \"showlegend\": false, \"type\": \"scattermapbox\"}, {\"hoverinfo\": \"text\", \"hovertext\": \"W SEA BR EB 4 AV OFF RP Flow: 16123.0\", \"lat\": [47.534118068392296, 47.53368597769557], \"line\": {\"color\": \"rgb(0.274128,0.199721,0.498911)\", \"width\": 2}, \"lon\": [-122.35279413435367, -122.35391492075715], \"mode\": \"lines\", \"showlegend\": false, \"type\": \"scattermapbox\"}, {\"hoverinfo\": \"text\", \"hovertext\": \"W SEA BR EB 4 AV OFF RP Flow: 16123.0\", \"lat\": [47.534077846290955, 47.53407054744988, 47.534053306612805], \"line\": {\"color\": \"rgb(0.274128,0.199721,0.498911)\", \"width\": 2}, \"lon\": [-122.34707012893642, -122.34720404589635, -122.34927448620442], \"mode\": \"lines\", \"showlegend\": false, \"type\": \"scattermapbox\"}, {\"hoverinfo\": \"text\", \"hovertext\": \"W SEA BR EB 4 AV OFF RP Flow: 16123.0\", \"lat\": [47.53404276608291, 47.53404287266809, 47.53404291845857, 47.53404295883559, 47.53404299383463, 47.534043027916525, 47.5340430593005, 47.5340430915836, 47.5340431247658, 47.5340431615449, 47.53404320193867, 47.53404324772784, 47.53404330072874, 47.53404336182282, 47.53404343284414, 47.53404351465646, 47.53404360819451, 47.53404371613836, 47.53404384028654, 47.534043978840515, 47.534044145621195, 47.5340443157023, 47.53404449477588, 47.534044682841966, 47.53404488079978, 47.53404508956639, 47.534045306443886, 47.53404553321316, 47.53404576989192, 47.5340460138001, 47.53404626939857, 47.534046534024974, 47.53404680766162, 47.53404709120771, 47.53404738378181, 47.53404768536606, 47.53404799779456, 47.53404831833402, 47.53404864880067, 47.53404898739605, 47.53404933681789, 47.53404969904155, 47.53405006740083, 47.53405044478807, 47.534050831185475, 47.53405122747466, 47.534051632791815, 47.534052048935465, 47.53405247319006, 47.53405290647259, 47.53405334966458, 47.53405380278384, 47.534054264049516, 47.53405473704091, 47.53405521634479, 47.534055706492865, 47.534056205668875, 47.53405671387286, 47.53405723203952, 47.53405775833489, 47.53405829547448, 47.534058840760494, 47.534059377545965, 47.53405994176941, 47.53406051505635, 47.53406109825274, 47.53406169047711, 47.53406229262866, 47.53406290380826, 47.53406352403346, 47.53406415418592, 47.53406479248483, 47.53406544071095, 47.534066098882036, 47.53406676518179, 47.534067440545016, 47.53406812493621, 47.53406881840855, 47.534069520009595, 47.534070232437145, 47.53407095306432, 47.53407168271946, 47.53407244777222, 47.53407320096754, 47.53407397045587, 47.53407475532025, 47.534075556459875, 47.53407636936071, 47.53407719404052, 47.5340780286653, 47.53407887141881, 47.53407972323575, 47.53408058046586, 47.534081443109166, 47.534082308485566, 47.53408317657743, 47.53408404556836, 47.53408491365993, 47.534085779952875, 47.53408664261309, 47.53408750074142, 47.53408835343862, 47.5340891980245, 47.5340900688433, 47.53409099676415, 47.534091925566415, 47.534092855267836, 47.53409378408761, 47.53409471197251, 47.53409564170903, 47.5340965704929, 47.53409749929443, 47.53409842901279, 47.534099357814064, 47.534100286615164, 47.5341012154162, 47.53410214423479, 47.534103073035546, 47.534104002753175, 47.53410493155366, 47.534105860336304, 47.534106789154265, 47.534107718835884, 47.53410864855288, 47.53410957555417, 47.534110505235425, 47.53411143407051, 47.53411236286997, 47.53411329256858, 47.53411422136777, 47.53411514928537, 47.53411607898357, 47.53411700868167, 47.53411793749813, 47.53411886629667, 47.534119795994414, 47.534120723893444, 47.53412165270939, 47.5341225824067, 47.53412351120465, 47.53412444002018, 47.5341253696994, 47.53412629851472, 47.53412722731214, 47.53412815610943, 47.53412908582357, 47.53413001462066, 47.53413094341753, 47.53413187311361, 47.53413280192802, 47.53413373072453, 47.53413465952096, 47.534135589216476, 47.53413651803037, 47.53413744682638, 47.53413837652155, 47.53413930533506, 47.5341402341307, 47.5341411629262, 47.53414209263857, 47.53414302141611, 47.53414395024671, 47.53414487902399, 47.534145808735815, 47.53414673751285, 47.53414766632518, 47.53414859601894, 47.53414952481335, 47.5341504536253, 47.53415138241944, 47.53415231213038, 47.53415324090651, 47.53415416971795, 47.53415509941083, 47.5341560282043, 47.534156957015384, 47.534157885808604, 47.53415881460166, 47.534159744293916, 47.53416067308672, 47.534161602796445, 47.534162531589025, 47.534163460399185, 47.53416438919153, 47.53416531888296, 47.53416624677575, 47.53416717648469, 47.534168106175784, 47.534169034985226, 47.53416996377676, 47.53417089256817, 47.53417182225873, 47.53417275104992, 47.5341736798587, 47.53417460954887, 47.53417553923892, 47.53417646804732, 47.53417739683788, 47.53417832654528, 47.5341792553178, 47.53418018412567, 47.534181112915704, 47.53418204260488, 47.53418297141236, 47.53418390020205, 47.534184829908526, 47.53418575866244, 47.534186687487164, 47.53418761627631, 47.53418854596459, 47.53418947475345, 47.53419040355996, 47.53419133236628, 47.534192262935555, 47.534193191741686, 47.534194120529904, 47.53419504933577, 47.53419597900524, 47.53419690871008, 47.53419783659855, 47.53419876628544, 47.53419969509064, 47.53420062387797, 47.534201552682966, 47.53420248235154, 47.53420341115624, 47.53420434084236, 47.53420526962904, 47.534206198433374, 47.534207127219815, 47.53420805692314, 47.534208985691556, 47.534209915394655, 47.53421084418061, 47.534211772984136, 47.53421270266909, 47.53421363145463, 47.534214560257816, 47.53421548902534, 47.53421641872754, 47.53421734751259, 47.53421827631525, 47.53421920510006, 47.534220134783936, 47.53422106358623, 47.53422199235288, 47.53422292205417, 47.53422385083834, 47.53422477964008, 47.53422570932325, 47.53422663720776, 47.5342275669084, 47.53422849567416, 47.534229425374555, 47.534230355057076, 47.53423128385792, 47.53423221264096, 47.5342331423231, 47.53423407112356, 47.53423499988842, 47.53423592868867, 47.53423685837031, 47.53423778715253, 47.53423871593465, 47.534239645633626, 47.53424057441549, 47.53424150319717, 47.534242431996546, 47.53424336167729, 47.53424429047634, 47.53424521923984, 47.53424614895566, 47.53424707771889, 47.534247988478946, 47.534264843356354], \"line\": {\"color\": \"rgb(0.274128,0.199721,0.498911)\", \"width\": 2}, \"lon\": [-122.35053832007358, -122.35054643956909, -122.35055048847137, -122.35055453854449, -122.35055858713265, -122.35056263702243, -122.35056668683373, -122.3505707366712, -122.35057478653486, -122.35057883650327, -122.35058288524853, -122.35058693415091, -122.3505909819349, -122.35059502995452, -122.3505990756065, -122.35060312157262, -122.35060716522344, -122.35061120796537, -122.35061524985072, -122.3506192908272, -122.35062290223094, -122.35062694014029, -122.35063097831157, -122.35063501674466, -122.35063905546579, -122.35064309317333, -122.35064712978865, -122.35065116669209, -122.35065520255567, -122.3506592359731, -122.35066326973096, -122.35066730109496, -122.35067133139293, -122.35067536065121, -122.35067938751561, -122.350683413314, -122.35068743544312, -122.3506914564801, -122.3506954751494, -122.35069949139874, -122.35070350530658, -122.35070797522118, -122.3507119856954, -122.35071599377586, -122.3507200007904, -122.35072400809302, -122.3507280130018, -122.3507320155692, -122.35073601704443, -122.3507400161259, -122.35074401416755, -122.35074800984162, -122.35075200176787, -122.35075599137885, -122.35075997984536, -122.35076396464258, -122.35076794704605, -122.35077192705565, -122.350775902042, -122.35077987460836, -122.35078384350545, -122.35078780865476, -122.3507913325348, -122.35079529425053, -122.35079925091678, -122.35080320654333, -122.35080715977611, -122.35081111064132, -122.35081505911276, -122.35081900386257, -122.35082294624483, -122.35082688487927, -122.35083082114613, -122.35083475371758, -122.3508386838691, -122.3508426089711, -122.3508465316794, -122.3508504480103, -122.35085436192134, -122.35085827349099, -122.35086217732922, -122.35086607877378, -122.35087009150472, -122.35087398167958, -122.35087786435882, -122.35088174084397, -122.35088561116143, -122.35088947650793, -122.35089333555565, -122.35089719090804, -122.35090104384051, -122.35090489172354, -122.35090873843592, -122.35091258397772, -122.35091642694252, -122.35092026865811, -122.35092411040009, -122.35092795211594, -122.35093179377954, -122.35093563799425, -122.3509394847339, -122.35094333397224, -122.35094718430284, -122.35095109118951, -122.35095489878246, -122.35095870772965, -122.3509625167031, -122.35096632432268, -122.35097013457192, -122.35097394089003, -122.35097775116574, -122.35098156011372, -122.35098536776013, -122.3509891767084, -122.35099298565672, -122.35099679460527, -122.35100060222602, -122.35100441117477, -122.35100821882207, -122.35101202777108, -122.35101583804813, -122.35101964566958, -122.35102345597309, -122.35102726362099, -122.35103107251838, -122.3510348828223, -122.3510386891165, -122.35104249806669, -122.35104630704312, -122.35105011599356, -122.35105392359002, -122.3510577325669, -122.3510615415439, -122.35106534916697, -122.35106915811807, -122.35107296709552, -122.35107677602066, -122.35108058364426, -122.3510843926221, -122.35108820157386, -122.35109200919793, -122.35109581950398, -122.35109962712832, -122.35110343608059, -122.35110724503308, -122.35111105268396, -122.35111486163663, -122.35111867058954, -122.35112247956867, -122.35112628719398, -122.35113009614722, -122.35113390510062, -122.35113771408031, -122.35114152170611, -122.35114533065992, -122.3511491396401, -122.35115294726627, -122.35115675622045, -122.35116056517482, -122.35116437282761, -122.35116818311012, -122.35117198940914, -122.35117579969192, -122.35117960734523, -122.35118341762828, -122.3511872252557, -122.35119103423727, -122.35119484319287, -122.35119865082069, -122.35120245977657, -122.35120626743084, -122.35121007771484, -122.3512138853432, -122.35121769432574, -122.35122150328229, -122.35122531091106, -122.35122911986788, -122.35123292882477, -122.35123673780805, -122.35124054676523, -122.35124435442087, -122.35124816337834, -122.35125197100808, -122.35125577996584, -122.35125958894989, -122.35126339788172, -122.35126720553819, -122.3512710145227, -122.35127482215323, -122.35127863111175, -122.35128244007048, -122.35128624905546, -122.35129005801444, -122.35129386564566, -122.35129767463113, -122.35130148361665, -122.35130529124827, -122.35130910020794, -122.35131290786602, -122.35131671815381, -122.351320525786, -122.3513243347462, -122.35132814373269, -122.35133195136524, -122.35133576032588, -122.35133956798491, -122.3513433796015, -122.35134718590676, -122.35135099486793, -122.35135480385536, -122.35135861281678, -122.35136242045046, -122.35136622808425, -122.35137003842634, -122.3513738460604, -122.3513776550225, -122.35138146265685, -122.35138527297327, -122.35138908063408, -122.35139288957053, -122.35139669855947, -122.35140050619447, -122.35140431515755, -122.35140812279283, -122.35141193311021, -122.35141574074578, -122.35141954973558, -122.35142335869926, -122.35142716633524, -122.35143097529924, -122.35143478296166, -122.3514385932538, -122.35144240091653, -122.35144620988108, -122.35145001751786, -122.35145382650883, -122.35145763547379, -122.35146144311098, -122.35146525340407, -122.35146906106772, -122.35147287003322, -122.35147667767095, -122.35148048663672, -122.35148429562878, -122.35148810326692, -122.35149191356096, -122.35149572122556, -122.35149953019202, -122.35150333783072, -122.35150714682364, -122.35151095576423, -122.35151476342953, -122.3515185737245, -122.35152238139007, -122.35152619038368, -122.35152999802331, -122.351533806991, -122.35153761598494, -122.35154142362498, -122.35154523392092, -122.35154904156124, -122.35155285055579, -122.3515566595242, -122.35156046849283, -122.3515642761599, -122.3515680851288, -122.35157189409779, -122.35157570173905, -122.35157951073454, -122.35158331837609, -122.3515871286735, -122.35159093501366, -122.35159474531137, -122.35159855641304, -122.35167572715731], \"mode\": \"lines\", \"showlegend\": false, \"type\": \"scattermapbox\"}, {\"hoverinfo\": \"text\", \"hovertext\": \"W SEA BR EB 4 AV OFF RP Flow: 16123.0\", \"lat\": [47.534053306612805, 47.53404276608291], \"line\": {\"color\": \"rgb(0.274128,0.199721,0.498911)\", \"width\": 2}, \"lon\": [-122.34927448620442, -122.35053832007358], \"mode\": \"lines\", \"showlegend\": false, \"type\": \"scattermapbox\"}, {\"hoverinfo\": \"text\", \"hovertext\": \"W SEA BR EB 4 AV OFF RP Flow: 4500.0\", \"lat\": [47.608820960102726, 47.60904939895446, 47.609285142681195], \"line\": {\"color\": \"rgb(0.277941,0.056324,0.381191)\", \"width\": 2}, \"lon\": [-122.3400134273668, -122.3394672986048, -122.338903694202], \"mode\": \"lines\", \"showlegend\": false, \"type\": \"scattermapbox\"}, {\"hoverinfo\": \"text\", \"hovertext\": \"W SEA BR EB 4 AV OFF RP Flow: 3050.0\", \"lat\": [47.62015488121763, 47.62131965795235], \"line\": {\"color\": \"rgb(0.274952,0.037752,0.364543)\", \"width\": 2}, \"lon\": [-122.2912170530229, -122.29116330453704], \"mode\": \"lines\", \"showlegend\": false, \"type\": \"scattermapbox\"}, {\"hoverinfo\": \"text\", \"hovertext\": \"W SEA BR EB 4 AV OFF RP Flow: 3050.0\", \"lat\": [47.6236398358272, 47.623729833290476, 47.623962036935524, 47.62408064839713, 47.62410438454163, 47.62435577498124, 47.62478880533848, 47.62495143169451], \"line\": {\"color\": \"rgb(0.274952,0.037752,0.364543)\", \"width\": 2}, \"lon\": [-122.29108458297495, -122.29108157340681, -122.29107382633705, -122.29106986608433, -122.2910690741537, -122.29106068166807, -122.29104622800294, -122.29105074656815], \"mode\": \"lines\", \"showlegend\": false, \"type\": \"scattermapbox\"}, {\"hoverinfo\": \"text\", \"hovertext\": \"W SEA BR EB 4 AV OFF RP Flow: 3050.0\", \"lat\": [47.62131965795235, 47.621396825760115, 47.62194878110722, 47.62239070558061, 47.62247316438276], \"line\": {\"color\": \"rgb(0.274952,0.037752,0.364543)\", \"width\": 2}, \"lon\": [-122.29116330453704, -122.29116068484139, -122.29114195968371, -122.29112696488193, -122.2911241686745], \"mode\": \"lines\", \"showlegend\": false, \"type\": \"scattermapbox\"}, {\"hoverinfo\": \"text\", \"hovertext\": \"W SEA BR EB 4 AV OFF RP Flow: 3050.0\", \"lat\": [47.62247316438276, 47.622556233404524, 47.62355659667521, 47.6236388917206, 47.62363927606899, 47.6236398358272], \"line\": {\"color\": \"rgb(0.274952,0.037752,0.364543)\", \"width\": 2}, \"lon\": [-122.2911241686745, -122.29112134963958, -122.2910874106662, -122.29108461639797, -122.29108459922473, -122.29108458297495], \"mode\": \"lines\", \"showlegend\": false, \"type\": \"scattermapbox\"}, {\"hoverinfo\": \"text\", \"hovertext\": \"W SEA BR EB 4 AV OFF RP Flow: 36000.0\", \"lat\": [47.586909856961604, 47.586880538816224, 47.58661127817991], \"line\": {\"color\": \"rgb(0.192357,0.403199,0.555836)\", \"width\": 2}, \"lon\": [-122.30468333810435, -122.30466109446539, -122.30445474537831], \"mode\": \"lines\", \"showlegend\": false, \"type\": \"scattermapbox\"}, {\"hoverinfo\": \"text\", \"hovertext\": \"W SEA BR EB 4 AV OFF RP Flow: 36000.0\", \"lat\": [47.58841060090693, 47.58773893406698], \"line\": {\"color\": \"rgb(0.192357,0.403199,0.555836)\", \"width\": 2}, \"lon\": [-122.30582739706331, -122.30524939952949], \"mode\": \"lines\", \"showlegend\": false, \"type\": \"scattermapbox\"}, {\"hoverinfo\": \"text\", \"hovertext\": \"W SEA BR EB 4 AV OFF RP Flow: 36000.0\", \"lat\": [47.586330275895236, 47.585998977713935, 47.585497564127685], \"line\": {\"color\": \"rgb(0.192357,0.403199,0.555836)\", \"width\": 2}, \"lon\": [-122.30423939970991, -122.30398687883678, -122.30360480483738], \"mode\": \"lines\", \"showlegend\": false, \"type\": \"scattermapbox\"}, {\"hoverinfo\": \"text\", \"hovertext\": \"W SEA BR EB 4 AV OFF RP Flow: 36000.0\", \"lat\": [47.585497564127685, 47.584541863609736], \"line\": {\"color\": \"rgb(0.192357,0.403199,0.555836)\", \"width\": 2}, \"lon\": [-122.30360480483738, -122.30290950500806], \"mode\": \"lines\", \"showlegend\": false, \"type\": \"scattermapbox\"}, {\"hoverinfo\": \"text\", \"hovertext\": \"W SEA BR EB 4 AV OFF RP Flow: 36000.0\", \"lat\": [47.58773893406698, 47.587391635436504], \"line\": {\"color\": \"rgb(0.192357,0.403199,0.555836)\", \"width\": 2}, \"lon\": [-122.30524939952949, -122.3050122752813], \"mode\": \"lines\", \"showlegend\": false, \"type\": \"scattermapbox\"}, {\"hoverinfo\": \"text\", \"hovertext\": \"W SEA BR EB 4 AV OFF RP Flow: 36000.0\", \"lat\": [47.587391635436504, 47.586909856961604], \"line\": {\"color\": \"rgb(0.192357,0.403199,0.555836)\", \"width\": 2}, \"lon\": [-122.3050122752813, -122.30468333810435], \"mode\": \"lines\", \"showlegend\": false, \"type\": \"scattermapbox\"}, {\"hoverinfo\": \"text\", \"hovertext\": \"W SEA BR EB 4 AV OFF RP Flow: 36000.0\", \"lat\": [47.58661127817991, 47.586330275895236], \"line\": {\"color\": \"rgb(0.192357,0.403199,0.555836)\", \"width\": 2}, \"lon\": [-122.30445474537831, -122.30423939970991], \"mode\": \"lines\", \"showlegend\": false, \"type\": \"scattermapbox\"}, {\"hoverinfo\": \"text\", \"hovertext\": \"W SEA BR EB 4 AV OFF RP Flow: 3250.0\", \"lat\": [47.63424405662324, 47.63510146393439], \"line\": {\"color\": \"rgb(0.274952,0.037752,0.364543)\", \"width\": 2}, \"lon\": [-122.39153849116114, -122.3906005587816], \"mode\": \"lines\", \"showlegend\": false, \"type\": \"scattermapbox\"}, {\"hoverinfo\": \"text\", \"hovertext\": \"W SEA BR EB 4 AV OFF RP Flow: 9910.0\", \"lat\": [47.58059321954826, 47.5794749421262], \"line\": {\"color\": \"rgb(0.283187,0.125848,0.444960)\", \"width\": 2}, \"lon\": [-122.31341202061986, -122.31338192203424], \"mode\": \"lines\", \"showlegend\": false, \"type\": \"scattermapbox\"}, {\"hoverinfo\": \"text\", \"hovertext\": \"W SEA BR EB 4 AV OFF RP Flow: 9910.0\", \"lat\": [47.5794749421262, 47.57894280250923, 47.57863325395961], \"line\": {\"color\": \"rgb(0.283187,0.125848,0.444960)\", \"width\": 2}, \"lon\": [-122.31338192203424, -122.31335044215103, -122.31335343302955], \"mode\": \"lines\", \"showlegend\": false, \"type\": \"scattermapbox\"}, {\"hoverinfo\": \"text\", \"hovertext\": \"W SEA BR EB 4 AV OFF RP Flow: 2500.0\", \"lat\": [47.610736382226605, 47.61106822442296], \"line\": {\"color\": \"rgb(0.273809,0.031497,0.358853)\", \"width\": 2}, \"lon\": [-122.34304897049903, -122.34261249513114], \"mode\": \"lines\", \"showlegend\": false, \"type\": \"scattermapbox\"}, {\"hoverinfo\": \"text\", \"hovertext\": \"W SEA BR EB 4 AV OFF RP Flow: 2500.0\", \"lat\": [47.610403676866085, 47.61062813651608, 47.610736382226605], \"line\": {\"color\": \"rgb(0.273809,0.031497,0.358853)\", \"width\": 2}, \"lon\": [-122.34347179010727, -122.34318153023506, -122.34304897049903], \"mode\": \"lines\", \"showlegend\": false, \"type\": \"scattermapbox\"}, {\"hoverinfo\": \"text\", \"hovertext\": \"W SEA BR EB 4 AV OFF RP Flow: 2500.0\", \"lat\": [47.61032054262455, 47.610403676866085], \"line\": {\"color\": \"rgb(0.273809,0.031497,0.358853)\", \"width\": 2}, \"lon\": [-122.34363652449112, -122.34347179010727], \"mode\": \"lines\", \"showlegend\": false, \"type\": \"scattermapbox\"}],\n",
       "                        {\"mapbox\": {\"center\": {\"lat\": 47.61506497849028, \"lon\": -122.3266736043623}, \"style\": \"stamen-terrain\", \"zoom\": 10}, \"margin\": {\"b\": 0, \"l\": 0, \"r\": 0, \"t\": 0}, \"template\": {\"data\": {\"bar\": [{\"error_x\": {\"color\": \"#2a3f5f\"}, \"error_y\": {\"color\": \"#2a3f5f\"}, \"marker\": {\"line\": {\"color\": \"#E5ECF6\", \"width\": 0.5}}, \"type\": \"bar\"}], \"barpolar\": [{\"marker\": {\"line\": {\"color\": \"#E5ECF6\", \"width\": 0.5}}, \"type\": \"barpolar\"}], \"carpet\": [{\"aaxis\": {\"endlinecolor\": \"#2a3f5f\", \"gridcolor\": \"white\", \"linecolor\": \"white\", \"minorgridcolor\": \"white\", \"startlinecolor\": \"#2a3f5f\"}, \"baxis\": {\"endlinecolor\": \"#2a3f5f\", \"gridcolor\": \"white\", \"linecolor\": \"white\", \"minorgridcolor\": \"white\", \"startlinecolor\": \"#2a3f5f\"}, \"type\": \"carpet\"}], \"choropleth\": [{\"colorbar\": {\"outlinewidth\": 0, \"ticks\": \"\"}, \"type\": \"choropleth\"}], \"contour\": [{\"colorbar\": {\"outlinewidth\": 0, \"ticks\": \"\"}, \"colorscale\": [[0.0, \"#0d0887\"], [0.1111111111111111, \"#46039f\"], [0.2222222222222222, \"#7201a8\"], [0.3333333333333333, \"#9c179e\"], [0.4444444444444444, \"#bd3786\"], [0.5555555555555556, \"#d8576b\"], [0.6666666666666666, \"#ed7953\"], [0.7777777777777778, \"#fb9f3a\"], [0.8888888888888888, \"#fdca26\"], [1.0, \"#f0f921\"]], \"type\": \"contour\"}], \"contourcarpet\": [{\"colorbar\": {\"outlinewidth\": 0, \"ticks\": \"\"}, \"type\": \"contourcarpet\"}], \"heatmap\": [{\"colorbar\": {\"outlinewidth\": 0, \"ticks\": \"\"}, \"colorscale\": [[0.0, \"#0d0887\"], [0.1111111111111111, \"#46039f\"], [0.2222222222222222, \"#7201a8\"], [0.3333333333333333, \"#9c179e\"], [0.4444444444444444, \"#bd3786\"], [0.5555555555555556, \"#d8576b\"], [0.6666666666666666, \"#ed7953\"], [0.7777777777777778, \"#fb9f3a\"], [0.8888888888888888, \"#fdca26\"], [1.0, \"#f0f921\"]], \"type\": \"heatmap\"}], \"heatmapgl\": [{\"colorbar\": {\"outlinewidth\": 0, \"ticks\": \"\"}, \"colorscale\": [[0.0, \"#0d0887\"], [0.1111111111111111, \"#46039f\"], [0.2222222222222222, \"#7201a8\"], [0.3333333333333333, \"#9c179e\"], [0.4444444444444444, \"#bd3786\"], [0.5555555555555556, \"#d8576b\"], [0.6666666666666666, \"#ed7953\"], [0.7777777777777778, \"#fb9f3a\"], [0.8888888888888888, \"#fdca26\"], [1.0, \"#f0f921\"]], \"type\": \"heatmapgl\"}], \"histogram\": [{\"marker\": {\"colorbar\": {\"outlinewidth\": 0, \"ticks\": \"\"}}, \"type\": \"histogram\"}], \"histogram2d\": [{\"colorbar\": {\"outlinewidth\": 0, \"ticks\": \"\"}, \"colorscale\": [[0.0, \"#0d0887\"], [0.1111111111111111, \"#46039f\"], [0.2222222222222222, \"#7201a8\"], [0.3333333333333333, \"#9c179e\"], [0.4444444444444444, \"#bd3786\"], [0.5555555555555556, \"#d8576b\"], [0.6666666666666666, \"#ed7953\"], [0.7777777777777778, \"#fb9f3a\"], [0.8888888888888888, \"#fdca26\"], [1.0, \"#f0f921\"]], \"type\": \"histogram2d\"}], \"histogram2dcontour\": [{\"colorbar\": {\"outlinewidth\": 0, \"ticks\": \"\"}, \"colorscale\": [[0.0, \"#0d0887\"], [0.1111111111111111, \"#46039f\"], [0.2222222222222222, \"#7201a8\"], [0.3333333333333333, \"#9c179e\"], [0.4444444444444444, \"#bd3786\"], [0.5555555555555556, \"#d8576b\"], [0.6666666666666666, \"#ed7953\"], [0.7777777777777778, \"#fb9f3a\"], [0.8888888888888888, \"#fdca26\"], [1.0, \"#f0f921\"]], \"type\": \"histogram2dcontour\"}], \"mesh3d\": [{\"colorbar\": {\"outlinewidth\": 0, \"ticks\": \"\"}, \"type\": \"mesh3d\"}], \"parcoords\": [{\"line\": {\"colorbar\": {\"outlinewidth\": 0, \"ticks\": \"\"}}, \"type\": \"parcoords\"}], \"scatter\": [{\"marker\": {\"colorbar\": {\"outlinewidth\": 0, \"ticks\": \"\"}}, \"type\": \"scatter\"}], \"scatter3d\": [{\"line\": {\"colorbar\": {\"outlinewidth\": 0, \"ticks\": \"\"}}, \"marker\": {\"colorbar\": {\"outlinewidth\": 0, \"ticks\": \"\"}}, \"type\": \"scatter3d\"}], \"scattercarpet\": [{\"marker\": {\"colorbar\": {\"outlinewidth\": 0, \"ticks\": \"\"}}, \"type\": \"scattercarpet\"}], \"scattergeo\": [{\"marker\": {\"colorbar\": {\"outlinewidth\": 0, \"ticks\": \"\"}}, \"type\": \"scattergeo\"}], \"scattergl\": [{\"marker\": {\"colorbar\": {\"outlinewidth\": 0, \"ticks\": \"\"}}, \"type\": \"scattergl\"}], \"scattermapbox\": [{\"marker\": {\"colorbar\": {\"outlinewidth\": 0, \"ticks\": \"\"}}, \"type\": \"scattermapbox\"}], \"scatterpolar\": [{\"marker\": {\"colorbar\": {\"outlinewidth\": 0, \"ticks\": \"\"}}, \"type\": \"scatterpolar\"}], \"scatterpolargl\": [{\"marker\": {\"colorbar\": {\"outlinewidth\": 0, \"ticks\": \"\"}}, \"type\": \"scatterpolargl\"}], \"scatterternary\": [{\"marker\": {\"colorbar\": {\"outlinewidth\": 0, \"ticks\": \"\"}}, \"type\": \"scatterternary\"}], \"surface\": [{\"colorbar\": {\"outlinewidth\": 0, \"ticks\": \"\"}, \"colorscale\": [[0.0, \"#0d0887\"], [0.1111111111111111, \"#46039f\"], [0.2222222222222222, \"#7201a8\"], [0.3333333333333333, \"#9c179e\"], [0.4444444444444444, \"#bd3786\"], [0.5555555555555556, \"#d8576b\"], [0.6666666666666666, \"#ed7953\"], [0.7777777777777778, \"#fb9f3a\"], [0.8888888888888888, \"#fdca26\"], [1.0, \"#f0f921\"]], \"type\": \"surface\"}], \"table\": [{\"cells\": {\"fill\": {\"color\": \"#EBF0F8\"}, \"line\": {\"color\": \"white\"}}, \"header\": {\"fill\": {\"color\": \"#C8D4E3\"}, \"line\": {\"color\": \"white\"}}, \"type\": \"table\"}]}, \"layout\": {\"annotationdefaults\": {\"arrowcolor\": \"#2a3f5f\", \"arrowhead\": 0, \"arrowwidth\": 1}, \"colorscale\": {\"diverging\": [[0, \"#8e0152\"], [0.1, \"#c51b7d\"], [0.2, \"#de77ae\"], [0.3, \"#f1b6da\"], [0.4, \"#fde0ef\"], [0.5, \"#f7f7f7\"], [0.6, \"#e6f5d0\"], [0.7, \"#b8e186\"], [0.8, \"#7fbc41\"], [0.9, \"#4d9221\"], [1, \"#276419\"]], \"sequential\": [[0.0, \"#0d0887\"], [0.1111111111111111, \"#46039f\"], [0.2222222222222222, \"#7201a8\"], [0.3333333333333333, \"#9c179e\"], [0.4444444444444444, \"#bd3786\"], [0.5555555555555556, \"#d8576b\"], [0.6666666666666666, \"#ed7953\"], [0.7777777777777778, \"#fb9f3a\"], [0.8888888888888888, \"#fdca26\"], [1.0, \"#f0f921\"]], \"sequentialminus\": [[0.0, \"#0d0887\"], [0.1111111111111111, \"#46039f\"], [0.2222222222222222, \"#7201a8\"], [0.3333333333333333, \"#9c179e\"], [0.4444444444444444, \"#bd3786\"], [0.5555555555555556, \"#d8576b\"], [0.6666666666666666, \"#ed7953\"], [0.7777777777777778, \"#fb9f3a\"], [0.8888888888888888, \"#fdca26\"], [1.0, \"#f0f921\"]]}, \"colorway\": [\"#636efa\", \"#EF553B\", \"#00cc96\", \"#ab63fa\", \"#FFA15A\", \"#19d3f3\", \"#FF6692\", \"#B6E880\", \"#FF97FF\", \"#FECB52\"], \"font\": {\"color\": \"#2a3f5f\"}, \"geo\": {\"bgcolor\": \"white\", \"lakecolor\": \"white\", \"landcolor\": \"#E5ECF6\", \"showlakes\": true, \"showland\": true, \"subunitcolor\": \"white\"}, \"hoverlabel\": {\"align\": \"left\"}, \"hovermode\": \"closest\", \"mapbox\": {\"style\": \"light\"}, \"paper_bgcolor\": \"white\", \"plot_bgcolor\": \"#E5ECF6\", \"polar\": {\"angularaxis\": {\"gridcolor\": \"white\", \"linecolor\": \"white\", \"ticks\": \"\"}, \"bgcolor\": \"#E5ECF6\", \"radialaxis\": {\"gridcolor\": \"white\", \"linecolor\": \"white\", \"ticks\": \"\"}}, \"scene\": {\"xaxis\": {\"backgroundcolor\": \"#E5ECF6\", \"gridcolor\": \"white\", \"gridwidth\": 2, \"linecolor\": \"white\", \"showbackground\": true, \"ticks\": \"\", \"zerolinecolor\": \"white\"}, \"yaxis\": {\"backgroundcolor\": \"#E5ECF6\", \"gridcolor\": \"white\", \"gridwidth\": 2, \"linecolor\": \"white\", \"showbackground\": true, \"ticks\": \"\", \"zerolinecolor\": \"white\"}, \"zaxis\": {\"backgroundcolor\": \"#E5ECF6\", \"gridcolor\": \"white\", \"gridwidth\": 2, \"linecolor\": \"white\", \"showbackground\": true, \"ticks\": \"\", \"zerolinecolor\": \"white\"}}, \"shapedefaults\": {\"line\": {\"color\": \"#2a3f5f\"}}, \"ternary\": {\"aaxis\": {\"gridcolor\": \"white\", \"linecolor\": \"white\", \"ticks\": \"\"}, \"baxis\": {\"gridcolor\": \"white\", \"linecolor\": \"white\", \"ticks\": \"\"}, \"bgcolor\": \"#E5ECF6\", \"caxis\": {\"gridcolor\": \"white\", \"linecolor\": \"white\", \"ticks\": \"\"}}, \"title\": {\"x\": 0.05}, \"xaxis\": {\"automargin\": true, \"gridcolor\": \"white\", \"linecolor\": \"white\", \"ticks\": \"\", \"zerolinecolor\": \"white\", \"zerolinewidth\": 2}, \"yaxis\": {\"automargin\": true, \"gridcolor\": \"white\", \"linecolor\": \"white\", \"ticks\": \"\", \"zerolinecolor\": \"white\", \"zerolinewidth\": 2}}}, \"width\": 500},\n",
       "                        {\"responsive\": true}\n",
       "                    ).then(function(){\n",
       "                            \n",
       "var gd = document.getElementById('10b0250b-d50c-4c9f-8e4a-040182a5db26');\n",
       "var x = new MutationObserver(function (mutations, observer) {{\n",
       "        var display = window.getComputedStyle(gd).display;\n",
       "        if (!display || display === 'none') {{\n",
       "            console.log([gd, 'removed!']);\n",
       "            Plotly.purge(gd);\n",
       "            observer.disconnect();\n",
       "        }}\n",
       "}});\n",
       "\n",
       "// Listen for the removal of the full notebook cells\n",
       "var notebookContainer = gd.closest('#notebook-container');\n",
       "if (notebookContainer) {{\n",
       "    x.observe(notebookContainer, {childList: true});\n",
       "}}\n",
       "\n",
       "// Listen for the clearing of the current output cell\n",
       "var outputEl = gd.closest('.output');\n",
       "if (outputEl) {{\n",
       "    x.observe(outputEl, {childList: true});\n",
       "}}\n",
       "\n",
       "                        })\n",
       "                };\n",
       "                });\n",
       "            </script>\n",
       "        </div>"
      ]
     },
     "metadata": {},
     "output_type": "display_data"
    }
   ],
   "source": [
    "# Create map with just 500 roads\n",
    "\n",
    "fig = go.Figure()\n",
    "\n",
    "for idx, row in df2.iterrows():\n",
    "    fig.add_trace(go.Scattermapbox(\n",
    "        lon = row['lon'],\n",
    "        lat = row['lat'],\n",
    "        mode = 'lines',\n",
    "        line = dict(width=2, color=flow_color(row['flow'])),\n",
    "        showlegend = False,\n",
    "        hoverinfo = 'text',\n",
    "        hovertext = name + ' Flow: ' + str(row['flow'])\n",
    "    ))\n",
    "    if idx == 500:\n",
    "        break\n",
    "    \n",
    "fig.update_layout(\n",
    "    margin = {'l': 0, 't': 0, 'b': 0, 'r': 0},\n",
    "    mapbox = {\n",
    "        'style': 'stamen-terrain',\n",
    "        'center': {'lon': -122.3266736043623, 'lat': 47.61506497849028},\n",
    "        'zoom': 10},\n",
    "    width = 500)\n",
    "\n",
    "fig.show()"
   ]
  },
  {
   "cell_type": "code",
   "execution_count": null,
   "metadata": {},
   "outputs": [],
   "source": []
  }
 ],
 "metadata": {
  "kernelspec": {
   "display_name": "Python 3",
   "language": "python",
   "name": "python3"
  },
  "language_info": {
   "codemirror_mode": {
    "name": "ipython",
    "version": 3
   },
   "file_extension": ".py",
   "mimetype": "text/x-python",
   "name": "python",
   "nbconvert_exporter": "python",
   "pygments_lexer": "ipython3",
   "version": "3.7.3"
  }
 },
 "nbformat": 4,
 "nbformat_minor": 2
}
